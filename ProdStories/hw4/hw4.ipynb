{
 "cells": [
  {
   "cell_type": "code",
   "execution_count": 1,
   "id": "44761113",
   "metadata": {},
   "outputs": [],
   "source": [
    "import re\n",
    "import os\n",
    "import json\n",
    "\n",
    "from collections import Counter\n",
    "from itertools import combinations\n",
    "\n",
    "import numpy as np\n",
    "import pandas as pd\n",
    "\n",
    "from sklearn.cluster import KMeans\n",
    "from sklearn.preprocessing import LabelEncoder\n",
    "from sklearn.metrics import accuracy_score\n",
    "\n",
    "import matplotlib.pyplot as plt"
   ]
  },
  {
   "cell_type": "markdown",
   "id": "77daed90",
   "metadata": {},
   "source": [
    "1. Гистограмма внешних хорд объекта внутри сферического описывающего объема для самой модели и для выпуклой оболочки модели (\"model_bounding_sphere_strict_outer\" и \"hull_bounding_sphere_strict_outer\").\n",
    "\n",
    "\n",
    "2. Гистограмма внешних хорд объекта внутри сферического описывающего, нормированная относительно общего числа хорд, объема для самой модели и для выпуклой оболочки модели (\"model_bounding_sphere_strict_outer_absolute\" и \"hull_bounding_sphere_strict_outer_absolute\").\n",
    "\n",
    "\n",
    "3. Гистограмма внешних хорд объекта внутри сферического описывающего объема для самой модели и для выпуклой оболочки модели (\"model_bounding_sphere_missed\" и \"hull_bounding_sphere_missed\").\n",
    "\n",
    "\n",
    "4. Гистограмма распределения пересечений хорд по концентрическим сферам (\"model_bounding_sphere_concentric_sphere\" и \"hull_bounding_sphere_concentric_sphere\")"
   ]
  },
  {
   "cell_type": "code",
   "execution_count": 2,
   "id": "30f9a08d",
   "metadata": {},
   "outputs": [
    {
     "data": {
      "text/html": [
       "<div>\n",
       "<style scoped>\n",
       "    .dataframe tbody tr th:only-of-type {\n",
       "        vertical-align: middle;\n",
       "    }\n",
       "\n",
       "    .dataframe tbody tr th {\n",
       "        vertical-align: top;\n",
       "    }\n",
       "\n",
       "    .dataframe thead th {\n",
       "        text-align: right;\n",
       "    }\n",
       "</style>\n",
       "<table border=\"1\" class=\"dataframe\">\n",
       "  <thead>\n",
       "    <tr style=\"text-align: right;\">\n",
       "      <th></th>\n",
       "      <th>name</th>\n",
       "      <th>type</th>\n",
       "    </tr>\n",
       "  </thead>\n",
       "  <tbody>\n",
       "    <tr>\n",
       "      <th>0</th>\n",
       "      <td>b5025746-e58f-4696-837c-5b21808b7ae9</td>\n",
       "      <td>Torus</td>\n",
       "    </tr>\n",
       "    <tr>\n",
       "      <th>1</th>\n",
       "      <td>30a730ca-c466-4e8c-b00b-bf7b317495e2</td>\n",
       "      <td>Cone</td>\n",
       "    </tr>\n",
       "    <tr>\n",
       "      <th>2</th>\n",
       "      <td>7d0c7362-1e8d-4008-b444-cdf111e06ce9</td>\n",
       "      <td>Sphere</td>\n",
       "    </tr>\n",
       "    <tr>\n",
       "      <th>3</th>\n",
       "      <td>d58d68a4-7acb-48d8-96bd-71f1eca1affe</td>\n",
       "      <td>Sphere</td>\n",
       "    </tr>\n",
       "    <tr>\n",
       "      <th>4</th>\n",
       "      <td>df907d43-7c4f-4ccd-9350-0d84c41dba54</td>\n",
       "      <td>Cube</td>\n",
       "    </tr>\n",
       "  </tbody>\n",
       "</table>\n",
       "</div>"
      ],
      "text/plain": [
       "                                   name    type\n",
       "0  b5025746-e58f-4696-837c-5b21808b7ae9   Torus\n",
       "1  30a730ca-c466-4e8c-b00b-bf7b317495e2    Cone\n",
       "2  7d0c7362-1e8d-4008-b444-cdf111e06ce9  Sphere\n",
       "3  d58d68a4-7acb-48d8-96bd-71f1eca1affe  Sphere\n",
       "4  df907d43-7c4f-4ccd-9350-0d84c41dba54    Cube"
      ]
     },
     "execution_count": 2,
     "metadata": {},
     "output_type": "execute_result"
    }
   ],
   "source": [
    "models = pd.read_csv('data/models.csv')\n",
    "models.head()"
   ]
  },
  {
   "cell_type": "code",
   "execution_count": 3,
   "id": "9d0f86a6",
   "metadata": {},
   "outputs": [],
   "source": [
    "def histogram_exist(model_name):\n",
    "    return os.path.isfile(f\"data/histograms/{model_name}.json\")\n",
    "    \n",
    "def torus_clean(model_type):\n",
    "    return re.sub(r'(Torus).*', '\\g<1>', model_type)"
   ]
  },
  {
   "cell_type": "code",
   "execution_count": 4,
   "id": "c1d276b9",
   "metadata": {},
   "outputs": [
    {
     "data": {
      "text/plain": [
       "Sphere      477\n",
       "Torus       428\n",
       "Cone        424\n",
       "Cylinder    414\n",
       "Cube        394\n",
       "Name: type, dtype: int64"
      ]
     },
     "execution_count": 4,
     "metadata": {},
     "output_type": "execute_result"
    }
   ],
   "source": [
    "# оставим только те модели, для которых посчитаны гистограммы\n",
    "# и почистим типы\n",
    "models = models[models.name.apply(histogram_exist)]\n",
    "models.type = models.type.apply(torus_clean)\n",
    "models.reset_index(drop=True, inplace=True)\n",
    "models.type.value_counts()"
   ]
  },
  {
   "cell_type": "code",
   "execution_count": 5,
   "id": "07856861",
   "metadata": {},
   "outputs": [],
   "source": [
    "def get_histogram(model_name, intervals=32):\n",
    "    with open(f\"data/histograms/{model_name}.json\", \"r\") as file:\n",
    "        data = json.load(file)\n",
    "    res_histogram = dict()\n",
    "    for histogram in data['histogram_data']:\n",
    "        if histogram['intervals'] == intervals:\n",
    "            res_histogram[histogram['type']] = histogram['data']\n",
    "    return res_histogram"
   ]
  },
  {
   "cell_type": "code",
   "execution_count": 6,
   "id": "5c526d04",
   "metadata": {},
   "outputs": [],
   "source": [
    "histograms = pd.DataFrame(list(models.name.apply(get_histogram)))"
   ]
  },
  {
   "cell_type": "code",
   "execution_count": 7,
   "id": "289e30df",
   "metadata": {},
   "outputs": [
    {
     "data": {
      "text/html": [
       "<div>\n",
       "<style scoped>\n",
       "    .dataframe tbody tr th:only-of-type {\n",
       "        vertical-align: middle;\n",
       "    }\n",
       "\n",
       "    .dataframe tbody tr th {\n",
       "        vertical-align: top;\n",
       "    }\n",
       "\n",
       "    .dataframe thead th {\n",
       "        text-align: right;\n",
       "    }\n",
       "</style>\n",
       "<table border=\"1\" class=\"dataframe\">\n",
       "  <thead>\n",
       "    <tr style=\"text-align: right;\">\n",
       "      <th></th>\n",
       "      <th>name</th>\n",
       "      <th>type</th>\n",
       "      <th>model_bounding_sphere_strict_outer</th>\n",
       "      <th>model_bounding_sphere_strict_outer_absolute</th>\n",
       "      <th>model_bounding_sphere_missed</th>\n",
       "      <th>model_bounding_sphere_concentric_sphere</th>\n",
       "      <th>hull_bounding_sphere_strict_outer</th>\n",
       "      <th>hull_bounding_sphere_strict_outer_absolute</th>\n",
       "      <th>hull_bounding_sphere_missed</th>\n",
       "      <th>hull_bounding_sphere_concentric_sphere</th>\n",
       "    </tr>\n",
       "  </thead>\n",
       "  <tbody>\n",
       "    <tr>\n",
       "      <th>0</th>\n",
       "      <td>30a730ca-c466-4e8c-b00b-bf7b317495e2</td>\n",
       "      <td>0</td>\n",
       "      <td>[8.968486119543021e-05, 0.003136210607649429, ...</td>\n",
       "      <td>[1.791758023354601e-05, 0.0006265639980130782,...</td>\n",
       "      <td>[0, 0, 0, 0, 0, 0, 0, 0, 0, 0.0063094177602049...</td>\n",
       "      <td>[0.0010679397317732767, 0.003656382802582924, ...</td>\n",
       "      <td>[1.6473469477406637e-05, 0.0005271510232770124...</td>\n",
       "      <td>[1.6539304830965549e-06, 5.2925775459089756e-0...</td>\n",
       "      <td>[0, 0, 0, 0, 0, 0, 0, 0, 0, 0.0056123793473264...</td>\n",
       "      <td>[0, 0.0072510721483051545, 0.01214643816134116...</td>\n",
       "    </tr>\n",
       "    <tr>\n",
       "      <th>1</th>\n",
       "      <td>1b220e0b-d7fa-40a0-8cfd-930a3228c668</td>\n",
       "      <td>3</td>\n",
       "      <td>[0.0012413227249569968, 0.037017280416308536, ...</td>\n",
       "      <td>[0.0006138838643093379, 0.018306529552154217, ...</td>\n",
       "      <td>[0, 0, 0, 0, 0, 0, 0, 0, 0, 0.0099887220587369...</td>\n",
       "      <td>[0, 0, 0, 0, 0, 0, 0, 0, 0, 0, 0, 0, 0, 0, 0, ...</td>\n",
       "      <td>[0.0012413227249569968, 0.03701672301948548, 0...</td>\n",
       "      <td>[0.0006138838643093379, 0.0183062538970737, 0....</td>\n",
       "      <td>[0, 0, 0, 0, 0, 0, 0, 0, 0, 0.0099887220587369...</td>\n",
       "      <td>[0, 0, 0, 0, 0, 0, 0, 0, 0, 0, 0, 0, 0, 0, 0, ...</td>\n",
       "    </tr>\n",
       "    <tr>\n",
       "      <th>2</th>\n",
       "      <td>347130e7-e4ad-4714-a322-dadd515433f7</td>\n",
       "      <td>4</td>\n",
       "      <td>[0.0017943360086115465, 0.04350334805527853, 0...</td>\n",
       "      <td>[0.0006249100675299816, 0.01515083019040599, 0...</td>\n",
       "      <td>[0, 0, 0, 0, 0, 0, 0, 0, 0, 0.0077443575313136...</td>\n",
       "      <td>[0, 0, 0, 0, 0, 0, 0, 0, 0, 0, 0, 0, 0.0073079...</td>\n",
       "      <td>[0.0014671050077011687, 0.0355696923415436, 0....</td>\n",
       "      <td>[0.0006249100675299816, 0.01515083019040599, 0...</td>\n",
       "      <td>[0, 0, 0, 0, 0, 0, 0, 0, 0, 0.0087923084827769...</td>\n",
       "      <td>[0, 0, 0, 0, 0, 0, 0.008846636724867657, 0.017...</td>\n",
       "    </tr>\n",
       "    <tr>\n",
       "      <th>3</th>\n",
       "      <td>1346fe51-b6f1-4036-a2c4-cdf84abf6c85</td>\n",
       "      <td>0</td>\n",
       "      <td>[1.4641538532869035e-05, 0.002703804115736482,...</td>\n",
       "      <td>[3.3078609661931097e-06, 0.0006108516584236609...</td>\n",
       "      <td>[0, 0, 0, 0, 0, 0, 0, 0, 0, 0.0065217639031727...</td>\n",
       "      <td>[0, 0, 0, 0, 0.009186345301164247, 0.012686893...</td>\n",
       "      <td>[1.7986859314495097e-05, 0.0007181895969144827...</td>\n",
       "      <td>[3.859171127225295e-06, 0.0001540911900084957,...</td>\n",
       "      <td>[0, 0, 0, 0, 0, 0, 0, 0, 0, 0.0064280740765697...</td>\n",
       "      <td>[0, 0.0034200728210847103, 0.00568898664604173...</td>\n",
       "    </tr>\n",
       "    <tr>\n",
       "      <th>4</th>\n",
       "      <td>1715abb8-f4e4-4eb3-a030-6c5b0083f1f0</td>\n",
       "      <td>2</td>\n",
       "      <td>[6.890738526920353e-05, 0.0040503120062305095,...</td>\n",
       "      <td>[2.370633692438395e-05, 0.0013934364320088474,...</td>\n",
       "      <td>[0, 0, 0, 0, 0, 0, 0, 0, 0, 0.0076951846264398...</td>\n",
       "      <td>[0, 0, 0.006490915442625788, 0.010017210821343...</td>\n",
       "      <td>[6.890738526920353e-05, 0.0040503120062305095,...</td>\n",
       "      <td>[2.370633692438395e-05, 0.0013934364320088474,...</td>\n",
       "      <td>[0, 0, 0, 0, 0, 0, 0, 0, 0, 0.0076951846264398...</td>\n",
       "      <td>[0, 0, 0.006490915442625788, 0.010017210821343...</td>\n",
       "    </tr>\n",
       "  </tbody>\n",
       "</table>\n",
       "</div>"
      ],
      "text/plain": [
       "                                   name  type  \\\n",
       "0  30a730ca-c466-4e8c-b00b-bf7b317495e2     0   \n",
       "1  1b220e0b-d7fa-40a0-8cfd-930a3228c668     3   \n",
       "2  347130e7-e4ad-4714-a322-dadd515433f7     4   \n",
       "3  1346fe51-b6f1-4036-a2c4-cdf84abf6c85     0   \n",
       "4  1715abb8-f4e4-4eb3-a030-6c5b0083f1f0     2   \n",
       "\n",
       "                  model_bounding_sphere_strict_outer  \\\n",
       "0  [8.968486119543021e-05, 0.003136210607649429, ...   \n",
       "1  [0.0012413227249569968, 0.037017280416308536, ...   \n",
       "2  [0.0017943360086115465, 0.04350334805527853, 0...   \n",
       "3  [1.4641538532869035e-05, 0.002703804115736482,...   \n",
       "4  [6.890738526920353e-05, 0.0040503120062305095,...   \n",
       "\n",
       "         model_bounding_sphere_strict_outer_absolute  \\\n",
       "0  [1.791758023354601e-05, 0.0006265639980130782,...   \n",
       "1  [0.0006138838643093379, 0.018306529552154217, ...   \n",
       "2  [0.0006249100675299816, 0.01515083019040599, 0...   \n",
       "3  [3.3078609661931097e-06, 0.0006108516584236609...   \n",
       "4  [2.370633692438395e-05, 0.0013934364320088474,...   \n",
       "\n",
       "                        model_bounding_sphere_missed  \\\n",
       "0  [0, 0, 0, 0, 0, 0, 0, 0, 0, 0.0063094177602049...   \n",
       "1  [0, 0, 0, 0, 0, 0, 0, 0, 0, 0.0099887220587369...   \n",
       "2  [0, 0, 0, 0, 0, 0, 0, 0, 0, 0.0077443575313136...   \n",
       "3  [0, 0, 0, 0, 0, 0, 0, 0, 0, 0.0065217639031727...   \n",
       "4  [0, 0, 0, 0, 0, 0, 0, 0, 0, 0.0076951846264398...   \n",
       "\n",
       "             model_bounding_sphere_concentric_sphere  \\\n",
       "0  [0.0010679397317732767, 0.003656382802582924, ...   \n",
       "1  [0, 0, 0, 0, 0, 0, 0, 0, 0, 0, 0, 0, 0, 0, 0, ...   \n",
       "2  [0, 0, 0, 0, 0, 0, 0, 0, 0, 0, 0, 0, 0.0073079...   \n",
       "3  [0, 0, 0, 0, 0.009186345301164247, 0.012686893...   \n",
       "4  [0, 0, 0.006490915442625788, 0.010017210821343...   \n",
       "\n",
       "                   hull_bounding_sphere_strict_outer  \\\n",
       "0  [1.6473469477406637e-05, 0.0005271510232770124...   \n",
       "1  [0.0012413227249569968, 0.03701672301948548, 0...   \n",
       "2  [0.0014671050077011687, 0.0355696923415436, 0....   \n",
       "3  [1.7986859314495097e-05, 0.0007181895969144827...   \n",
       "4  [6.890738526920353e-05, 0.0040503120062305095,...   \n",
       "\n",
       "          hull_bounding_sphere_strict_outer_absolute  \\\n",
       "0  [1.6539304830965549e-06, 5.2925775459089756e-0...   \n",
       "1  [0.0006138838643093379, 0.0183062538970737, 0....   \n",
       "2  [0.0006249100675299816, 0.01515083019040599, 0...   \n",
       "3  [3.859171127225295e-06, 0.0001540911900084957,...   \n",
       "4  [2.370633692438395e-05, 0.0013934364320088474,...   \n",
       "\n",
       "                         hull_bounding_sphere_missed  \\\n",
       "0  [0, 0, 0, 0, 0, 0, 0, 0, 0, 0.0056123793473264...   \n",
       "1  [0, 0, 0, 0, 0, 0, 0, 0, 0, 0.0099887220587369...   \n",
       "2  [0, 0, 0, 0, 0, 0, 0, 0, 0, 0.0087923084827769...   \n",
       "3  [0, 0, 0, 0, 0, 0, 0, 0, 0, 0.0064280740765697...   \n",
       "4  [0, 0, 0, 0, 0, 0, 0, 0, 0, 0.0076951846264398...   \n",
       "\n",
       "              hull_bounding_sphere_concentric_sphere  \n",
       "0  [0, 0.0072510721483051545, 0.01214643816134116...  \n",
       "1  [0, 0, 0, 0, 0, 0, 0, 0, 0, 0, 0, 0, 0, 0, 0, ...  \n",
       "2  [0, 0, 0, 0, 0, 0, 0.008846636724867657, 0.017...  \n",
       "3  [0, 0.0034200728210847103, 0.00568898664604173...  \n",
       "4  [0, 0, 0.006490915442625788, 0.010017210821343...  "
      ]
     },
     "execution_count": 7,
     "metadata": {},
     "output_type": "execute_result"
    }
   ],
   "source": [
    "models_data = pd.concat([models, histograms], axis=1)\n",
    "\n",
    "label_encoder = LabelEncoder()\n",
    "models_data.type = label_encoder.fit_transform(models_data.type)\n",
    "models_data.head()"
   ]
  },
  {
   "cell_type": "code",
   "execution_count": 8,
   "id": "a5b90eb4",
   "metadata": {},
   "outputs": [],
   "source": [
    "# попробуем сначала взять все гистограммы\n",
    "X = models_data.drop(['name', 'type'], axis=1)\n",
    "X = np.apply_along_axis(np.hstack, 1, X)\n",
    "y = models_data.type.values"
   ]
  },
  {
   "cell_type": "code",
   "execution_count": 9,
   "id": "dd186b87",
   "metadata": {},
   "outputs": [
    {
     "data": {
      "image/png": "[encoded data removed]",
      "text/plain": [
       "<Figure size 432x288 with 1 Axes>"
      ]
     },
     "metadata": {
      "needs_background": "light"
     },
     "output_type": "display_data"
    }
   ],
   "source": [
    "# 4-5 кластера выглядит как оптимальный выбор, это здорово\n",
    "K = range(1, 10)\n",
    "clfs = [KMeans(n_clusters=k, random_state=42).fit(X) for k in K]\n",
    "dist = [clf.inertia_ for clf in clfs]\n",
    "\n",
    "plt.plot(K, dist, marker='o')\n",
    "plt.xlabel('k')\n",
    "plt.ylabel('Sum of distances')\n",
    "plt.title('The Elbow Method showing the optimal k')\n",
    "plt.show()"
   ]
  },
  {
   "cell_type": "code",
   "execution_count": 10,
   "id": "1c6afb41",
   "metadata": {},
   "outputs": [],
   "source": [
    "def get_accuracy(X, y_true):\n",
    "    clf = KMeans(n_clusters=5, random_state=42)\n",
    "    clf.fit(X)\n",
    "    y_pred = np.zeros_like(y_true)\n",
    "    for label in np.unique(clf.labels_):\n",
    "        mask = clf.labels_ == label\n",
    "        y_pred[mask] = Counter(y_true[mask]).most_common(1)[0][0]\n",
    "    \n",
    "    return accuracy_score(y_true, y_pred)"
   ]
  },
  {
   "cell_type": "code",
   "execution_count": 11,
   "id": "164a3277",
   "metadata": {},
   "outputs": [
    {
     "data": {
      "text/plain": [
       "0.31867103416003745"
      ]
     },
     "execution_count": 11,
     "metadata": {},
     "output_type": "execute_result"
    }
   ],
   "source": [
    "get_accuracy(X, y)"
   ]
  },
  {
   "cell_type": "code",
   "execution_count": 12,
   "id": "6b8b93e9",
   "metadata": {},
   "outputs": [],
   "source": [
    "y = models_data.type.values\n",
    "res_accuracy = 0\n",
    "res_labels = []\n",
    "for number_of_labels in range(2, 9):\n",
    "    for labels in list(combinations(models_data.keys()[2:], number_of_labels)):\n",
    "        labels = list(labels)\n",
    "        X = models_data[labels]\n",
    "        X = np.apply_along_axis(np.hstack, 1, X)\n",
    "        cur_accuracy = get_accuracy(X, y)\n",
    "        if cur_accuracy > res_accuracy:\n",
    "            res_accuracy = cur_accuracy\n",
    "            res_labels = labels"
   ]
  },
  {
   "cell_type": "code",
   "execution_count": 13,
   "id": "ae78a84f",
   "metadata": {},
   "outputs": [
    {
     "name": "stdout",
     "output_type": "stream",
     "text": [
      "['model_bounding_sphere_missed', 'hull_bounding_sphere_missed'] 0.37248479176415533\n"
     ]
    }
   ],
   "source": [
    "# выглядиит плохо, но мы перебрали все возможные фичи\n",
    "# может нужно фича инженирить?\n",
    "print(res_labels, res_accuracy)"
   ]
  }
 ],
 "metadata": {
  "kernelspec": {
   "display_name": "Python 3",
   "language": "python",
   "name": "python3"
  },
  "language_info": {
   "codemirror_mode": {
    "name": "ipython",
    "version": 3
   },
   "file_extension": ".py",
   "mimetype": "text/x-python",
   "name": "python",
   "nbconvert_exporter": "python",
   "pygments_lexer": "ipython3",
   "version": "3.9.5"
  }
 },
 "nbformat": 4,
 "nbformat_minor": 5
}
