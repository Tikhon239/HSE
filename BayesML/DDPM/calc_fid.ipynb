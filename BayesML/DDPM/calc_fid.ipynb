{
  "cells": [
    {
      "cell_type": "code",
      "source": [
        "!if [ -d HSE ]; then rm -Rf HSE; fi\n",
        "!git clone https://github.com/Tikhon239/HSE\n",
        "!cp -a /content/HSE/BayesML/DDPM/* ."
      ],
      "metadata": {
        "id": "qpidZfT5OGVH"
      },
      "id": "qpidZfT5OGVH",
      "execution_count": null,
      "outputs": []
    },
    {
      "cell_type": "code",
      "source": [
        "from google.colab import drive\n",
        "drive.mount('/content/drive')"
      ],
      "metadata": {
        "id": "z85-iVlj5AMU"
      },
      "id": "z85-iVlj5AMU",
      "execution_count": null,
      "outputs": []
    },
    {
      "cell_type": "code",
      "source": [
        "!pip3 install wandb\n",
        "!pip3 install ml_collections\n",
        "!pip3 install skimage\n",
        "!pip3 install pytorch_fid"
      ],
      "metadata": {
        "id": "Iy0yHQOGOMMa"
      },
      "id": "Iy0yHQOGOMMa",
      "execution_count": null,
      "outputs": []
    },
    {
      "cell_type": "code",
      "execution_count": 1,
      "id": "199b716a",
      "metadata": {
        "id": "199b716a"
      },
      "outputs": [],
      "source": [
        "import torch\n",
        "import numpy as np\n",
        "import os\n",
        "\n",
        "from skimage.io import imread, imsave\n",
        "from tqdm.auto import trange, tqdm\n",
        "from torchvision.datasets import MNIST\n",
        "from torchvision.transforms import Compose, Resize\n",
        "from pytorch_fid import fid_score\n",
        "\n",
        "from data_generator import DataGenerator\n",
        "from default_mnist_config import create_default_mnist_config\n",
        "from diffusion import DiffusionRunner\n",
        "from models.classifier import ResNet, ResidualBlock, ConditionalResNet\n",
        "\n",
        "from matplotlib import pyplot as plt"
      ]
    },
    {
      "cell_type": "code",
      "source": [
        "import warnings\n",
        "warnings.filterwarnings('ignore')"
      ],
      "metadata": {
        "id": "u76VymkjWykT"
      },
      "id": "u76VymkjWykT",
      "execution_count": 2,
      "outputs": []
    },
    {
      "cell_type": "markdown",
      "id": "f8a96e0e",
      "metadata": {
        "id": "f8a96e0e"
      },
      "source": [
        "#### Определим папку с настоящими картинками"
      ]
    },
    {
      "cell_type": "code",
      "execution_count": 3,
      "id": "5def5c68",
      "metadata": {
        "id": "5def5c68"
      },
      "outputs": [],
      "source": [
        "def create_dir(path: str):\n",
        "    if not os.path.exists(path):\n",
        "        os.makedirs(path)"
      ]
    },
    {
      "cell_type": "code",
      "source": [
        "TOTAL_IMAGES_COUNT = 20_000\n",
        "BATCH_SIZE = 200\n",
        "NUM_ITERS = TOTAL_IMAGES_COUNT // BATCH_SIZE\n",
        "\n",
        "device = torch.device('cuda')"
      ],
      "metadata": {
        "id": "IHd3gXTFVe9z"
      },
      "id": "IHd3gXTFVe9z",
      "execution_count": 4,
      "outputs": []
    },
    {
      "cell_type": "code",
      "execution_count": 5,
      "id": "72e67beb",
      "metadata": {
        "colab": {
          "base_uri": "https://localhost:8080/",
          "height": 49,
          "referenced_widgets": [
            "866d3579a3ef4d3d964af423d38f2ffb",
            "cf0b9315b401413d9202edfa1db28445",
            "276bf0ef689e4abb946d25b569da615e",
            "4c01d60ee7f44c1c96f3117663485f55",
            "18e05fa3b74d486a97f6a78bd550963f",
            "24cf04b05a37430db8a3c8a750923d48",
            "0f981a1d93f241eeb987f1c90060b2db",
            "d340943a0d8b417f9748543e22b70f1d",
            "32b3dddfea5f41bbb866b3adcadb12ba",
            "4330cfc189604ab4a12db7849a1456c2",
            "b8883b6d503349a7b8f5f75f5adb3b8e"
          ]
        },
        "id": "72e67beb",
        "outputId": "cce6d673-8ae8-4d69-8c5a-58b849dd972a"
      },
      "outputs": [
        {
          "output_type": "display_data",
          "data": {
            "text/plain": [
              "  0%|          | 0/20000 [00:00<?, ?it/s]"
            ],
            "application/vnd.jupyter.widget-view+json": {
              "version_major": 2,
              "version_minor": 0,
              "model_id": "866d3579a3ef4d3d964af423d38f2ffb"
            }
          },
          "metadata": {}
        }
      ],
      "source": [
        "create_dir('./real_images_MNIST')\n",
        "\n",
        "real_dataset = MNIST(root='./data', download=True, train=True, transform=Compose([Resize((32, 32))]))\n",
        "for idx, (image_mnist, label) in enumerate(tqdm(real_dataset, total=TOTAL_IMAGES_COUNT)):\n",
        "    if idx == TOTAL_IMAGES_COUNT:\n",
        "        break\n",
        "    image = np.array(image_mnist)\n",
        "    imsave(\"./real_images_MNIST/{}.png\".format(idx), image)"
      ]
    },
    {
      "cell_type": "markdown",
      "id": "fabbea8d",
      "metadata": {
        "id": "fabbea8d"
      },
      "source": [
        "#### Определим папку для синтетических картинок и сгенерируем 60к картинок"
      ]
    },
    {
      "cell_type": "code",
      "execution_count": 6,
      "id": "c0538815",
      "metadata": {
        "id": "c0538815"
      },
      "outputs": [],
      "source": [
        "uncond_diff = DiffusionRunner(create_default_mnist_config(), eval=True)"
      ]
    },
    {
      "cell_type": "code",
      "execution_count": null,
      "id": "5dd28b16",
      "metadata": {
        "colab": {
          "base_uri": "https://localhost:8080/",
          "height": 49,
          "referenced_widgets": [
            "1d4576d24c9c41c49c2a24dc3ac317b2",
            "1e0afa46857f468f9a8a375385f2e254",
            "885ad1125a24478ca5b080927f98b72b",
            "1ab0abcddf274709bc7dec2a4aa970ac",
            "8c5cf42bd73d48619675ec61752472d3",
            "f7a95a548eb34314af96f7ac66f164bb",
            "6b6b7391c9f14327b32eaee17b5a8f7a",
            "dbb6c4d092394bfb8a826d34e149d877",
            "96952694f543492fad2d833b7009eb9f",
            "7591eda1d25c4150a734dd1ad40b0922",
            "254b041b1956423c85a0e1037c925394"
          ]
        },
        "id": "5dd28b16",
        "outputId": "524407c8-72ea-42cb-aae9-1b85afd82b32"
      },
      "outputs": [
        {
          "output_type": "display_data",
          "data": {
            "text/plain": [
              "  0%|          | 0/100 [00:00<?, ?it/s]"
            ],
            "application/vnd.jupyter.widget-view+json": {
              "version_major": 2,
              "version_minor": 0,
              "model_id": "1d4576d24c9c41c49c2a24dc3ac317b2"
            }
          },
          "metadata": {}
        }
      ],
      "source": [
        "create_dir('./uncond_mnist')\n",
        "\n",
        "global_idx = 0\n",
        "for idx in trange(NUM_ITERS):\n",
        "    images: torch.Tensor = uncond_diff.sample_images(batch_size=BATCH_SIZE).cpu()\n",
        "    images = images.permute(0, 2, 3, 1).data.numpy().astype(np.uint8)\n",
        "\n",
        "    for i in range(len(images)):\n",
        "        imsave(os.path.join('./uncond_mnist', f'{global_idx}.png'), images[i])\n",
        "        global_idx += 1"
      ]
    },
    {
      "cell_type": "code",
      "execution_count": null,
      "id": "7ae0649a",
      "metadata": {
        "id": "7ae0649a"
      },
      "outputs": [],
      "source": [
        "fid_value = fid_score.calculate_fid_given_paths(\n",
        "    paths=['./real_images_MNIST', './uncond_mnist'],\n",
        "    batch_size=200,\n",
        "    device=device,\n",
        "    dims=2048\n",
        ")\n",
        "fid_value"
      ]
    },
    {
      "cell_type": "code",
      "source": [
        "cond_diff = DiffusionRunner(create_default_mnist_config(), eval=True)\n",
        "\n",
        "classifier_args = {\n",
        "    \"block\": ResidualBlock,\n",
        "    \"layers\": [2, 2, 2, 2]\n",
        "}\n",
        "noisy_classifier = ConditionalResNet(**classifier_args)\n",
        "noisy_classifier.to(device)\n",
        "\n",
        "noisy_classifier.load_state_dict(torch.load('./drive/MyDrive/ddpm_checkpoints/classifier.pth'))\n",
        "\n",
        "cond_diff.set_classifier(noisy_classifier, 1.0)"
      ],
      "metadata": {
        "id": "p0bdfzk-RdYs"
      },
      "id": "p0bdfzk-RdYs",
      "execution_count": null,
      "outputs": []
    },
    {
      "cell_type": "code",
      "source": [
        "create_dir('./cond_mnist')\n",
        "\n",
        "labels = torch.arange(10, device=device).repeat(BATCH_SIZE // 10)\n",
        "\n",
        "global_idx = 0\n",
        "for idx in trange(NUM_ITERS):\n",
        "    images: torch.Tensor = cond_diff.sample_images(batch_size=BATCH_SIZE, labels=labels).cpu()\n",
        "    images = images.permute(0, 2, 3, 1).data.numpy().astype(np.uint8)\n",
        "\n",
        "    for i in range(len(images)):\n",
        "        imsave(os.path.join('./cond_mnist', f'{global_idx}.png'), images[i])\n",
        "        global_idx += 1"
      ],
      "metadata": {
        "id": "SC-C-VEDRZiI"
      },
      "id": "SC-C-VEDRZiI",
      "execution_count": null,
      "outputs": []
    },
    {
      "cell_type": "code",
      "source": [
        "fid_value = fid_score.calculate_fid_given_paths(\n",
        "    paths=['./real_images_MNIST', './cond_mnist'],\n",
        "    batch_size=200,\n",
        "    device=device,\n",
        "    dims=2048\n",
        ")\n",
        "fid_value"
      ],
      "metadata": {
        "id": "_UUPkcVnXPVx"
      },
      "id": "_UUPkcVnXPVx",
      "execution_count": null,
      "outputs": []
    },
    {
      "cell_type": "markdown",
      "id": "525ea8ea",
      "metadata": {
        "id": "525ea8ea"
      },
      "source": [
        "> Какой фид получился? Сравните FID для безусловной генерации и для условной. Сгенерируйте для каждого класса по 6к картинок и посчитайте FID между реальными и условно сгенерированными картинками."
      ]
    }
  ],
  "metadata": {
    "kernelspec": {
      "display_name": "Python 3 (ipykernel)",
      "language": "python",
      "name": "python3"
    },
    "language_info": {
      "codemirror_mode": {
        "name": "ipython",
        "version": 3
      },
      "file_extension": ".py",
      "mimetype": "text/x-python",
      "name": "python",
      "nbconvert_exporter": "python",
      "pygments_lexer": "ipython3",
      "version": "3.9.5"
    },
    "colab": {
      "name": "calc_fid.ipynb",
      "provenance": []
    },
    "accelerator": "GPU",
    "widgets": {
      "application/vnd.jupyter.widget-state+json": {
        "866d3579a3ef4d3d964af423d38f2ffb": {
          "model_module": "@jupyter-widgets/controls",
          "model_name": "HBoxModel",
          "model_module_version": "1.5.0",
          "state": {
            "_dom_classes": [],
            "_model_module": "@jupyter-widgets/controls",
            "_model_module_version": "1.5.0",
            "_model_name": "HBoxModel",
            "_view_count": null,
            "_view_module": "@jupyter-widgets/controls",
            "_view_module_version": "1.5.0",
            "_view_name": "HBoxView",
            "box_style": "",
            "children": [
              "IPY_MODEL_cf0b9315b401413d9202edfa1db28445",
              "IPY_MODEL_276bf0ef689e4abb946d25b569da615e",
              "IPY_MODEL_4c01d60ee7f44c1c96f3117663485f55"
            ],
            "layout": "IPY_MODEL_18e05fa3b74d486a97f6a78bd550963f"
          }
        },
        "cf0b9315b401413d9202edfa1db28445": {
          "model_module": "@jupyter-widgets/controls",
          "model_name": "HTMLModel",
          "model_module_version": "1.5.0",
          "state": {
            "_dom_classes": [],
            "_model_module": "@jupyter-widgets/controls",
            "_model_module_version": "1.5.0",
            "_model_name": "HTMLModel",
            "_view_count": null,
            "_view_module": "@jupyter-widgets/controls",
            "_view_module_version": "1.5.0",
            "_view_name": "HTMLView",
            "description": "",
            "description_tooltip": null,
            "layout": "IPY_MODEL_24cf04b05a37430db8a3c8a750923d48",
            "placeholder": "​",
            "style": "IPY_MODEL_0f981a1d93f241eeb987f1c90060b2db",
            "value": "100%"
          }
        },
        "276bf0ef689e4abb946d25b569da615e": {
          "model_module": "@jupyter-widgets/controls",
          "model_name": "FloatProgressModel",
          "model_module_version": "1.5.0",
          "state": {
            "_dom_classes": [],
            "_model_module": "@jupyter-widgets/controls",
            "_model_module_version": "1.5.0",
            "_model_name": "FloatProgressModel",
            "_view_count": null,
            "_view_module": "@jupyter-widgets/controls",
            "_view_module_version": "1.5.0",
            "_view_name": "ProgressView",
            "bar_style": "danger",
            "description": "",
            "description_tooltip": null,
            "layout": "IPY_MODEL_d340943a0d8b417f9748543e22b70f1d",
            "max": 20000,
            "min": 0,
            "orientation": "horizontal",
            "style": "IPY_MODEL_32b3dddfea5f41bbb866b3adcadb12ba",
            "value": 20000
          }
        },
        "4c01d60ee7f44c1c96f3117663485f55": {
          "model_module": "@jupyter-widgets/controls",
          "model_name": "HTMLModel",
          "model_module_version": "1.5.0",
          "state": {
            "_dom_classes": [],
            "_model_module": "@jupyter-widgets/controls",
            "_model_module_version": "1.5.0",
            "_model_name": "HTMLModel",
            "_view_count": null,
            "_view_module": "@jupyter-widgets/controls",
            "_view_module_version": "1.5.0",
            "_view_name": "HTMLView",
            "description": "",
            "description_tooltip": null,
            "layout": "IPY_MODEL_4330cfc189604ab4a12db7849a1456c2",
            "placeholder": "​",
            "style": "IPY_MODEL_b8883b6d503349a7b8f5f75f5adb3b8e",
            "value": " 20000/20000 [00:28&lt;00:00, 877.59it/s]"
          }
        },
        "18e05fa3b74d486a97f6a78bd550963f": {
          "model_module": "@jupyter-widgets/base",
          "model_name": "LayoutModel",
          "model_module_version": "1.2.0",
          "state": {
            "_model_module": "@jupyter-widgets/base",
            "_model_module_version": "1.2.0",
            "_model_name": "LayoutModel",
            "_view_count": null,
            "_view_module": "@jupyter-widgets/base",
            "_view_module_version": "1.2.0",
            "_view_name": "LayoutView",
            "align_content": null,
            "align_items": null,
            "align_self": null,
            "border": null,
            "bottom": null,
            "display": null,
            "flex": null,
            "flex_flow": null,
            "grid_area": null,
            "grid_auto_columns": null,
            "grid_auto_flow": null,
            "grid_auto_rows": null,
            "grid_column": null,
            "grid_gap": null,
            "grid_row": null,
            "grid_template_areas": null,
            "grid_template_columns": null,
            "grid_template_rows": null,
            "height": null,
            "justify_content": null,
            "justify_items": null,
            "left": null,
            "margin": null,
            "max_height": null,
            "max_width": null,
            "min_height": null,
            "min_width": null,
            "object_fit": null,
            "object_position": null,
            "order": null,
            "overflow": null,
            "overflow_x": null,
            "overflow_y": null,
            "padding": null,
            "right": null,
            "top": null,
            "visibility": null,
            "width": null
          }
        },
        "24cf04b05a37430db8a3c8a750923d48": {
          "model_module": "@jupyter-widgets/base",
          "model_name": "LayoutModel",
          "model_module_version": "1.2.0",
          "state": {
            "_model_module": "@jupyter-widgets/base",
            "_model_module_version": "1.2.0",
            "_model_name": "LayoutModel",
            "_view_count": null,
            "_view_module": "@jupyter-widgets/base",
            "_view_module_version": "1.2.0",
            "_view_name": "LayoutView",
            "align_content": null,
            "align_items": null,
            "align_self": null,
            "border": null,
            "bottom": null,
            "display": null,
            "flex": null,
            "flex_flow": null,
            "grid_area": null,
            "grid_auto_columns": null,
            "grid_auto_flow": null,
            "grid_auto_rows": null,
            "grid_column": null,
            "grid_gap": null,
            "grid_row": null,
            "grid_template_areas": null,
            "grid_template_columns": null,
            "grid_template_rows": null,
            "height": null,
            "justify_content": null,
            "justify_items": null,
            "left": null,
            "margin": null,
            "max_height": null,
            "max_width": null,
            "min_height": null,
            "min_width": null,
            "object_fit": null,
            "object_position": null,
            "order": null,
            "overflow": null,
            "overflow_x": null,
            "overflow_y": null,
            "padding": null,
            "right": null,
            "top": null,
            "visibility": null,
            "width": null
          }
        },
        "0f981a1d93f241eeb987f1c90060b2db": {
          "model_module": "@jupyter-widgets/controls",
          "model_name": "DescriptionStyleModel",
          "model_module_version": "1.5.0",
          "state": {
            "_model_module": "@jupyter-widgets/controls",
            "_model_module_version": "1.5.0",
            "_model_name": "DescriptionStyleModel",
            "_view_count": null,
            "_view_module": "@jupyter-widgets/base",
            "_view_module_version": "1.2.0",
            "_view_name": "StyleView",
            "description_width": ""
          }
        },
        "d340943a0d8b417f9748543e22b70f1d": {
          "model_module": "@jupyter-widgets/base",
          "model_name": "LayoutModel",
          "model_module_version": "1.2.0",
          "state": {
            "_model_module": "@jupyter-widgets/base",
            "_model_module_version": "1.2.0",
            "_model_name": "LayoutModel",
            "_view_count": null,
            "_view_module": "@jupyter-widgets/base",
            "_view_module_version": "1.2.0",
            "_view_name": "LayoutView",
            "align_content": null,
            "align_items": null,
            "align_self": null,
            "border": null,
            "bottom": null,
            "display": null,
            "flex": null,
            "flex_flow": null,
            "grid_area": null,
            "grid_auto_columns": null,
            "grid_auto_flow": null,
            "grid_auto_rows": null,
            "grid_column": null,
            "grid_gap": null,
            "grid_row": null,
            "grid_template_areas": null,
            "grid_template_columns": null,
            "grid_template_rows": null,
            "height": null,
            "justify_content": null,
            "justify_items": null,
            "left": null,
            "margin": null,
            "max_height": null,
            "max_width": null,
            "min_height": null,
            "min_width": null,
            "object_fit": null,
            "object_position": null,
            "order": null,
            "overflow": null,
            "overflow_x": null,
            "overflow_y": null,
            "padding": null,
            "right": null,
            "top": null,
            "visibility": null,
            "width": null
          }
        },
        "32b3dddfea5f41bbb866b3adcadb12ba": {
          "model_module": "@jupyter-widgets/controls",
          "model_name": "ProgressStyleModel",
          "model_module_version": "1.5.0",
          "state": {
            "_model_module": "@jupyter-widgets/controls",
            "_model_module_version": "1.5.0",
            "_model_name": "ProgressStyleModel",
            "_view_count": null,
            "_view_module": "@jupyter-widgets/base",
            "_view_module_version": "1.2.0",
            "_view_name": "StyleView",
            "bar_color": null,
            "description_width": ""
          }
        },
        "4330cfc189604ab4a12db7849a1456c2": {
          "model_module": "@jupyter-widgets/base",
          "model_name": "LayoutModel",
          "model_module_version": "1.2.0",
          "state": {
            "_model_module": "@jupyter-widgets/base",
            "_model_module_version": "1.2.0",
            "_model_name": "LayoutModel",
            "_view_count": null,
            "_view_module": "@jupyter-widgets/base",
            "_view_module_version": "1.2.0",
            "_view_name": "LayoutView",
            "align_content": null,
            "align_items": null,
            "align_self": null,
            "border": null,
            "bottom": null,
            "display": null,
            "flex": null,
            "flex_flow": null,
            "grid_area": null,
            "grid_auto_columns": null,
            "grid_auto_flow": null,
            "grid_auto_rows": null,
            "grid_column": null,
            "grid_gap": null,
            "grid_row": null,
            "grid_template_areas": null,
            "grid_template_columns": null,
            "grid_template_rows": null,
            "height": null,
            "justify_content": null,
            "justify_items": null,
            "left": null,
            "margin": null,
            "max_height": null,
            "max_width": null,
            "min_height": null,
            "min_width": null,
            "object_fit": null,
            "object_position": null,
            "order": null,
            "overflow": null,
            "overflow_x": null,
            "overflow_y": null,
            "padding": null,
            "right": null,
            "top": null,
            "visibility": null,
            "width": null
          }
        },
        "b8883b6d503349a7b8f5f75f5adb3b8e": {
          "model_module": "@jupyter-widgets/controls",
          "model_name": "DescriptionStyleModel",
          "model_module_version": "1.5.0",
          "state": {
            "_model_module": "@jupyter-widgets/controls",
            "_model_module_version": "1.5.0",
            "_model_name": "DescriptionStyleModel",
            "_view_count": null,
            "_view_module": "@jupyter-widgets/base",
            "_view_module_version": "1.2.0",
            "_view_name": "StyleView",
            "description_width": ""
          }
        },
        "1d4576d24c9c41c49c2a24dc3ac317b2": {
          "model_module": "@jupyter-widgets/controls",
          "model_name": "HBoxModel",
          "model_module_version": "1.5.0",
          "state": {
            "_dom_classes": [],
            "_model_module": "@jupyter-widgets/controls",
            "_model_module_version": "1.5.0",
            "_model_name": "HBoxModel",
            "_view_count": null,
            "_view_module": "@jupyter-widgets/controls",
            "_view_module_version": "1.5.0",
            "_view_name": "HBoxView",
            "box_style": "",
            "children": [
              "IPY_MODEL_1e0afa46857f468f9a8a375385f2e254",
              "IPY_MODEL_885ad1125a24478ca5b080927f98b72b",
              "IPY_MODEL_1ab0abcddf274709bc7dec2a4aa970ac"
            ],
            "layout": "IPY_MODEL_8c5cf42bd73d48619675ec61752472d3"
          }
        },
        "1e0afa46857f468f9a8a375385f2e254": {
          "model_module": "@jupyter-widgets/controls",
          "model_name": "HTMLModel",
          "model_module_version": "1.5.0",
          "state": {
            "_dom_classes": [],
            "_model_module": "@jupyter-widgets/controls",
            "_model_module_version": "1.5.0",
            "_model_name": "HTMLModel",
            "_view_count": null,
            "_view_module": "@jupyter-widgets/controls",
            "_view_module_version": "1.5.0",
            "_view_name": "HTMLView",
            "description": "",
            "description_tooltip": null,
            "layout": "IPY_MODEL_f7a95a548eb34314af96f7ac66f164bb",
            "placeholder": "​",
            "style": "IPY_MODEL_6b6b7391c9f14327b32eaee17b5a8f7a",
            "value": " 37%"
          }
        },
        "885ad1125a24478ca5b080927f98b72b": {
          "model_module": "@jupyter-widgets/controls",
          "model_name": "FloatProgressModel",
          "model_module_version": "1.5.0",
          "state": {
            "_dom_classes": [],
            "_model_module": "@jupyter-widgets/controls",
            "_model_module_version": "1.5.0",
            "_model_name": "FloatProgressModel",
            "_view_count": null,
            "_view_module": "@jupyter-widgets/controls",
            "_view_module_version": "1.5.0",
            "_view_name": "ProgressView",
            "bar_style": "",
            "description": "",
            "description_tooltip": null,
            "layout": "IPY_MODEL_dbb6c4d092394bfb8a826d34e149d877",
            "max": 100,
            "min": 0,
            "orientation": "horizontal",
            "style": "IPY_MODEL_96952694f543492fad2d833b7009eb9f",
            "value": 37
          }
        },
        "1ab0abcddf274709bc7dec2a4aa970ac": {
          "model_module": "@jupyter-widgets/controls",
          "model_name": "HTMLModel",
          "model_module_version": "1.5.0",
          "state": {
            "_dom_classes": [],
            "_model_module": "@jupyter-widgets/controls",
            "_model_module_version": "1.5.0",
            "_model_name": "HTMLModel",
            "_view_count": null,
            "_view_module": "@jupyter-widgets/controls",
            "_view_module_version": "1.5.0",
            "_view_name": "HTMLView",
            "description": "",
            "description_tooltip": null,
            "layout": "IPY_MODEL_7591eda1d25c4150a734dd1ad40b0922",
            "placeholder": "​",
            "style": "IPY_MODEL_254b041b1956423c85a0e1037c925394",
            "value": " 37/100 [3:38:25&lt;6:13:26, 355.65s/it]"
          }
        },
        "8c5cf42bd73d48619675ec61752472d3": {
          "model_module": "@jupyter-widgets/base",
          "model_name": "LayoutModel",
          "model_module_version": "1.2.0",
          "state": {
            "_model_module": "@jupyter-widgets/base",
            "_model_module_version": "1.2.0",
            "_model_name": "LayoutModel",
            "_view_count": null,
            "_view_module": "@jupyter-widgets/base",
            "_view_module_version": "1.2.0",
            "_view_name": "LayoutView",
            "align_content": null,
            "align_items": null,
            "align_self": null,
            "border": null,
            "bottom": null,
            "display": null,
            "flex": null,
            "flex_flow": null,
            "grid_area": null,
            "grid_auto_columns": null,
            "grid_auto_flow": null,
            "grid_auto_rows": null,
            "grid_column": null,
            "grid_gap": null,
            "grid_row": null,
            "grid_template_areas": null,
            "grid_template_columns": null,
            "grid_template_rows": null,
            "height": null,
            "justify_content": null,
            "justify_items": null,
            "left": null,
            "margin": null,
            "max_height": null,
            "max_width": null,
            "min_height": null,
            "min_width": null,
            "object_fit": null,
            "object_position": null,
            "order": null,
            "overflow": null,
            "overflow_x": null,
            "overflow_y": null,
            "padding": null,
            "right": null,
            "top": null,
            "visibility": null,
            "width": null
          }
        },
        "f7a95a548eb34314af96f7ac66f164bb": {
          "model_module": "@jupyter-widgets/base",
          "model_name": "LayoutModel",
          "model_module_version": "1.2.0",
          "state": {
            "_model_module": "@jupyter-widgets/base",
            "_model_module_version": "1.2.0",
            "_model_name": "LayoutModel",
            "_view_count": null,
            "_view_module": "@jupyter-widgets/base",
            "_view_module_version": "1.2.0",
            "_view_name": "LayoutView",
            "align_content": null,
            "align_items": null,
            "align_self": null,
            "border": null,
            "bottom": null,
            "display": null,
            "flex": null,
            "flex_flow": null,
            "grid_area": null,
            "grid_auto_columns": null,
            "grid_auto_flow": null,
            "grid_auto_rows": null,
            "grid_column": null,
            "grid_gap": null,
            "grid_row": null,
            "grid_template_areas": null,
            "grid_template_columns": null,
            "grid_template_rows": null,
            "height": null,
            "justify_content": null,
            "justify_items": null,
            "left": null,
            "margin": null,
            "max_height": null,
            "max_width": null,
            "min_height": null,
            "min_width": null,
            "object_fit": null,
            "object_position": null,
            "order": null,
            "overflow": null,
            "overflow_x": null,
            "overflow_y": null,
            "padding": null,
            "right": null,
            "top": null,
            "visibility": null,
            "width": null
          }
        },
        "6b6b7391c9f14327b32eaee17b5a8f7a": {
          "model_module": "@jupyter-widgets/controls",
          "model_name": "DescriptionStyleModel",
          "model_module_version": "1.5.0",
          "state": {
            "_model_module": "@jupyter-widgets/controls",
            "_model_module_version": "1.5.0",
            "_model_name": "DescriptionStyleModel",
            "_view_count": null,
            "_view_module": "@jupyter-widgets/base",
            "_view_module_version": "1.2.0",
            "_view_name": "StyleView",
            "description_width": ""
          }
        },
        "dbb6c4d092394bfb8a826d34e149d877": {
          "model_module": "@jupyter-widgets/base",
          "model_name": "LayoutModel",
          "model_module_version": "1.2.0",
          "state": {
            "_model_module": "@jupyter-widgets/base",
            "_model_module_version": "1.2.0",
            "_model_name": "LayoutModel",
            "_view_count": null,
            "_view_module": "@jupyter-widgets/base",
            "_view_module_version": "1.2.0",
            "_view_name": "LayoutView",
            "align_content": null,
            "align_items": null,
            "align_self": null,
            "border": null,
            "bottom": null,
            "display": null,
            "flex": null,
            "flex_flow": null,
            "grid_area": null,
            "grid_auto_columns": null,
            "grid_auto_flow": null,
            "grid_auto_rows": null,
            "grid_column": null,
            "grid_gap": null,
            "grid_row": null,
            "grid_template_areas": null,
            "grid_template_columns": null,
            "grid_template_rows": null,
            "height": null,
            "justify_content": null,
            "justify_items": null,
            "left": null,
            "margin": null,
            "max_height": null,
            "max_width": null,
            "min_height": null,
            "min_width": null,
            "object_fit": null,
            "object_position": null,
            "order": null,
            "overflow": null,
            "overflow_x": null,
            "overflow_y": null,
            "padding": null,
            "right": null,
            "top": null,
            "visibility": null,
            "width": null
          }
        },
        "96952694f543492fad2d833b7009eb9f": {
          "model_module": "@jupyter-widgets/controls",
          "model_name": "ProgressStyleModel",
          "model_module_version": "1.5.0",
          "state": {
            "_model_module": "@jupyter-widgets/controls",
            "_model_module_version": "1.5.0",
            "_model_name": "ProgressStyleModel",
            "_view_count": null,
            "_view_module": "@jupyter-widgets/base",
            "_view_module_version": "1.2.0",
            "_view_name": "StyleView",
            "bar_color": null,
            "description_width": ""
          }
        },
        "7591eda1d25c4150a734dd1ad40b0922": {
          "model_module": "@jupyter-widgets/base",
          "model_name": "LayoutModel",
          "model_module_version": "1.2.0",
          "state": {
            "_model_module": "@jupyter-widgets/base",
            "_model_module_version": "1.2.0",
            "_model_name": "LayoutModel",
            "_view_count": null,
            "_view_module": "@jupyter-widgets/base",
            "_view_module_version": "1.2.0",
            "_view_name": "LayoutView",
            "align_content": null,
            "align_items": null,
            "align_self": null,
            "border": null,
            "bottom": null,
            "display": null,
            "flex": null,
            "flex_flow": null,
            "grid_area": null,
            "grid_auto_columns": null,
            "grid_auto_flow": null,
            "grid_auto_rows": null,
            "grid_column": null,
            "grid_gap": null,
            "grid_row": null,
            "grid_template_areas": null,
            "grid_template_columns": null,
            "grid_template_rows": null,
            "height": null,
            "justify_content": null,
            "justify_items": null,
            "left": null,
            "margin": null,
            "max_height": null,
            "max_width": null,
            "min_height": null,
            "min_width": null,
            "object_fit": null,
            "object_position": null,
            "order": null,
            "overflow": null,
            "overflow_x": null,
            "overflow_y": null,
            "padding": null,
            "right": null,
            "top": null,
            "visibility": null,
            "width": null
          }
        },
        "254b041b1956423c85a0e1037c925394": {
          "model_module": "@jupyter-widgets/controls",
          "model_name": "DescriptionStyleModel",
          "model_module_version": "1.5.0",
          "state": {
            "_model_module": "@jupyter-widgets/controls",
            "_model_module_version": "1.5.0",
            "_model_name": "DescriptionStyleModel",
            "_view_count": null,
            "_view_module": "@jupyter-widgets/base",
            "_view_module_version": "1.2.0",
            "_view_name": "StyleView",
            "description_width": ""
          }
        }
      }
    }
  },
  "nbformat": 4,
  "nbformat_minor": 5
}