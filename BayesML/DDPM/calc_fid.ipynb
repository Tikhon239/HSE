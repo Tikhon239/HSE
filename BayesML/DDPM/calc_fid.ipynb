{
  "cells": [
    {
      "cell_type": "code",
      "source": [
        "!if [ -d HSE ]; then rm -Rf HSE; fi\n",
        "!git clone https://github.com/Tikhon239/HSE\n",
        "!cp -a /content/HSE/BayesML/DDPM/* ."
      ],
      "metadata": {
        "id": "qpidZfT5OGVH"
      },
      "id": "qpidZfT5OGVH",
      "execution_count": null,
      "outputs": []
    },
    {
      "cell_type": "code",
      "source": [
        "from google.colab import drive\n",
        "drive.mount('/content/drive')"
      ],
      "metadata": {
        "id": "z85-iVlj5AMU"
      },
      "id": "z85-iVlj5AMU",
      "execution_count": null,
      "outputs": []
    },
    {
      "cell_type": "code",
      "source": [
        "!pip3 install wandb\n",
        "!pip3 install ml_collections\n",
        "!pip3 install skimage\n",
        "!pip3 install pytorch_fid"
      ],
      "metadata": {
        "id": "Iy0yHQOGOMMa"
      },
      "id": "Iy0yHQOGOMMa",
      "execution_count": null,
      "outputs": []
    },
    {
      "cell_type": "code",
      "execution_count": 1,
      "id": "199b716a",
      "metadata": {
        "id": "199b716a"
      },
      "outputs": [],
      "source": [
        "import torch\n",
        "import numpy as np\n",
        "import os\n",
        "\n",
        "from skimage.io import imread, imsave\n",
        "from tqdm.auto import trange, tqdm\n",
        "from torchvision.datasets import MNIST\n",
        "from torchvision.transforms import Compose, Resize\n",
        "from pytorch_fid import fid_score\n",
        "\n",
        "from data_generator import DataGenerator\n",
        "from default_mnist_config import create_default_mnist_config\n",
        "from diffusion import DiffusionRunner\n",
        "from models.classifier import ResNet, ResidualBlock, ConditionalResNet\n",
        "\n",
        "from matplotlib import pyplot as plt"
      ]
    },
    {
      "cell_type": "code",
      "source": [
        "import warnings\n",
        "warnings.filterwarnings('ignore')"
      ],
      "metadata": {
        "id": "u76VymkjWykT"
      },
      "id": "u76VymkjWykT",
      "execution_count": 2,
      "outputs": []
    },
    {
      "cell_type": "markdown",
      "id": "f8a96e0e",
      "metadata": {
        "id": "f8a96e0e"
      },
      "source": [
        "#### Определим папку с настоящими картинками"
      ]
    },
    {
      "cell_type": "code",
      "execution_count": 3,
      "id": "5def5c68",
      "metadata": {
        "id": "5def5c68"
      },
      "outputs": [],
      "source": [
        "def create_dir(path: str):\n",
        "    if not os.path.exists(path):\n",
        "        os.makedirs(path)"
      ]
    },
    {
      "cell_type": "code",
      "source": [
        "TOTAL_IMAGES_COUNT = 20_000\n",
        "BATCH_SIZE = 200\n",
        "NUM_ITERS = TOTAL_IMAGES_COUNT // BATCH_SIZE\n",
        "\n",
        "device = torch.device('cuda')"
      ],
      "metadata": {
        "id": "IHd3gXTFVe9z"
      },
      "id": "IHd3gXTFVe9z",
      "execution_count": 4,
      "outputs": []
    },
    {
      "cell_type": "code",
      "execution_count": 5,
      "id": "72e67beb",
      "metadata": {
        "colab": {
          "base_uri": "https://localhost:8080/",
          "height": 49,
          "referenced_widgets": [
            "c675cd6ca6a4417eb80dff4828125eb5",
            "6ce1a63902ba4c9784bd46a2d55de4b0",
            "3c613511c8e14d7ab5df1beae1fe28d7",
            "a709f0e687c54ad3a868534fec437dee",
            "f910ba3aa62f4bf5a0cc3b2910923f80",
            "a8b698de407c45c5aeb140356a6f29ff",
            "f27c41aaae6445d3a53cdb03053eedcd",
            "bccafeb52fee4b6aaab6de3e741e7b71",
            "d82fa777ffff45fda24df6470eafdcdb",
            "4705bd163cf54c4cabde2ccb6ba770c2",
            "efeeba54647a401aadb8cd51e9bc0bc5"
          ]
        },
        "id": "72e67beb",
        "outputId": "88c79c30-e258-4869-e9ac-103dd086e12d"
      },
      "outputs": [
        {
          "output_type": "display_data",
          "data": {
            "text/plain": [
              "  0%|          | 0/20000 [00:00<?, ?it/s]"
            ],
            "application/vnd.jupyter.widget-view+json": {
              "version_major": 2,
              "version_minor": 0,
              "model_id": "c675cd6ca6a4417eb80dff4828125eb5"
            }
          },
          "metadata": {}
        }
      ],
      "source": [
        "create_dir('./real_images_MNIST')\n",
        "\n",
        "real_dataset = MNIST(root='./data', download=True, train=True, transform=Compose([Resize((32, 32))]))\n",
        "for idx, (image_mnist, label) in enumerate(tqdm(real_dataset, total=TOTAL_IMAGES_COUNT)):\n",
        "    if idx == TOTAL_IMAGES_COUNT:\n",
        "        break\n",
        "    image = np.array(image_mnist)\n",
        "    imsave(\"./real_images_MNIST/{}.png\".format(idx), image)"
      ]
    },
    {
      "cell_type": "markdown",
      "id": "fabbea8d",
      "metadata": {
        "id": "fabbea8d"
      },
      "source": [
        "#### Определим папку для синтетических картинок и сгенерируем 60к картинок"
      ]
    },
    {
      "cell_type": "code",
      "execution_count": 6,
      "id": "c0538815",
      "metadata": {
        "id": "c0538815"
      },
      "outputs": [],
      "source": [
        "uncond_diff = DiffusionRunner(create_default_mnist_config(), eval=True)\n",
        "uncond_diff.model.eval();"
      ]
    },
    {
      "cell_type": "code",
      "execution_count": 7,
      "id": "5dd28b16",
      "metadata": {
        "colab": {
          "base_uri": "https://localhost:8080/",
          "height": 49,
          "referenced_widgets": [
            "d0132cb883884c7ba42dbd7c770b6b8e",
            "7320ebe114e34995b5b91358c57e6db3",
            "42cb566302f74e5a87bb47947922a4b3",
            "177706b0b7f44a31bc6c1ecd32da6238",
            "115b673744384e05adb585edfa27433e",
            "47572eca91f9410a82169cc8c1797ac7",
            "fa8476b24f4049f6a23f2169a114c0e3",
            "80024005f81f41e091196d362a8a3b22",
            "01bf96ea4dfd4588a68f880ea049f6ff",
            "ec69ea0631654a0f884cfd06b3387c63",
            "5cc210f9a5b1411e98629664cc0952f1"
          ]
        },
        "id": "5dd28b16",
        "outputId": "87c1ab46-11b8-4cc7-c17d-486218d53bf6"
      },
      "outputs": [
        {
          "output_type": "display_data",
          "data": {
            "text/plain": [
              "  0%|          | 0/100 [00:00<?, ?it/s]"
            ],
            "application/vnd.jupyter.widget-view+json": {
              "version_major": 2,
              "version_minor": 0,
              "model_id": "d0132cb883884c7ba42dbd7c770b6b8e"
            }
          },
          "metadata": {}
        }
      ],
      "source": [
        "create_dir('./uncond_mnist')\n",
        "\n",
        "global_idx = 0\n",
        "for idx in trange(NUM_ITERS):\n",
        "    images: torch.Tensor = uncond_diff.sample_images(batch_size=BATCH_SIZE).cpu()\n",
        "    images = images.permute(0, 2, 3, 1).data.numpy().astype(np.uint8)\n",
        "\n",
        "    for i in range(len(images)):\n",
        "        imsave(os.path.join('./uncond_mnist', f'{global_idx}.png'), images[i])\n",
        "        global_idx += 1"
      ]
    },
    {
      "cell_type": "code",
      "execution_count": 8,
      "id": "7ae0649a",
      "metadata": {
        "id": "7ae0649a",
        "colab": {
          "base_uri": "https://localhost:8080/",
          "height": 137,
          "referenced_widgets": [
            "343c2a6b0b424037ada59ab72143c8c3",
            "60ba1fd790284719959d41e575a49d44",
            "52afaa8ad0f9447aa8e938961b6be1a7",
            "3df062d818834696aa3ab659b39174b4",
            "c6758b02b12342b291200cd4231e0c39",
            "99af35d5fdbc4c68865dc860697fcf63",
            "14e585473c6d43f282c8b65cefb563dd",
            "ae8e6cfa85e148c9a4b3ff8a0923dae8",
            "3764383b705843989b1afb415312cf22",
            "5aff2f4d653c42d5bd9336f7f5c8cad5",
            "9724fd7c7d1c40ceaaafd6d46be1537c"
          ]
        },
        "outputId": "a57cd5d4-ad8e-44bc-a996-0fe248ed26a3"
      },
      "outputs": [
        {
          "output_type": "stream",
          "name": "stderr",
          "text": [
            "Downloading: \"https://github.com/mseitzer/pytorch-fid/releases/download/fid_weights/pt_inception-2015-12-05-6726825d.pth\" to /root/.cache/torch/hub/checkpoints/pt_inception-2015-12-05-6726825d.pth\n"
          ]
        },
        {
          "output_type": "display_data",
          "data": {
            "text/plain": [
              "  0%|          | 0.00/91.2M [00:00<?, ?B/s]"
            ],
            "application/vnd.jupyter.widget-view+json": {
              "version_major": 2,
              "version_minor": 0,
              "model_id": "343c2a6b0b424037ada59ab72143c8c3"
            }
          },
          "metadata": {}
        },
        {
          "output_type": "stream",
          "name": "stderr",
          "text": [
            "100%|██████████| 100/100 [03:16<00:00,  1.96s/it]\n",
            "100%|██████████| 100/100 [03:16<00:00,  1.96s/it]\n"
          ]
        },
        {
          "output_type": "execute_result",
          "data": {
            "text/plain": [
              "116.63311799845394"
            ]
          },
          "metadata": {},
          "execution_count": 8
        }
      ],
      "source": [
        "fid_value = fid_score.calculate_fid_given_paths(\n",
        "    paths=['./real_images_MNIST', './uncond_mnist'],\n",
        "    batch_size=200,\n",
        "    device=device,\n",
        "    dims=2048\n",
        ")\n",
        "fid_value"
      ]
    },
    {
      "cell_type": "code",
      "source": [
        "cond_diff = DiffusionRunner(create_default_mnist_config(), eval=True)\n",
        "cond_diff.model.eval()\n",
        "\n",
        "classifier_args = {\n",
        "    \"block\": ResidualBlock,\n",
        "    \"layers\": [2, 2, 2, 2]\n",
        "}\n",
        "noisy_classifier = ConditionalResNet(**classifier_args)\n",
        "noisy_classifier.to(device)\n",
        "\n",
        "noisy_classifier.load_state_dict(torch.load('./drive/MyDrive/ddpm_checkpoints/classifier.pth'))\n",
        "\n",
        "cond_diff.set_classifier(noisy_classifier, 1.0)"
      ],
      "metadata": {
        "id": "p0bdfzk-RdYs"
      },
      "id": "p0bdfzk-RdYs",
      "execution_count": 9,
      "outputs": []
    },
    {
      "cell_type": "code",
      "source": [
        "create_dir('./cond_mnist')\n",
        "\n",
        "labels = torch.arange(10, device=device).repeat(BATCH_SIZE // 10)\n",
        "\n",
        "global_idx = 0\n",
        "for idx in trange(NUM_ITERS):\n",
        "    images: torch.Tensor = cond_diff.sample_images(batch_size=BATCH_SIZE, labels=labels).cpu()\n",
        "    images = images.permute(0, 2, 3, 1).data.numpy().astype(np.uint8)\n",
        "\n",
        "    for i in range(len(images)):\n",
        "        imsave(os.path.join('./cond_mnist', f'{global_idx}.png'), images[i])\n",
        "        global_idx += 1"
      ],
      "metadata": {
        "id": "SC-C-VEDRZiI",
        "colab": {
          "base_uri": "https://localhost:8080/",
          "height": 49,
          "referenced_widgets": [
            "fd7f84821fbc433bb8b4b0aa93eead2f",
            "ddd64b8fad374f3d97a38336a7e4cf5a",
            "fc78d6c82c7a461ebd48276d641a4aa7",
            "30f033d4775047d8abac3e9be891f2e3",
            "32ca7569468447c4ad064192dbba4084",
            "3fd4d736ec7a40b892d77a8ee31f2d62",
            "7175bdacacbc4f4d932f9ea3c3bc861b",
            "c767f336b8e14ff6b80def62b4509bbb",
            "afbb1df932054d35b5b15f07553dc452",
            "b37958560f214f28872814e5677a52db",
            "0a68359c3f5d40a388665d2212dd490e"
          ]
        },
        "outputId": "0f5f84ca-ca51-4f6b-a199-c7e5e88f23a0"
      },
      "id": "SC-C-VEDRZiI",
      "execution_count": null,
      "outputs": [
        {
          "output_type": "display_data",
          "data": {
            "text/plain": [
              "  0%|          | 0/100 [00:00<?, ?it/s]"
            ],
            "application/vnd.jupyter.widget-view+json": {
              "version_major": 2,
              "version_minor": 0,
              "model_id": "fd7f84821fbc433bb8b4b0aa93eead2f"
            }
          },
          "metadata": {}
        }
      ]
    },
    {
      "cell_type": "code",
      "source": [
        "fid_value = fid_score.calculate_fid_given_paths(\n",
        "    paths=['./real_images_MNIST', './cond_mnist'],\n",
        "    batch_size=200,\n",
        "    device=device,\n",
        "    dims=2048\n",
        ")\n",
        "fid_value"
      ],
      "metadata": {
        "id": "_UUPkcVnXPVx",
        "colab": {
          "base_uri": "https://localhost:8080/"
        },
        "outputId": "2df24c6a-5cc9-4911-c9c1-a2011e1d32fb"
      },
      "id": "_UUPkcVnXPVx",
      "execution_count": 1,
      "outputs": [
        {
          "output_type": "execute_result",
          "data": {
            "text/plain": [
              "152.50308523976827"
            ]
          },
          "metadata": {},
          "execution_count": 1
        }
      ]
    },
    {
      "cell_type": "markdown",
      "source": [
        "Посчитал в другом ноутбуке\n",
        "![Снимок экрана 2022-04-18 в 0.09.37.png](data:image/png;base64,iVBORw0KGgoAAAANSUhEUgAABToAAAD/CAYAAADRyWltAAAYTmlDQ1BJQ0MgUHJvZmlsZQAAWIWVWQVUlE+0n2+TXZalu7ukG6S7uxFYYOnuMCiRUBEElFJBBUEEixCxEEQUEVTAQCQEKRVUUATkfYT+65z3zps9832/vXPnxtypuwsAezIpPDwYQQNASGh0pI2hDo+TswsPdgpA8IcesAIJkndUuLaVlRmAy+/3P8vyIMwLl+cSm7L+2/6/FlofcpQ3AJAVjL18orxDYHwdAFS6d3hkNAAYZZjOHxcdvondYMwQCRsI4/BN7LeN0zex1zY+ucVjZ6ML4zoAKAgkUqQfAMQWmM4T6+0HyyG+hNvoQn0CQmHWeRhrePuTfABg3wXz7AoJCdvETjAW8fqbHL9/yPT6I5NE8vuDt33ZKhR6AVHhwaSE/+dw/N8lJDjmtw4huBL8I41sNn2Gx+1lUJjpJibAeD7Uy8ISxnQw/hHgs8UPYwTeP8bIfpsfweEdpQuPGWCCsbQPSc8UxhwwNggNtjDboXv5BhgYwxieIYj4gGhju52+meQofdsdmWWRYTaWv7FvpK72Tt96UuSW3k3+jpgge+0d+S/9yca/5X9L9Ldz3LYZiY8NcLCAMRHGTFFBtqbbPEiBRH9di988kTE2m/YLwFiVHGqosy0f6e4baWCzwx8ZEvXbX2Smf4CxxQ4uifa3M9qRU+dN2rKfBcYt5FBt+99yyFFOZr998SHr6W/7juwjh9rv+IscDY/Wsdnp+yU82GqHH4UnBxtu0vlgzBEVa7vTF6URDU/Ibfkoi/BoK7ttO1FegSQTq217UPHADOgCPcADYuDqBcJAIAjonW+eh79ttxgAEogEfoAMJHYov3s4brWEwk9bkAg+wogMov7009lqJYNYmL7+h7r9lAC+W62xWz2CwBSMQ4ApCIa/x2z1Cv2jzQG8hykB/9HuDdsaDNfNtv/StGGK2Q4l5rdcHurfnBh9jB7GCGOAEUWxoTRQaigz+KkFV1mUMkrlt7V/8aOn0P3ocfQAehT9yiMgNfJf/vAAczAKazDY8dnr7z6jhGCpCigdlDosH5aNYkKxAQmUPKxJG6UJ61aAqbo7lm96/2/Z//Dhb6O+w4eTxiFwzDgtnMi/exLFiAp/pGyO6d9HaNtWrz/jqvun5d/6df820j7w2/TfnMhM5DVkF/IeshvZhmwGPMg7yBZkD/LWJv4zi95vzaLf2my27AmC5QT8Rx9pR+fmSEZJX5SekV7bbosmx0dvLjDdsPCEyAA//2gebXjnJ/MYh3pL7uKRlZaVBWDzHNnepr7abJ0PENPTv2jkaQB2w2sD1/cXLfA4ALWdADBn/0UTcgWAFd6XrzzzjomM3aahNh9ogAfU8IpiBVyAH4jA/sgCRaAGtIA+MAGWwA44A3d4lP3h+RwJ4sBekAIyQA44BgpBCTgNzoIL4BK4CppBG7gHHoDHoA8MgDfw7JkEc2ABLINVCIKwEBVED7FC3JAgJA7JQsqQBqQPmUE2kDPkCflBoVAMtBdKg3KgfKgEqoBqoCvQDege1A31Q6+gMWgG+gL9RCARBAQDghMhhJBCKCO0EaYIO8QehB8iApGISEccRZxEVCLqEE2Ie4jHiAHEKGIOsYQESEokE5IXKYFURuoiLZEuSF9kJHI/MhtZhKxE1iNb4Tg/R44i55ErKAyKHsWDkoBnsBHKHuWNikDtRx1GlaAuoJpQHajnqDHUAuoXmgrNgRZHq6KN0U5oP3QcOgNdhK5CN6I74dU0iV7GYDBMGGGMErwanTGBmCTMYUw5pgFzF9OPmcAsYbFYVqw4Vh1riSVho7EZ2GJsHfYO9hl2EvuDgpKCm0KWwoDChSKUIpWiiKKW4jbFM4oPFKs4GpwgThVnifPBJeBycedwrbinuEncKp4WL4xXx9vhA/Ep+JP4enwnfhj/lZKSko9ShdKaMoAymfIk5WXKh5RjlCsEOoIYQZfgRoghHCVUE+4SXhG+UlFRCVFpUblQRVMdpaqhuk81QvWDSE+UJBoTfYgHiKXEJuIz4idqHLUgtTa1O3UidRH1Neqn1PM0OBohGl0aEs1+mlKaGzRDNEu09LQytJa0IbSHaWtpu2mn6bB0QnT6dD506XRn6e7TTdAj6fnpdem96dPoz9F30k8yYBiEGYwZAhlyGC4x9DIsMNIxyjM6MMYzljLeYhxlQjIJMRkzBTPlMl1lGmT6yczJrM1MZs5irmd+xvydhZ1Fi4XMks3SwDLA8pOVh1WfNYg1j7WZ9S0bik2MzZotju0UWyfbPDsDuxq7N3s2+1X21xwIDjEOG44kjrMcPRxLnFychpzhnMWc9znnuZi4tLgCuQq4bnPNcNNza3AHcBdw3+Ge5WHk0eYJ5jnJ08GzwMvBa8Qbw1vB28u7yifMZ8+XytfA95Yfz6/M78tfwN/OvyDALWAusFfgosBrQZygsqC/4AnBLsHvQsJCjkKHhJqFpoVZhI2FE4UvCg+LUIloikSIVIq8EMWIKosGiZaL9okhxBTE/MVKxZ6KI8QVxQPEy8X7d6F3qewK3VW5a0iCIKEtEStxUWJMkknSTDJVslnyk5SAlItUnlSX1C9pBelg6XPSb2ToZExkUmVaZb7Iisl6y5bKvpCjkjOQOyDXIrcoLy5Plj8l/1KBXsFc4ZBCu8K6opJipGK94oySgJKnUpnSkDKDspXyYeWHKmgVHZUDKm0qK6qKqtGqV1U/q0moBanVqk3vFt5N3n1u94Q6nzpJvUJ9VINHw1PjjMaoJq8mSbNSc1yLX8tHq0rrg7aodqB2nfYnHWmdSJ1Gne+6qrr7dO/qIfUM9bL1evXp9O31S/RHDPgM/AwuGiwYKhgmGd41QhuZGuUZDRlzGnsb1xgvmCiZ7DPpMCWY2pqWmI6biZlFmrWaI8xNzI+bD1sIWoRaNFsCS2PL45ZvrYStIqxuWmOsraxLradsZGz22nTZ0tt62NbaLtvp2OXavbEXsY+xb3egdnBzqHH47qjnmO846iTltM/psTObc4BziwvWxcGlymXJVd+10HXSTcEtw21wj/Ce+D3d7mzuwe63PKg9SB7XPNGejp61nmskS1IlacnL2KvMa8Fb1/uE95yPlk+BzwxZnZxP/uCr7pvvO+2n7nfcb8Zf07/Ifz5AN6AkYDHQKPB04Pcgy6DqoI1gx+CGEIoQz5AboXShQaEdYVxh8WH94eLhGeGjEaoRhRELkaaRVVFQ1J6olmgG+MLeEyMSczBmLFYjtjT2R5xD3LV42vjQ+J4EsYSshA+JBonnk1BJ3knte3n3puwd26e9r2I/tN9rf/sB/gPpByaTDZMvpOBTglKepEqn5qd+S3NMa03nTE9OnzhoePBiBjEjMmPokNqh05mozIDM3iy5rOKsX9k+2Y9ypHOKctYOex9+dETmyMkjG0d9j/bmKuaeOoY5FnpsME8z70I+bX5i/sRx8+NNBTwF2QXfCj0Ku4vki06fwJ+IOTF60uxkS7FA8bHitRL/koFSndKGMo6yrLLv5T7lz05pnao/zXk65/TPMwFnXlYYVjRVClUWncWcjT07dc7hXNd55fM1VWxVOVXr1aHVoxdsLnTUKNXU1HLU5l5EXIy5OFPnVtd3Se9SS71EfUUDU0POZXA55vLsFc8rg1dNr7ZfU75Wf13welkjfWN2E9SU0LTQ7N882uLc0n/D5EZ7q1pr403Jm9VtvG2ltxhv5d7G306/vXEn8c7S3fC78/f87k20e7S/ue90/0WHdUdvp2nnwwcGD+53aXfdeaj+sK1btfvGI+VHzY8VHzf1KPQ0PlF40tir2Nv0VOlpS59KX2v/7v7bzzSf3Xuu9/zBC+MXjwcsBvoH7QdfDrkNjb70eTn9KvjV4uvY16tvkofRw9lvad4WjXCMVL4Tfdcwqjh6a0xvrGfcdvzNhPfE3Puo92uT6VNUU0UfuD/UTMtOt80YzPTNus5OzoXPrc5nfKT9WPZJ5NP1z1qfexacFiYXIxc3vhz+yvq1+pv8t/Ylq6WR5ZDl1e/ZP1h/XFhRXun66fjzw2rcGnbt5Lroeusv01/DGyEbG+GkSNLWVQAJV4SvLwBfqgGgcgaAvg8AvOt2nrdTkPDlAwG/HSB9hDZSGcWCxmMosNIUzrg0/B0ChopEbKbB0wbTPWJQYCxjBixBrL3sihzHOOe4tXhyefv58QIqgs5CQcIhIm6iOmKcYoviD3YVSwRJqktRSb2TbpBJlrWW45X7KH9D4aCitRKH0qRyvUq8qrYaXu357jJ1H41dGl80m7X2auvoEHTe6d7Wq9UvN8gz3G9EMtY0YTFZNO0xqzcvt6iwbLOasEHbstqx2dM4IB3WHFedgQvOlehGtQe1Z8l93KPP8y7pmleVd7FPNjnB18/Pzl8nQD5QLIg3mDWEOhQZ+i1sPLwv4mbkuaij0QdiMmIb41EJ5MS7e8E+of2qB4yTXVNiUo+mFaYnHZQ/OJGRe8gqUzCLMhvkIA7THhE5qpFrccwxzyXf5bhTgUOhXZH1CYuTpsWGJTqlGmUq5XKnJE6LnZGuMK1MOzt63riqrnquhrZW8KJMndolvXrzBsfLHlf8r4Zfi7u+vzG16WBzZkvOjdzWwptlbVW3rt/uvDN0d/TeYHvDfd8Olo6HnUUP4rp8H+7pdnxk/di0x/CJUa/d04i+M/2vnlO+kBrQHTQe0n+p/ErwNfH1ypvp4Zdv742cfZc26jdmP24xYf7ectJyyuSDyjTz9OhM9qz87OjchfnEj0afKD7VfDb8PLFwdjH+i/tXy2/mS4HL7T8O/Wxe19vY2Im/DBKFnEGNoicwCxRInCLen7KMMEoUo46jeUDHSp/A8IJJljmV5S2bAnsGRx8XG7cTTx5vG98w/5LAsuCs0BPhsyKRohpiFGIvxE/vCpRQkPgl+UDqqLSjDLfMB9l6uVh5dQVIoVMxW8lSmV55UKVY1VWNU20YngVuGqwaQ5ontFy1hbRXdQZ0r+gd1icb7DakNZwyajMuNIk1JZt5mftbhFmGWHlZW9qo2YrZsdsTHRAOy44fnAad77vUu5a6Ze9JdA/wcPLUI0l5sXhD3rM+A+QO30a/Kv+igPTAsCDnYK0Q4VAqeCaMhY9EfIvijfaIKY69F/cyfiJhPnFlL+U+rv0iB3iSMcnvUhpTc9Mi090P2mc4HQrITMsqz76U03i46cj1o1dyLx2ryTuff+Z4aUFhYW5R1onUkwnFYSV+pQFlyeV3ToueuVApfDb/3PPzK9XEC2w1/LVi8DxQuqRRr9dgftn5SvDVjGtnr99u7G8aaZ5u+dqKvMncJn5L7bbWHaW7vPcQ98bbu+43dlR3lj441nXwYWJ35KPox1k9bb1MT/f1vX3G9lzzhd2A72Dy0PmXT199e0M3LPHWbCT83YnRm2PPxkcmxt/PTaHh6KfM9M/Rzkt/VPgk9Jn684+FqcWhL4++3vhWsXRg2eG78PflH20riT/VVglreuszO/GXhOYQ5Uh3lCgai17EzGBnKcZxi5R4giCVNtGFOoWmjrafboNBkFGfKZD5IMtp1utsnewPOR5w3uSq4I7n0eH5yXuOz5Rvjj9TQFigXdBdcEWoQFha+JGInyhWtFrMSOyDeMYukV2dEt6SQLJcarfUS+kY+HbTIGsmOy2XJs8l36JgozCveFCJW6kZvrVMqxxQZVK9qKat9my39+5P6kkaWI1STXnNQa1EbS7tFh1LnVe6/robepX6VgY4g/uGe43kjWaNK03cTFlMB80KzW0tqC26LdOs1Ky+WTfYBNkK2763q7Df48Dq8MIx18nIacO50SXYVcD1rVvRHos9y+4FHoIe1z21PV+T4r34vF7C+4g/2dBXyU/F3ziAFBgSRArWDKEJGQ49HxYSrhC+FnE/MjvKKpox+k3M6VifOKG4qfhTCfoJw4nBSQxJz/fe3Hd7f8eB+8k3UmpSi9LS0sMOumboHxLLRGe+yCrOdskRyFk9PHrkydEbuWeO7c9zzVc9znZ8pWCw8GrRiRNHTuYXV5RcK31Q9rJ89tTqGaoKnkq5s0bn3M6HVe2vzrpwuCa5lnRRqY5Y9+XSx/qVy4QrXFdlr1ldT2q83vSjReVGeGvxzcttLbdu3u6+s3TPsP1Gh23nUldRt9yjFz1Hej37jJ9pv9AZDH5FHJ4b751d+rayGf/t3/s2C0YRgOMpcIaaAYC9JgB5HXCeOQDnnXgArKgAsFMBCCFfgCD0AEh17M/5AcGnDQZQAlrAAriBMJAGqnCWbAlcgC+IgrPLXHAK1IPb4CkYA9/gzJEDkoEMIQ8oDsqD6qCH0BQCgxBBmCGiEOVwnrcB53WxyBvIXyhD1HHUOFoOnYl+h1HFFGNW4QzrEYUSRTWOHZeHp8RnUeIpjxHYCNVU8lRtRHViK7Uy9U0aI5o3tNF0NHSX6PXo+xnsGPoZLRmfMXkw/WAuZlFnGWHdx8bO1sruzoHjaOOM5ZLn+sp9lSeSV4F3ja+Lv0jAX3C3EFFoVPiaSKaol5i2uNAu4q5ViU+S76UGpBtlkmRlZEfkMuUV5D8rtCjmKyUo+6iYqUqrMe8mqktqlGqJax/R6db9rE9hwGjIasRhLGAib2phFmF+0qLD8os1v42j7VG7LgeUo55ThnOPK5Ob155a9/eeGBKtF8ZryXvSZ5g860ftbxpQGPgheHdIQeincJOI2ihCdETM6ziD+JZEiaSqfTz7S5OZUvLS8OkpB5cOBWbOZeccDjnamEd7nK3gY1HNSY8SptK+8iOnDc8sVeaeYzifWbV8Iajmy8Vjl/QbaC8vXp26Pt001/KhdaJt8Q7zPd377p2eXbbdmo+lnog+VewPff5jCPUaN3z6Hf3Y7Uni9N457Y8Nn1e/KH4zWMZ/P/Lj0cr0z8nVV2vX14/98tqQ3to/NuOPBQRAB1gBLxADckAdGAE74AlCQBLIAsWgBtwAj8FbsAChITZIeiv6CVABdBnqhT4iqBFyCBdEGuIqYhLJjfRAnkPOoxRR6agBtCg6BT0Mx74UC7D+2AEKfYoWnBSuFi+Kr6OUp7xDsCJMUMUTccRCal7qy3D++oY2jo6Jrpnegf4jwz5GPONJJgmmR8xhLMwsd1kD2BjY7rKHcQhwDHMWczlxs3C/4inn9eGT5gf8LwQuCqYLuQnLw7ncrGiP2DX4FMuVSJPcKxUt7S2jJUuQ7ZXLljdVYFZYVHyl1KXcpFKpelgtcXesepZGi+Z3bTkdH90cvSr9JoObhjeNbhl3m4yZIczFLBwsD1o1W8/bCth52Jc7jDjxOQe6NLlh9zi6l3h0evaT2r1qvDN9Asg2vkZ+zv6pAXeDqIK9QtrC2MITI95G6UTXxFLHhcc/TuRNit3bt1/hwLkU9tSCdPzBpIz5TFLWeE7iEelcxLG3+VcKYovkT3wpvlIaU6566ueZqkrZs+XnPlQJV/tfuFzLfLHsknr9x8vFV1Wu9TaSmlZbKlut28CtmjtmdxfbT3d4PVB9yPsI9fjJk9inmL7sZ4TnlQMeQ+avgt9Uv/0wyj1u9T5l6vYM89yxT0ILT74WLB9eMV6VXTu1/v7X4k78UQAHaODVzwvEgSLQBVbAHY79PnjlV4Dr4CEYgdc9ARKCtKA9UBJUCt2CxhA4OOokRCGiD8mIJCNvoThQyahZtDP6CUYXcwurjr1HYUbxFheFp8ZfpnQgIAnNVBFEGeIP6k6aYtoYOmd6YwYTRmsmE2YlFlFWBTYP9gSOaE4vLjtuCx5zXnM+M35zARtBD6Eo4SMitaIPxWZ2UUkoSfpKlUgPyrLJ+cg3KKwqWSk/Uc3a7ayB1jymtaZjqpsGR7DZoM3wtlGv8aqpqVmThaRlnbWkTZOdrv2gY4gz3qXOzcGd1pPSy8PHlfzeT80/J2AqyCa4J9Q87FmEa+R0dFIsV9xIwoOku/vKD9gn/0ytSHfI4D60kHUr5/AR31zDPNb8xwW+hcsn0oppSyrLFMufnPatgCrLzimfH6iOqWGvfVh3oN7wstRVg+sHmipbclud25hvDd0pved8H9tx/oF8181u/UdDPfG9Un3I/oXn0wP9Q3mvhF+Xv/n1Vn8k+93jMepx+4kz72emZD4ETZ+ZeTg7O4/+yPFJ+rPeguMi6YvPV6tvfN+Wlo4scyzXflf5XvJ95Yfjj6YVppXIlaaV1Z9aP9N/dq8SV21XT6z2rVGsaa3Fr11Zm1nnXXdez19/tL7+S+aXz68Tvx7/+rUhs0HeOLnRsxn/KF852a3jAyLoAIAe2dj4KgQANh+A9byNjdXKjY31s3CyMQzA3eDt/5C2zhoaAMoWNtHjlsn//Bn0P7TR2dGc00O0AAABnmlUWHRYTUw6Y29tLmFkb2JlLnhtcAAAAAAAPHg6eG1wbWV0YSB4bWxuczp4PSJhZG9iZTpuczptZXRhLyIgeDp4bXB0az0iWE1QIENvcmUgNS40LjAiPgogICA8cmRmOlJERiB4bWxuczpyZGY9Imh0dHA6Ly93d3cudzMub3JnLzE5OTkvMDIvMjItcmRmLXN5bnRheC1ucyMiPgogICAgICA8cmRmOkRlc2NyaXB0aW9uIHJkZjphYm91dD0iIgogICAgICAgICAgICB4bWxuczpleGlmPSJodHRwOi8vbnMuYWRvYmUuY29tL2V4aWYvMS4wLyI+CiAgICAgICAgIDxleGlmOlBpeGVsWERpbWVuc2lvbj4xMzM4PC9leGlmOlBpeGVsWERpbWVuc2lvbj4KICAgICAgICAgPGV4aWY6UGl4ZWxZRGltZW5zaW9uPjI1NTwvZXhpZjpQaXhlbFlEaW1lbnNpb24+CiAgICAgIDwvcmRmOkRlc2NyaXB0aW9uPgogICA8L3JkZjpSREY+CjwveDp4bXBtZXRhPgrnQEIfAABAAElEQVR4AeydBZyUVRfGz8Lu0rl0d3coXSotJQLSgiiggMAHKIgifKIgBiUiih8lBkpLSAtId3ctHUttx3efC+84Ozu5OxuzPIff7Lxx3xv/977D7jPnnOsVFBQUJTQSIAESIAESIAESIAESIAESIAESIAESIAESIAESSIIEUqdO7VSvUjhVioVIgARIgARIgARIgARIgARIgARIgARIgARIgARIIAkToNCZhG8Ou0YCJEACJEACJEACJEACJEACJEACJEACJEACJOAcAW/niok8CvNytijLKQLpfZgRgBOBBEiABEiABEiABEiABEiABEiABEiABEiABBKKAD06E4o02yEBEiABEiABEiABEiABEiABEiABEiABEiABEog3AhQ64w0tKyYBEiABEiABEiABEiABEiABEiABEiABEiABEkgoAvEmdF7195fw8PCEGgfbcUAA9+LKlSsOSvE0CSQOgaQyP+/fvy8BAQGJA4GtkgAJkAAJkAAJkAAJkAAJkAAJkAAJxIlArITO48eOypCB/eXV1i2kY7tWsn/fnmid8FeCWsXSRWXlsiXRjlvuzJ41U9q0aCwD+79peSpe9+/cvq37jrbbtmyiBMDL8dpeQlT+22+/SZcuXaRZs2by1ltvSXBwcLRmp0+fLqVLl5awsLBoxy13UEeTJk1k/vz5lqe47wSB22putWzZUjNs2rSpXL4cP3Nr2LBhug3cq59++smJnsUsgrkAYS8hzFPm58svvyz9+/dPCCSJ1oa9+759+3bBvB09erTb+vfgwQN5+PCh2+pjRSRAAiRAAiRAAiRAAiRAAiRAAiRgi4DLQmdUVJT0faOnXDh/Tlq1fUXqNWgoadKkjVZ/howZpFPnrlKqTNloxy13XmrSVKpUrS47tm+zPBWv+1myZpX+gwbLm/3eka1bNsv9e/fitb34rvz48ePSs2dPyZcvn3Ts2FELmpZtVqhQQXr16iU+Pj6Wp6LtDxgwQIukp06dinacO84RyKrm1rvvvivvvPOObN68We7F09zq3r27GPfq5MmTznXOotSPP/6oxXGLw27f9aT5CZG6efPmbmeQlCq0d9/Lli0rhQoVkj17on95Fdv+Q+CsXr26HDt2LLZV8DoSIAESIAESIAESIAESIAESIAEScJqA06uuGzVevHBejh05LH+u2yzVn3veOBztPWPGTDL12++jHbO2k79AQalYqbKscOD5ae1aZ48hJNbbO/owU6RIIQ0bvSiRkZHOVmO3XIjynkyVOrXdMvF5cuXKlZIrVy6ZMGGCzWYaNmwoeDmyGjVqSN68eR0Vs3neGm/zwo7OoyzuC+6RI7NXFzxaU8fhntir2+iXtTLo94svOje38KUBxpoyZUqjSqffy5cvL3gtWLBAvLy87F5nrZ+4IDQ01GlPu7jwTErz0y4odXL48OGOijg87wyriIiIWN13h42bFYjNfc+UKZOUKlVKLl68qGty1E9bbRjd+Oqrr3QKk+eee844xHcSIAESIAESIAESIAESIAESIAESiDcCjtUks6anTf5Shg8ZpI9M/mKivNGzqwzo1ydaOHSf17tJzaoVpFa1iloQNbtcb544fkx6de8s9WpUld49usi5s2csi9jcX7F0sa4b9Rvh7gg9xz5ev/2yUF8Lb9P2rZtLycJ5pXDe7NK3d08VQnzJZr2WJ15r30bXd/LEcf1H+ov1aun9md9MNRUNCLin+1Asfy4pkCurHs/mjRtM5x1tXLp0Sb788kv54osvYrxWrFjh6HJ9/vHjx9K7d29ZuHCh9sLs2rWr4DVjxgzT9cjLWa1aNalYsaIOSTWdMNuAWIZw1Zo1a8oHH3ygBTCz0w43IYaMGDFCC28QSipVqqTFUn+Vp9Ww3bt3S926dSVLliySO3du6dSpk5iLHwj5fuONN7RXKrwi69SpI5s2bTIulzFjxugxQKxFOPgrr7wiOXLkkOeff14CAwN1OeRWRNg+6vfz89Pj3rDB+XuCShz189y5c9KiRQvdT7QPT1rcS1cMXp64b+gnxtq4cWOpXbu2bNu2TeCdWaVKFR3+jjrhFQqelStX1uecbcdePyFwwqtvy5Ytcu3aNZk2bZp+ff/999HE/7jyTCrzE8zWrFmj7xuEfMzx9u3ba66G5+K8efP0/MJzAnHO3BDKjuN4LVq0SA4ePChVq1bV+/BWvH79ukC0/u6776RkyZJ6jhcoUEA+/fRTwbMB+/vvv/U9RLuvvfaavu/wHj106JB5U3a38YxiLvz66696/qPtN998U99D40J33HfUdevWLenQoYPuZ+vWraN5ZDrzvKMOiPhz586VVq1aORTjUZ5GAiRAAiRAAiRAAiRAAiRAAiRAAnEl4JLQmSNnLsmXP79uE4JWrly5JXeevNG873r36StDR7yvQ9stF/U4f+6sNG5QRw7s3SMvNWkmF8+fl/Hjxjg9hurP15QiRYspYemi9OjVR183+D/vCXJuVqxURWrXqaePXVFCWIaMmWTs+Iky47vZOofovP/NdrqdtwcO1gLs3Tt3tDfou/8ZLjmVx+SZ00/CuSFq9OzSUTZtWCcjP/xYfv5jmRQsVFhea99ajhw66FQ7ECCXL18uEDUtX8iT54whDB3elxD1YBDO8MqWLZvp8pw5c8r777+vw3GPHj1qOm5sQOSCwAirV6+eFibggeeKzZkzRwtn33zzjRw4cEAgJt29e9eU//HMmTM6nyTmw0cffSRDhw6VdevWyeHDhyUkJEQL5RB9cAwh3xDc0qVLp4WpXbt26a68+uqrWpzasWOHvPDCCypdQhqdR7BgwYJaTMI9Qdg+6oAounTpUilcuLC0adPGaTHJUT/REYisGTNm1N6zs2fPlr179wrenTX0E2IX7j3GBFENOQz37dunBVOMB3k3wQZWpkwZee+99+TChQvRBC1H7dnrJ4RhiGVHjhzRC++AFV5LliwRiJMwd/BMKvMTYnHbtm21II45ji8GMMfr168vxYsX1+Nt0KCBfk4gXlsK16+//rrcUZ8FeJYgwBcrVkwL9UjvAGEdz9/MmTNl0KBB0q5dOy2q4vgnn3win332ma4f3rf4wgHtBgUFyddffy03btyQzz//XJ935seQIUO02N2jRw993/BFAe4b+oQ5BIvrfTf6gc8KCJXoJ+rElzKGOXrejXIQd/FlB74YoJEACZAACZAACZAACZAACZAACZBAQhCIHtPtoMUOnTpLoxdeEoiGg4e9J8WKl4hxRY1atdWx2jJ04Dsxzk35apL4+vrKjn2HxTdVKhn9sUjLJo3kpvqD3xmD2Dhi1GhZu/pPCVZiAQz5QB88uC+jxoyVPE9DruvUqy8FlGC0acN6LVhCnF23drWMHD1GX+PoB673Nstl2bJVG9mwbq3pskMH98u2v7fIuE8nyktNm+njEDw3rP9LFsybI59+/q8oYLrIYqNWrVqyatUqLShZnNKMLI9Z2wfLsWPHyrfffqtzQVoTTSA2wfsxffr0MRYYgpgFMaZz587yww8/6CYg1hjij7U2rR1D3QifxsI2EMAhjjRq1EiKFi2qi0MAhWgCD0J4dMKwMBLyTCJse/369dpLDgIUhEkY3osUKSKTJk3SohxyB0IoHT9+vPTt21cg+sAGDx6s3/fv36/rnzhxol6QCQcheP71118CYQaes47MUT9xPcQxiJHoM4TR/GpurV69WrflqH6ch4iNF4QxjB8Gjzd4dIIjwu2xbSwwlD17di2qYZyOQtR1ZU9/2Otn5syZ9dyDyI1FgsDI0iBY437FhWdSmZ9YiAviu+HdixyqJUqU0B6WmK8w3Ed4GW/cuNEShc4xCbETC3ThfmDOQsiH0Gh8STB58mT9RUG/fv309chz+c8//8isWbNk1KhRAubwysWXGvCghpCfNm1aLY7GaNDGAQj8MOTaxZhgeF7haYo5jpytcb3vulL1A+It+plKfU5jvPCCNczR826UM/JymntuG+f4TgIkQAIkQAIkQAIkQAIkQAIkQALxQcAlj864duCkCluv3+gFLXIadTVr8bKx6dR7hYqV5bkaNeXnBXN1+R9mzpAmzVoooaKA6fp+b7yuQ81/WThfrl+7ql7X5JEbV/099XTxl9HvD5cqZUvoF0Lxw1RIcEREuKkf9jbgiQXRD6HLli94hSWEXb16VYuH5h5XefLk0aHTrrQPIRViBkJdEUoOr1KERiN/Hwzh2EbYulEv2rx586b2mMV5iCkIzTUMeVWxgjzERHODN6UhcpofP3HihN5FjkWED+MFDzqEaRv9MC9vbdtRP3ENBC8ISxCBEPaN16NHj6xVZ/WYscgTwoENgwcuRCGs+O0ui2s/3cEzrmNx1/yEhybmn2GY4/DKdMUQIo5w7rVr12qPTAiLb7/9tq4CXsnwuIUwbMw9vEMMhzhthK+jMAR+iJwwCPmuzB19kfoBYdwwCLbw+jVExbjed6NeeKBC5IShn4anL/YdPe8oA0OeT4i5eGZpJEACJEACJEACJEACJEACJEACJJAQBBJU6MyS1S9GaPee3U9Ck10ZbJ+3+suyJYvl0sULsviPRdKn7xPBAXUgjH3Rrwtl4pdTZOXajTJ5+kxp36GTK9Xrsj7ePnLr5r+epgi7Nyx37jx6c9mqdXLrQbDpdfN+kG7XKGfvHXkZt27dqnP3IcTT/AVPu4QwCK0QYuC9ZxiEF0M0MY45ekeew9GjR2thY+fOnTqUG7kuDa9EeMshxBuio7mdV6kLYEb4uRGmbpSBRxxEU2cM4hUM3okIDTZeCNOGt525YbwQRFG/uTnqJ/KI/vzzz7o+eAfCkxZegK5Yvnz5dHGE4JsbwpiNXKPwhEQoMha1geGcK4KYs/3EwklGG+Z9wbYrPC2vdde+u+YnUhggZDwsLEx3DWHZELVdMcwNpFdAzkmE/UMERDg8DNv4sgKexsa8M94xxyHiu9PMnxN4luLLAITcu+O+O9NPR8+7UYe7x23Uy3cSIAESIAESIAESIAESIAESIAESsEXApdD128qjCQv0wJCvEh6MGVToZ758T/J2Pn78SPxV7klYZFSkzqWZ7WR25cGUXvIqgefl1m314kVYwOjVjp1lowr1XrtqpWRT4aCoG+/OWAsVSj565HDp0qGdCo8uJgg1NwzeUpkyZdb9PHr4kGzZvFG++PwzyZ4tu1xV+eIQ3h6qPLAuKpHU8LS6oFaS91HiEq5DeDwMIfgI0S+kvJl2bN8mW7dsFj9VR2DgY6mqFgHBmMd9NEre+2CMlCpdRrZv3SKLf/9NSqptZ0LkkWMSC5rE1SBywKsQIhlyLsIgyhghuTiHkHLk2YNno+GpBwERZSC4IrwW2+XKlROEb6MuCCjOrB6N9hCOCwEIXm7wnMPYIHI8fOpFixBtnMcCPAi1hbcmQubh8QavTiwwBGENuSg//PBD7W0HEfH06dM6byLaQK6/C8prDvfMGAPCiI38pFiYBeNGiC3ygMLLDeIxRClsj1Fh7IYhvBhiJ/JkHj/+ZD7jnKN+Ym4hBBnXYBGZTZs26RyM6Af6h3yphnffv3Prgk5FgOtyqbmFfIrwkBs5cqTmA69ThOxPmDBBsCAOvDrhFYt7hfyd8HJFSgLsmy/uBAENbUEQhachmIA50g4400+MF+IYBD+IthAVIRJjG7k6XeGJumxZUpifyAmLOQY2eOaQx9XckFbh7Nmzem5hoSjMe/DElwDw/DQEOyxKhPuD/KkIWUdaCMPg5QgvXywkhRyruB7PBRaYwgv3D3k+8WyhDfDGs4n0EcbcMepy9D516lRdH7w58eyi/8j36o77jmcTgimEdaSKwLzFYktoA4I78pQ6et6N/oMdxos5Sq9OgwrfSYAESIAESIAESIAESIAESIAE4pOAl/I8inKmgUdhXmqxnTY616V5+fwFCsq+I0+8o8Z99IEgD6elQVw8ePys/qP+w5EjZNa307WokF0JLbXUAkJL/1gkjV5sLL+oRX2cta/Vqu+ffPyh9tjs3K1HtMu+nT5FJn02Xgl8AZJLCXodOnURrBifRXldnTh3RebP+VEGD3iSS8/8wpq16wi8NGE6p+fwoQJPTiw0lEP9gb975w61wNEE6ffOIDl4YJ8M6NtHjh87qsvDC+/Fxk1lxMjRUqZceUnv4xRWfW1sf0CIKKRyAULwMjeEdkNIhEHkMzwnzcsMHDhQi2sQWbBSu+FhCKESggy8Os3zSJpfa7mNvJnIpQkxBwYWyNEJ4ROiJwwiELwoIaDCAw45E7FIEnIKwrCSNTziDO/SDBky6NyGEEZh8IREv8wNi/pAHDQMeTr79OkjxqJL6AdEJ3ibIhTXsGHDhmlBF4sXWS4k5KifEJkwXrCHWIz8phAk4dEHMRkh+xDELA0Cp5ELE0Ip+gkvVxjCmbt06aJD8o08nBBCkTcVIhHC/DcpURX3GQIr2CD/qaWHLEQqCGwQXB31E+1C0IO4C29HCFkQijEXIDbDnOWpC1v5kVTmJ7qGxZ6wyBUEPOS6xD1D3lMs7IP7gEWKwMDc4PEKMR5z1TBsQ4DHPYRQbBjuE54p5Dw16kGKAyyuBaYIeTfSFXTr1k2vyI5nF88M7qXxJYVRn7V3iOfIj4nnG2IjnmuIt+PGjdOLjeGauN53iP9IQQFDLlB8cQDBEmPCPAVHZ553XA/v7gZqkac//vjDlDcXx2kkQAIkQAIkQAIkQAIkQAIkQAIk4CoBrGnijLkkdDpToTNlgoICtQcnRNLYGsJQjx09LMjZaYhD5nVBBLqlvAXhSRoXQx0QZG0ZQuXhyYrV5809vBJC6LTVp9gch7cW+g/BzlWDYAYRDpMOHpoQgIz8fuZ1wXsN+RJx3hBAzc9jG95uEI0gukFoio0ZHmkQ/MzviXld9rxVHfUTcwvjNMLQzet1ZRuiL8QreIRaMzBFWxA2Y2PO9hP5F9GWrXvvDM/Y9M+Va+IyPy3bgQcs0iUgtYKx+JVlGVv7uBaeyvDKtWYIWceXB/B8jO19s1YvjhlCJ0LXzYV7y/Luuu+W9Rr7zj7vKA+Bv0KFCvqLBeN6vpMACZAACZAACZAACZAACZAACZCAqwSStNDp6mA8sbynCZ2eyJh9JgFnCWARKHgoQ8T+888/tUcuQtBticzO1puQ5RYvXqw9iOEZDZEdOUKxkFVStjVr1ug+wwvWlpCelPvPvpEACZAACZAACZAACZAACZAACSQNAs4KnS7l6IzPoV1UeTLHqtB3e1a/QSPp/npve0V4zo0EEBqL0FV7hhB15N6kPVsEED4NL0tbhhBrCIvxaa7OT6zijhBshGZjFfWkJHI6wxNh7gi7R6g90gogj2pSFzqROmLUqFE6ByqFzvh8Glg3CZAACZAACZAACZAACZAACZAACCRK6Lo19A8fPlAL+vxt7ZTpWAEV6l66bDnTflLeSA4enQghx4I+9gwhwFjEiPZsEdi4caNeaMbWqJEyAAtdxaclp/mZFHjG571i3SRAAiRAAiRAAiRAAiRAAiRAAiQQFwLOenQmGaEzLoNNitcmB6EzKXJln0iABEiABEiABEiABEiABEiABEiABEiABJ4tAs4KnU6HrlO4e7YmEEdLAiRAAiRAAiRAAiRAAiRAAiRAAiRAAiRAAp5EIHbLWnvSCNlXEiABEiABEiABEiABEiABEiABEiABEiABEiCBZE+AQmeyv8UcIAmQAAmQAAmQAAmQAAmQAAmQAAmQAAmQAAkkfwIUOj3hHkdFSfDlyxIVERHn3qKOS998I1FhYXGuK7EqCPb3lyi1AjUtiRBw4/y0OSI3t3Hrzz/l8YkTNpt7Fk4kxHMUevu2hD98+Czg5BhJgARIgARIgARIgARIgARIgASSAIFnVugMU0Lf/fv3rd6CCRMmSJMmTeSvv/6yej6hDz46dkw2lyghATt2xLnpa7/+Kmc//VSiIiPjXJcrFZwYNkx2K6Z4Xf3pJ1cujVY2+MoV2VysmNxYujTace7EkoASEB8dPy6hd+5IyI0bEhka6nJF7pyfthp3ZxthAQFysFs3CVJfHiSWPTp6VHY3aya7mzaVoEuXErwbcX2O8EVJuI3PT/PB7HrxRTn90Ufmh7hNAiRAAiRAAiRAAiRAAiRAAiRAAvFG4JkVOn/88Ufp0qWLVbBt2rQRf+U1eOHCBavn3Xlwz549kiFDBkmXLp28++67Vqv2zpxZH/fOlMnqeVcOXpw2TfK/8YakSJXKlcviXDZv9+5ScMAAiQwOlscnT8a6Pm/FKk/XrpK+TJlY15GUL7yzfr2sVXNhXfbsJgEMXnEb8+XTxy9//72sy5ZNb5/573/1UI4PHqz3cd2Rvn31sX2vvGI6huN4/aXmDwQuw86MHSubihaV7dWry8b8+Z8IyIsX69M3ly+Pcb1Rz762bY0q9Ls752e0is123NnGldmzJbUabzYlwiWWpSlcWAoNGiR3N2+WcCW8JrTF9Tm6oj4/D9j4/DQfi4/67MLLmh05ckTSp0+vP/veeecda0V4jARIgARIgARIgARIgARIgARIgARcIpDshc5wGyHOocpz7aGNkMqSJUtKlixZTCAj7ISMRyrPSLxia+gD+rhr1y757LPPrFbjkzWrPu7r52f1vLMH4RH68PBhyf/WW3YvsRcWDqHSntm6NkP58pKjZUtJlSePiJeXvSrsnoPYW37WLElfurTNcoZXIrxWbYX72+qnzUqtnIgtCytVmQ5lqVNHc4p49EhuPBUdb61cqT0uszZoIHmVyFtx/nztkXvhyy+1F2YhJZCXGD9eUirRqOj77+u6Sqr9yr/9Jvl699aiHrarLlsmqfPm1ecfHjqkPXuLffCBvKi8OSv873+aVdjdu/p86K1bklZ5zlrWUaB/fwm5edPUX2y4a35Gq9Rix11t6NQN334rBdU4rM1DZ+aFQ29o5SXrqEzKtGklu/Jujo2hj0b99lJQ2Jr7aNOZ50g/PzY+2/CMRdj4/DQfk4/6zDLunflxbJcrV07Onj0rL730kty7d8/yNPdJgARIgARIgARIgARIgARIgARIwGUC3i5fkYgXHFLiTM+ePaVIkSLywgsvyK8qDBsiY0sloA1WXm3e3k+Gc+7cORmgvAcPHjwogYGB0qpVKxmrvNcKFCggEDgXLFggW7ZskWvXrsk05eEIS506tfTq1UtSpPhX+926datMnz5drl69Kt1UqOt4JR6leuoJefr0aRkzZoxs2LBB11lYeWhlVYLk2rVrdX3fqDyYQUFBetv8h4+Pj7z99tuSMmVK88OSRwmA6IM1S5kmjRasfJWXX1zs4tSpkqtdO0mVK5epmtNqDBDUIEZUnDtXjinR7O7GjZK2eHF5Xr1DkEGo78kRI+SGEsoiHjyQdEpkLDVxovg1avSkHiXsHBs4UG4rb8Tgixcl03PPSZHhwyW7Cs11pyHcGAIdBKqK8+YJxFNYhLrHO1VftOijzgWeOSP533xTrv38s6RUnozlvvtOstatK+JEP5G38PTo0VoQBoO06r7eXLFCcnfqpEVERywgLp0aOVJuqhyQQWoeog6IhrWUkG2IjPaYwNPWW4ns8DiEVyW8/m4qoTO18uj0VkJmCjVHstarp6vAvTmnxPHSX30lWWrXlhRqbqUpWFCfS6fEerzgwRmg2s7evHm0Zq8vWiTwKsyn5jwsd4cOcm/bNjHmWGRIiKTKmVNfZ15HuBJg727apK8xfrhrfhr1WXt3Vxs31RxGzsg8Ft6I93fvluNDhsiDAwe0YOxXv74EqvuH+waDV+3J996T26tXCxhkUCJdCeVRC/EZ93ynKh/++LHkaNFC4O0IIbGoKg9PZsMi1Pkz48ZpL054qOZXIrSzdmvVKjmpRGwfNTcQ9g6PzBytW8uVH36QLGo+VFLi9wP1bOA5TKu8dDEXkIc0i5r3EL0zVKhgasrWc2QUeKw+286oz4U76rMNgibmia/6fKiuPtuwf1V9ft5Vn5/B6vMTHuIwzEvMJS+zz08cBw/jOcW+peVUcyyN+nyjkQAJkAAJkAAJkAAJkAAJkAAJkIA7CPyr6rmjtniuo6j6A75hw4ayUgk/I5WYhP3MSjD4SOWAg7Bp2GWVey9jxoyCXJuzVZjq3r179TvOQ/iEQIqwyQAl4C1VuR7xWrJkiTxWQoS54XhrJSa8pwQL1ANR0zCEmeP6jUoMRDkvJbDdUoIWDB6aK5Q4Zu2FvlsTQI16bb2XVYKC11Mh11YZe8chVkGoRPi4ueV+9VXJ1b69zv+5U4nHEJSKKqEPgpn2CFPi4IGOHeXOunVSXIkfVdVYIf7tVeH9WnRUlUEUQ/0Iia+iOELQO6GETndbARWWDY9FCFAQHA2D4JdfiSzI44hwZHjKQdSFyIK+XlWiKMxRPyGY7lKCKcKJs6p5FqKEnPPKazKFr68WiCGUOmLhP2eOFrrKKqG7thLNMteoIfCSdCafoTEeeIrmVHwhvoErRCXsG56qRrkSn3wiCMMOUuKyqwaxFKI0FqaCuIuxlZk8Wc8F1AVvPiNc3LxuHxvpE+I6P83bsLXtjjYuqHmRT31ZAgHcMAjjyB2LOVVcfZYUGTpUbqv5Du9nzBkI6HvVlyl4BgqoEOvyKn0Art+j5hdEZC/1pQWeKyxuBAG5mHp+stSsqYVTk9ev4rtXfZZcVt7IGStXFnhnH3oqMhv9sPeeqVo1LRhC5CwJz28lKPorL9ziH38sD9Tn271//tHnUQ4ewBHqS5bSX38toSrv6rnPP49Wta3nyCh0XH22gQW+6MDzjs+2kKefbXhGkOf3ofr8RMg9cuXql3ruIeRaGsTPTCo1Ao0ESIAESIAESIAESIAESIAESIAEEoKAd0I04q42kMeyhhKO4C35+++/S6OnHoUI+YbH5qhRoySf8nyrr7yrCiqhbr3yMDwD7z7lHbdaeWLBAxPC6CrlHQVPzt9UOK+9BYc6KS++j5WQAIMHKMo2e+qliNxyWMzotvL0yqZyJv7xxx9yQAlbMHiWQvy0FjYPT05fJZwltF1S4bqZqlbVL/O205ctK35KsDirvL4ggBRWXm3alIcs7MH+/Vpogwen4aEJwfO2YnFFiXqlv/hCe3NVUNsQCAO2b9fh6YHq/gSqsFR4l7nL4LUIO2oln5/hXQqRCSH6N5Q3JASha7/8IpeVGAiD15m9fsLbD8JivVOnTN6XWEwFQiq8I51hgfBxeJxC2IQoWEaJTeibKxy0N2Xu3JK5Vi058Z//6HsG70qIXOYGL83MyrvurBI84cHqimVVfcqjPGRPKE/d40rY882RQwqoOuBBijFADIQIbmkYSxU11z3RcP/uK2ESYfrmdlF9nkDYraGecXhMwpAa4aDyxoSIibypD5R3eKWFC7XgjPMQnjcpz/LzkyZJZSX8+SlhHFZKiYo5Xn5ZIhRbiJ7wkvVTXyDAOxLbVdRzYXjXXlTe4ri/zhg8beEZiZQGEA/vK3EzWH2hg7QFt9RnG0TZ7Gpho0xKRIUHciU1LyDGYu4eU/fU3Ow9RygHz+EwNX/hxeqrPttwv+HpCkO+zerq8xOenNfV5+dzSWTBNt05/iABEiABEiABEiABEiABEiABEnjmCXiUR6dxt+Ct2UCFjBqGxYOilMfUCeVRBXv99delYsWKOkQd4el4PVICgatWVQmDhiFc3rwOiKoXLlzQ+eUqK3GhrBIMkWcTBoEzuxImEMpu7WVrtXejLXe/wwsLnn8FrQiERlveiqlJ5DQOqvdHT5nCQ3OLEvvw2qa8xuBdaOQzvKM8vzYoL85TKt8jvAsfK6EQZs3DS5+I5x9eSkhGaC/Ch+GVaHjVOeonVr9Oo+6zeYi5ESaOLjvDIpdaBAih+/tVKPj255+X9UqwRCizwcqZoYMtQo9zKg9AeMvlUKkXMKYIy/yoSlAt8emnclUJcPAmdMXgpVdOid8N1ByupkKc86lnBt6r/k+9XyGSQfy0NC/VL4TVe6JBnIMImUalsDA3LI6FEG9D5MS57Mpb8wWVixRe1I/UeQieEBINw3EI//AGNTfDe1HzU+I0wtlh8DaGZ3A2lY/SsJzqvsbWUBfSGcAgqBtzHPsQadE+LK2azxBHXbGi6rMtSM2LXaqvW9Vn2xb12QbPVRoJkAAJkAAJkAAJkAAJkAAJkAAJJHUCHuXRacB8oPJEHj9+XIuLOLZDefDBcihhBh6WP6vcjDNmzJCeyisNhhD2eU8FHH1A/UAuzmBL4cg46cT7fuUdtnPnTt3eXRWavEx5A05Wob9YPRh555Df01r98ObMZCP814lmrRZBmClCteH1Z82z7+pPP2nPLnihuWqpsXiQMnhuYaEca3ZW5SqERxsWu4Ehx9/WNWusFU3UY476Ca9LCFfwjoP3HMRJeMcZOU2dYXF/zx4dulxBCcsIfYdX6+E+fQT3IL96d8YgWkFIw8JD6ENelU8SAiQ8PS0NXrq51Crop596Hluet7W/T6UrgJCKHJK4d3ghpyhyixbo18/WZbE6jjy641RuSqRsQB7cEiVKxKoeRxchdyREdiyYhGfB3EJUCDc8LCHqWprOh6rmrhaY1fNpWND583pBJiONA8Q+c+E7QIWLOyv6Igcu6n+kPreMfJkB6vMjKRo8X2upvsGjE2kXkPLigvpswxclBlfk4owhvMfDYBJq7sRD11klCZAACZAACZAACZAACZAACZBAIhDwSI9OcOrRo4fOm/m5ChUdo0KpK6jFNuBVifB2hKdDCMXiRVOmTNGrmWMRIn/kInxqEEVPKk8t5N2EaDlRhWY3VR5bECfhcYn3m8qjK0zl58P2HbUyNVYGNlZqh3jaRQlQEC6rVKmiQ+axOruR5xMrCldTno+WL/TT3XZF5QxE6DlCVCFSRDPl6Yo8jFhp3VqOT+RnhPcW8nHCKxCvUDVWw+ChBjEH3prwiDQEI3gsYiEjWGos8qSuQXjrdRWae/DpQi/w7jQ8GSEaoe5wJVJjcR7dlhJEnTV4pRn9UytQ6fyS2EeoOQz90u9KXIRhPBBqYBAIEUruqJ/w9oM33A4l6O5Tnpmb1arjED0Nc4YFhNH9KuQbYeZIC5BezQN4A2IBHGcM5SBcgxEM4hK8KMEXq1yHqTlojAuiHngiT6POs2nWAOoAn5Dr1yVSCYzYRm5Tw+Dli8VtHuzbpw+hvwiv1os2PS2EcG6I1uZ1oH1XDflwkV7iR+XZii8B4sMwtsMqR+w59RxfVM+8pV1WC1Lh3hph2+bnIfaC12G1OBCEasxj3MPtyjMX8xciMERuLEaEMHGI4Qg5B5s8SoyGgREM4eQw3C/k9gxRC5mBo59KgQAv4yPqObyuQsHhYX1KpVmAGdfoHRs/UBfuOxZCMvK94l5APIVBkIRArueJurfGfcKCQci/aswPR88R6jqrPtsOqGcYXqMZ1Web9hxVz5O5hza8feEJizmDzxxw360+P809S1FXXC0h5k5c+8jrSYAESIAESIAESIAESIAESIAEkg4Bj/ToRB7OuirUFPkzISzWUwurfK1yISL/JVbwxUJFWCEdImduFTqMVc6/UitTI78nFiqCYaX2xo0by8tK3ILXEPJ4dlWiBVY+76c82vAH9lEl/uAaCKJYwAgGr80PlOiHdnarxWLgnYacnBBw/qs8GxHintAGMQKhqsifBzHP3CBEQMi0tcLzPyq8GuIIDGGqMCxOhFXNYcjxV1nluYRX4p6nK3frEFy1eAvCtGGF1ErPh5T37D9qARacg6gapurcrxYxQj4/CH5bK1UyiTK4BkIPhNd6SoAzDxXHOWt2Vgll51U+UMPQHxiuravu0x51P2E7lShVDYuxKLHnqPLsQ95RCK4QZR31M6vK7YoFWBDCDc875LDUIuFTQdYZFljMCYLknqdhyeCBvJbOeklixXaIj3iBDxZfwgI2yMMJw0IxgUo0hu1SuR8Lq/yaWP27kFoMByHshh1WoegQ5QzDvUWO0rpK/IdwjVW0IUr9o/KeIicnQtmzqefBPL3BQyX4/QMvXiWUwVBHPiUGYlEgVwz5bWFvKCHS3d7MRj8gRMIjF4Iengdzg9ANhlh93JplUblQy6vzSM8Ar0+sfI9FpKosXqzvAdI6VFbi5FE1l/Yp71kYREvkgM3z2muazy7FDoZ52EiJm4fU3IH4eWLYML0YDzxvkR/2iJq3+CIA8wLzC6um71d1NFRz1Dx0Xldm9gMCOry2YafVgkkoi7y7N9QiQL7qs+fSzJn6vuILD9hJlXsVaQ3QFoRWLLZUV32m2XuO6j8Nw8ccxkJYm9VnG+YgvDiLqzmGMHjDcqhxYr7sVZ+fqB9zCh7ImGPutISYO+7sL+siARIgARIgARIgARIgARIgARJIXAJeKpz0iYqRuP1wunUsIIQwWHhr2jN4cMIjE6KoPYNQGqKEEOTSdMXg3YlcofDwRO5OR+3YqhurtjdXAuJVJY5keboQiq2y9o7rcGclniCk1NwQdorw6cJPFxcyP+fqNjzK4BEGcRFehpaGHJeplbBs7Zxl2cTcd6WfEIjgvWYIv0a/bbHAfYCwBsEnVM0/XAvhLL4NnofwBrUnlpn3Qa/UrsRNCG7wOoTnKbbjwzoqwXuNSmWALwziy6NT91sJsgZ783FAyD+mhGAsQmR3jOp6zA3cM4h91gyekvCihbBn+axZK295DKJgsGojlXpOEmJeWLbvzD7GCHEX80k/73Y+Q+HlCeYIzY+tvaaEXqQSWaBSD1hags0dy4a5TwIkQAIkQAIkQAIkQAIkQAIkkKQIwDHRGfMoj84AFV76999/6xDy71QoKrzD8IewNUNIuTPiI0Ld8XLVDFESYfJ4xdWmKm8teKk2VB6JsTFbnlRxWfDEsh9YgVktMW952LRvuciL6UQS27DXTwhR8JiDcIgVuu+pPIzlVWoAS7PFAvfBuBcQwxLK4HnnrMiJPiHvpGFGDlJj393vB9WK5d2U92K8ipzoNIRbKx98vn5+UknlSHVo6npzLtbKg7ErnC3rgDiaplAhy8NJat8YHzzE8bJn8CQ3Fj6yV87aOeRTnjt3rpxSKRhKlSplrYgk2Nyx2joPkgAJkAAJkAAJkAAJkAAJkAAJeBoBjxI6b6g8jBdUGDZWVMfiPxlU+KgtodNTbgRyeQ5T4a3wKjXye3pK393RT+TuRP5Pe4bQb4RMJ5TBiw3h/lg0pqgKJfdTIeLusKQ4VneMy1Ed27Zt07lsHZV7ls8fHzJEQp/mmbXGAekFyqnw9ORkyGkMz3jkRq5jY6Ezzp3kdMc5FhIgARIgARIgARIgARIgARKIfwIeF7oe/0jYQkISQBjwPeWla89SK+/DDEoQ9nR7lsbq6fcqofuPhb4iVV5ZW4Z0EMiJSSMBEiABEiABEiABEiABEiABEiCBZ5GAs6HrFDqfxdnBMZMACZAACZAACZAACZAACZAACZAACZAACZCAhxBwVuiMvnKNhwyO3SQBEiABEiABEiABEiABEiABEiABEiABEiABEiABcwIUOs1pcJsESIAESIAESIAESIAESIAESIAESIAESIAESMAjCVDo9Mjbxk6TAAmQAAmQAAmQAAmQAAmQAAmQAAmQAAmQAAmYE6DQaU4jCW/7+/tLeHh4Eu4hu0YCJEACJEACJEACJEACJEACJEACJEACJEACiUfAo4TOkydPSvPmzaVfv35xJhYWFib379+PVT3bt2+Xpk2byujRo2N1vasXXblyRYoVKyZLly519VK3lg+PjJTQSPtia2B4qN02gyPCJDIqym4ZniQBEiABEiABEiABEiABEiABEiABEiABEiABVwl4lNBZsGBBqVSpkmzbts3VccYo/+OPP0qXLl1iHHfmQNmyZaVQoUKyZ88eZ4rHuUyGDBmka9euUqZMmTjXFZsKzj+4JW1XTZZss/tLwblDZPDWBRIQEhitqosPb0uNRR+L3w/9pfKvo+VkwPVo5yOiIqXv5v9JztkDJO+cQTL7+JZo57lDAiRAAiRAAiRAAiRAAiRAAiRAAiRAAiRAAnEh4FFCJ5aSr1y5skvjtRXuHRoaKg8fPnRYl7XrM2XKJKVKlTJdGxERYdqOzUak8pTEy5ahvVmzZknp0qVtFXHqeHBwsFPlLAuN37tcrj4OkEVNB8g39XrIwtM7ZNKBVdGKdV03U9L7ppY1Lw+TgumzScc10yRK/TNs2uF1suTcXpn74psyrFJzeWfLPDl057Jxmu8kQAIkQAIkQAIkQAIkQAIkQAIkQAIkQAIkECcC3nG6OhEvnjFjhixevFjnrWzRooW8++67kjJlSt2jc+fOyYABA+TgwYMSGBgorVq1krFjx0qBAgUEAueCBQtky5Ytcu3aNZk2bZq+BiJqr169JEWKJ9rv7t27ZciQIXLgwAFJnz691K9fX1Dvrl27TKO+deuWdOjQQdasWSMNGjSQTz/91CWvy9OnT8uYMWNkw4YNul+FCxeWrFmzytq1a01tdOvWTQ4dOiReXl4yb948KV++vOkcNnr27Cn79++Pdgw8xo8fr48FBATIiBEjZNmyZfLgwQMtlk6cOFEaNWqkz3/zzTcSFBQU7Xrs+Pj4yNtvv62ZTq7bVVKl9JaUXk/YzDq2SdZdPiL/ff4Vfd2Ru1dkz83zsqH1e1IzVzHJkSaj9urcdu201MldQpeBB2e3krWldeEqen/Bqe3yvxN/y5e1O+t9/iABEiABEiABEiABEiABEiABEiABEiABEiCBuBB4olzFpYZEuBYC4YcffiglS5aUnDlzarHwnXfeMfXk8uXLkjFjRpkwYYLMnj1b9u7dq99RAMLnr7/+KkeOHBGIgMh7ideSJUvk8ePHuo4zZ85IkyZN9PmPPvpIhg4dKuvWrZPDhw9LSEiIqZ2jR49qT8yvv/5a0OaXX35pOufMBsRZ9GHjxo26DxAzIZ6aW9++feX999/XIivKWtqmTZukbdu2uszrr78up06dkhs3buhiUSoXZseOHXXfIahinBBT27Rpo8VTeKuuWLHC6mvlypUmATStt69J5DylQtK3XD0prxStburKhQe39XbZrHn1e8ksucRbCcYXVDi7YQhtN87jWFm/fGJcZ5ThOwmQAAmQAAmQAAmQAAmQAAmQAAmQAAmQAAnEloDHenT+9ttv2osSA//qq69k5MiRMmrUKMmXL5/2vkQ+z/Xr1wtEy/z588vq1au1IJo5c2ZZtWqV9uREHX/99VcMdvByRCg5vD6zZMmizyNsvHv37iavURz08/PT3qGpUqXSxz/44IMYddk7AE9RLIh0+/ZtyZYtm/zxxx/ag9T8mtq1a+tdcyHX/Hz79u314ky+vr7y0ksvSbVq1QTCKwzeqBgDPDibNWumj0HwxJjnzJkjX3zxhRY/rYXnwzsWdZrbneBH0m71FCmaKYe8Wbah6dSD0Cceoel8UuljXuIlaVL6mvJ4YgGikIhwSef95DwKYfvKo7umOrhBAiRAAiRAAiRAAiRAAiRAAiRAAiRAAiRAAnEh4JEenfDWRCi5YS+//LLePHHihH6HZ2PFihW1CInwdLwePXpkFHf4jtXd69ataxI5cQHCwW/evCne3v9qwwgjh8gJK1KkiMkjVB9w4geE2QsXLmiBErlHsciReWi8E1XIpEmTJG3atAIG6Nvy5csFixfBDB7Dhw/X3q/wgIUQivB9iJt4Zc+eXYfLI2Te8mW+Kv3j8BB5ZfVUuRv8WP5oOlAy+aYxdc8vTXq9ff/pAkVYeOhRWIhkT/OkH6lT+kh6JYIGhP67gBG2s6V+ct5UETdIgARIgARIgARIgARIgARIgARIgARIgARIIJYE/lXtYllBYlyGXJPHjh3TwiDaRz5NWK5cubR35M8//yzI4Yn8lTCEsCO/pbkhF6etxXngAYqclhAEzb0az58/L8WKFTOvJk7byK25c+dO3ee7d+/qNidPnizw3kRIvjOG/JqvvPKKDslHbk+Ilz/99JN07txZ8uTJo6uAB2edOnWsVrd161arHDBuLIIEg0dmu1VT5Nhdf1nWYrD26DSvrHCG7Hp3762L8lL+snLg9iW9EFGRjE+O42QhVWafOm/YvlsXpE3hqsau6f3333/X9/O5556Tdu3amY5zgwRIgARIgARIgARIgARIgARIgARIgARIgATsEfAoj06Ek8OrEta7d29ZuHChIMwceTThqVimTBlJly6dIDz9+PHjOg/llClT5LPPPtOipb+/v4lFjhw5BJ6bWAgIgiPCu5s2bapFP4SoIx8m2tizZ48OAX/11VcF4pvhCYlwc3iJGnkzr1+/rsPdjfyYpobsbECA7dKlixZTq1SposPusYK7kSsU9cMrEy+M/eLFi3r7ypUrplp79Oih+4/8oOgTco0iJB1WvXp1HbaPkHrkAUXfFi1apBdQQgg7rFy5cpod+Jm/KlSooM/jR//Nc3Rezi4lasqlh3fkC7Xi+vOLPjadL5E5l1T0yy8T96/UeTnH712mhM1sUi1HYVOZV4tVl9/O7JLdN8/JzKMbdT0dij1nOm9soF8Qe5FflEYCJEACJEACJEACJEACJEACJEACJEACJEACzhLwUh6BHqMoYRX1mjVrajGzYcOGggVzIIghjP27777Toh4GPnXqVL3qOETI3Llza+9G5PFEaDYWDYLBmxOCJuqAiAgvzq5du+pFjnAeK7Mj5BuelghPr1Gjhl7wB20hPByrrcOwUjuERHh6oh7k8ty3b58+5+hH1apVBaIlPFQRdg4vTqx0PnjwYH0p6jVES/O68ubNq3OPhoWF6ZB5CJzmBjZ//vmnPgQRt0+fPoKFk2Dw1MRCS6NHj46xgrsuYOVHoXlD5Ubg/WhnKihhc2f7j0zH9itvzeYrv9B5ORGmvqTZu1I7d3HT+cDwUGn959ey9dopfew/lZrJuKerthuFkGIAKQCKFi2qRWp43dJIgARIgARIgARIgARIgARIgARIgARIgASebQKpU6d2CoBHCZ2WIzLybmJRH0tD2Dm8P7E4kT2D9yRWUocIamkQUS9duiTw/kyT5t+clJblYrt/7949vTr8w4cPtXeoo77Gth1cZ3igQiT18fGJS1U2rw2NDJfTATd0aDvyclqzcw9u6XydOdJkjHH6119/FXioTps2TXvTxijAAyRAAiRAAiRAAiRAAiRAAiRAAiRAAiRAAs8cgWdC6Hzm7moyH/DIkSN1OgKE6huLPCXzIXN4JEACJEACJEACJEACJEACJEACJEACJEACDghQ6HQAKD5PDxkyROfDtNUGPFBnzpxp6/Qzexyh+PDChdcpjQRIgARIgARIgARIgARIgARIgARIgARIgARAwFmh05u43E/g5Zdf1qug26o5vkLHbbXnKcfBhSKnp9wt9pMESIAESIAESIAESIAESIAESIAESIAEkhYBj87RmbRQsjckQAIkQAIkQAIkQAIkQAIkQAIkQAIkQAIkQALuJuCsRyeXtXY3edZHAiRAAiRAAiRAAiRAAiRAAiRAAiRAAiRAAiSQ4AQodCY4cjZIAiRAAiRAAiRAAiRAAiRAAiRAAiRAAiRAAiTgbgIUOt1NlPWRAAmQAAmQAAmQAAmQAAmQAAmQAAmQAAmQAAkkOAEKnQ6Q379/XwICAhyUSh6n/f39JTw8PHkMhqMgARIgARIgARIgARIgARIgARIgARIgARJ4pgh4vNDZpUsXadKkicyfPz9ebhxWUO/fv3+81O1qpfE51itXrkixYsVk6dKlrnaL5UmABEiABEiABEiABEiABEiABEiABEiABEgg0Ql4vNA5YMAACQ4OllOnTsULzJYtW0rz5s3jpW5XK43PsWbIkEG6du0qZcqUcbVbLE8CJEACJEACJEACJEACJEACJEACJEACJEACiU7AO9F7EMcO1KhRQ/LmzWuzFoigzi5Bb62S4cOHWztsOhYVFSWRkZGSMmVK0zHLjbj2wajP3ljDwsIkRYoUdvth1GPtPVOmTDJr1ixrp0zHEnKspka5QQIkQAIkQAIkQAIkQAIkQAIkQAIkQAIkQAJOEPBIj84FCxZI06ZNpWbNmvLBBx9IaGhotKEip+Zbb70luXPnFj8/P6lWrZps2LBBl1myZIlUrFhRv1AGhrqMYwsXLtTH5s2bZzr21Vdf6WPmP+7duye9e/fWbWTNmlUaN24stWvXlm3btuliEAW/++47KVmypGTJkkUKFCggn376qUREROjzly5dki+//FK++OKLGK8VK1aYmnI01n379kmDBg30OLNnzy4dOnSQa9eu6esRcm+Ma9GiRXLw4EGpWrWqPla9enW5fv26LtetWzd9rFKlSnL48GFT28ZGXMdq1MN3EiABEiABEiABEiABEiABEiABEiABEiABEogvAh4ndE6bNk3eeOMNzaNevXoyd+5cWblypYkPBMaOHTvKunXrZMyYMTrnZOHChaVNmzZy6NAhgVckclFevHjRVM+IESPk1q1bUrlyZUGdMIiH77//vuTIkUMgSpob2mjfvr0sX75cXn31VYEQ+uDBA4HoaJSdOXOmDBo0SNq1aydr1qzRwusnn3win332ma4KOTFxPURNy9f27dt1GUdjvXDhghZY06ZNKxBEp0yZIkePHpW2bdsKPDxff/11uXPnjuTMmVPq1Kmjx92pUycd5g+RFyIwrG/fvnqs586di7HwkjvGqhvhDxIgARIgARIgARIgARIgARIgARIgARIgARKIRwJeQUFBUfFYv1urhuiWJ08enTPzhx9+0HVfvXpVihcvLkOHDpWxY8fK/v37pVatWjJx4kRp3bq1LvPw4UPtbQkPTHhQHjhwQHuDQoCEsLl3716pX7++HDt2THtemncagiCERHOvTnhtvvjiiwIxs3v37rr47du3dRuTJk0SLGBUunRpXZd5ODg8LI8cOSIQKGEIaceYLM3X11eHoTsa66hRo2T69OmyZcsWyZw5s65m2bJlMmzYMFm/fr3mMHr0aL1Q05kzZ3RYO8RbCKmbN2+2bFayZcsmixcvlrp165rOuWuspgq5QQIkQAIkQAIkQAIkQAIkQAIkQAIkQAIkQAIuEHA2LaVH5eiEqImw9BYtWphQQAysUqWKaf/EiRN6G7k1zfNrenl5SXh4uD6HEG2EvSM8HULnjBkztHiK8HJnzFj4yBBScQ1EQgilyNUZEhKixUwImghdN7dcuXLp8HV4ccK70pohDP6bb75xONaTJ0/qtp5//vlo1eDmP378WB978803tUi7du1a7aU6Z84c+frrr6OVt7fjjrHay19qr22eIwESIAESIAESIAESIAESIAESIAESIAESIAFnCXiU0IlclxAs4ZGJkHDYo0ePtMDYsGFDvQ/hE/bXX3/pcG29Y+UHvCsRsg2vSOSvXLp0qZVS1g/ly5dPn9ixY4c0adLEVOjGjRvasxIeoMjbiXyZ5p6gpoJqA2Lm1q1brXp0ItTc2bEiDynESG9v67cyf/78gpXjEeJ/8+ZNSZUqlQ5tN++LvW13jNWoH4s2jRs3TpQXsfTq1UtKlChhnOI7CZAACZAACZAACZAACZAACZAACZAACZAACcSJQEq1mM+YONWQgBf7+PjI7t27BeHZEDwRko5QbHhxIlS8UaNGOrQdCwqhXMGCBXXY+erVq3W+TuSvRO5NGMLdEVaOupCrcvz48fo4fkCQQ6g38nauWrVKe4KifuS7hACJVd5/++03Hf6NayFswiu0c+fOAm9ReHEiByj6AQ9OiJEIj0eYOfKGIoQeY4Eoa+2FFdCdGWuGDBnk22+/1flBkYcUQuYvv/wigwcPlrJly4ohUiLPKML6ETbfo0cPEwOMFUIxcnMi9P7777/X4e4InUdYfcaMGXX/4jpWtAPDQkc9e/aU48eP6/vmrNvxk6v5kwRIgARIgARIgARIgARIgARIgARIgARI4FkkBLFytwAAQABJREFUYMvBz5KFR+XoROf9/f2la9euAm9KGPJJQoBE2LiRMxN5Ovv06aMX5kEZCHfwvES+yvLly+OQts8//1w+/PBDLRZCADQMoiRC2iF4mluKFCl07kssaASxDm2gLAxCaJcuXWTIkCFahMXiRAMHDtSCqFEPVkB/5513dP/N67W17cxYMWaMAe3BsPL6a6+9po+lS5fOVDX6fPr0ad1vCJ+GYdV65C21NIi5EHth7horFldC/lAwwsJMNBIgARIgARIgARIgARIgARIgARIgARIgARJwRMBZZzmPEzqNgSNMHF6PCBG3ZfBShMciRDuUtTSsTA4vR3hhwkM0Nnb37l2dcxMCozVDmDYES4SjwwMzNuZorBBSL1++LLjpEDGtjQXeqfCALVKkSGy6oK+J61g7duyoV6BHblHwoJEACZAACZAACZAACZAACZAACZAACZAACZCAIwLJXuh0BIDnkx6BUqVKyUsvvSRTp05Nep1jj0iABEiABEiABEiABEiABEiABEiABEiABJIkAQqdSfK2PNudQooBpBGIrWfrs02PoycBEiABEiABEiABEiABEiABEiABEiCBZ5MAhc5n875z1CRAAiRAAiRAAiRAAiRAAiRAAiRAAiRAAiSQrAg4K3SmSFaj5mBIgARIgARIgARIgARIgARIgARIgARIgARIgASeSQIUOp/J285BkwAJkAAJkAAJkAAJkAAJkAAJkAAJkAAJkEDyIkChM3ndT46GBEiABEiABEiABEiABEiABEiABEiABEiABJ5JAhQ6n8nbzkGTAAmQAAmQAAmQAAmQAAmQAAmQAAmQAAmQQPIikKyFzvDwcLly5UryumMcDQmQAAmQAAmQAAmQAAmQAAmQAAmQAAmQAAmQQAwCHi90dunSRZo0aSLz58+PMbjp06dL6dKlJSwsLMa5hDwQGB5qt7koiZIgB2UioiIlNDLcZj0hEeGqliib53mCBEiABEiABEiABEiABEiABEiABEiABEiABJIzAY8XOgcMGCDBwcFy6tSpGPepQoUK0qtXL/Hx8YlxLr4PQHgcvfN3yTvnXckx+x1pu2qy7L55Lkazv57ZJfnnDJacPw6Qbutm2hQzB2yZJ1m/7y8Hb1+KVseFh7fl9Q3fS745g6T4/OEyaucigShKIwESIAESIAESIAESIAESIAESIAESIAESIIFniYDHC501atSQvHnzWr1nDRs2lMmTJ1s9h4Ohof96Wtry+kT4e2xso/9x+e7YJvmwWmtZ22qYPAwLlt4bfogmQp5/cEt6b/xe3ihTX35p8rZsuXpSxu9dHqO5nTfOyi9nduprLb1Dh2z9SQ4p8XNJs3dlQs0O8s3h9fLj8b9j1MEDJEACJEACJEACJEACJEACJEACJEACJEACJJCcCXh74uAWLFgg8+bNk/v378sLL7wQTbDEeJCXs02bNjpkPXfu3LJ69WrTMIcOHSrr1q2TzJkzy549e6RFixZy79492bt3rwwbNkzef/99XXbRokXy7bffys6dOyVr1qySNm1aGThwoPTr108uXbokOB8VFTNUvGTJktKyZUtpnL+cnOs2SdJ5p9L1dSpWQwb8PU8uPLgtRTPl0MfmndwmOdJkko+qtxEv9e/Nsg1k5tGNMqZ6W1N/4Z058O/5MrRSMxm3Z6npuLFx5O4VaVKgvNTOXVwfGqvK7Lt1QW3XN4rwnQRIgARIgARIgARIgARIgARIgARIgARIgASSPQGP8+icNm2avPHGG/rG1KtXT+bOnSsrV66MdqNy5sypBcvmzZvL0aNHo53r1q2bBAYGSooUKeS///2vLF++XB48eCBvv/22fPXVVxIZGSk3b97Ubbz00kty+PBhGTNmjD52584dXReEVFy3YsWKGK/t27frMim8vEwiZ7iq838n/paK2QqYRE4UQth52ax5tMiJ/XJZ88mtoIdi7rU548h6uR8aJIMqNkaRGNa5RE1ZeGqHvPfPr9J9/Xdy9v5NaVOkaoxyPEACJEACJEACJEACJEACJEACJEACJEACJEACyZmAR3l0woPyk08+kc6dO8sPP/yg78ugQSo3ZfEn3ozGjUJOzldeeUXSp08fY5GiSpUqiZ+fn87dCdFz4sSJ2kuzVatWMmnSJDl//rxky5ZN5/VEaDvEzQYNGmgxNUOGDLqJWrVqyapVq6x6dPr6+hrdML0P2jpfDt65JMubDzEdw8b90EBJ89TjE/tpn24/UMJmWm9fuRYYIGN3L5WZDV6XNClj1otr2hauKpP2r5LJh9ZiV4ulz+csorf5gwRIgARIgARIgARIgARIgARIgARIgARIgASeFQIe5dF59epVCQgI0OHmxg3KkyePVKlSxdh1+R2iaL58+SRTpkz6WixshO0PP/xQpkyZInXq1JEyZcrIq6++Krdu3dJlli5dKlmyZNEh7QhrN3+1a9cuWh8+27dCZh/fIl/V7iIN8paKdi5b6gzyQImdhmEbIexZU6fTh344tkV7d+6/fVE+2vWHPvbx7iXRFjXqu3mOVM1RSM50/Vy2tvtAkPdz4v4/jSr5TgIkQAIkQAIkQAIkQAIkQAIkQAIkQAIkQALPBAGP8uiEuOilQsIPHDgghqD46NEjOXbsmGDhIXcZQtkzZsyoc3HCw/PGjRsyfvx4mTBhgvbubNy4sWzdutWqRyfC5g2borwsIUy+X6WlXnDIOG68F86YXZZd2K8XGUrplUL2qNyaedNnEd8UT25L9jQZlIdmXll76bBEypN8oJce3ZEMPml0Fcjfefyev6r/ZcmbLot+PZ+z6NMcnUYrfCcBEiABEiABEiABEiABEiABEiABEiABEiCB5E/Ao4ROLAgEkXHWrFna67JcuXLyzTff6Jybd+/eFXhjpk6dWq5du6YXKrp8+bJg1fQTJ07oO4mFiWAohzLGiurIyWnY9evX9SJGffv21R6cWHwIHp8IW0+ZMqUuliZNGqla1X4ezOVKwHzvn9+kZOZcUipLHvn1zC7tlflrk3ekvF8+XU/7otW1EPrFgVXStEAFmasWJ+pRso7RFXmrbEP9CokIF3h1NlzyqbynRNPimZ+IqRBHWxaqLIvP7VHvleRm0APZceNMtMWMTJVxgwRIgARIgARIgARIgARIgARIgARIgARIgASSMQGvoKCgmEuHJ+EB+/v7S9euXWXHjh26l3Xr1tV5NOHVOXPmTOnevbsONYcnpqVh1XRc//vvv2vPUOTZHDBggFy8eFEfL1WqlF6kaM2aNTocHuLm48ePtedm5cqVZfr06YIcn87Y4K0L5Fu1grq5YYGifR3GafHTOD5JiZwf7vxD+WtGSZXsheTPlkMlk+8Tj02jzOarJ6Tp8kl6F+LmzvYfqUWM8ur9A0oAHaTa2nXjnPYEbVKgnHzfsLdktKjDqIvvJEACJEACJEACJEACJEACJEACJEACJEACJOBJBODY6Ix5nNBpDArh5MivifyY8WFYhAh1w/MzVapUegGj+GgHdd4JfiR3Qx5L8Uz/hr272tZFtYJ7Jt+0kjlVWlcvZXkSIAESIAESIAESIAESIAESIAESIAESIAESSLIEkr3QmWTJs2MkQAIkQAIkQAIkQAIkQAIkQAIkQAIkQAIkQAJuI+Cs0OlRq667jQ4rIgESIAESIAESIAESIAESIAESIAESIAESIAESSFYEKHQmq9vJwZAACZAACZAACZAACZAACZAACZAACZAACZDAs0mAQuezed85ahIgARIgARIgARIgARIgARIgARIgARIgARJIVgQodCar28nBkAAJkAAJkAAJkAAJkAAJkAAJkAAJkAAJkMCzSYBC57N53zlqEiABEiABEiABEiABEiABEiABEiABEiABEkhWBCh0JqvbycGQAAmQAAmQAAmQAAmQAAmQAAmQAAmQAAmQwLNJgELns3nfOWoSIAESIAESIAESIAESIAESIAESIAESIAESSFYEXBY6AwMD5c6dO8kKAgdDAiRAAiRAAiRAAiRAAiRAAiRAAiRAAiRAAiTg2QRcFjrPnDkjlSpVEn9/f88eOXtPAiRAAiRAAiRAAiRAAiRAAiRAAiRAAiRAAiSQbAi4LHRWqFBB/Pz8ZOrUqckGAgdCAiRAAiRAAiRAAiRAAiRAAiRAAiRAAiRAAiTg2QRcFjox3Pbt28vcuXMlKCjIs0fP3pMACZAACZAACZAACZAACZAACZAACZAACZAACSQLArESOps2bSr37t2Tv/76K1lA4CBIgARIgARIgARIgARIgARIgARIgARIgARIgAQ8m0CshM4qVaqIr6+vnDp1yrNHz96TAAmQAAmQAAmQAAmQAAmQAAmQAAmQAAmQAAkkCwKxEjpTpEgh2bNnl7NnzyYLCBwECZAACZAACZAACZAACZAACZAACZAACZAACZCAZxOIldCJIUdGRoqXl5dnj569JwESIAESIAESIAESIAESIAESIAESIAESIAESSBYEYiV0RkREyM2bN6VQoULJAgIHQQIkQAIkQAIkQAIkQAIkQAIkQAIkQAIkQAIk4NkEYiV07ty5UyB2li9f3rNHz96TAAmQAAmQAAmQAAmQAAmQAAmQAAmQAAmQAAkkCwKxEjoXL14sRYoUkSZNmiQLCBwECZAACZAACZAACZAACZAACZAACZAACZAACZCAZxPwdrX7gYGBsmDBApkwYYJgUSIaCZAACZAACZAACZAACZAACZAACZAACZAACZAACSQ2AZeVyosXL0r//v2lW7duid13tk8CJEACJEACJEACJEACJEACJEACJEACJEACJEACmoBXUFBQFFmQAAmQAAmQAAmQAAmQAAmQAAmQAAmQAAmQAAmQQFIkkDp1aqe65bJHp1O1shAJkAAJkAAJkAAJkAAJkAAJkAAJkAAJkAAJkAAJJCABp3N0PgrzSsBueX5T6X3oKOv5d5EjIAESIAESIAESIAESIAESIAESIAESIAES8BQC9Oj0lDvFfpIACZAACZAACZAACZAACZAACZAACZAACZAACdgkQKHTJhqeIAESIAESIAESIAESIAESIAESIAESIAESIAES8BQC8SZ0XvX3l/DwcE/hwH6SAAmQAAmQAAmQAAmQAAmQAAmQAAmQAAmQAAl4MIFYCZ3Hjx2VIQP7y6utW0jHdq1k/7490RD4X7kiFUsXlZXLlkQ7brkze9ZMadOisQzs/6blqXjdv3P7tu472m7bsolcuXI5Xttj5SRAAiRAAiRAAiRAAiRAAiRAAiRAAiRAAiRAAvFLwOnFiIxuREVFSd83eoqfn5+0faWDPHhwX9KkSWuc1u8ZMmaQTp27SqkyZaMdt9x5qUlTuXL5kqxwIIhaXhfX/SxZs0r/QYMlKDBQenTuIPfv3ZN8+fLHtVpeTwIkQAIkQAIkQAIkQAIkQAIkQAIkQAIkQAIkkEgEXBY6L144L8eOHJY/122W6s89b7XbGTNmkqnffm/1nPnB/AUKSsVKleNV6ET4vLd39GGmSJFCGjZ6USIjI827E+vtkOBgSZU6dayv54UkQAIkQAIkQAIkQAIkQAIkQAIkQAIkQAIkQAJxI+BS6Pq0yV/K8CGDdIuTv5gob/TsKgP69ZGwsDBTL/q83k1qVq0gtapV1IKo6cTTjRPHj0mv7p2lXo2q0rtHFzl39oxlEZv7K5Yu1nWjfiPcHaHn2Mfrt18W6msvnD8n7Vs3l5KF80rhvNmlb++ecll5jjprr7Vvo+s7eeK4zjP6Yr1aen/mN1NNVQQE3NN9KJY/lxTIlVWPZ/PGDabz3CABEiABEiABEiABEiABEiABEiABEiABEiABEkg4Ai4JnTly5pJ8+Z+EeGfKlEly5cotufPkFXhIGta7T18ZOuJ9gdgYEBBgHNbv58+dlcYN6siBvXvkpSbN5OL58zJ+3JhoZeztVH++phQpWkwuXbooPXr10UUH/+c9Qc7NipWqSO069fSxK5cvSwblVTp2/ESZ8d1snUN03v9m26s62rm3Bw7WAuzdO3e0N+i7/xkuOXPlkjOnT+lyCN/v2aWjbNqwTkZ++LH8/McyKViosLzWvrUcOXQwWl3cIQESIAESIAESIAESIAESIAESIAESIAESIAESiH8CXkFBQVHONPMozEsXu33rlpQuml/+2XtIihUvYfPSgrn8ZOGiJVKrTl1TmcED+snyJYvl2JmL4psqlT7eskkjuXnjhuw6cNRUzt7GoYP75YW6NWXJyrVSu249LWI2e6G+7D50XPLnL2C69NLFC0qIXC/+/ldkz64dck/l4dzw9w7TeWwgdD1n5rSyadsuKVu+QrRzebNnkkVLVkrN2nX0cSy+lDJlSvn8q6ly8MA+gZfnuE8nSotWbfT5Rw8fyov1a0n3nr3l08+/lPQ+TmGN1iZ3SIAESIAESIAESIAESIAESIAESIAESIAESIAEohNI7WTKyH9dMaNfHy97J1XYev1GL5hETjTSrMXLLrVVoWJlea5GTfl5wVx93Q8zZ0iTZi2iiZz93nhdh5r/snC+XL92Vb2uCYRId9mpkyd1VaPfHy5VypbQL4Tih4WGSkREuLuaYT0kQAIkQAIkQAIkQAIkQAIkQAIkQAIkQAIkQAJOEkhQoTNLVr8Yod17du9ysqv/FuvzVn9ZpjxD4bW5+I9F0qfv26aTCGNf9OtCmfjlFFm5dqNMnj5T2nfoZDrv7IaPt4/cunnDVBxh94blzp1Hby5btU5uPQg2vW7eD9LtGuX4TgIkQAIkQAIkQAIkQAIkQAIkQAIkQAIkQAIkkDAEXBI6EbaOBXpgyFd5/OgRuXLlsqmnjx8/klMnT+hXZFSkzqWJff8rV3SZl1u31bkvsYDRlk0b5ePRI2XtqpUSEhIsqNtZQ7h4xkwZpUuHdlJU5eysU6++6dJ06dJJpkyZdT+PHj4kM6ZNli8+/0x7W17199flQkNC5PSpk7qfOHBBrSSPft64ft1UT41atQV5PREq/92MabJ1y2Yd/h4Y+FiqVq8u+fLll3EfjdLjQOj9kt9/kx6dO7iUc9TUGDdIgARIgARIgARIgARIgARIgARIgARIgARIgATiRMClHJ1YjXzd2tXRGsxfoKDsO/IklHvcRx/IlK8mRTuPnTx588rB42cFi/h8OHKEzPp2ugrxjpDsOXKoHJ71ZKnyymz0YmP5RS3q46x9rVZ9/+TjD7XHZuduPaJd9u30KTLps/Fy/36A5MqdWzp06iJYMT5L1qxy4twVmT/nR0G+UEtDPk54acIwzpHDhwo8ObHQUI6cOWX3zh1qgaMJ0u+dQTpP54C+feT4sSe5RX19feXFxk1lxMjRUqZceebotITLfRIgARIgARIgARIgARIgARIgARIgARIgARKIBQFnc3S6JHTGoh9WLwkKCtQenBBJY2thYWFy7OhhQc5OL68nCyWZ1xWq8mXeunlT8ubLZ37Y5W3UAUHWliFUHp6sWH3ex8fHVIyLEZlQcIMESIAESIAESIAESIAESIAESIAESIAESIAEYk0gSQudsR6VB11IodODbha7SgIkQAIkQAIkQAIkQAIkQAIkQAIkQAIkkGQJOCt0eieVEVxUeTLHqtB3e1a/QSPp/npve0V4jgRIgARIgARIgARIgARIgARIgARIgARIgARI4BkkkGSEzqx+fiqXZme7t6BAHELd7VbMkyRAAiRAAiRAAiRAAiRAAiRAAiRAAiRAAiRAAh5NIFFydHo0MSc7z9B1J0GxGAmQAAmQAAmQAAmQAAmQAAmQAAmQAAmQAAnYIeD20HUKd3Zo8xQJkAAJkAAJkAAJkAAJkAAJkAAJkAAJkAAJkECiEkiRqK2zcRIgARIgARIgARIgARIgARIgARIgARIgARIgARJwAwEKnW6AyCpIgARIgARIgARIgARIgARIgARIgARIgARIgAQSlwCFzsTlz9ZJgARIgARIgARIgARIgARIgARIgARIgARIgATcQIBCpxsgsgoSIAESIAESIAESIAESIAESIAESIAESIAESIIHEJUChM3H5s3USIAESIAESIAESIAESIAESIAESIAESIAESIAE3EKDQ6QaIrIIESIAESIAESIAESIAESIAESIAESIAESIAESCBxCVDoTFz+bJ0ESIAESIAESIAESIAESIAESIAESIAESIAESMANBCh0ugEiqyABEiABEiABEiABEiABEiABEiABEiABEiABEkhcAhQ6E5c/WycBEiABEiABEiABEiABEiABEiABEiABEiABEnADAa8oZW6oh1WQAAmQAAmQAAmQAAmQAAmQAAmQAAmQAAmQAAmQQKIRoEdnoqFnwyRAAiRAAiRAAiRAAiRAAiRAAiRAAiRAAiRAAu4iQKHTXSRZDwmQAAmQAAmQAAmQAAmQAAmQAAmQAAmQAAmQQKIRoNCZaOjZMAmQAAmQAAmQAAmQAAmQAAmQAAmQAAmQAAmQgLsIUOh0F0nWQwIkQAIkQAIkQAIkQAIkQAIkQAIkQAIkQAIkkGgEKHQmGno2TAIkQAIkQAIkQAIkQAIkQAIkQAIkQAIkQAIk4C4CFDrdRZL1kAAJkAAJkAAJkAAJkAAJkAAJkAAJkAAJkAAJJBoBCp2Jhp4NkwAJkAAJkAAJkAAJkAAJkAAJkAAJkAAJkAAJuIsAhU53kWQ9JEACJEACJEACJEACJEACJEACJEACJEACJEACiUaAQmeioWfDJEACJEACJEACJEACJEACJEACJEACJEACJEAC7iJAoTMOJCMiIuTatWtxqCH+Lw0ICJD79+9LeHh4ku+rO2lERoj8PjVUwsNs17p9RbhcPB5pu4CNMxHhIjcvR9k4y8O2CFw9Fymbf1fwEsluXYkS3DtPsdjOT08ZX0L101333ZnPlIQakye0k9jPuycwMu9jbJ93T/n/yFP6adyTxH7eHwVEycN7nv97hqfdd+P+850EkhMBT/xbEH9jz5kzR//9mpTvhaf00x0ML126JKtXr3ZHVYlex4YNG+TMmTOJ2o9nae7YAu0uLW3//v1i7eVRQufdu3ele/fu0rlzZ+nSpYtcvXrVFje3HZ8/f75ub/jw4THq/PHHH6VevXpJ+kN4yJAhMmLECNm6davUrl1brl+/rscBAXB4iyAZ/GKgBAfa/2Uav3Djl1Vbhroe37dfh61r4+v4uoVhMmdcqETZ0DHxB8SYjsFy45KNAnY6tmhyqHQs8siqiGqPxaGtETKoUaDMfD/ETu32T43tEqzriE2/7dcc/2enDg6RHavsTKR47AKE6VfyP5Itf1hvP+BW0pq/cZmf9jDam5/2rnPXOXc8A+Z9OX8kUj5/M1iGNA6SYc2C5MRu9Q2HmTm670bRxd+EyaCGgfJZr2DjUIx3R58pMS5w4gDmHfqOtvHZ4InPta1h2nvecd/efeHJmK9fdP0z2FabzhxHvzRvxXzNPDvfhDlTmRNlnBmrved9/c/h8lGHIM0L8zPUYora+//IvHvOzHHz8u7edraflu06+5nh7s+22D7vjn5fshyfrf3/NA3Sn222zieF4878vxnb++6u8QU9ipJFU0JlwhvB8se0ULl7I+b/9VHq0PJZYbrM4ulhApHb3DC3Dm+LkPmfhsrK2TE/M66cjpSfJ4XKws//fV066drnmqM20B/U+f3oED0vti4Nl7BQ8146t33vZpTM/ihEvugXLPs2RB8ofs+Hg4D5OLYts/47k6PWUNfa+WGCz9vxPYLl9tV/ua/6X1i0NtDe/k3R+4J2pwwKkW9HhMjp/dHPGW3bawP3EHVOGxIi88aHyqUTMe+HI57/rAyP1k/MZVvMnfmcN/rt6ru9z7a5n4Tq/892rbF/n2z9LehKX/A3eELa8uXLZerUqRIZGfPexXc/XBlrYvbTFoc9e/ZonWTixIm2isTq+H//+1/ZtGlTtGvhSPXw4cNoxxJyZ/r06Vqn2bJli9PNwgFswIABJh0pNnWYN3b27Fnp2rWrvPfee+aHHW67Onfi2k+HHVIFDhw4oOcO9DaIkPFt7tTScubMKZYvp4TOP//8U4oVK2Z6Va1aVXr16iWXL1+O7/FHqz9z5szSp08f6dmzp/zzzz/aUzFagXjYadCggVSsWFF2794do/YyZcpIp06dxNvbO8a5pHIgY8aMYrzQJ2zDvH1EGnf1lr3rI2L84aQLmP0Y1TZI/vwx5i93RpEV34fJ6Fct/voyTibS+6LJYdLqLR/xSWW9A/ilNkcBL6ne2PV7V6xSSnm5j49maFm7PRZFyqWQPIVTyPFdsf/gaNPPR/ZvjJBHAZYtJ+19/7OR8o/yoG0/0DdROppOTfumPXyksLoHlnb/dpS0yvFIMf33F3HLMgm9H5f5aa+v9uanvevcdc4dz4DRF/xxOrZLkGBuNXzVW6q+kFJSpfUyTut3e/fdvGDN5iml9HMp5eDftp9NR58p5vU5u53Rz0te+4+PtB/kq5/rh/ecvTJpl3P0vOcu4iWdhibOmJu/7iMdBvvq//es/fHrbrLOjNXW837hWKSMU3M8R/4U8lJnHylUJubnl73/j8zH4swcNy/v7m1n+2nZrrOfGe7+bIvt8+7o9yXL8dnar93KW2q1dP33E1v1ufu4s/9vxva+u6u/faoFahEyb9EU8teCcOld+bESTqLX/oMSD2cMD5HM2b3UF+QhMnlQ9N9nf/s6VEa0DJLF00MF4pel7Vn3RASFsIbXgc0RLkf9OGrj1L4I6VHusfr9MVL8cntpsXP6UNe+NIf4N7BBoPrCOUJSqI+SIY0D9d8AxnjwO9DkgSGye224HgfGgnZdNcyNd+qqL/XfC5EsObykcTcfyZbn3/+bJ70VLIfU/7X4XRivX76MzhVi7qh2QZJS/Z2CunAPD26J3g9Hbcz6QNWh/nZJl8lLf4HYXbEzF1ud4QnxevWcMBML/H4QYsMxxJnPeVc5GuXtfbY1eMVbbqpopWvn7f/+avwdaPwNaLwbbTh6v3fvnlSrVk0ePHjgqKjbzkMAgWOTr2/C/t3g6lgTq5/2QJcoUULy5csnBw8etFfMpXPw5oQXJDQYc/vll1/k7bffNj+UoNtNmzbVEauuaFI///yz5MmTR+rWrav7Gps6zAcJ1uXKlbOqFZmXs9x2de7EtZ+W7VvbL168uLRs2VI7yEHEjm+Lby3Nqd+iMBHguRgSEiK9e/eWU6dOyffffy9t2rSRjRs3msQzAwa+fUmB/0XjYFCRU6ZMGa0G1Im+OPvtjqN+WGsjWoNqx5i81ly1a9WqJXjZsyj11zheceVhrw1757JkyaKFWLzjP4u0adOaipev/S9f/OLnpX4PwcvS8A0mvhW3ZeGhURL00PZ5W9dZHjd++Yzj1JEj2yPkzMEI+XRZGssm9D5+2cO39l3e87U6XqsXmR2EoIKXNbPHIn1mLylYOoVcu/Dkt2z0I4X1aqxVrY+Vq+niBTZrenIC3xRD9LZnuC+27gnmhs/T30Hs1fX71DCpWD+lFK0Q83PBqEPffzWNrDHBN/cpHXxawdPJN7X1keCX3ZH/s34S7cOCHomkz/xkO7Y/7fXBsk5bY4rr/LRsx3zf3vw0L4dte/fdvKytcVg77o5nwGgbodFnD0XKjO1ppayN58LefTfqwXuuQimkZNWUstmGx6+jzxSjLoiveFl7XqzNDZTDly167huV2HjH84Xy1p4P4xJrzI1zeHd0HmWs9RPHDXOmDnvPO+pJrQTp55vZfqCdnXtGn6y927oX+AzC6//tnQeYFMXWhosMghEDGFEx56yIioIRE6igGEAxgeg1JxSMoCCYMSIqRjCgIoqiYkIx5yzg/THDVcnR+es9a832zM5098IsCn7neXa7p7u6uvrtqg5fnzr17L1zE6//SeVgfbH7ZihT4rHG3I/wakLUOKVfkS92fidx96NQBqZJdTyadkHmk+pn2nLm7zvtNSPttS1N/U3b3vPLyu+k56VC2xRadvSFyS/3Sc8QaY41qb0XKhvL0t4305z3pHbG/pKOlTSFrI5/5O01bCm35obV7WNn29Wm2Uel8AxHvk/ePtd1vKi2a+8/vqy+XnUT+7r2da7OX4+Qh5/t151Z293khcVf/q/s+S1/X023rO76PF34mTM/baHfSfugnJs3r+H6jqhn94BlVqhmnoqnXlsn8dko7A8Blo87D4+rb9eDH8ZlvCfrHH8NyS33JQ/Xc+S/oIZwOcGHhRr43lJu1XUqPvOdcXNd17pzLbt2cp0+dM1pbvu9y+8H8/wzWbf+dbIfxvG8fP4B/wy5a/nzb9I+CJO0zzG13LE9y9oRwioOG8d0L/udlmfbbrXdQScnPCR7UEnX+QVlyXZx1zbqdfRcFWsnce+Caco2Z07Zg/KMGTMqvPPnb5/07p2fvtDv9957z33++efujjvuKLQ6u6zYe3yaMhRLU5ljTVvObIHzZoqVP5osKU2h9QjZOKhNnDjRsiqUJroP9J06dYo/Z5CWMAI77LCD23DDDaObOnhNnz49Z1mhH8V4F0pbrLwIb/nOZeuuu67DES5YsW2j6wcPHuy6dOnir0Fl17nK5hHyClPYbbLJJu75558PixKnSXWnFMeadF4L7aN+/fpuu+22Syx/2gRJ572qtbTyO0tMiZdeemkT/PiSs8cee9jfQQcd5Pbaay937733um7dupn4SCPgNw0LpRxvxxNPPNENHTrUhFF2wdcZvEGx//znP+7TTz81QfOMM85w/fv3d2uttZarVauWe+GFF6xBXXDBBW6jjTay9Gn+4W7eq1cvE2BpeDRIum7vtNNOtjmi48UXX2xKNeXcaqutXNeuXd3uu++ezf7rr7921113ncMVmQtF/v6Jy3nsscdal3VcZO+///7stjSwQw45xHEzaNWqleNLB/xgdOihh+akGzBggBs1apSrV6+e23PPPS3tsssua7xCwo8++sgNGzbMoeJvv/32YXHqKRWIi0KjRo2MfaEN6eLNV8tlV6zmOvWo7T09y27q33/zpxv77Dw36fuMfdGsVq3sRodXCS/nPOiO9C+L73kPQ76U8kUaq1OvmtvfezzyUk53zMk/ZizfUQ/Mc3RTRFA44co62S+8//eV747jv77yVXyu/0DNl9FlvafTDaPLRVnypVvqc/fNc7v5L5jRBx7WRY1ytDislr0gRpeH+Vcen+emT8n4h6Dc6k8sP7qVI5KuuYH3vvQPaHQP2vPIWq7jxbXtC/05+81w873g0NB/nb7+xfLypWER9k/XoQsPnunG+m7cW+9R03W9po5be5Pq9gB60SEz3YqrVXf9n6tnD+P9us6yh8ErH6tnD+ohj0/fnG/dj+C5/lY1XOfLy3mGNMWmPFjSPenhfnPtoX1V7+nQxAuwPDB16VN2o6NL2oCzZ7s3RsxzM7yIve7mNdzJV9Xx5a2R/eK/9PLV7Gt8swNqWiwxzs9RF9QxVtF9s/0z/gGz+71lQiOhEk7ZeUZZ139/j6HbV5uutb23xVxXt341d8Ggum5LL4rywIaXxetPzXM/eK+91dev7ijXoA/qu5VWL7s50eUTrwbO6Qx/TtfydfPUa+u6bVuVPxBfcvhM980HKBLOXeof4KNiK54Ln7xR9uLy5O1zsg+MzQ+q6Rp771uMh+OH+83JCd+wtH8J4BzVa1DNhK0nbp3rHrh6jtVvPBh4OOZFFVGKl7iTd5xh5aMurbNZdXf3ZbMdXZ0OO712lnlgVqh+JrUjPCBGDy378nbIqbVdm1NquS7NZrip/8sY05tfXcpeFOLaKvuPO++sp52OfmSewxOx54N13bWnzPYeIfPcGv7cDPCCIw/7n42db3UEjwn4UGe4lgz6sD5ZmBVrA2F90pSubnijY3QnrO3f09j3ObfXzQr3ceed7cZ/6st0yWz3nX/xo/6vu0V5nWF91ApdU3hx6uO7zTvfni7wIvqrvg7SFRrh4PJH6tlxp6mf0f0Umv/inTKeX/opYj8vhLwoBg8ZvCf7nTzLfe3r+KzpGbdLm1ruxF61XaO1yl8wX3x4nnvMeyN9+sZ8u7bi+dr+zFpWT9lnUjnTtMVQ9vz2HpZTtoE9fRdFf7/gg8KBJ1YUchCYBpwz27yIOJ/b7lnDv/DW9feFjDv/gJnWBhHsrnm27MUcsfI+3y0RO/K82u7xW+baR7nm3hvuqTvnugb+A8cxXsDAizOtJbUB8qFbM3WQGM94ge3bqZbrfFn5S0KaYw3lKdTe2b5flzIOs3196tl+piXfYpca2XNGWIZi96OQd2XqeNgmTLkXTfBtpJqvRtRn7vu/+meBs/cpuwci7FzyUD2XVD/TlDPp3kuZil0z0t57k9pAOG6mhdp70jU46Xkpmn/cPN1677+qrE4jBh1xTnk7Qaiiy/HqTau7mn7xGH9v3GI3/wzRt45rukV5e0+6Bse1d64jeBHjAbndXjV8XZ9nIYDwMKUsXIPS3DfTnPdi7Z1rW9pjjWPJuoHvld93uO7wMZRnziB00kZo8zzHYDv76dWdZ9mzDc8hmH3MKH57sDT8m+Lvt7N9U11ptbLnk+yKFDNJ+9hwO//s9VL5M+cKjapbm6DsfAxJY++9NM+eP7iGYhwz98B84x724/g/zZOc810Zoz3yPNTqiJoFRU7y2v/48usxdWCGdxIMrFl/8tXl11J+r9Coml2LmMfS7IMP+LSRYPTuwgs0WFqePC8TUoYPLvWXyeVcmet82G90mnRNSXttI088Xof6rvW8r3E/4poQ7dGW5l0wWrbo/KuvvuoQZbAHH3zQ8Z6K8d66xhpr2DxiRjENIN9pyTZI+HfXXXe5/fbbz6288srZlP369XPPPPOMQ7S9/vrrXY8ePdyYMWPc2muv7R555BF7l6acvXv3dp988on9bt68uevevbt1ZyWjpHKmOdZsgfxMoXJG1xebp3vwpZdeauVEWEKj+O677xw9aLE0WkVSHuQzefJkd9JJJ7nRo0ebY9aFF17o8NjD2McDDzzgbr31Vvf999+7hg0bWnhANJH8c4aegpbDOQg2d+5c99hjj7k333zT/fzzz8aCdXXr1jX9Jzh4xZ0Tzkfbtm3dtGnTHLrSBhtsYOEKvvzyS9OK6ApOOalbONihv6y55pqmzSBORruKv/XWW+7uu++2EH3oLehHhbyBn3vuOdtfmzZtwqFkp8XyQNvi74gjjjCHP0ICkA/OcOwzaqSjniIitmzZ0noi5/MkfaG6U4pjpVv+lVdeaeWDKzoWuhfhC7G0+7DE/h/HRxhH7OSTT3Z4YKLZcR5wPqT7PecRzQvNLxxr3Hknr1JoaeSTZOVPRkkp89Y3btzYPDrHjh1ra2666SYTGFGBaTRcXLgQURlowIikm2++uWvRooWJgAiC9P9HhEOMZDu6iCNwzpo1y1122WXu119/dbfcckvenov/pFJ17NjRcaFCiLzmmmvMg/Hoo4+2AKVsyZcHYntSWalkCICXX355NlMuNHiqIjAi6uKqHW3YJFxppZUstgMVmMYYNU4wQi4BbocPH+5OP/10R1f/Sy65xDxiQ1oucAid66yzjoNl3759bRu65keNCzSV7Oyzz44uTj3PjQgRFzGVm0Ih42EZ4XGDbaq7a7vNzsae5IvsS1484eFt3Md/mpjESxkPoBg3eV74WMeDM+v4G+2/pLIO63BubRPwLuswy7oGb7JjDYuTeNL2001sJM21p8yy7Qe8vpTr+0w9e6jkpSbf+vruLsRautLH+ylmPFxThnan1yqWxF5ieNBCVAtm4lvzGf4lfJ4XyWqacPtAnzn2oES3WIyHrU4X17GHQ0SqqKVhEdKzLbFDESt4gHrQ7wfj4XPH/Wq6cR+V8W3ixU+8DHjgjHa5IS1df2b6D2hb+pec17zXz0k7lPNkfZwRZ+jG02ebsHn2bXUdXqKIiSGmFJ45Z+09w73lRcDDfJfa7vd4Qc+/K5y55wyHwLpvp5oW15UX4JO8+IkYTIxWut/y8o+wFzWEQkT08CKBgHGAFzl4wUC02ckf85Br59j6Vb3IzYseRiwsunSee0ddN/jz+m6zZjXclMkZN+2veLA8gF7kuzfx0kX9pe4gTp/rxWhe1oK1PaW2ia+IpdTTqI19dn62K9rbz83P1mHE12Bfv++7iq3qz4UXuxFNeJFhPfvHhvn4jv29IN3C1xNeRA72ou2gS2e7e64oO6/VPafjLq3tQyVUN+8JXqJ22Kem8Yo+iJblVvaSnV8/k9rRHu28d8RfV/MdfTds7CAfuoFzuk/Hmm6OF4qS2mrSeSfPlofXcnu0r2le0912mem7inNsdazuIobBhfiHcD7ei++IT2+NnG+el3zECFasDYT1SVPa4io+9ATGC8iK/vzwcgnrYHHnHVHipO1n+I8nf7pmrWs6PFsQcQtZsWsKYRA6+2OnbV56+CyLP4vXD+IAbSBt/Sy0z7CMtn9ai5lexPXd9IfWc2fdUteut+e1/utDgU/4y38z1j0Pr7+LBnvhyX9wGO7bTTBi0l3Zcaa1tQe+qu+Ov6KO+80vCy99acqZ1BbDvpjmt3eWsY+zfQzVJ7wQuf7W1e16cMXRZeId67FvPiyrO1wbz7uzrnncf+o/QpzuP5YtvXx1t4b/+ATXw8+qZR9BEFS33r2m29yLf/Q42Np72XPdR3x8wQu7nBt6LVx36uzE8CxlJfCeMwnXvpAOAXCLXWuaAMg5v9e3dcqPpTnWkA9TRLX89l6jVjX7mMN1E6N+87fsiuUVPO5+xDaVqeOkz7edfLvg+sHHmEZrVbP7d0Pf7hC7WL7LwbXs3pRUP5PKmebeS9mKXTPS3HuT2kD02Iu196RrcNLzUnQfcfN8GOJes/wq1ezDWTQtH+kIscH9evaMsmeI//30p//YU37tSroGJ7X3Ndar5kXAmrYPPjogqnKNvaP7bHeN/6CCpblvJp33uPaO0JbmWKNs0sw/PXCutfFd25Srd/DDguchHy6WWrqa+99Puc8KSfnzXHzAitPcIatPc8duMd399FfPnaTtFmQ95/DxAXPcVi1qpBY52Q/HhIAdbLV1q9l9AM/fqLVrMs3HoZ/uWq8wzd4BouuS5n8cV/ac9f23Gddh/enm7EDPi2LGO8b2e9fIfqDMT8fHfN5RWh5R/kyfZh9cU3l+5L5ObGPuC+FZPn8fcTyvP22WO2yt6W6/5aaZAE5ajGnSPa0sZfH/SdeUNNe2kPvLj811u7Wtac+oeOm+Myr3pKZ5Fwx55U9ffvllcx5iOe/XCDz8TZgwIZs0TgPIJko5gwAycuTIrFNU2OyAAw6wLrXvvvuua9eunb3X8o6N2ITQggco7/bMX3XVVSbKILYwpgeebVhSOdMcayhPsXKG9cWmcMPpC0HqrLPOsnLC9YsvvjCNgu2StIo0eZAPPXDhgaaC9nHbbbex2AzxCgEMQRnBkxiTN9xwgzEKacIUkXOFFVYw4S4sw6HrySefNB2EYwn1gh6wM2eWPd8lnRPEUM4hznF0J0e4pAcxGk4QKenejU6DsImAt/XWW5tWNG7cuFAUm1Jn9t57b3MsI6/XX389Z334gfbTvn37nB6uYV2xPFq0aGECe+gev++++5rQ//HHH4dNbTp+/HjTvSgrWhH6ETpOvhWrOwt7rIiYeKoyLgu6EfkhSMLzs88+s2Kk3QeJ0eoQ1Dm/tCOc7po0aWKiOXodHxVwUMSDGM0tHGvSeSfvUmhp5JNoHkoq840h4z0wc9J6ETLjRbSMB5HZbLPNMt5rMWe9P+CMV5IzXrjMeK/KjK/Mtt57gmZ8pc34xpfxFTbjK6Mt94JexoudGf/lwH4/8cQTGS+O5uTJD/bnv+Bk/EnLWee70dtyr6Rnl3vxM+PjimT8F43sMh80N+MbZMZXQCsHefmLhq33jczK4C+K2fSHHXZYxlfy7O8ww/68iBl+ZqdeoLVysA+M4/HxMjL+Qma//QXAuPjGZr/5x7FTDq++Z5cx4y9Otjywy1m5kD9++m5+Zhc3JfPmM3Mtp6m//ZnZrcaUzAcvz8vJuUuz6ZmH+5fzyFnpfwy9bnbm5B3Lzln+uvk+K/bR54SZ2VXffVG235Bn9zYzMqftPt32O+Gz+RnK9crjZWXKbuRnfNwky8vH5Ysuzpm/9bxZmZN3KlwWEn7xzjw7xh8nzM/Z7rn75mR2qz4l47slZZefssv0jBf8sr/DzBsj5mYOWGlq+JkzjWNBwgf7zs7sv+LUzJxZZZs9fdeczIErl+f12hNzMwetUv6bVPsuNzXz3otl5yTwvObkcgY/jJuf2bXalMxD/Yqfo7K9lf0n/3P2zT2uXp1mZi49oixPjo9zNvqR8nMwz89SzgsPLtvuuC2nZUYMmmMZUr7hd87J/DHpT9tu4tflbH1TzRzedFqF+vN/X5XVgZnT/sy8/dxcKz/1zz+8Z8gbe/6BOZl9lpmagcnXH8zPzPbFY1lgx7mknNQjzid/4z6en9mjzpTMdaf+BdhyKvu3Z/2pmfdH59Zt1vz6fVm5o+c+slnmhYfmZllQB/dqMDXzyZjyfNqtPS1zWovp2TJQjjP2nJE5qFHueaRMrVeYanUwmn90vlj9DOc9rh1ZHfbt9/tvy/jfev6sTOetc9tCXP1Mc94p64evlHG//+qK9e3abrOM/x+Ty9vRa0/Ozey51NQMdQhLagMzpv6Z+fLdeRX+qANR+9/PZeeN60mcFTrvVx8/09pVqEtsf0rz6VZX8/NKuqZwnjn/1OWoVaZ+0k6oy/nHeMu5ZTy/er+sflO3OIek/fDV8jrINeCJ2+Zk7rhoVub0ltMzx21Vfh+hXVFnB/aYlfn8rXlWPz5+fZ61FcqbppxJbTEcd7H2ThunzK8/VX5NGXp92XFwbFjvY2daOaMc/cuabcf+xz4719bP9Zedu3rOyhyyxlT/DJHJcC3se2LZtWvyT2V14tVhZfshrz1qT7FrTChjmF50yIzMHd1zrxNp2wDt8ZM35mUG95qdueeK2Zn9lp9q8+Sd5lhDGYq197DeD56S6bhZ+bkMy6PTYvejytTxaH5hnmPkuLj+jvuk7HrNdc97cNs9jHOdtn6SZ7Fyprn3Jl0zyD/u2pbUBtg+WLH2nuYaTB5Jz0thP0lT2kP/U8rv8yH9IzfMtmtXaCfP3+/vk8uW32uSrsFp2rv/KGbt7u3ny68xPnal3af9x1krStJ9M5S32HlPau9sn3SslKXQveLH8RXvCdy3eDbwvSlC0Wz60tC5do2ILuQZyffwiC6yee7/3dvmPjuxgmsB19dvP5pv1zieCaLnrjLlLLaPaGEGnDMr06relMznb5efnzT3zR7tZmSiz8/hXk77wLhH9+syM8N59z2b7Hnv4MZTM9R9LM0+3ni6rO5wX4Q1169jNi18DeP63Xa1qZmRgyuyZn/T/vjTtj9+m+kZ/0Eka2n2wXMB168WNadYXe62q79HTy87zmxGf80U4skqrik85078Zr49t3APC8+QlbnO5+8v/E57TYm7tpHXidtPz1x1XPm1gud7rgOlND+Qrb2LeoGmQrZpNIAKG8UsuPrqqzO+Z2TBFN7jzsrhHaoqrD/nnHMyvvtwVkMgAfoC79ZekEulVbBN3LGyPlhcOUOaQtOePXtmvOdixscCza72vTsz3lMug2YRLE6rSJPH7bffbhpL0DO8WGl6SMjfC4oZLwxnfO/W7J93DMv43qMhiU05v2ggAwcOzFkefqBleK/M8DNnmnROQmLvDJbxPWwzXjgMi7JT7wiX8UJd9jcz5Hvaaadll3kHtYwfNDr7m/QwyjfyR5fimPMtKQ/vxZiTJ5oOGlYw6hh1zXsZh0UZLyzbMi8yZ5cxU6zuLOyxcnyUgXMVzqt3yLP6BmMszT58z2bLp1OnTqbz5Zc/HKsXVC1P/vmBwzLeeS9D2rTnne1eemnBtDS2jZr/qJHxnskV/so/ayZKohUT/P777+ZW/ssvv5gbMF3Zo8YXJL4S4BWJd+RFF11k83g7ovbTxZuvLHhzBsOlOsSRRIXmi0Fao6s5HpXRbujhdwjIi5s7Xp8o0HiYcgwYbtkY3dbxRg1fElgWjoP5yhgeqhjHg3Id9oGLt79wWNf8kN+OO+4YZnOmfG3hawfd36vK8BDA+Gq/nPcgiYvHuaBl2CXyBZ1u4XTVxqMP69ijjgUNP3W3snNd03+4JVbSLgfnVs/TrqvjvXRqm/dSoXLgGcIX3DMHFI7FyDYMMEC+0W6dLP/pu4yjC3foEs0yvpYT+L3UhqdC8OTj6zqxIStrdK0ORhdruq0xcEWSEWwe75Zd/ZffqNFdHI88jC/f1X2VwKMnGN2X+E2XuHwjRufKa1Sz+sM6vDGCEbgfLwK64BWzmrXLPCiof3Qto6smhpfiM3fPs27+fD2ny9mm3quTbqm16lSzcpKOUTX5C0YXMP8AGX4u9BQPRmxgj9nuKd+9vc+I8piQc/1u8br7cbxz7ZqUXUPCDulOBlNYBoM7oRuKWbH6GdLHtSO8Le/yXYMJoH9S7zpumPee47ymtcqcd7pw4Y2Qb//9Yr55GUdjRtEV8NkpDXI4xLWBV4fNc1ccHalEkZ0M+7GBeVZHFi3QLNee7faskW2HZEKbeuK2ck9IlqW5ppDuqAtq53iIswye2MLUT/KgjjGARtRoC3h7YJcfNcuHLZjr6IrHtRUPUzwTg9GuOl9W29ffOT5kQpmXMV5LdDte2ydKU86kthj2Vay9j/Ne7FwnonHYuA4zqm4wykHIiain/Va717Dugv/nPQgJi4HR/X7M8PmO7s5fvjvfQhiEkBshr3BPIy+6eM5IeY2lDEnXPu6Px24xwzzL8RjF+4vrU7hvpjnWUM6k9h7SLcg0bR0vljcciKP69vPz3UqeC9dV2ib3Z0LXeEcMqztJ9bNY/mF52ntv3DUj5FVsmtQGwnZp2nvcNTjkU9VTnp9CO+G5JdQ99pt0DU7T3smHazzepcEIGUSIlO8+n+/v9+XPBmF9ZadJ7T3kF3esXsxxxLHNN7y8b3qlvJs3cSkJF8SzA70yosa1kC7CPLeEGN/0GmF5WqOnEn8YoWnwqmU07FOvLYuBnracafb3uO9BQs+Zng/WcxtuW35+0tw3Oaaf/bNusKn+eZD2TCxrjOe86PPzf26o670Zp1l4Gtp8mn145zEzup8TI5P7Kh6ueHXShqPGSPaT/fPhjgXiNXNOevhBTul5cPvbS2XjpbJ9mn309WFl6D1AuCK693f14ZII14S3dNSK8SQNvZSCEUOVGN6MJE83+8pc50MexaaluKZw/w+Wf00Iy6tqmkYDCN2lk8qANoA3Hh6IxaxBgwbWHTt/PRoA7+9BQ2A979akx/tvUZczv3zhN+Uk1mU0riQ9ROlJGrr9JmkVafJgf/SYDXpGVFPBYxTvRP7CgDyhfIQLQKMIZfFClPWwxYu2spZ0TqL54Y3JgD5RozfwpEmTzFMzupzewpQxamg6waLHGpYxxZsRTWe11VaLLs7Op8kjm7jADHUtquegi+FdjO5F712sWB0vxbGyH+yKK66wP/vh/xGLlF7PldkH2+I9HcZ4CXmFKccawkKyDG9PQlBShsqc95BfsWkxLa1Y+vzlC/y0AjDiSyJgIuLRkBiZHNfyYO+8847BpdFQqQBMYGEETgK24jYNJGJylsJwX6fiv//++zkVjROFWzRG7E3iFHgPSvuNmzGxK4Jx4QnuvWEZ+ZXSqOx02ce9m1gHGPEcChlxRojRiZs0XeD/DuOFZlaM3kyXWe9tF1u0z3yX5/AwQ/djHgSDWEcsv0EfLGUPI3/4dTxMERORbtN0fwpGuhCjMzqQUlj/3OB51pWWB/JChuD24sNz3bWjyh+AQzq6Z1Gm8DA23z870yW7YePcB7OQvtg0DYti27KcmEI8ZIeHbsocfYkJ2/KyT/dnjG7jxBkMXcNDGuLXIaPJDn4AAEAASURBVBAQszFw5IGWFxgeMOnaE4z98TCIYNnYd6FHoKObOmJvMLYJ3YXDsqQp3eSJj5cf2yhpO9YzGiddvi8aXNfivHJ+enWa5eMgzrPg8Cv5WKbYjS8vFRuz1RLF/KN+Y2V1uLy+lS0t+099JJRB7yfqGRNEROIgMVgB8SpbHu7jJt6UXlSM5h3m4+pnSBPXjhAmGGCLrla161azc5n/sSCufpbivK/iu+fTfnlJQdgKxsBBDPKQxrZqUdOdN7AiS/8Ny7o8p8kjKQ0xgKPhDUhPfc+3pGtKfvro71LUzxV9d3zi1Q39rkHBASdos8S2pat3+JjAC3YI/0B5iEdMu3/ylwa+i/6f9uGBGLH3XjnbCxn+I1yKdpTUFsNxF2vvtBHqBOLbej62I0a39Kg1alLNYkFHPw4QFoXyEzqCj0MIoRzvj75bKO2PLvp0EQ3x9qL5Lch8mjZAN34+Fj34dX3rNspL9wnblgvRaY6VsqVp7wtyDGGbtHU8pC80bda6honjxKRmpPo3fVxp4u626Vp270iqn4XyzF+2KO69SW0glClNe4+7BpNP0vNS2FdVTZOuwWnaO2WD2Xf+4ykhOjBiKWLLrVz2O8190zYo8i+pvRfZLGfxEV58Cs+R0RW042Bc805vOcNEtgt9GB4E+6iFLus8X/IhFQGW56FoF+9o+jTzCIbTfPgW+3jsm0qacqbJl1j613lx9xQf151njqiluW9a3Plh/kL8lxGWh2X5TMJ6nilYx/UOS7OPwD587OSZEvt1YkWhk7jiMOeaGTW4XepjqxOX+toXuEflrk+zD0IjnHhlHcub/Lc0x4Xce3wcz2h5wjznlbAvWNrrPGmT3l2Srilxz23kvygsxFsktFy+pdEA8rcp9vvxxx+3GI+881bW0ACIFxkV6QgvR5xCdIi05Yw71lCmNOUs9v6OHoEGQozLqP6B6NikSRPbRZJWkSaPUNZCUzQbBCxG1yaUXpwhDvqerSYYF0oHr0L1grRJ56RQftFlOHkhqKHj0N08GE5yjMkSxMOwPG5KOERCCoZ4k3FpC61Dt0F0DUaow3yjruEwx6j3GN2+sWis2WJ1pxTHyrgxGB8LCo3r4j0gK8WT7umMMXP88cdbfF7irwbjWBE1w7ESJgIj1uvCnvewj1JMc++URXIMKjAeiQiDnFwESyoNQW5R/QkiiyBHXAJU+RdffNG8OflKEQIXo3IzcA+xOwFEUOMQH5MLk3fjNqUbL0sERzwfOSnejdxiaYYvEMSbwPAU5SJBbAAqEQImMTcZjOjMM8+0CwZBYSnzqaeeatsguPJlhwsQx3HzzTfbcgLxEgQXRdq7P9sfsTpfeeUViwXBiSOoL1PK5V3KLd4F5Q4KOmWgLHDBiIfBMo4LhnxNouxcYKg0xAohf5T24HFqG0b+ETiYsnJRJHZIKY0XLexnH+ONhxJemn0xbcABPFR8scyW84OrvOkHpeFr+C/+YYV4OXixhIDhy/sHX4Q2BhNaenlnMfmID9PXe77xtRgbcu1cG0iCOGsEKucU4oGGDfYv5i88NM+/rNexL9RfvvunPSDONI+lvwrh0/U5oWxwBhNC/aiRUaO8xO9kUBseRgrZsFvmOOJe8rU/35p77yIGWzhxu+nmrcIAC/CJCp14SiEqEhMPITR4RuC5h8cIFseCcvF1Gg9OYhgymA8DNfnuO7YvxEi8AsibL/bEWmRQAn7D3X9vt6/f7OeRG+b646xmnrHEauL49+zwF2y/ngFKev0Vy5Ttw7ninO7rhUcEgtWazrGHZcRdBh7a2O+7x/113TZeTODBkmV4giFQPXaTF019AP+OF9c1BnhdwoO8sfAgzPzkH8tejoipxsAjxBXMt1D3yAPjwxz1D8NDCM9TYo8yiFGPB+rZF3RERcQuXsCwjXao7oXX6u7W82dbPEg8P4iT5buaGxdiESISE3MNy3jOiCLf+frMy3p4AOfcUU+JLYh4wgsdI3YeelotPxhKTRNWbvYsiEfK/jjvsEEEXssPYkPcp5H3zvN1d655QLEeLxMGq8ETgYf2iT4mJCI+g6qEesNX96gYGFc/7QD8v7h2RJq9vQcF8UGJeYrHR2jDYfu4+pl03skDL7ofvAcr5yscB14iIZYgdQuOVx4z00appc4PutTHi3p+nvfqLPNKT2oDeFW3Pq68LoeyR6fE8A0ezIj5jNJa38fH5/xgSeedjyG9j51lfwy+9tbIeXZd41pH3gwolXRN4VoQ2gBeafBAjAsvzmnqZ/AIhifGSzl1gjrJdWV3P6ga10sG3GKAKdobMWmfv3+eO+36Om49PxAZaWHBix0DQ917xWy7DnGuYEmsRuLC/u6P65BTa1m95/rNSyyWppxJbZF84tr79t4biH1SDsR42jeDSGGMYoz4uU9HPwihvw8QB5C4lwx8c7evy1wnufdgzfb3A4UcP8u88vnQwyA9eH2SNxauK8Q+bti4hl1vfXdMN9lfZ7jnIM7AGO6cP8415w0WDKiVpg3QG4BRcHl55QMOvQgQDDbYpuz+kOZYKWtSe+fDzqQf/rRYjAi+GB+agvdV0v0oTR23TGP+4dF5xTGz/P3Ex4gdUs8GtIJdr2H+YuwtqX4iYiSVM+neS51PumZQlrhrW1IbYPuk9k4aLOkanPS8VJZL4f/UUcrKPYPY6HVnlfVc4DrOfZgywgJvbtbz3Gb3UL88tPeka3Ca9h5Kd8kRM23ka/bJ8xU9R9b1HotY0n0z6bwntfdw3uOOlWe5Qs9zofx46J6190z7UN/Gx+r2YZnsOs9z6KGnlX2J4zmAesqHTD6q8szFsyCemcEowy/+egoHrht4iHJ9Dm2Re97Ka1R3G/tnEnoBPXpj2QjhwUM0qZzsJ2kfPNtw7eN6x3MsA4UOumSOu9g/syHKprlv0l5v8XFX+ViD4wGxHPeP9Lbh2YdnFWK0+rAubuDFZXHqw0BBafZB2RDHH795ronLT/kR7eFEnlGjrvvwSBYDOLqceUa3J9Y+z3DEUH36rvneSWGe6zey7LqTZh/EYX1xyFzrvcSzJc+i9HQJlsSTZ3Q+GFJuYhQzKBfPdOGDdtrrPPuLe3dhfdI1Je7axjMlH+l5Bqcnh107/LMm70/EsQ73RvazMMa7LUIPsRoZ6AXhCWedTp06mRdlGg0gaf+87zPoDONqBG/C6DZoAYiBvEeH927eyRHsMAa1YWAUeo927tzZ3tXRG9AgGCglrVaRdKxJ5QxlLvb+jmjI4EnE56SclIvYmMRVJOYjv5O0iqQ8KAPaA71iia8Ig6BBoFEg+hKbk8GEfOhB16JFC2OKAxtOaz50oB0GMT4Rj/EQLGacAzz4iInJftA1mCcWZtI5QUNBi6GsaDzhvNLrFn0HfYRjRbhjGc50xH8kNuSWW25pzmvoMQitiJBoLVE9Cd2KwZ4w9CdEuWgv4nBMafJAOCRGKPFU2Qc6GPtDG6IOMsXQn9B44E4aPBKDR3Nc3SnFscIEERyPV8rBfhlLB4GXeepcEk+ODf0Koy0Q1/XAAw+0AYiIocp5CObDB9g1gPOHAyGDd6OlJZ13tl8YLS3sP9XUQ080D8j66tPvnz9iXvru3xnfALLbeuHS+uQT+4A0XvC0mJ1ecc+m8Sq6LfeNLTNkyBDry+8vWrbee1Vm90HffrYLefkGaGl8Rc+mCWVh6lX+7D68KJjxDSGbzrtBZ3xFy64nfoEXX209cTOJFeq9Sq0s3lXc4oayLOybWAbEHmU//oJu+ey2227Z/KPl8BcC2564oiwnbqlvBBkfwNV+k6cXNLNlgYEXYC1+KbEz2MY3yux6ZigLLIkNUUojzhmx64g5QxwbjJiU/CZOJ/F5ghH38LAm02wdsSCJgUncpWDETrzgoBkW45LtD11zWubOi8viw4QYNMTyOnKDaZnda03JHLPJtJxYbfwmFiPbEk+n7epTMw/0yY2jxL5uOH2W7ePyo8pj0YQyEC+HmEXEiSxkxOIjxuQzdxeOBcQ2xCm6/cJZFpeI+IbeMy7jR5jNZtd+nTIGlDP6d9OZ5bFw4lgQNy5sR6xFYlwRF5RlR29cHsOIeEGBx/kHzLDzBBdiLx6+blkZiBNF3EO2hVc09h0FphzExmxZd0rGe7Fmj4EZ4hQR047zzPbEG/UDg2SIeRjsq/fmWXzHUN69l56aeeiasnNCnCeWUxeIHdph/WkW44r4TcQfDTFHiRF3butyfiFvzgXlCvsmLiF5Ef+T2FDME9/KC3Z2Tqkz/FFfSeNfXrJGvDHiP4VyEo+PNKH+Em8trItOYRa1R2+cneXJfnq2n5Hx4rIl4VxFt2WeNCGmJ3GkLu3gef51LllPjMRQ14hpxzHl5xGNgZpUP9O0o3A8xPjinMwvb8JhldWLYm2VRHHnnfWc3/zjgFXUnrlnTqZ1w7J0xEQj/m6IMZu2DUTzKzTvR5uuUA6uUcGSzrv/uJC58Qx/PfmrDRCTLdTr0OaTrinEMstnwTXID/yUtaT66V80K+RBnsQTC+ZHS89eD1hH++KaE2L0EaOWOLmsa7Pq1AzHTl0McYTHf1oWX5E2zHLqovdAtNh2YR9J5UzTFou197CPMcPnZusP7ZRrEGWmbYeYrsQZ5X7Ecv64LhJPNJj/iGL3CGJXcq0nH+I3YpxTYhWyHddP2gzxSvnN9ZP4pL/9UrZNyD9MWR/ac1IbIF/qX6g7p+42PXPxoWX1sX/XsntT0rEmtfcp//Pl9G0nlC9MuY8GS7ofpanjIa+4Ke2XY8RoG8SDi1pS/UwqJ3nF3XvTXjPi7r1p2kBSe097DU56Xoqyy5+njkbvI+G8s4x2QDz1sIy42r//WtYeWMb9PljcNZg0Se2dGJ3EwOU+zLWR+x33cmIERy3uvpnmvMe197THGi1P/vynb5bFZA/MwjQ/njnnjOsl67mGfDa2/JpDnjx7hm3DlBijwZiPnjfijBPXsTKWtA/afth3mHINKhSPNG6/xHsMZSWeLM9twV5+tCwOcsgfFtSFyhqxQ4nRST7cbwrF8+bcsN6HQqiQfaG6kz8OQNI+OKdddy67/nMtJSZz9NkxiSfPw0esV/5sSVm5x3EdCJZ0nQ/pir27pL2mxF3biLkaOHMNI64tv/kjlnUpzYuQFkeSd1ViYfL+GmJ2ptEAkspCzEMvlNj7f6G0xEOMvnMzTxmi5sPlZbzYk03HmCBelM0mSVvOuGNNKmfYWdz7+6OPPmrxHTkG4nX6wYlyYjsmaRXsIy4PxggJrPzo4xZ3FC2BZTDBiAHK2CthOeu8h2fGi7C2nn+MW+IHWM7+LjTDOCx+tO1sPt7pLOO7MGeTxp0TdBfiOoayhml0rBUv1ma8aJzVZRgbxYt4GS9s2j4Yw4TtyIdz4wW3bH7eM9bSEKcU7Sp6bNkC+pk0eXgh084TvKinfgRy248fvT2D9sT+aReMCUMafnNeiRsZLKnulOJYqTve4TDLAK2LMnmB2IqRtA/i2oZjQcNiPB3ip8KYuuoFXIt526xZs4wf5NpifnLc1JNo7NO4805BFkZLCzyj02IxOv0X4vTGwXLQcUZlYmAfBtzJN++mnRVHyScqlOanXdjfXl3OIKJ6ZbpgVpwMylPMqAhBhC2WppTLBw8ebI0YxvnGReSfYDxUFwvmTfl48c4XGsONPAhPhY6Dl1zS8XIXAt0XSscybviFzI84WFAcDWkpOy+jUREirCs2ZYCRfBGnWNr85YVY5KeJ+82L8PQpFetCdBuY8eJezKhKxXixDesYxKRAlctmybnhQbpIM8qmKzSDUMyL24Ia5Zv2+582+BADVMGkmMGBY0HAX1DjGBFS4LogxkM0gywlnbdCeSfVzzTtiHxpn0mCvqUr0Faj5VqY804+1CnqTfTFIpr/P2UeXsVeFJOuKZU5hoWtn9RNykn9LNReua7FXTupX2yHeM98MStWzjRtMU175zhop3FtmXLS3ouVkwHrwva8JIf5Yse0oMuT2gDlC4N4FNpH3LGybWXvR4X2kWZZXB1Psz0DPHnPUkvKyz8f6PItqX7mp0/6XRX3XpjHtYGk9p72GhyOjf3FPS+FdFU15ViTrsHF2jviFh/L0hjnfmHum0ntPU0ZSpGGZwfEsQW9nvDMh4DMB2mO6Z9sXNt4Vilk1HOusTyzxz0/Fto2uoyBjRicKfoBPboe3nH3rGjaYvNJ+2A77iU8Ry6ocb3jOTb/3SbkF3edD2mYFmJZ2WvKwr5XRMuzoPO8U+OsVEwLiNMAkvbpPURt8JakdEnreY9GXIo6WuVvk6acxY61MuWMe3+nnOgMhfSSUN4krSJNHiGvYlP2P378+AqDIZPed2vPcdAqlgfLcdQqxjzNOYnLm3Ww9D15/fW18u2ZcnXt2jXjvUaTdpO43vc6TswHFvmOa2Sctu4szLGGA0CYhVcxrWth9sFgRD50ZdhV0WkpznvRzPNWFBM6q5EuleunEpWcAC72BB/GnZw4CDv5eKW4OS8q8yNDVumu9ju2tnUB6nHYTHf0hbWtaw/d6bz3m3XPqtKdL0DmnS+rY11A6TJFzBxiUl54T13rLnZXT99fTyYCfwOBVkfU8kH1fViBvHbU+7hZvrtwWZ/ny4Yu5b54e77FNR3pY7Ne9kg9H5qgurvgwJjgun/DsWiXIiACIpBP4LyB9Sy8Rf69l+7YfvTr/OSL/DcDYdFNPP8a/J89ZhSMob3IC1jCHTIYDaFXCN9y3KV1XAMfEmSz5jWd9+ot4V6UlQj8uwlsvUdNCx+Qf0257YLZFoKmVHQOOKG2vX+VKj/lIwIi8O8mQJf8a665xsaW8b2NbbBsurb/3cZ4OiFGabQsEjqjNBbxPAFpiZtAPFJiOHgXZ4uBsoiLUaW7u9LH92JURYz4aCf2qm2iTZXudAEzJ2YQA7n8OD7jGq9dze3iR4skRqNMBP5uAkntiJfS6Ijhq/r6e/ZtFWOj/t3Hof2LgAj8/QSIU3qbj20cZ9u0qukOPDE+Vm7c9pVZtzjce5OuwUnHe92ps/1AJmWxVgulJW70+Xf9/dds4k/ecPpsi2lLOesv49zl/sOZTAREoLQEFvaaUtrSKDcREAERSCZAPFYflsFi5ZKawaIGDBiQvGEVp5DQWcWAlb0IiIAIiIAIiIAI/NMJMKAbg3HEGSMbRwdkiUurdckE3n1hvh8Up3gHKgbEY4AtmQiIgAiIgAiIgAiIQHoCEjrTs1JKERABERABERABERABERABERABERABERABERCBfyiBYkKn70wsEwEREAEREAEREAEREAEREAEREAEREAEREAEREIHFm4CEzsX7/Kn0IiACIiACIiACIiACIiACIiACIiACIiACIiACnoCETlUDERABERABERABERABERABERABERABERABERCBxZ6AhM7F/hTqAERABERABERABERABERABERABERABERABERABCR0qg6IgAiIgAiIgAiIgAiIgAiIgAiIgAiIgAiIgAgs9gRqLu5HUO25Nov7Iaj8IiAC/xICmb0e/5ccqQ5TBERABERABERABERABERABERABBY9AXl0Lnrm2qMIiIAIiIAIiIAIiIAIiIAIiIAIiIAIiIAIiECJCUjoLDFQZScCIiACIiACIiACIiACIiACIiACIiACIiACIrDoCUjoXPTMtUcREAEREAEREAEREAEREAEREAEREAEREAEREIESE1jgGJ3/+9//3LRp09yaa66ZU6T58+e7r776yjVp0sTVq1cvZx0//vvf/7q6deu6lVdeucK6Qgt++uknS7/ccssVWq1lIiACIrDYE5g0aZL74Ycf3EYbbeRq1apV4Xi4rn7++edu0003rbAuumDGjBnuiy++cFwvuQZXr172Leuxxx5zP//8szvwwAPdaqutFt3EDR8+3P3f//2fa926dc71/P7773e77LKLW3311d2ECRPcn3/+6Zo2bZqzbfhR7H4Q1odpofJNnz7d3Xvvva5OnTruuOOOC0ltOnfuXHfnnXe6GjVquBNPPDFnHT9Gjhzp3n//fTvOc889N7s+7j4Tty6bwV8zcdwrk09+vnHbTpkyxc4VrKtVq5a/ac7vUuWTk6n/Uex8wuObb75xs2fPtrqw1FJL5W+a/f3bb79Zvdp4441dzZrljxqVqYshbciUOkIb2WmnncIim9J+hg0b5o4//vic5eHHfffd5yZOnOhWWWUVd+yxx4bFmoqACIiACIiACIiACIiACCyBBBbYo/PKK690vXv3zkHy3HPPue23395emLfYYgt39913Z9fz4rTffvu5Fi1auB133NFeNniJxXhZ+89//mPrbr311uw2vFSdcMIJjpdjmQiIgAgsiQSuuuoqu24efPDBbsstt3QPPfRQhcMcPXq0iZSIjcUMYXLzzTd3hx56qGvVqpVr165d9tqJ0NO3b183dOjQnM25Bnfv3t3W8YEq2C+//OIuueQSN2/ePNe2bVvLb6+99nLNmze363VIF6aF7gdhXZgWKx/CHmW74oor7CNZSM/01VdftXX9+/ePLs7Os/755593c+bMsWVx95m4ddkM82YKcV+QfEK2SdtefPHFbtttt3V7772322GHHdzXX38dNs2ZliqfnEwjPwqdTwTOZs2auX333ddRVxHB33333chW5bOXXXaZ22abbSzd1ltv7fr06ZNdWZm6SNpBgwa5F1980b3wwgsmeh955JHu8ssvz+bHzNNPP+04V8WM+vHBBx+4Rx99tFgSLRcBERABERABERABERABEVhCCFRa6HzkkUdMfHz88dzRg//44w930UUXuZYtW7qxY8e6M844w15GPvnkE0PFiwmC5ahRoxx5vPPOO+7666+3dbzE8gJ/3nnnuXvuuce9/fbbtnzIkCH2Yr3qqqsuIbh1GCIgAiJQTgAvzttvv92dfPLJ7qWXXnKIOAiM48ePt0QfffSRu+CCC9w555xTvlGBuV9//dX16NHDPCIRn6699lrzdHzmmWdyUuO9GbVXXnnFPPOjy5hHPERwQ2DiQ9SAAQPM87NRo0b2USqkL3Y/COvDdEHLh4CVZIjD3HuwuPtM3Lr8fcRxr0w++fnGbQvzBx980PXr18+NGTPGrbfeeu6kk07Kz8J+lyqf/MzjzieMV1ppJffyyy+b92TDhg2tXuTn8d5779lHTj6Eci/v2LGju+OOOxx1IGpp6yKiPQI9ZYML3pwPP/ywCx9KyZOPrIjDxQxPYT60ykRABERABERABERABERABJZ8ApUWOhEu6U634oor5tDhhZmuauFliBf3+vXruxEjRpi3zVNPPeW6devm1llnHYeHBy8d4UXntddesxc6PEV23313x29EUTxCu3TpkrMf/RABERCBJYUA18cVVljBnXXWWW6ttdayD0R000bQwRAZJ0+ebN3H4445dN8+88wz3fLLL+8OOuggt9lmm5kAFLbDA2/cuHHWBT4sQ0jESzPf6BKOByfl41q9zz77OLogd+7c2X344Yd2rWebYveD/PzSli8qbOKFh/hHudMY6YvdZ+LWhbzpGh8+4BXjniafkF+Yfv/99/ZRD+/TYuUjLd6Gu+66qzvggAMcgjLlIWRA+FgYypdUhqR8QrkKTYudT3pXIP5ShjXWWCPrOcx9f+bMmTlZca4JadO+fXuHGHr44Yc7tkcADVaZuhi2CVPqNSEZMpmMLeK5A0F1zz33tI+slBHPZoRP6rFMBERABERABERABERABETg30Wg0kIn3kZ4IOFFE7Vvv/3WPFCWWWYZW4wYuvbaa9uL2nfffWcem3RlC7buuuta/C5egIgNh4fKDTfc4PBA4sWauGy8KIX8wnaaioAIiMCSQgCvtNq1a1sMSo6J31wTQzfy/fff3663CIxxhrCDlxvxjzHEUbo90/05GB+ZNthgA+vmyzIEMzzs8z3d6Er+5ptvmlBEeUKebDNr1iwm2fIVux9Yosi/NOXjQxeerJ999pltiYhG1/k99tgjklPx2bj7DAIvvQaK3YPIderUqdku8MW4x+2D8xaMGJaImkcffbSJlwi2xLSOKwNlzC8f+SF2YqF8SWVIyscyK/Kv2PlEVLzrrruy54Lf1BFC1OTH4iYGJt3MqUd8tCTPBg0aWLf3sNu0dZH0X375pcVwpbcHXer5ANqpUydrN6xnX8Su5YMBPUkQYklDN3uEf4W+gZJMBERABERABERABERABP49BCotdBZDw2AWyy67bM5qXjgYaALvGCy6ngEueFniJYQu68T8YuAhurjhBYLgyUsiy+jOx0ACMhEQARFYkghw3SMeZq9evdwbb7xhH3wQIBHFKmN4AOIpj9EFHq9AuhkTrzNqLA+e9HRBRpwj3EjU6K6+4YYbOkKGtGnTxj3xxBMmoiIo3XbbbZaU63plLE35+PiF12goH96dxHSmZ0Aai7vPEF8SK3YPYh33GT6uxVncPriX4RFJCAEEZmKOMnAOx8ExIWhjxcrAPTT6YQ/+eC4G1qF8SWVIyifu+IqtYzAhYmsjWJI/QiNex/TSyDfKjFcyg2J17drVhEjOa7SrOdukqYuk+/HHHy0P6iXiKs8NcA7CcvA+Jn+EeAbdwquZ3iUDBw4kC5kIiIAIiIAIiIAIiIAIiMC/iEDJhE66quFFFDVe/PDqDCOzMzJqMNbR/X3ppZd2jNx6xBFH2Ms+ceGI3ckLErHm6H7GCzkvRbzoyERABERgSSHQuHFjd+mll1oXWwZe4xqJtxvxGStrXFOJ6cgfXvJ8LIoKZ+SHpyJCGUIRAhyhQvJHzkY4CvEOEf522203d/XVV1us0ODJX5Xlo7s8HpF4m1LetBZ3n8GTFSt2DyrFPvCgZVR7uDP4DkLghRdeaKIx+ceVj/sgHwaj91AY4AFKfYhaqfKJ5pl2noGB6CKOqMh5QoguZgxMGAYA4l5OL42opamLpGcfeHPyh5csf3j78lxAncdrlPqKII7HJ13nEe+pt3w8yK/f0TJoXgREQAREQAREQAREQAREYMkjUDKhky5svEAHLwtQ4UWDJweeOryEhAE2WMdLId4u+Ua3O7ou8hL0wAMPuFNOOcUxEvvZZ5/tGIFVJgIiIAJLCgG6JSNcIdogPjLoDx5peFRWxujWjCiJB/yzzz5rI6nndykmP/ZFN3LiOOKhmS8k4hGHiER8TowyIZwSX/Gtt97KCqN45FfG0pYviF833nijee6l7bZOWeLuM3HrKnMccfmwDlZ4NJ5//vmOkceJZxosblvSICLn3yNZnl8XSpUPeVfGEG8Z5IrBkrg35wuwIa+ePXu6c889137CYquttnKbbLJJhRHkk+piyC9/ysfTOnXqWPgE2g35sOz33383L+bXX3/dRHLaA/Wo2Mjw+fnqtwiIgAiIgAiIgAiIgAiIwJJBoKRCJyInL0IMDsCIq7x0E3OMlx1e4niJx6MGTyJGUGX01Hzr27eviZrE+OQFD48MYnThtVFIGM3fXr9FQAREYHEhwPWQUanx/kMMpAs7sQbxhksyRLH+/fvbNRXB59NPPzVPeGIj4knHHx+O8g3veLzjMDw6o4bISTfz4LGJaEr5GHCGj1PEUaY7O9fnJMMzlFiJWNryIaAijHGvwCsvGh/UMor5F3efiVsXsuTYOA9xFpcPXdIJw0IeeMD+8MMPFjoAD0g+1v3xxx+x90GOG94MrANrur4TexJvTyyUL64MpEvKh3s099XKGAI43cAJtbDaaqtl6xd1jPt+tC7SbR+vVu7x1Gm67X/88cc58UfDvuPqYkjDaO2hPoe4p5SHmK6h2zppCflAzxDSMLAXsWfpQo9nrEwEREAEREAEREAEREAERODfQ6Dmgh4qL7rRl11iYiFudu/e3V5SeUHFowXvE4wuZR06dLAXeLbDY4iumlHD84KXlSCAkp54YLy88NLLIAcyERABEVhSCBCq45BDDjFPQAbe4Tp60003FexuG73ecvx4g5IWL8h33nnHkHTp0iUHDaN4IzZGt6VbO4Jqq1atzDOO7r/B6C4euq2zDJGT0ba32247i3/IlO7Y+Ub+0X2wnrzoRkw8x7jycd/AwvYcD9tFvU3DOksY8y/uPhO3jixvueUWOw8MYhO1/H0n5YO4hrjJH/FXH3vsMTd06FCHiBu3bbt27eyDXogTSlgDPCeDRcu3MPlQZ4hzGe6zIf/olGOOHjd1gO7q9KrI71mB12+0LuKFy4dNvDqDZyeCZhhQK5pvXF2kPKTF85g/DC/lpk2bmugKT+LR3n///bZu5ZVXtlHh6f1BHeUYEeXzz6cl1j8REAEREAEREAEREAEREIEllkA1/zKQKeXR4fkTRmCne1nU2BWeKngsEZ8z3xhwiBcZBiNKa9Wea5M2qdKJgAiIwN9KILPX4wX3j9hI6A9iSUaFoIKJ/4aF33//vXnH4e35TzIGnOGeQ3fqYHH3mbh1Yfs00wXJByGbQX2StkUcxfszeNUWK8+C5kOsTAR1BPaqNDxaORYEyUL3+6raN3FO8TDFGzbqEXzvvfe6IUOGZAe7qqr9K18REAEREAEREAEREAEREIFFQwAHmVVWWaXCzkoudFbYQxUvkNBZxYCVvQiIQMkIFBM6S7aDf1lGCJ14i+KdiiefLJnAkUce6W6++Wa33HLLJSdeQlLg9UlYAMLq0JVeJgIiIAIiIAIiIAIiIAIisPgTKCZ0LnDX9cUfiY5ABERABERgcSaw8847m9ceIU9k6QiErt7pUi8Zqeh2j7f0P80jecmgq6MQAREQAREQAREQAREQgX8WAXl0/rPOh0ojAiKwBBOQR+cSfHJ1aCIgAiIgAiIgAiIgAiIgAiIgAouMQDGPzpKNur7IjkQ7EgEREAEREAEREAEREAEREAEREAEREAEREAEREIE8AhI684DopwiIgAiIgAiIgAiIgAiIgAiIgAiIgAiIgAiIwOJHYLGP0amuoItfpVOJRUAEREAEREAEREAEREAEREAEREAEREAERKDUBOTRWWqiyk8EREAEREAEREAEREAEREAEREAEREAEREAERGCRE5DQuciRa4ciIAIiIAIiIAIiIAIiIAIiIAIiIAIiIAIiIAKlJiChs9RElZ8IiIAIiIAIiIAIiIAIiIAIiIAIiIAIiIAIiMAiJyChc5Ej1w5FQAREQAREQAREQAREQAREQAREQAREQAREQARKTUBCZ6mJKj8REAEREAEREAEREAEREAEREAEREAEREAEREIFFTkBC5yJHrh2KgAiIgAiIgAiIgAiIgAiIgAiIgAiIgAiIgAiUmkDNUme4qPK7//773RFHHOGqVy/TajOZjPv5559jdz9//nxXo0aNomn+/PPPbH6FErEP/sI+C6VJ2ketWrXc3LlzC22aXZaUx6IoZ+3atd0KK6yQLdPEiRPdN99841q0aJFdphkREAEREAEREAEREAEREAEREAEREAEREAER+KcQWGyFziuuuMK1b98+Kzr+/vvvrlmzZrFc11xzTfff//63aJrGjRu7H3/8sej6NCuS9rHBBhu4L7/8MjarpDwWRTk33nhjN3z48Gw5KfOQIUMWG6ETsfi+++5zRx55pKtZc7Gt5ln+mhGBv4NAXDv66aef3EorrRT78ejvKLP2KQIiIAIiIAIiIAIiIAIiIAIi8O8lUCkFaMKECW7s2LEm1PXo0aMCNbwdH374YffBBx+4TTbZxHXo0KHCS/C7777rnnzySbf00ku7o446yjVq1Cgnn08++cR9+OGHbpdddnEIfrLFn8C8efPsnL711ltuxRVXdIcddliFg5o8ebIbPHiwY7rffvu5nXbaKSdNmroV3eCpp55yN954o3n9huV//PGH1d933nnHtW3b1m244YZhVXaaVD+TypnNaCFmko51xowZbsSIEcZ09dVXN15rrLFGpfY4btw4N2zYMDdp0iS3++67m4CNt3HURo0a5caMGePq1Knj9t9/f2vT0fVp5hcFz6RzksQzzXGUIs2i4Pnaa6+5N954w82ePdvtueeebvvtt3fVqlVb4OIXakdkxgehnXfe2dpY69atK+T/v//9L8cjvEICLRABERABERABERABERABERABERCBKiCQOkYnnpB77bWXu/32293dd9/t6D6db/3793dXXXWVveAiMl122WU5SRAwET9nzpzpEJsQvJgPNnLkSNe1a1c3fvx4d9BBByV2RQ/bafrPJnDXXXe5zp07m5D54osvVigsXmOEIRg9erSJMsccc4wJbNGESXUrmpb5QYMGWV2jC36wjh07ut69e9s6uuHnW1L9TFPO/DwL/WY/6623nmvatKkr9MEg6Vh79uzpbrnlFrfccss5xLN99923Up7IfEzYe++9TShdeeWV3YUXXuiuvPLKnKJShi5dupg3LKIV7RGhOs4+++wzd+utt2aTLAqeac5JEs9sgatwZkF45hcniedLL73kTj75ZIegjxiON/NDDz2Un02lfhdqR2TQoEEDd8ghh7j111+/Qn6//fab23bbbd2UKVMqrAsL8BAPbaB79+5hsaYiIAIiIAIiIAIiIAIiIAIiIAIisFAEUnt04l35+eefm7dmIY88BIcHH3zQdevWzR1//PFu7bXXdpdeeqm74IILXN26da2QQ4cONa+wPn36OMQTPIJefvllt88++9h6RBuEUF7Wf/31VxNxeFmXLd4ETjjhBBM6e/Xq5X744YcKB4OA9u2331pdwEPx//7v/0ygCaEI0tStaKbvvfee1dU77rgjutg9+uij5mG844475iwPP5LqZ1I5Qz5J0+nTpzuO6dlnn3VrrbVWTvI0x3rWWWeZZyxd8uk+DCc+HBxwwAE5eRX7wUeK7bbbziFAE7N22WWXdQMGDHAXX3xx1gObOLIIUJ06dbJs8ADFExsPwXwjfmu/fv1sPe2e9ostCp5J5yQNz/zjqYrfleFZbP9JPKkHiJ10J8e++uora1N8RMg3uMTFKyZ9sXbEOjzy+/bty2wFmzNnji1DbF1mmWUqrGcBITzwFj7vvPNMmC2YSAtFQAREQAREQAREQAREQAREQAREoJIEUnt0km/ci/HXX39t4mXLli2tCEx50cULKdibb77pwnoGutlqq62sm2VYv8022zi8Oh955BH39ttvu0033dRNnTo1rNZ0MSVA19m4ukNXW4QPRE6MOoIIEixN3QppmSLg0f0db8WoxZWBdEn1M6mc0X2lmad8dAuPWppjJdxDiDvK9gyO1bBhw2g2No8wdvXVV7tffvklZ93mm2/uHnjggew5QRij+zd/wRCggsjJMtIgnEUNzz1i5XK+Xn/9dXf++eeb2BnSlIrnRx99ZN7hhTxKk85JGp6hvFU5TcMzaf9JPKkLQeQkLz4wResF4iaeu3vssYe1N7q2c81FLC9kxdrRaaed5lq1amVd47/44oucTV999dWsFykfvsiDPz5e5BtlDR/B8tfptwiIgAiIgAiIgAiIgAiIgAiIgAgsCIHUHp1JmeOBiYW4mgiZ9evXN8/MsC2CS1jPMuIKRkUYuscyqBCeY8RPRKShyzxx52RLLgHqTtSzkTqCiBa8ztLUrUCH2IGI5XhvVtaS6mdSOSu7v0LpK3Os9957rxs4cKB5WdJVOGq0G8Q1jBiViJCFjHUM2oSXa74wHNJ///337oUXXjCPT5ZxXvCWpfs8bRyv7cMPP7yCaFUqnniWfvrpp+bh/corr4Ri2TTpnFSGZ07GVfgjn2faXSXxDPng3XvzzTdbLOXoeUf4piv7nXfeaeeaMAMs42NSfqzkuHZ09NFHm2f2OeecU8EbEw999o8heobQEXRTr2wc2XA8moqACIiACIiACIiACIiACIiACIhAWgIlEzqnTZvmGMwk6jVXr149x3IMQQUPz6gHD+ujo5zPmjXLRBTiJzJoDbEa03bHTXvASvfPI0Adya8X1Be6eNP1NaluRY+IAY222GILh9diZSxN/UwqZ2X2VyxtZY6VdkJ64twSCiIqVq2yyir2UYH2tdlmmxXbnX1MwGOSQcQKGfkTigKP20MPPdSS4CV5zTXXmMh5ww03WDzG/G1LyZPu8gideB/mW9I5qQzP/Lyr4nchnmn2k4ZnyIePRT///LNjELAg9LIOURrvaoRN2hUxlJs3b57zkSHkEdeOCHuAFYqtedFFF9m+GUyMcAjROhny1lQEREAEREAEREAEREAEREAEREAEqopApbquxxUCD07i0DHabzBeqFmO8YLN4CnRrujR9aR57LHHLFYjA6Xwss6ARs8//zyrZEswAepItF4wiAlds4kDiCXVrYAGwQ+PtWiX67AuaZqmfiaVM2kfadanPVbyQqhicCc8BPM9WOnGzDriLBYaFZvt8eRkcDE8pwuJobTnU045xbxrSRfEaLythw8fbjF227dvb7wZXT1qpeRJ7FBCYFx77bXRXdh80jmpDM8KmZd4QTGeaXaThmfIh27lTz/9tHVRj8bRJJwD4UJOOukkqxNbbrmltRcE0agtTDuK5qN5ERABERABERABERABERABERABEVjUBEomdIYu6XheYXibIXpGuyQzz8jMwUgbXc/I3LyYjxgxwkZvZ/Aa/gqN8B7y0HTxJ0Ddya8XLEPcwdLULdI9/vjjJsYxCvmCWFL9TCrnguwzf5u0xxq2YyAhugTnx89k/bBhw6x7edSrL2yHMMro7Yy4Xshrmu7pxGL8+OOPLcZivmceYicee7RVRuBG8GTgsKjgWSqejBJ//fXX5+QdjiPpnKTlyTWGkdG53jDwUqktiWfYH8dK3NMox7AuiWdIx5S2s/HGG9uHo3D9RCw+/fTTHbFOEUI5XpbRbqK2sO2ImLEYHvoyERABERABERABERABERABERABEViUBFILnbwsE/cvDCrBKNnRQSwaN25sXUtvu+0263JM/DfistHlNRieZbxEkwdxFBFn9t9//7A6Z8qLOi/MeBvRbVO2+BIgZAHiEd2r8dyk7kQ9OPE0I/4g8QKZ4pUZFd/S1C3qyD333OOIHxgNnxClNmnSJBPgqVPU3QkTJlj9CmmS6mdSOUM+CzNNOlZil3bp0sXi2OLJCav333/ftWnTJme3tNWzzz7bxEgGg4na2LFjLWYncTlpo8RVbNu2rbXvkA7BjzbKxweEUs5Nx44dw+rslPZ90003uWeeecbCTYQR10lQKp6IsRzDmWeemd1vmEk6J0k8Qz4MqsNxwDM6oE9Yv7DTtDzjjjWJJwIp111CCzBwEQNOEfc4CI+jRo0yb06uu+uvv77FQWYd3emDJbUj2jIfsfjjnjBx4kSbj4YgoVs8HtnUmfHjx9vgcoQ/UKzlQFlTERABERABERABERABERABERCBqiKQOkYnYkq7du2yoiPdy+laTNfYICwxom+HDh2sGyzrGCwlanh8jR492u22227mcXTGGWeY0BJNQ17EfmOAE8ROuq2G/KPp8ueD91/+8ujvNGmi6RdkvhT7KEUeSWVfFPsIZcBzLCq2Mdoz8R779OljSRCjwjlHPCEW4wknnBA2t2lS3WLUbwR0BsUpZgceeGBWnEd46t27tw3m06JFC9skqX6mKWexfVdmedyxIiLRBRoRE8GWrtnHHXecC8cQ9kOMTjwAEXQ33XTTsNimtEE8DBmxnD+MNhYEMX4z+BDWr18/m/KPbs/FDMEUr8uolYonMTrx+C0UozPNOYnjGcqL+ItR5hAyIawrxTQtz7hjTeKJZy/d+2lXCI277rqr69atW7b4hB5A1AyCNQMFEaMz/CZhUjtCDEZMDcaARBgev2PGjLF5wiYQq5OQCAxYtdRSS1k3+qZNm9p6/RMBERABERABERABERABERABERCBqiJQzXvwlNRdEvEF770mTZpkR9zNLzzeZnR3RaRZUNtoo42sWy0v9LKqJ4BQM2TIEIfHblUZcVn5o+4Usri6hffhd99950488cRCm1ZqWVL9TCpn0s4QhI466ij7SEDc2kIWd6ykJywEHqmIR8U+BNC058yZ4xCe/k4rBU+ON+44ks5JEk+8ZF966SUbKbwqPDorwz/pWON4cs7xomzYsKEjrEHUyDfUB7ybGfAtjIoe0pWyHfHRYvLkyXadL1ZHu3btagI7AqpMBERABERABERABERABERABERABNISwCETJ698K7lKiPBIt8g4C3Hz4tJo3b+PAKJfMeEPGnF1Cw/jUllS/UwqZ9pyDBo0yO2www6uWbNmFTaJO1YSI/pFw0JUyMAvwGs3ThwstE1VLCsFz6TjSDonSTyJF4yX8d8tcsI/6VjjeHLO11lnnYKnkXxD3quuumrBNKVsR3gIF+NJGAu6thPGAm9gmQiIgAiIgAiIgAiIgAiIgAiIgAiUgkDJhc5SFEp5iMCSTACBEg9CvOuIeSj7+wk88cQTFbwb//5SLbklIHTCH3/8YV3a6a4vEwEREAEREAEREAEREAEREAEREIFSECh51/VSFCpNHsT/ZOCZRRlrMk25ltQ0xL9kEJOWLVsuqYeo4xIBERABERABERABERABERABERABERABEVgMCBTrur7YCp2LAXMVUQREQAREQAREQAREQAREQAREQAREQAREQAREoMQEigmdi23X9fvvv98dccQR2ZGiGYTj559/jsVGd8lig2KwIYNnREeezs+MffAXlyZpH7Vq1bJRs/Pzjv5OymNRlJNBSqKDRU2cONF98803FUb3jpZb8yIgAiIgAiIgAiIgAiIgAiIgAiIgAiIgAiLwdxFYbIXOK664wrVv3z4rOjLqcqFBXaJgGcSDEYuLWePGjd2PP/5YbHWq5Un7ID7jl19+GZtXUh6Lopwbb7yxGz58eLaclJlR11u0aJFd9k+eQSy+77773JFHHmmDGP2Ty6qyicA/lUBcO/rpp59ssKG4j0f/1ONSuURABERABERABERABERABERABJZMApUSOidMmODGjh1rQl2PHj0qEMHb8eGHH3YffPCB22STTVyHDh0qeFC+++677sknn3RLL720O+qoo1yjRo1y8vnkk0/chx9+6HbZZRcXN7pwzkb68Y8mMG/ePDunb731lltxxRXdYYcdVqG8kydPdoMHD3ZM99tvP7fTTjvlpElTt6IbPPXUU+7GG280r9+wnMFPqL/vvPOOa9u2rdtwww3Dquw0qX4mlTOb0ULMJB0rAxiNGDHCmK6++urGa4011qjUHseNG+eGDRvmJk2a5HbffXcTsPE2jlpSe4+mLTa/KHgmnZMknsXKXurlo0aNcmPGjLGRz/fff3+7RlZ2H0k8S7GPaJkKtSPW80Fo5513tjbWunXr6CY2z6jqUY/wCgm0QAREQAREQAREQAREQAREQAREQASqgED1tHniCbnXXnu522+/3d19993WzTt/2/79+7urrrrKXnARmS677LKcJAiYiJ8zZ840sQnBi/lgI0eOdF27dnXjx493Bx10UGJX9LCdpv9sAnfddZfr3LmzCZkvvvhihcLiNUYYgtGjR9vgUsccc4wJQtGESXUrmpb5QYMGWV2jC36wjh07ut69e9s6uuHnW1L9TFPO/DwL/WY/6623nmvatKkr9MEg6Vh79uzpbrnlFrfccss5hK199923Up7IfEzYe++9TShdeeWV3YUXXuiuvPLKnKKmae85G/gfn332mbv11luzixcFzzTnJIlntsBVOEMZunTpYt7FiIBc3xD+K2NJPEuxj/zyFGpHpGnQoIE75JBD3Prrr5+/ifvtt9/ctttu66ZMmVJhXViAh3hoA927dw+LNRUBERABERABERABERABERABERCBhSKQ2qMT78rPP//cvDULeeQhODz44IOuW7du7vjjj3drr722u/TSS90FF1zg6tata4UcOnSoeTH16dPH8bKPR9DLL7/s9tlnH1uPaIMQevLJJ7tff/3VRBy6HssWbwInnHCCCZ29evVyP/zwQ4WDQfD59ttvrS7gocgI7w899FA2FEGauhXN9L333rO6escdd0QXu0cffdQ8jHfcccec5eFHUv1MKmfIJ2k6ffp0xzE9++yzbq211spJnuZYzzrrLPOMrVmzpqP7MCEb8FI94IADcvIq9oMYr9ttt51DgKbb8bLLLusGDBjgLr744qwHdlJ7j+ZN/NZ+/fqZpzbtnvaLLQqeSeckDc/osVTV/Ny5cx2CXqdOnWwXeNTi2b799tun3mUSz8rsAy5JXc6LtSMKjEd+3759C5Z9zpw5thzP42WWWaZgGkJ44N163nnnOTytZSIgAiIgAiIgAiIgAiIgAiIgAiJQCgKpPTrZWdyL8ddff23iZcuWLa1cTHnRxQsp2JtvvunCero1brXVVu6NN94Iq90222zj8Op85JFH3Ntvv+023XRTN3Xq1Ox6zSyeBKpVqxZbd6gDCB+InBh1BBEkWJq6FdIyRcCj+zveilGLq7+kS6qfSeWM7ivNPOWrU6dOTtI0x0q4B0ROjO0ZHKthw4Y5+fADYezqq692v/zyS866zTff3D3wwAPZc7LSSitZyAC6gEctiReee8TK5Xy9/vrr7vzzzzfxLuRRKp4fffSReYcX8oBMOidpeIbyVuUUQS+InOwH5l999VWldpnEM2kfiJt47u6xxx7W3vbcc0+75iKWF7Ji7ei0005zrVq1cmz/xRdf5Gz66quv2kcKFvLhizz44+NFvsEgfATLX6ffIiACIiACIiACIiACIiACIiACIrAgBFJ7dCZljgcmFuJqImTWr1/fPDPDtgguYT3LiCsYFWHozsmgQng6ET8RkYYutK+99lrIQtMlkAB1J+rZSB1BRAteZ2nqVsBC7EDEcrw3K2tJ9TOpnJXdX6H0lTnWe++91w0cONC8AukqHDXaDcIXRoxKRMhCxjoGbcLLNV8YLpSeZZwXvGXpPk8bx2v78MMPryBalYonnpCffvqpeXi/8sorOcVKOieV4ZmTcRX++P77790LL7xgHrSV2U0Sz2hehfaB8I2n9J133mnnmjADLONjUn6s5Lh2dPTRR5tn9jnnnFPBGxMPfbyLMUTPEDqCbuqVjSMbPR7Ni4AIiIAIiIAIiIAIiIAIiIAIiEAaAiUTOqdNm+YYzCTqBVavXj3HcgxBBQ/PqAcP63mhDjZr1iwTUYifyKA1xGpM2x035KHp4keAOpJfL6gvdPGm62tS3YoeMQMabbHFFg6vxcpYmvqZVM7K7K9Y2socK+2E9MS5JRREVKxaZZVV7KMC7WuzzTYrtjv7mIDHJIOIpTW8JK+55hoTOW+44QaLx5i/bSl50r0boROP73xLOieV4Zmfd1X8pjyE9sCD+dBDD029izQ8Q2bF9oEojXc1wibtihjKzZs3z/nIEPKIa0eEPcAKxda86KKLLLYyg4kRDiFaJ0PemoqACIiACIiACIiACIiACIiACIhAVRGoVNf1uELgwUmMuNmzZ2eT8UIdRt7lBZvBU6Jd0aPr2eixxx6zWI0MlIJnJwMaPf/889n8NLNkEqCOROsFg5jQNZs4gFhS3QpUEPzwWIt2EQ7rkqZp6mdSOZP2kWZ92mMlL4QqBnfCey/fg5Uu7awjzmKhUbHZHk9OBhfDczpODCVt1PC2Hj58uMXYbd++vfFmNPColZInsUMJgXHttddGd2HzSeekMjwrZF7iBVwfTznlFPNWhntU3E/aVRqe5BG3D8I5EC7kpJNOsjqx5ZZbWnuZN29ezu4Xph3lZKQfIiACIiACIiACIiACIiACIiACIrCICZRM6Axd0vG8wvA2Q/SMdklmnpGZg5E2up6RuRngYsSIETZ6O4PX8MfgKbIllwB1J79esAxxB0tTt0j3+OOPm3jEKOQLYkn1M6mcC7LP/G3SHmvYjoGE6BJcKN7jsGHDrHt56L4dtmGKMMro7Yy4viBe04ideOzRVhmBG8GTgcOigmepeDJuYK6aAAAQ80lEQVRK/PXXX5+TdziWpHOSlifXGEYt53rDQEGlNrr7E9vy448/tpiVxTwdOVbinkY5hrIk8UzaB2Lx6aefbqO9P/3003a8LKPdRG1h2xExYzE89GUiIAIiIAIiIAIiIAIiIAIiIAIisCgJpBY6EQKI+xcGlWCU7OggFo0bN7aupbfddpt1OSb+G3HZ6KIZDM8yXqLJgziKiDP7779/WJ0zReTihRlvI7ptyhZfAoQsQDyiezWem9SdqAcnnmbEHyReIFO8MqPiW5q6RR255557HPEDo+ETotQmTZpkAjx1iro7YcIEq18hTVL9TCpnyGdhpknHSuzSLl26WBxbPDlh9f7777s2bdrk7Ja2evbZZ5sYyWAwURs7dqzF7CQuJ22UuIpt27a19h3SJbX3kI72fdNNN7lnnnnGwk2EEddZXyqeiLEcw5lnnhl2m50mnZMkniEjBtXhOODJIDmlNgRUrnl8zEF4pq537Nixwm7ijjWJZ9I+Ro0aZd6cXHfXX399i4PMNZau7sGS2hFtmY9Y/FFHJk6caPPRECR0i8cjm2McP368DS5Hd33FWg6UNRUBERABERABERABERABERABEagqAqljdCKmtGvXLis60r2crsV0jQ3CEiP6dujQwbrBso7BUqKGx9fo0aPdbrvtZt56Z5xxhgkt0TTkRew3BjhB7KTbasg/mi5/Pnj/5S+P/k6TJpp+QeZLsY9S5JFU9kWxj1AGPOWiYhujNROfsE+fPpYEMSqcc8QTYjGecMIJYXObJtUtRv1GQGdQnGJ24IEHZsV5RKHevXvbYD4tWrSwTZLqZ5pyFtt3ZZbHHSsiEt2TETERbOmafdxxx7lwDGE/xOjEAxBBd9NNNw2LbUobxPuPEcv5w2hjwROP32naO+mCIZjidRm1UvEkRicev4VidKY5J3E8Q3kRfzHKHEImhHWlmDL4ENavX79sdnQjz7e4Y03imbQPusojagaBlYGCiNEZflOWpHaEGMxHrGAMSIThoTpmzBibJ2wCsToJicCAVUsttZSN9N60aVNbr38iIAIiIAIiIAIiIAIiIAIiIAIiUFUEqnkPnpK6SyK+4L3XpEmT7Ii7+YXH24zurog0C2obbbSRdQPFc0hW9QQQUYYMGeLw2K0qIy4rf9SdQhZXt/CW++6779yJJ55YaNNKLUuqn0nlTNoZgtBRRx1lHwmIW1vI4o6V9ISFwCMV8ajYhwCa9pw5cxzC099ppeDJ8cYdR9I5SeKJl+xLL71kI4VXhUdnZfgnHWsSz2L7It9QH/BuZsC3MCp62KaU7YiPFpMnT7brfLE62rVrVxPYEVBlIiACIiACIiACIiACIiACIiACIpCWAA5aOHnlW8lVQoRHukXGWYibF5dG6/59BBD9igl/0IirW3gYl8qS6mdSOdOWY9CgQW6HHXZwzZo1q7BJ3LGSGNEvGhaiQgZ+AV67ceJgoW2qYlkpeCYdR9I5SeJJvGC8jP9ukRP+SceaxLPYOSTfkPeqq65aMFkp2xEewsV4EsaCru2EscAbWCYCIiACIiACIiACIiACIiACIiACpSBQcqGzFIVSHiKwJBNAoMSDEO86Yh7K/n4CTzzxRAXvxr+/VEtuCQid8Mcff1iXdrrry0RABERABERABERABERABERABESgFARK3nW9FIVKkwfxPxl4ZlHGmkxTriU1DfEvGcSkZcuWS+oh6rhEQAREQAREQAREQAREQAREQAREQAREQAQWAwLFuq4vtkLnYsBcRRQBERABERABERABERABERABERABERABERABESgxgWJCZ/US70fZiYAIiIAIiIAIiIAIiIAIiIAIiIAIiIAIiIAIiMAiJyChc5Ej1w5FQAREQAREQAREQAREQAREQAREQAREQAREQARKTaBSgxFNmDDBjR071n355ZeuR48eOWVhcIn77rvPzZ49O7t8nXXWca1atcr+ZuCVIUOGuC+++MJtvPHGbr/99nMrrrhidn3STJp9kMfkyZPd4MGDbco+dtppp5ysOY5Ro0bZiL877rij23PPPd1SSy2Vk+bdd991Tz75pFt66aXdUUcd5Ro1apSznjxGjhzpfv75Z4tbST41atSwNGnLSRnGjBljIyHvv//+bpNNNqmwj7hyZjIZ99Zbb7nhw4fb6MbELF1++eWzeeDG+/bbb2d/M1O/fn135JFH5iyjvE899ZT75JNP3O+//+7OOecct8oqq2TTxB0ricaNG+eGDRvmJk2a5HbffXfXokULV6tWrez2jzzyiGOU5ahtvvnmDmYyERABERABERABERABERABERABERABERABESgFgRqXeEuT0X//+18TBL/55hs3evRod+qpp+YMBMQIuh06dHCIbz/++KObOHGiq169eo6Yte+++5pQuuuuu7pnnnnG3Xbbbe64447LySeuLGn2gWjXpk0b9/3335s4efnll7ttt93WrbHGGpb1n3/+6dg/07XWWsvK8MYbb7i2bdtmd/3hhx+6ww8/3K277rru888/dwMHDnRHHHFEVrxDEGzdurWJtKuttpq76qqrXL169dwWW2xheaQpZ//+/R3ot9lmGxMXEY4R/sgPS1POPn36WB4bbbSRe+6559xDDz1kImYQXFn/5ptvulmzZpkg+95777lXXnnFmNtO/L/ffvvNBnVCtGX/iJTkFyzpWFmPSFu7dm3XtGlTd91117mffvrJ8gl5cD4QPhFCEYaffvppV7duXbfLLruEJJqKgAiIgAiIgAiIgAiIgAiIgAiIgAiIgAiIQCoCaE8NGjSokDa1R+eaa65pot8HH3zgDjvssAoZhQU33nijW2655cLPnCliIOImAiLCIp6WCHHNmjXLSZf0I24feDh+++237uWXX3arr766Y7RwBMCwD8TXESNGZIXPFVZYwfXq1cvNmTPHxDr2PXToUPOuRCjEE3HnnXe2/PbZZx8r2gsvvGAi5zXXXGMi7bx589zDDz/sjjnmmJyix5Vz7ty5rnv37q5Tp062DV6ReJBuv/329jtNOR999FETNi+66CL3ww8/uObNm7tnn33WHXDAAZbHoYce6jhvQeRF9EX0jNqdd97pEK/x6CRtviUdK4Lsdttt5+666y7zaF122WXdgAED3MUXX5z1cL3ssstcu3btjBVCODwRm2UiIAIiIAIiIAIiIAIiIAIiIAIiIAIiIAIiUCoClYrRGTwF43ZO13XERTwr8w0xDZETW2aZZazL9vjx4/OTJf6O2wfemRtssIGJnGTUsmVL6x4ezTQIfyxDfEWcq1mzXPNFfGU7DCF0q622cuQbNdJXq1bNFuHNiGdkvsWV87zzzsuKnGy30korua+++ioni7hywhcRdsMNN7RtVl11VdewYUOHEB0MQTHkgcCIF204LtIgtj7wwAPuwAMPLChyhnzijpUu6OQR6gbHQegA/oK1b98+ywqv0mnTprkddtghrNZUBERABERABERABERABERABERABERABERABBaaQKWEzjR7ozvybrvt5rbcckvznCy2DbE68YTca6+9iiUpujxuH7/++qt1SQ8b46WICJkvvBKLEq/DK664wnXt2tW62YdtfvnllxzhD7GQZcGI+zllyhT3n//8x11//fUOr8iDDz44rM5O48qZTeRn6GaP5ySCY74VKyfCImIhHqwY4jLiIl3DCxkCI3kFz1bSEI6Abvbfffed22OPPcw7lPipUUt7rGyDmEqcVrrAr7zyytFssvN40+LNGRWWsys1IwIiIAIiIAIiIAIiIAIiIAIiIAIiIAIiIAILSKBkQicemgxyM2jQIBM48Saky3K+wEg5GSCnd+/e7rTTTjNPxrRlT7MPvAWJ/xgMj00EuOnTp4dFNkWoRGCkyzrdvoORlkGT8vOIbt+kSROLrYmH6k033WQDMEWFzjTlDPujvMcff7x5odLVPN+KlZN0pGegn0MOOSQrkuKdWsiIi8k5iR4X4ijG4FLE0cRD9PTTT8/ZPOlYo4mvvvpq99FHH7kLLrggujg7H7xKowNUZVdqRgREQAREQAREQAREQAREQAREQAREQAREQAQWgkDJhE48DIkBiZhGd+qePXs6vCsZVTxqxM886aSTbDT2bt26RVclzqfZB13Np06dms0LoRDvQUZPjxqensSVJJ4k4mzoQk93dGKMRvNgnnyDPfjggzaoEt6JeEpyzHh3BktTTtLSdfyUU04xj9Pbb789R4QMeRUrJ+sRJxFa6aoPU7rQh67qYXumQWCMdltnOfE1MbrRM7jUtddea93no16dScdqGfh/eHJyDIidm222WVicM2Uke+oEHr8yERABERABERABERABERABERABERABERABESglgZIJnfmFYjAdRENG2g5GV+mjjjrKhNAwkE9YF50+9thjjvWIYnFWaB8Ig5999ll2s08//dS6oYd4mtkVf80EUS4aH5PR2PPzYFkwRmJnOwRdBFRGHWf7/IF+QvpC5cTTFY/Wjz/+2ATXRo0aheQFp4XKSUK6ljOYEl3FCQWQL2aSBoGRrvd0T48agzVhYfCoxo0b229GrgqW5lgZFAlh+8ILL8wOhBS2j04Rhrfeemu3/PLLRxdrXgREQAREQAREQAREQAREQAREQAREQAREQAQWmkBqoRPvP4TK0N0Zz8yoIIZnIwIly0iH+FarVq3soDMzZ850HTt2dEyPPvpo84js0aOHu/vuu3MOgm3PPvts87TE4zJqSfsgLcIfoh4jpzNlxPUwCjnrn3/+eRPkGHCIkc7xQMRbM+pl2Lp1a/f444/bsY4cOdJETMTMYHvvvbf78MMPzZuT+J9PPPGEjSAfuoWnKSd8yLtz584m6FJe+ARLU07Scl7gRLxRPDzXW2+9kEV2Srd1hNL8uJmkXX/99d3gwYOt+z6xRhFuo3E8k4517Nix7vzzz7e4nOTHaPdt27a1OpAtwF/lzB8MKbpe8yIgAiIgAiIgAiIgAiIgAiIgAiIgAiIgAiKwMATKhxpPyOX999937dq1s27QJEUAQxRD1KOrNt6XCJfEt8RY16dPH8do4BhxICdOnGgxO+muHax79+5h1qarrLKKDSaEYLrpppvmrEvaB4nxSiRP4kQiAm6zzTbuhBNOyOZD124G8EEAxTbaaCOLJRpESpYRa3T06NEmfuIJesYZZ+QIiAymg6CKYItwi4iIR2OwNOVk8CGsX79+YTMb3T38SFNOjvHZZ5/NiscIjoXsueeec4cffniFVRxb3759LUZo8+bNzQP33HPPtS7wIXHSscIJ71RGpQ8j01Mf8GKNGrE7GSipkMdpNJ3mRUAEREAEREAEREAEREAEREAEREAEREAERGBBCFTz8RszC7JhoW0QvIh1SRfqtdde29WpU6dQssRlFIlBggptn3YfjDDOXxM/cFAhY+AdYm9Gu6Tnp8O7tEGDBjnxOaNpEHUZ6bxQXMy05YzmV2g+rpyUj+7y6667ronNhbZnGQIj3dML8WQ9Zf3mm2/ciiuu6Bo2bMiiChZ3rBUSF1hAnUAADt3jCyTRIhEQAREQAREQAREQAREQAREQAREQAREQARFIJIBDJs6S+VZSoTM/c/0WAREQAREQAREQAREQAREQAREQAREQAREQAREQgVISKCZ05vYvLuUelZcIiIAIiIAIiIAIiIAIiIAIiIAIiIAIiIAIiIAILCICEjoXEWjtRgREQAREQAREQAREQAREQAREQAREQAREQAREoOoISOisOrbKWQREQAREQAREQAREQAREQAREQAREQAREQAREYBER+H8Qixu2iDNBVAAAAABJRU5ErkJggg==)"
      ],
      "metadata": {
        "id": "AbMq68gNXEmg"
      },
      "id": "AbMq68gNXEmg"
    },
    {
      "cell_type": "markdown",
      "id": "525ea8ea",
      "metadata": {
        "id": "525ea8ea"
      },
      "source": [
        "> Какой фид получился? Сравните FID для безусловной генерации и для условной. Сгенерируйте для каждого класса по 6к картинок и посчитайте FID между реальными и условно сгенерированными картинками.\n",
        "\n",
        "FID очень большой при адекватных семплах, наверное 5к степов на обучение маловато.\n",
        "\n",
        "FID для безусловной генерации ниже, чем для условной. Может быть было бы лучше параллельно учить классификатор и модель, чтобы не было различий в FID."
      ]
    },
    {
      "cell_type": "code",
      "source": [
        ""
      ],
      "metadata": {
        "id": "-ZPD4btTXfcu"
      },
      "id": "-ZPD4btTXfcu",
      "execution_count": null,
      "outputs": []
    }
  ],
  "metadata": {
    "kernelspec": {
      "display_name": "Python 3 (ipykernel)",
      "language": "python",
      "name": "python3"
    },
    "language_info": {
      "codemirror_mode": {
        "name": "ipython",
        "version": 3
      },
      "file_extension": ".py",
      "mimetype": "text/x-python",
      "name": "python",
      "nbconvert_exporter": "python",
      "pygments_lexer": "ipython3",
      "version": "3.9.5"
    },
    "colab": {
      "name": "calc_fid.ipynb",
      "provenance": []
    },
    "accelerator": "GPU",
    "widgets": {
      "application/vnd.jupyter.widget-state+json": {
        "c675cd6ca6a4417eb80dff4828125eb5": {
          "model_module": "@jupyter-widgets/controls",
          "model_name": "HBoxModel",
          "model_module_version": "1.5.0",
          "state": {
            "_dom_classes": [],
            "_model_module": "@jupyter-widgets/controls",
            "_model_module_version": "1.5.0",
            "_model_name": "HBoxModel",
            "_view_count": null,
            "_view_module": "@jupyter-widgets/controls",
            "_view_module_version": "1.5.0",
            "_view_name": "HBoxView",
            "box_style": "",
            "children": [
              "IPY_MODEL_6ce1a63902ba4c9784bd46a2d55de4b0",
              "IPY_MODEL_3c613511c8e14d7ab5df1beae1fe28d7",
              "IPY_MODEL_a709f0e687c54ad3a868534fec437dee"
            ],
            "layout": "IPY_MODEL_f910ba3aa62f4bf5a0cc3b2910923f80"
          }
        },
        "6ce1a63902ba4c9784bd46a2d55de4b0": {
          "model_module": "@jupyter-widgets/controls",
          "model_name": "HTMLModel",
          "model_module_version": "1.5.0",
          "state": {
            "_dom_classes": [],
            "_model_module": "@jupyter-widgets/controls",
            "_model_module_version": "1.5.0",
            "_model_name": "HTMLModel",
            "_view_count": null,
            "_view_module": "@jupyter-widgets/controls",
            "_view_module_version": "1.5.0",
            "_view_name": "HTMLView",
            "description": "",
            "description_tooltip": null,
            "layout": "IPY_MODEL_a8b698de407c45c5aeb140356a6f29ff",
            "placeholder": "​",
            "style": "IPY_MODEL_f27c41aaae6445d3a53cdb03053eedcd",
            "value": "100%"
          }
        },
        "3c613511c8e14d7ab5df1beae1fe28d7": {
          "model_module": "@jupyter-widgets/controls",
          "model_name": "FloatProgressModel",
          "model_module_version": "1.5.0",
          "state": {
            "_dom_classes": [],
            "_model_module": "@jupyter-widgets/controls",
            "_model_module_version": "1.5.0",
            "_model_name": "FloatProgressModel",
            "_view_count": null,
            "_view_module": "@jupyter-widgets/controls",
            "_view_module_version": "1.5.0",
            "_view_name": "ProgressView",
            "bar_style": "danger",
            "description": "",
            "description_tooltip": null,
            "layout": "IPY_MODEL_bccafeb52fee4b6aaab6de3e741e7b71",
            "max": 20000,
            "min": 0,
            "orientation": "horizontal",
            "style": "IPY_MODEL_d82fa777ffff45fda24df6470eafdcdb",
            "value": 20000
          }
        },
        "a709f0e687c54ad3a868534fec437dee": {
          "model_module": "@jupyter-widgets/controls",
          "model_name": "HTMLModel",
          "model_module_version": "1.5.0",
          "state": {
            "_dom_classes": [],
            "_model_module": "@jupyter-widgets/controls",
            "_model_module_version": "1.5.0",
            "_model_name": "HTMLModel",
            "_view_count": null,
            "_view_module": "@jupyter-widgets/controls",
            "_view_module_version": "1.5.0",
            "_view_name": "HTMLView",
            "description": "",
            "description_tooltip": null,
            "layout": "IPY_MODEL_4705bd163cf54c4cabde2ccb6ba770c2",
            "placeholder": "​",
            "style": "IPY_MODEL_efeeba54647a401aadb8cd51e9bc0bc5",
            "value": " 20000/20000 [00:17&lt;00:00, 1212.23it/s]"
          }
        },
        "f910ba3aa62f4bf5a0cc3b2910923f80": {
          "model_module": "@jupyter-widgets/base",
          "model_name": "LayoutModel",
          "model_module_version": "1.2.0",
          "state": {
            "_model_module": "@jupyter-widgets/base",
            "_model_module_version": "1.2.0",
            "_model_name": "LayoutModel",
            "_view_count": null,
            "_view_module": "@jupyter-widgets/base",
            "_view_module_version": "1.2.0",
            "_view_name": "LayoutView",
            "align_content": null,
            "align_items": null,
            "align_self": null,
            "border": null,
            "bottom": null,
            "display": null,
            "flex": null,
            "flex_flow": null,
            "grid_area": null,
            "grid_auto_columns": null,
            "grid_auto_flow": null,
            "grid_auto_rows": null,
            "grid_column": null,
            "grid_gap": null,
            "grid_row": null,
            "grid_template_areas": null,
            "grid_template_columns": null,
            "grid_template_rows": null,
            "height": null,
            "justify_content": null,
            "justify_items": null,
            "left": null,
            "margin": null,
            "max_height": null,
            "max_width": null,
            "min_height": null,
            "min_width": null,
            "object_fit": null,
            "object_position": null,
            "order": null,
            "overflow": null,
            "overflow_x": null,
            "overflow_y": null,
            "padding": null,
            "right": null,
            "top": null,
            "visibility": null,
            "width": null
          }
        },
        "a8b698de407c45c5aeb140356a6f29ff": {
          "model_module": "@jupyter-widgets/base",
          "model_name": "LayoutModel",
          "model_module_version": "1.2.0",
          "state": {
            "_model_module": "@jupyter-widgets/base",
            "_model_module_version": "1.2.0",
            "_model_name": "LayoutModel",
            "_view_count": null,
            "_view_module": "@jupyter-widgets/base",
            "_view_module_version": "1.2.0",
            "_view_name": "LayoutView",
            "align_content": null,
            "align_items": null,
            "align_self": null,
            "border": null,
            "bottom": null,
            "display": null,
            "flex": null,
            "flex_flow": null,
            "grid_area": null,
            "grid_auto_columns": null,
            "grid_auto_flow": null,
            "grid_auto_rows": null,
            "grid_column": null,
            "grid_gap": null,
            "grid_row": null,
            "grid_template_areas": null,
            "grid_template_columns": null,
            "grid_template_rows": null,
            "height": null,
            "justify_content": null,
            "justify_items": null,
            "left": null,
            "margin": null,
            "max_height": null,
            "max_width": null,
            "min_height": null,
            "min_width": null,
            "object_fit": null,
            "object_position": null,
            "order": null,
            "overflow": null,
            "overflow_x": null,
            "overflow_y": null,
            "padding": null,
            "right": null,
            "top": null,
            "visibility": null,
            "width": null
          }
        },
        "f27c41aaae6445d3a53cdb03053eedcd": {
          "model_module": "@jupyter-widgets/controls",
          "model_name": "DescriptionStyleModel",
          "model_module_version": "1.5.0",
          "state": {
            "_model_module": "@jupyter-widgets/controls",
            "_model_module_version": "1.5.0",
            "_model_name": "DescriptionStyleModel",
            "_view_count": null,
            "_view_module": "@jupyter-widgets/base",
            "_view_module_version": "1.2.0",
            "_view_name": "StyleView",
            "description_width": ""
          }
        },
        "bccafeb52fee4b6aaab6de3e741e7b71": {
          "model_module": "@jupyter-widgets/base",
          "model_name": "LayoutModel",
          "model_module_version": "1.2.0",
          "state": {
            "_model_module": "@jupyter-widgets/base",
            "_model_module_version": "1.2.0",
            "_model_name": "LayoutModel",
            "_view_count": null,
            "_view_module": "@jupyter-widgets/base",
            "_view_module_version": "1.2.0",
            "_view_name": "LayoutView",
            "align_content": null,
            "align_items": null,
            "align_self": null,
            "border": null,
            "bottom": null,
            "display": null,
            "flex": null,
            "flex_flow": null,
            "grid_area": null,
            "grid_auto_columns": null,
            "grid_auto_flow": null,
            "grid_auto_rows": null,
            "grid_column": null,
            "grid_gap": null,
            "grid_row": null,
            "grid_template_areas": null,
            "grid_template_columns": null,
            "grid_template_rows": null,
            "height": null,
            "justify_content": null,
            "justify_items": null,
            "left": null,
            "margin": null,
            "max_height": null,
            "max_width": null,
            "min_height": null,
            "min_width": null,
            "object_fit": null,
            "object_position": null,
            "order": null,
            "overflow": null,
            "overflow_x": null,
            "overflow_y": null,
            "padding": null,
            "right": null,
            "top": null,
            "visibility": null,
            "width": null
          }
        },
        "d82fa777ffff45fda24df6470eafdcdb": {
          "model_module": "@jupyter-widgets/controls",
          "model_name": "ProgressStyleModel",
          "model_module_version": "1.5.0",
          "state": {
            "_model_module": "@jupyter-widgets/controls",
            "_model_module_version": "1.5.0",
            "_model_name": "ProgressStyleModel",
            "_view_count": null,
            "_view_module": "@jupyter-widgets/base",
            "_view_module_version": "1.2.0",
            "_view_name": "StyleView",
            "bar_color": null,
            "description_width": ""
          }
        },
        "4705bd163cf54c4cabde2ccb6ba770c2": {
          "model_module": "@jupyter-widgets/base",
          "model_name": "LayoutModel",
          "model_module_version": "1.2.0",
          "state": {
            "_model_module": "@jupyter-widgets/base",
            "_model_module_version": "1.2.0",
            "_model_name": "LayoutModel",
            "_view_count": null,
            "_view_module": "@jupyter-widgets/base",
            "_view_module_version": "1.2.0",
            "_view_name": "LayoutView",
            "align_content": null,
            "align_items": null,
            "align_self": null,
            "border": null,
            "bottom": null,
            "display": null,
            "flex": null,
            "flex_flow": null,
            "grid_area": null,
            "grid_auto_columns": null,
            "grid_auto_flow": null,
            "grid_auto_rows": null,
            "grid_column": null,
            "grid_gap": null,
            "grid_row": null,
            "grid_template_areas": null,
            "grid_template_columns": null,
            "grid_template_rows": null,
            "height": null,
            "justify_content": null,
            "justify_items": null,
            "left": null,
            "margin": null,
            "max_height": null,
            "max_width": null,
            "min_height": null,
            "min_width": null,
            "object_fit": null,
            "object_position": null,
            "order": null,
            "overflow": null,
            "overflow_x": null,
            "overflow_y": null,
            "padding": null,
            "right": null,
            "top": null,
            "visibility": null,
            "width": null
          }
        },
        "efeeba54647a401aadb8cd51e9bc0bc5": {
          "model_module": "@jupyter-widgets/controls",
          "model_name": "DescriptionStyleModel",
          "model_module_version": "1.5.0",
          "state": {
            "_model_module": "@jupyter-widgets/controls",
            "_model_module_version": "1.5.0",
            "_model_name": "DescriptionStyleModel",
            "_view_count": null,
            "_view_module": "@jupyter-widgets/base",
            "_view_module_version": "1.2.0",
            "_view_name": "StyleView",
            "description_width": ""
          }
        },
        "d0132cb883884c7ba42dbd7c770b6b8e": {
          "model_module": "@jupyter-widgets/controls",
          "model_name": "HBoxModel",
          "model_module_version": "1.5.0",
          "state": {
            "_dom_classes": [],
            "_model_module": "@jupyter-widgets/controls",
            "_model_module_version": "1.5.0",
            "_model_name": "HBoxModel",
            "_view_count": null,
            "_view_module": "@jupyter-widgets/controls",
            "_view_module_version": "1.5.0",
            "_view_name": "HBoxView",
            "box_style": "",
            "children": [
              "IPY_MODEL_7320ebe114e34995b5b91358c57e6db3",
              "IPY_MODEL_42cb566302f74e5a87bb47947922a4b3",
              "IPY_MODEL_177706b0b7f44a31bc6c1ecd32da6238"
            ],
            "layout": "IPY_MODEL_115b673744384e05adb585edfa27433e"
          }
        },
        "7320ebe114e34995b5b91358c57e6db3": {
          "model_module": "@jupyter-widgets/controls",
          "model_name": "HTMLModel",
          "model_module_version": "1.5.0",
          "state": {
            "_dom_classes": [],
            "_model_module": "@jupyter-widgets/controls",
            "_model_module_version": "1.5.0",
            "_model_name": "HTMLModel",
            "_view_count": null,
            "_view_module": "@jupyter-widgets/controls",
            "_view_module_version": "1.5.0",
            "_view_name": "HTMLView",
            "description": "",
            "description_tooltip": null,
            "layout": "IPY_MODEL_47572eca91f9410a82169cc8c1797ac7",
            "placeholder": "​",
            "style": "IPY_MODEL_fa8476b24f4049f6a23f2169a114c0e3",
            "value": "100%"
          }
        },
        "42cb566302f74e5a87bb47947922a4b3": {
          "model_module": "@jupyter-widgets/controls",
          "model_name": "FloatProgressModel",
          "model_module_version": "1.5.0",
          "state": {
            "_dom_classes": [],
            "_model_module": "@jupyter-widgets/controls",
            "_model_module_version": "1.5.0",
            "_model_name": "FloatProgressModel",
            "_view_count": null,
            "_view_module": "@jupyter-widgets/controls",
            "_view_module_version": "1.5.0",
            "_view_name": "ProgressView",
            "bar_style": "success",
            "description": "",
            "description_tooltip": null,
            "layout": "IPY_MODEL_80024005f81f41e091196d362a8a3b22",
            "max": 100,
            "min": 0,
            "orientation": "horizontal",
            "style": "IPY_MODEL_01bf96ea4dfd4588a68f880ea049f6ff",
            "value": 100
          }
        },
        "177706b0b7f44a31bc6c1ecd32da6238": {
          "model_module": "@jupyter-widgets/controls",
          "model_name": "HTMLModel",
          "model_module_version": "1.5.0",
          "state": {
            "_dom_classes": [],
            "_model_module": "@jupyter-widgets/controls",
            "_model_module_version": "1.5.0",
            "_model_name": "HTMLModel",
            "_view_count": null,
            "_view_module": "@jupyter-widgets/controls",
            "_view_module_version": "1.5.0",
            "_view_name": "HTMLView",
            "description": "",
            "description_tooltip": null,
            "layout": "IPY_MODEL_ec69ea0631654a0f884cfd06b3387c63",
            "placeholder": "​",
            "style": "IPY_MODEL_5cc210f9a5b1411e98629664cc0952f1",
            "value": " 100/100 [2:33:09&lt;00:00, 91.87s/it]"
          }
        },
        "115b673744384e05adb585edfa27433e": {
          "model_module": "@jupyter-widgets/base",
          "model_name": "LayoutModel",
          "model_module_version": "1.2.0",
          "state": {
            "_model_module": "@jupyter-widgets/base",
            "_model_module_version": "1.2.0",
            "_model_name": "LayoutModel",
            "_view_count": null,
            "_view_module": "@jupyter-widgets/base",
            "_view_module_version": "1.2.0",
            "_view_name": "LayoutView",
            "align_content": null,
            "align_items": null,
            "align_self": null,
            "border": null,
            "bottom": null,
            "display": null,
            "flex": null,
            "flex_flow": null,
            "grid_area": null,
            "grid_auto_columns": null,
            "grid_auto_flow": null,
            "grid_auto_rows": null,
            "grid_column": null,
            "grid_gap": null,
            "grid_row": null,
            "grid_template_areas": null,
            "grid_template_columns": null,
            "grid_template_rows": null,
            "height": null,
            "justify_content": null,
            "justify_items": null,
            "left": null,
            "margin": null,
            "max_height": null,
            "max_width": null,
            "min_height": null,
            "min_width": null,
            "object_fit": null,
            "object_position": null,
            "order": null,
            "overflow": null,
            "overflow_x": null,
            "overflow_y": null,
            "padding": null,
            "right": null,
            "top": null,
            "visibility": null,
            "width": null
          }
        },
        "47572eca91f9410a82169cc8c1797ac7": {
          "model_module": "@jupyter-widgets/base",
          "model_name": "LayoutModel",
          "model_module_version": "1.2.0",
          "state": {
            "_model_module": "@jupyter-widgets/base",
            "_model_module_version": "1.2.0",
            "_model_name": "LayoutModel",
            "_view_count": null,
            "_view_module": "@jupyter-widgets/base",
            "_view_module_version": "1.2.0",
            "_view_name": "LayoutView",
            "align_content": null,
            "align_items": null,
            "align_self": null,
            "border": null,
            "bottom": null,
            "display": null,
            "flex": null,
            "flex_flow": null,
            "grid_area": null,
            "grid_auto_columns": null,
            "grid_auto_flow": null,
            "grid_auto_rows": null,
            "grid_column": null,
            "grid_gap": null,
            "grid_row": null,
            "grid_template_areas": null,
            "grid_template_columns": null,
            "grid_template_rows": null,
            "height": null,
            "justify_content": null,
            "justify_items": null,
            "left": null,
            "margin": null,
            "max_height": null,
            "max_width": null,
            "min_height": null,
            "min_width": null,
            "object_fit": null,
            "object_position": null,
            "order": null,
            "overflow": null,
            "overflow_x": null,
            "overflow_y": null,
            "padding": null,
            "right": null,
            "top": null,
            "visibility": null,
            "width": null
          }
        },
        "fa8476b24f4049f6a23f2169a114c0e3": {
          "model_module": "@jupyter-widgets/controls",
          "model_name": "DescriptionStyleModel",
          "model_module_version": "1.5.0",
          "state": {
            "_model_module": "@jupyter-widgets/controls",
            "_model_module_version": "1.5.0",
            "_model_name": "DescriptionStyleModel",
            "_view_count": null,
            "_view_module": "@jupyter-widgets/base",
            "_view_module_version": "1.2.0",
            "_view_name": "StyleView",
            "description_width": ""
          }
        },
        "80024005f81f41e091196d362a8a3b22": {
          "model_module": "@jupyter-widgets/base",
          "model_name": "LayoutModel",
          "model_module_version": "1.2.0",
          "state": {
            "_model_module": "@jupyter-widgets/base",
            "_model_module_version": "1.2.0",
            "_model_name": "LayoutModel",
            "_view_count": null,
            "_view_module": "@jupyter-widgets/base",
            "_view_module_version": "1.2.0",
            "_view_name": "LayoutView",
            "align_content": null,
            "align_items": null,
            "align_self": null,
            "border": null,
            "bottom": null,
            "display": null,
            "flex": null,
            "flex_flow": null,
            "grid_area": null,
            "grid_auto_columns": null,
            "grid_auto_flow": null,
            "grid_auto_rows": null,
            "grid_column": null,
            "grid_gap": null,
            "grid_row": null,
            "grid_template_areas": null,
            "grid_template_columns": null,
            "grid_template_rows": null,
            "height": null,
            "justify_content": null,
            "justify_items": null,
            "left": null,
            "margin": null,
            "max_height": null,
            "max_width": null,
            "min_height": null,
            "min_width": null,
            "object_fit": null,
            "object_position": null,
            "order": null,
            "overflow": null,
            "overflow_x": null,
            "overflow_y": null,
            "padding": null,
            "right": null,
            "top": null,
            "visibility": null,
            "width": null
          }
        },
        "01bf96ea4dfd4588a68f880ea049f6ff": {
          "model_module": "@jupyter-widgets/controls",
          "model_name": "ProgressStyleModel",
          "model_module_version": "1.5.0",
          "state": {
            "_model_module": "@jupyter-widgets/controls",
            "_model_module_version": "1.5.0",
            "_model_name": "ProgressStyleModel",
            "_view_count": null,
            "_view_module": "@jupyter-widgets/base",
            "_view_module_version": "1.2.0",
            "_view_name": "StyleView",
            "bar_color": null,
            "description_width": ""
          }
        },
        "ec69ea0631654a0f884cfd06b3387c63": {
          "model_module": "@jupyter-widgets/base",
          "model_name": "LayoutModel",
          "model_module_version": "1.2.0",
          "state": {
            "_model_module": "@jupyter-widgets/base",
            "_model_module_version": "1.2.0",
            "_model_name": "LayoutModel",
            "_view_count": null,
            "_view_module": "@jupyter-widgets/base",
            "_view_module_version": "1.2.0",
            "_view_name": "LayoutView",
            "align_content": null,
            "align_items": null,
            "align_self": null,
            "border": null,
            "bottom": null,
            "display": null,
            "flex": null,
            "flex_flow": null,
            "grid_area": null,
            "grid_auto_columns": null,
            "grid_auto_flow": null,
            "grid_auto_rows": null,
            "grid_column": null,
            "grid_gap": null,
            "grid_row": null,
            "grid_template_areas": null,
            "grid_template_columns": null,
            "grid_template_rows": null,
            "height": null,
            "justify_content": null,
            "justify_items": null,
            "left": null,
            "margin": null,
            "max_height": null,
            "max_width": null,
            "min_height": null,
            "min_width": null,
            "object_fit": null,
            "object_position": null,
            "order": null,
            "overflow": null,
            "overflow_x": null,
            "overflow_y": null,
            "padding": null,
            "right": null,
            "top": null,
            "visibility": null,
            "width": null
          }
        },
        "5cc210f9a5b1411e98629664cc0952f1": {
          "model_module": "@jupyter-widgets/controls",
          "model_name": "DescriptionStyleModel",
          "model_module_version": "1.5.0",
          "state": {
            "_model_module": "@jupyter-widgets/controls",
            "_model_module_version": "1.5.0",
            "_model_name": "DescriptionStyleModel",
            "_view_count": null,
            "_view_module": "@jupyter-widgets/base",
            "_view_module_version": "1.2.0",
            "_view_name": "StyleView",
            "description_width": ""
          }
        },
        "343c2a6b0b424037ada59ab72143c8c3": {
          "model_module": "@jupyter-widgets/controls",
          "model_name": "HBoxModel",
          "model_module_version": "1.5.0",
          "state": {
            "_dom_classes": [],
            "_model_module": "@jupyter-widgets/controls",
            "_model_module_version": "1.5.0",
            "_model_name": "HBoxModel",
            "_view_count": null,
            "_view_module": "@jupyter-widgets/controls",
            "_view_module_version": "1.5.0",
            "_view_name": "HBoxView",
            "box_style": "",
            "children": [
              "IPY_MODEL_60ba1fd790284719959d41e575a49d44",
              "IPY_MODEL_52afaa8ad0f9447aa8e938961b6be1a7",
              "IPY_MODEL_3df062d818834696aa3ab659b39174b4"
            ],
            "layout": "IPY_MODEL_c6758b02b12342b291200cd4231e0c39"
          }
        },
        "60ba1fd790284719959d41e575a49d44": {
          "model_module": "@jupyter-widgets/controls",
          "model_name": "HTMLModel",
          "model_module_version": "1.5.0",
          "state": {
            "_dom_classes": [],
            "_model_module": "@jupyter-widgets/controls",
            "_model_module_version": "1.5.0",
            "_model_name": "HTMLModel",
            "_view_count": null,
            "_view_module": "@jupyter-widgets/controls",
            "_view_module_version": "1.5.0",
            "_view_name": "HTMLView",
            "description": "",
            "description_tooltip": null,
            "layout": "IPY_MODEL_99af35d5fdbc4c68865dc860697fcf63",
            "placeholder": "​",
            "style": "IPY_MODEL_14e585473c6d43f282c8b65cefb563dd",
            "value": "100%"
          }
        },
        "52afaa8ad0f9447aa8e938961b6be1a7": {
          "model_module": "@jupyter-widgets/controls",
          "model_name": "FloatProgressModel",
          "model_module_version": "1.5.0",
          "state": {
            "_dom_classes": [],
            "_model_module": "@jupyter-widgets/controls",
            "_model_module_version": "1.5.0",
            "_model_name": "FloatProgressModel",
            "_view_count": null,
            "_view_module": "@jupyter-widgets/controls",
            "_view_module_version": "1.5.0",
            "_view_name": "ProgressView",
            "bar_style": "success",
            "description": "",
            "description_tooltip": null,
            "layout": "IPY_MODEL_ae8e6cfa85e148c9a4b3ff8a0923dae8",
            "max": 95628359,
            "min": 0,
            "orientation": "horizontal",
            "style": "IPY_MODEL_3764383b705843989b1afb415312cf22",
            "value": 95628359
          }
        },
        "3df062d818834696aa3ab659b39174b4": {
          "model_module": "@jupyter-widgets/controls",
          "model_name": "HTMLModel",
          "model_module_version": "1.5.0",
          "state": {
            "_dom_classes": [],
            "_model_module": "@jupyter-widgets/controls",
            "_model_module_version": "1.5.0",
            "_model_name": "HTMLModel",
            "_view_count": null,
            "_view_module": "@jupyter-widgets/controls",
            "_view_module_version": "1.5.0",
            "_view_name": "HTMLView",
            "description": "",
            "description_tooltip": null,
            "layout": "IPY_MODEL_5aff2f4d653c42d5bd9336f7f5c8cad5",
            "placeholder": "​",
            "style": "IPY_MODEL_9724fd7c7d1c40ceaaafd6d46be1537c",
            "value": " 91.2M/91.2M [00:09&lt;00:00, 10.1MB/s]"
          }
        },
        "c6758b02b12342b291200cd4231e0c39": {
          "model_module": "@jupyter-widgets/base",
          "model_name": "LayoutModel",
          "model_module_version": "1.2.0",
          "state": {
            "_model_module": "@jupyter-widgets/base",
            "_model_module_version": "1.2.0",
            "_model_name": "LayoutModel",
            "_view_count": null,
            "_view_module": "@jupyter-widgets/base",
            "_view_module_version": "1.2.0",
            "_view_name": "LayoutView",
            "align_content": null,
            "align_items": null,
            "align_self": null,
            "border": null,
            "bottom": null,
            "display": null,
            "flex": null,
            "flex_flow": null,
            "grid_area": null,
            "grid_auto_columns": null,
            "grid_auto_flow": null,
            "grid_auto_rows": null,
            "grid_column": null,
            "grid_gap": null,
            "grid_row": null,
            "grid_template_areas": null,
            "grid_template_columns": null,
            "grid_template_rows": null,
            "height": null,
            "justify_content": null,
            "justify_items": null,
            "left": null,
            "margin": null,
            "max_height": null,
            "max_width": null,
            "min_height": null,
            "min_width": null,
            "object_fit": null,
            "object_position": null,
            "order": null,
            "overflow": null,
            "overflow_x": null,
            "overflow_y": null,
            "padding": null,
            "right": null,
            "top": null,
            "visibility": null,
            "width": null
          }
        },
        "99af35d5fdbc4c68865dc860697fcf63": {
          "model_module": "@jupyter-widgets/base",
          "model_name": "LayoutModel",
          "model_module_version": "1.2.0",
          "state": {
            "_model_module": "@jupyter-widgets/base",
            "_model_module_version": "1.2.0",
            "_model_name": "LayoutModel",
            "_view_count": null,
            "_view_module": "@jupyter-widgets/base",
            "_view_module_version": "1.2.0",
            "_view_name": "LayoutView",
            "align_content": null,
            "align_items": null,
            "align_self": null,
            "border": null,
            "bottom": null,
            "display": null,
            "flex": null,
            "flex_flow": null,
            "grid_area": null,
            "grid_auto_columns": null,
            "grid_auto_flow": null,
            "grid_auto_rows": null,
            "grid_column": null,
            "grid_gap": null,
            "grid_row": null,
            "grid_template_areas": null,
            "grid_template_columns": null,
            "grid_template_rows": null,
            "height": null,
            "justify_content": null,
            "justify_items": null,
            "left": null,
            "margin": null,
            "max_height": null,
            "max_width": null,
            "min_height": null,
            "min_width": null,
            "object_fit": null,
            "object_position": null,
            "order": null,
            "overflow": null,
            "overflow_x": null,
            "overflow_y": null,
            "padding": null,
            "right": null,
            "top": null,
            "visibility": null,
            "width": null
          }
        },
        "14e585473c6d43f282c8b65cefb563dd": {
          "model_module": "@jupyter-widgets/controls",
          "model_name": "DescriptionStyleModel",
          "model_module_version": "1.5.0",
          "state": {
            "_model_module": "@jupyter-widgets/controls",
            "_model_module_version": "1.5.0",
            "_model_name": "DescriptionStyleModel",
            "_view_count": null,
            "_view_module": "@jupyter-widgets/base",
            "_view_module_version": "1.2.0",
            "_view_name": "StyleView",
            "description_width": ""
          }
        },
        "ae8e6cfa85e148c9a4b3ff8a0923dae8": {
          "model_module": "@jupyter-widgets/base",
          "model_name": "LayoutModel",
          "model_module_version": "1.2.0",
          "state": {
            "_model_module": "@jupyter-widgets/base",
            "_model_module_version": "1.2.0",
            "_model_name": "LayoutModel",
            "_view_count": null,
            "_view_module": "@jupyter-widgets/base",
            "_view_module_version": "1.2.0",
            "_view_name": "LayoutView",
            "align_content": null,
            "align_items": null,
            "align_self": null,
            "border": null,
            "bottom": null,
            "display": null,
            "flex": null,
            "flex_flow": null,
            "grid_area": null,
            "grid_auto_columns": null,
            "grid_auto_flow": null,
            "grid_auto_rows": null,
            "grid_column": null,
            "grid_gap": null,
            "grid_row": null,
            "grid_template_areas": null,
            "grid_template_columns": null,
            "grid_template_rows": null,
            "height": null,
            "justify_content": null,
            "justify_items": null,
            "left": null,
            "margin": null,
            "max_height": null,
            "max_width": null,
            "min_height": null,
            "min_width": null,
            "object_fit": null,
            "object_position": null,
            "order": null,
            "overflow": null,
            "overflow_x": null,
            "overflow_y": null,
            "padding": null,
            "right": null,
            "top": null,
            "visibility": null,
            "width": null
          }
        },
        "3764383b705843989b1afb415312cf22": {
          "model_module": "@jupyter-widgets/controls",
          "model_name": "ProgressStyleModel",
          "model_module_version": "1.5.0",
          "state": {
            "_model_module": "@jupyter-widgets/controls",
            "_model_module_version": "1.5.0",
            "_model_name": "ProgressStyleModel",
            "_view_count": null,
            "_view_module": "@jupyter-widgets/base",
            "_view_module_version": "1.2.0",
            "_view_name": "StyleView",
            "bar_color": null,
            "description_width": ""
          }
        },
        "5aff2f4d653c42d5bd9336f7f5c8cad5": {
          "model_module": "@jupyter-widgets/base",
          "model_name": "LayoutModel",
          "model_module_version": "1.2.0",
          "state": {
            "_model_module": "@jupyter-widgets/base",
            "_model_module_version": "1.2.0",
            "_model_name": "LayoutModel",
            "_view_count": null,
            "_view_module": "@jupyter-widgets/base",
            "_view_module_version": "1.2.0",
            "_view_name": "LayoutView",
            "align_content": null,
            "align_items": null,
            "align_self": null,
            "border": null,
            "bottom": null,
            "display": null,
            "flex": null,
            "flex_flow": null,
            "grid_area": null,
            "grid_auto_columns": null,
            "grid_auto_flow": null,
            "grid_auto_rows": null,
            "grid_column": null,
            "grid_gap": null,
            "grid_row": null,
            "grid_template_areas": null,
            "grid_template_columns": null,
            "grid_template_rows": null,
            "height": null,
            "justify_content": null,
            "justify_items": null,
            "left": null,
            "margin": null,
            "max_height": null,
            "max_width": null,
            "min_height": null,
            "min_width": null,
            "object_fit": null,
            "object_position": null,
            "order": null,
            "overflow": null,
            "overflow_x": null,
            "overflow_y": null,
            "padding": null,
            "right": null,
            "top": null,
            "visibility": null,
            "width": null
          }
        },
        "9724fd7c7d1c40ceaaafd6d46be1537c": {
          "model_module": "@jupyter-widgets/controls",
          "model_name": "DescriptionStyleModel",
          "model_module_version": "1.5.0",
          "state": {
            "_model_module": "@jupyter-widgets/controls",
            "_model_module_version": "1.5.0",
            "_model_name": "DescriptionStyleModel",
            "_view_count": null,
            "_view_module": "@jupyter-widgets/base",
            "_view_module_version": "1.2.0",
            "_view_name": "StyleView",
            "description_width": ""
          }
        },
        "fd7f84821fbc433bb8b4b0aa93eead2f": {
          "model_module": "@jupyter-widgets/controls",
          "model_name": "HBoxModel",
          "model_module_version": "1.5.0",
          "state": {
            "_dom_classes": [],
            "_model_module": "@jupyter-widgets/controls",
            "_model_module_version": "1.5.0",
            "_model_name": "HBoxModel",
            "_view_count": null,
            "_view_module": "@jupyter-widgets/controls",
            "_view_module_version": "1.5.0",
            "_view_name": "HBoxView",
            "box_style": "",
            "children": [
              "IPY_MODEL_ddd64b8fad374f3d97a38336a7e4cf5a",
              "IPY_MODEL_fc78d6c82c7a461ebd48276d641a4aa7",
              "IPY_MODEL_30f033d4775047d8abac3e9be891f2e3"
            ],
            "layout": "IPY_MODEL_32ca7569468447c4ad064192dbba4084"
          }
        },
        "ddd64b8fad374f3d97a38336a7e4cf5a": {
          "model_module": "@jupyter-widgets/controls",
          "model_name": "HTMLModel",
          "model_module_version": "1.5.0",
          "state": {
            "_dom_classes": [],
            "_model_module": "@jupyter-widgets/controls",
            "_model_module_version": "1.5.0",
            "_model_name": "HTMLModel",
            "_view_count": null,
            "_view_module": "@jupyter-widgets/controls",
            "_view_module_version": "1.5.0",
            "_view_name": "HTMLView",
            "description": "",
            "description_tooltip": null,
            "layout": "IPY_MODEL_3fd4d736ec7a40b892d77a8ee31f2d62",
            "placeholder": "​",
            "style": "IPY_MODEL_7175bdacacbc4f4d932f9ea3c3bc861b",
            "value": " 98%"
          }
        },
        "fc78d6c82c7a461ebd48276d641a4aa7": {
          "model_module": "@jupyter-widgets/controls",
          "model_name": "FloatProgressModel",
          "model_module_version": "1.5.0",
          "state": {
            "_dom_classes": [],
            "_model_module": "@jupyter-widgets/controls",
            "_model_module_version": "1.5.0",
            "_model_name": "FloatProgressModel",
            "_view_count": null,
            "_view_module": "@jupyter-widgets/controls",
            "_view_module_version": "1.5.0",
            "_view_name": "ProgressView",
            "bar_style": "",
            "description": "",
            "description_tooltip": null,
            "layout": "IPY_MODEL_c767f336b8e14ff6b80def62b4509bbb",
            "max": 100,
            "min": 0,
            "orientation": "horizontal",
            "style": "IPY_MODEL_afbb1df932054d35b5b15f07553dc452",
            "value": 98
          }
        },
        "30f033d4775047d8abac3e9be891f2e3": {
          "model_module": "@jupyter-widgets/controls",
          "model_name": "HTMLModel",
          "model_module_version": "1.5.0",
          "state": {
            "_dom_classes": [],
            "_model_module": "@jupyter-widgets/controls",
            "_model_module_version": "1.5.0",
            "_model_name": "HTMLModel",
            "_view_count": null,
            "_view_module": "@jupyter-widgets/controls",
            "_view_module_version": "1.5.0",
            "_view_name": "HTMLView",
            "description": "",
            "description_tooltip": null,
            "layout": "IPY_MODEL_b37958560f214f28872814e5677a52db",
            "placeholder": "​",
            "style": "IPY_MODEL_0a68359c3f5d40a388665d2212dd490e",
            "value": " 98/100 [3:28:19&lt;04:15, 127.61s/it]"
          }
        },
        "32ca7569468447c4ad064192dbba4084": {
          "model_module": "@jupyter-widgets/base",
          "model_name": "LayoutModel",
          "model_module_version": "1.2.0",
          "state": {
            "_model_module": "@jupyter-widgets/base",
            "_model_module_version": "1.2.0",
            "_model_name": "LayoutModel",
            "_view_count": null,
            "_view_module": "@jupyter-widgets/base",
            "_view_module_version": "1.2.0",
            "_view_name": "LayoutView",
            "align_content": null,
            "align_items": null,
            "align_self": null,
            "border": null,
            "bottom": null,
            "display": null,
            "flex": null,
            "flex_flow": null,
            "grid_area": null,
            "grid_auto_columns": null,
            "grid_auto_flow": null,
            "grid_auto_rows": null,
            "grid_column": null,
            "grid_gap": null,
            "grid_row": null,
            "grid_template_areas": null,
            "grid_template_columns": null,
            "grid_template_rows": null,
            "height": null,
            "justify_content": null,
            "justify_items": null,
            "left": null,
            "margin": null,
            "max_height": null,
            "max_width": null,
            "min_height": null,
            "min_width": null,
            "object_fit": null,
            "object_position": null,
            "order": null,
            "overflow": null,
            "overflow_x": null,
            "overflow_y": null,
            "padding": null,
            "right": null,
            "top": null,
            "visibility": null,
            "width": null
          }
        },
        "3fd4d736ec7a40b892d77a8ee31f2d62": {
          "model_module": "@jupyter-widgets/base",
          "model_name": "LayoutModel",
          "model_module_version": "1.2.0",
          "state": {
            "_model_module": "@jupyter-widgets/base",
            "_model_module_version": "1.2.0",
            "_model_name": "LayoutModel",
            "_view_count": null,
            "_view_module": "@jupyter-widgets/base",
            "_view_module_version": "1.2.0",
            "_view_name": "LayoutView",
            "align_content": null,
            "align_items": null,
            "align_self": null,
            "border": null,
            "bottom": null,
            "display": null,
            "flex": null,
            "flex_flow": null,
            "grid_area": null,
            "grid_auto_columns": null,
            "grid_auto_flow": null,
            "grid_auto_rows": null,
            "grid_column": null,
            "grid_gap": null,
            "grid_row": null,
            "grid_template_areas": null,
            "grid_template_columns": null,
            "grid_template_rows": null,
            "height": null,
            "justify_content": null,
            "justify_items": null,
            "left": null,
            "margin": null,
            "max_height": null,
            "max_width": null,
            "min_height": null,
            "min_width": null,
            "object_fit": null,
            "object_position": null,
            "order": null,
            "overflow": null,
            "overflow_x": null,
            "overflow_y": null,
            "padding": null,
            "right": null,
            "top": null,
            "visibility": null,
            "width": null
          }
        },
        "7175bdacacbc4f4d932f9ea3c3bc861b": {
          "model_module": "@jupyter-widgets/controls",
          "model_name": "DescriptionStyleModel",
          "model_module_version": "1.5.0",
          "state": {
            "_model_module": "@jupyter-widgets/controls",
            "_model_module_version": "1.5.0",
            "_model_name": "DescriptionStyleModel",
            "_view_count": null,
            "_view_module": "@jupyter-widgets/base",
            "_view_module_version": "1.2.0",
            "_view_name": "StyleView",
            "description_width": ""
          }
        },
        "c767f336b8e14ff6b80def62b4509bbb": {
          "model_module": "@jupyter-widgets/base",
          "model_name": "LayoutModel",
          "model_module_version": "1.2.0",
          "state": {
            "_model_module": "@jupyter-widgets/base",
            "_model_module_version": "1.2.0",
            "_model_name": "LayoutModel",
            "_view_count": null,
            "_view_module": "@jupyter-widgets/base",
            "_view_module_version": "1.2.0",
            "_view_name": "LayoutView",
            "align_content": null,
            "align_items": null,
            "align_self": null,
            "border": null,
            "bottom": null,
            "display": null,
            "flex": null,
            "flex_flow": null,
            "grid_area": null,
            "grid_auto_columns": null,
            "grid_auto_flow": null,
            "grid_auto_rows": null,
            "grid_column": null,
            "grid_gap": null,
            "grid_row": null,
            "grid_template_areas": null,
            "grid_template_columns": null,
            "grid_template_rows": null,
            "height": null,
            "justify_content": null,
            "justify_items": null,
            "left": null,
            "margin": null,
            "max_height": null,
            "max_width": null,
            "min_height": null,
            "min_width": null,
            "object_fit": null,
            "object_position": null,
            "order": null,
            "overflow": null,
            "overflow_x": null,
            "overflow_y": null,
            "padding": null,
            "right": null,
            "top": null,
            "visibility": null,
            "width": null
          }
        },
        "afbb1df932054d35b5b15f07553dc452": {
          "model_module": "@jupyter-widgets/controls",
          "model_name": "ProgressStyleModel",
          "model_module_version": "1.5.0",
          "state": {
            "_model_module": "@jupyter-widgets/controls",
            "_model_module_version": "1.5.0",
            "_model_name": "ProgressStyleModel",
            "_view_count": null,
            "_view_module": "@jupyter-widgets/base",
            "_view_module_version": "1.2.0",
            "_view_name": "StyleView",
            "bar_color": null,
            "description_width": ""
          }
        },
        "b37958560f214f28872814e5677a52db": {
          "model_module": "@jupyter-widgets/base",
          "model_name": "LayoutModel",
          "model_module_version": "1.2.0",
          "state": {
            "_model_module": "@jupyter-widgets/base",
            "_model_module_version": "1.2.0",
            "_model_name": "LayoutModel",
            "_view_count": null,
            "_view_module": "@jupyter-widgets/base",
            "_view_module_version": "1.2.0",
            "_view_name": "LayoutView",
            "align_content": null,
            "align_items": null,
            "align_self": null,
            "border": null,
            "bottom": null,
            "display": null,
            "flex": null,
            "flex_flow": null,
            "grid_area": null,
            "grid_auto_columns": null,
            "grid_auto_flow": null,
            "grid_auto_rows": null,
            "grid_column": null,
            "grid_gap": null,
            "grid_row": null,
            "grid_template_areas": null,
            "grid_template_columns": null,
            "grid_template_rows": null,
            "height": null,
            "justify_content": null,
            "justify_items": null,
            "left": null,
            "margin": null,
            "max_height": null,
            "max_width": null,
            "min_height": null,
            "min_width": null,
            "object_fit": null,
            "object_position": null,
            "order": null,
            "overflow": null,
            "overflow_x": null,
            "overflow_y": null,
            "padding": null,
            "right": null,
            "top": null,
            "visibility": null,
            "width": null
          }
        },
        "0a68359c3f5d40a388665d2212dd490e": {
          "model_module": "@jupyter-widgets/controls",
          "model_name": "DescriptionStyleModel",
          "model_module_version": "1.5.0",
          "state": {
            "_model_module": "@jupyter-widgets/controls",
            "_model_module_version": "1.5.0",
            "_model_name": "DescriptionStyleModel",
            "_view_count": null,
            "_view_module": "@jupyter-widgets/base",
            "_view_module_version": "1.2.0",
            "_view_name": "StyleView",
            "description_width": ""
          }
        }
      }
    }
  },
  "nbformat": 4,
  "nbformat_minor": 5
}