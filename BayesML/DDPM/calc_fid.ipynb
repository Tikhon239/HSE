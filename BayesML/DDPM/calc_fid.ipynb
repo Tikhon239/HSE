{
  "cells": [
    {
      "cell_type": "code",
      "source": [
        "!if [ -d HSE ]; then rm -Rf HSE; fi\n",
        "!git clone https://github.com/Tikhon239/HSE\n",
        "!cp -a /content/HSE/BayesML/DDPM/* ."
      ],
      "metadata": {
        "id": "qpidZfT5OGVH"
      },
      "id": "qpidZfT5OGVH",
      "execution_count": null,
      "outputs": []
    },
    {
      "cell_type": "code",
      "source": [
        "!pip3 install wandb\n",
        "!pip3 install ml_collections\n",
        "!pip3 install skimage\n",
        "!pip3 install pytorch_fid"
      ],
      "metadata": {
        "id": "Iy0yHQOGOMMa"
      },
      "id": "Iy0yHQOGOMMa",
      "execution_count": null,
      "outputs": []
    },
    {
      "cell_type": "code",
      "execution_count": 8,
      "id": "199b716a",
      "metadata": {
        "id": "199b716a"
      },
      "outputs": [],
      "source": [
        "import torch\n",
        "import numpy as np\n",
        "import os\n",
        "\n",
        "from skimage.io import imread, imsave\n",
        "from tqdm.auto import trange, tqdm\n",
        "from torchvision.datasets import MNIST\n",
        "from torchvision.transforms import Compose, Resize\n",
        "from pytorch_fid import fid_score\n",
        "\n",
        "from data_generator import DataGenerator\n",
        "from default_mnist_config import create_default_mnist_config\n",
        "from diffusion import DiffusionRunner\n",
        "from models.classifier import ResNet, ResidualBlock, ConditionalResNet\n",
        "\n",
        "from matplotlib import pyplot as plt"
      ]
    },
    {
      "cell_type": "code",
      "source": [
        "import warnings\n",
        "warnings.filterwarnings('ignore')"
      ],
      "metadata": {
        "id": "u76VymkjWykT"
      },
      "id": "u76VymkjWykT",
      "execution_count": 27,
      "outputs": []
    },
    {
      "cell_type": "markdown",
      "id": "f8a96e0e",
      "metadata": {
        "id": "f8a96e0e"
      },
      "source": [
        "#### Определим папку с настоящими картинками"
      ]
    },
    {
      "cell_type": "code",
      "execution_count": 6,
      "id": "5def5c68",
      "metadata": {
        "id": "5def5c68"
      },
      "outputs": [],
      "source": [
        "def create_dir(path: str):\n",
        "    if not os.path.exists(path):\n",
        "        os.makedirs(path)"
      ]
    },
    {
      "cell_type": "code",
      "source": [
        "TOTAL_IMAGES_COUNT = 20_000\n",
        "BATCH_SIZE = 200\n",
        "NUM_ITERS = TOTAL_IMAGES_COUNT // BATCH_SIZE\n",
        "\n",
        "device = torch.device('cuda')"
      ],
      "metadata": {
        "id": "IHd3gXTFVe9z"
      },
      "id": "IHd3gXTFVe9z",
      "execution_count": 44,
      "outputs": []
    },
    {
      "cell_type": "code",
      "execution_count": 45,
      "id": "72e67beb",
      "metadata": {
        "colab": {
          "base_uri": "https://localhost:8080/",
          "height": 49,
          "referenced_widgets": [
            "3307b55d21f6422fbf2b2ca924e46016",
            "303307f1b7e84478a8334ab66e87ae59",
            "e905d99e2f184ca8ae7ce8ee57032e33",
            "4e196f7ba6c2479caeedf4e57133ea32",
            "54420d2c1cee4655ac7f241c0394b394",
            "d122bc3ac00346ae82d36d392063c550",
            "048a3259634a4fa58d94f7375f3b9b3f",
            "a4922f00ea2b4238b4d19a0bea8701cb",
            "e52a57a403de42aabeeb27a55354be51",
            "cd9a451332d3472f9f1e8cf3fa520144",
            "dfb4da783d3c4bceb4031bbd0cd0cc02"
          ]
        },
        "id": "72e67beb",
        "outputId": "bcf4c5ab-4c3f-4ab4-c619-7532ff9494d8"
      },
      "outputs": [
        {
          "output_type": "display_data",
          "data": {
            "text/plain": [
              "  0%|          | 0/20000 [00:00<?, ?it/s]"
            ],
            "application/vnd.jupyter.widget-view+json": {
              "version_major": 2,
              "version_minor": 0,
              "model_id": "3307b55d21f6422fbf2b2ca924e46016"
            }
          },
          "metadata": {}
        }
      ],
      "source": [
        "create_dir('./real_images_MNIST')\n",
        "\n",
        "real_dataset = MNIST(root='./data', download=True, train=True, transform=Compose([Resize((32, 32))]))\n",
        "for idx, (image_mnist, label) in enumerate(tqdm(real_dataset, total=TOTAL_IMAGES_COUNT)):\n",
        "    if idx == TOTAL_IMAGES_COUNT:\n",
        "        break\n",
        "    image = np.array(image_mnist)\n",
        "    imsave(\"./real_images_MNIST/{}.png\".format(idx), image)"
      ]
    },
    {
      "cell_type": "markdown",
      "id": "fabbea8d",
      "metadata": {
        "id": "fabbea8d"
      },
      "source": [
        "#### Определим папку для синтетических картинок и сгенерируем 60к картинок"
      ]
    },
    {
      "cell_type": "code",
      "execution_count": 50,
      "id": "c0538815",
      "metadata": {
        "id": "c0538815"
      },
      "outputs": [],
      "source": [
        "uncond_diff = DiffusionRunner(create_default_mnist_config(), eval=True)\n",
        "uncond_diff.model.eval();"
      ]
    },
    {
      "cell_type": "code",
      "execution_count": null,
      "id": "5dd28b16",
      "metadata": {
        "colab": {
          "base_uri": "https://localhost:8080/",
          "height": 49,
          "referenced_widgets": [
            "6d7ef1a1f2824722bf34cb8d10ace980",
            "46dc7fc118b04e4eba6ab3888cbce7b6",
            "5d5219ddc9cb47cb8d028f6295ba169c",
            "7eaf311f5d5c4a3d872bd8fd3abec749",
            "ce415c463e9f49d19348bff953f8b7d7",
            "cbe27181c2a34f168cff1fee60b61a99",
            "ed2f44e7348f4b66bf241831a8582007",
            "70b5132d1d6b48c4b4cdcef6211953d5",
            "61b2ee01d3614179ac6def1897399a34",
            "e176a612515d4cb8be917f83c1d52659",
            "4f99043fc7884d8982003ce9e419fa30"
          ]
        },
        "id": "5dd28b16",
        "outputId": "8747e70b-1bac-4bbc-d05d-c16d6371916b"
      },
      "outputs": [
        {
          "output_type": "display_data",
          "data": {
            "text/plain": [
              "  0%|          | 0/100 [00:00<?, ?it/s]"
            ],
            "application/vnd.jupyter.widget-view+json": {
              "version_major": 2,
              "version_minor": 0,
              "model_id": "6d7ef1a1f2824722bf34cb8d10ace980"
            }
          },
          "metadata": {}
        }
      ],
      "source": [
        "create_dir('./uncond_mnist')\n",
        "\n",
        "global_idx = 0\n",
        "for idx in trange(NUM_ITERS):\n",
        "    images: torch.Tensor = uncond_diff.sample_images(batch_size=BATCH_SIZE).cpu()\n",
        "    images = images.permute(0, 2, 3, 1).data.numpy().astype(np.uint8)\n",
        "\n",
        "    for i in range(len(images)):\n",
        "        imsave(os.path.join('./uncond_mnist', f'{global_idx}.png'), images[i])\n",
        "        global_idx += 1"
      ]
    },
    {
      "cell_type": "code",
      "execution_count": null,
      "id": "7ae0649a",
      "metadata": {
        "id": "7ae0649a"
      },
      "outputs": [],
      "source": [
        "fid_value = fid_score.calculate_fid_given_paths(\n",
        "    paths=['./real_images_MNIST', './uncond_mnist'],\n",
        "    batch_size=200,\n",
        "    device=device,\n",
        "    dims=2048\n",
        ")\n",
        "fid_value"
      ]
    },
    {
      "cell_type": "code",
      "source": [
        "cond_diff = DiffusionRunner(create_default_mnist_config(), eval=True)\n",
        "cond_diff.model.eval();\n",
        "\n",
        "classifier_args = {\n",
        "    \"block\": ResidualBlock,\n",
        "    \"layers\": [2, 2, 2, 2]\n",
        "}\n",
        "noisy_classifier = ConditionalResNet(**classifier_args)\n",
        "noisy_classifier.to(device)\n",
        "\n",
        "noisy_classifier.load_state_dict(torch.load('./ddpm_checkpoints/classifier.pth'))\n",
        "noisy_classifier.eval()\n",
        "\n",
        "cond_diff.set_classifier(noisy_classifier, 1.0)"
      ],
      "metadata": {
        "id": "p0bdfzk-RdYs"
      },
      "id": "p0bdfzk-RdYs",
      "execution_count": null,
      "outputs": []
    },
    {
      "cell_type": "code",
      "source": [
        "create_dir('./cond_mnist')\n",
        "\n",
        "labels = torch.arange(10, device=device).repeat(BATCH_SIZE // 10)\n",
        "\n",
        "global_idx = 0\n",
        "for idx in trange(NUM_ITERS):\n",
        "    images: torch.Tensor = cond_diff.sample_images(batch_size=BATCH_SIZE, labels=labels).cpu()\n",
        "    images = images.permute(0, 2, 3, 1).data.numpy().astype(np.uint8)\n",
        "\n",
        "    for i in range(len(images)):\n",
        "        imsave(os.path.join('./cond_mnist', f'{global_idx}.png'), images[i])\n",
        "        global_idx += 1"
      ],
      "metadata": {
        "id": "SC-C-VEDRZiI"
      },
      "id": "SC-C-VEDRZiI",
      "execution_count": null,
      "outputs": []
    },
    {
      "cell_type": "code",
      "source": [
        "fid_value = fid_score.calculate_fid_given_paths(\n",
        "    paths=['./real_images_MNIST', './cond_mnist'],\n",
        "    batch_size=200,\n",
        "    device=device,\n",
        "    dims=2048\n",
        ")\n",
        "fid_value"
      ],
      "metadata": {
        "id": "_UUPkcVnXPVx"
      },
      "id": "_UUPkcVnXPVx",
      "execution_count": null,
      "outputs": []
    },
    {
      "cell_type": "markdown",
      "id": "525ea8ea",
      "metadata": {
        "id": "525ea8ea"
      },
      "source": [
        "> Какой фид получился? Сравните FID для безусловной генерации и для условной. Сгенерируйте для каждого класса по 6к картинок и посчитайте FID между реальными и условно сгенерированными картинками."
      ]
    }
  ],
  "metadata": {
    "kernelspec": {
      "display_name": "Python 3 (ipykernel)",
      "language": "python",
      "name": "python3"
    },
    "language_info": {
      "codemirror_mode": {
        "name": "ipython",
        "version": 3
      },
      "file_extension": ".py",
      "mimetype": "text/x-python",
      "name": "python",
      "nbconvert_exporter": "python",
      "pygments_lexer": "ipython3",
      "version": "3.9.5"
    },
    "colab": {
      "name": "calc_fid.ipynb",
      "provenance": []
    },
    "accelerator": "GPU",
    "widgets": {
      "application/vnd.jupyter.widget-state+json": {
        "3307b55d21f6422fbf2b2ca924e46016": {
          "model_module": "@jupyter-widgets/controls",
          "model_name": "HBoxModel",
          "model_module_version": "1.5.0",
          "state": {
            "_dom_classes": [],
            "_model_module": "@jupyter-widgets/controls",
            "_model_module_version": "1.5.0",
            "_model_name": "HBoxModel",
            "_view_count": null,
            "_view_module": "@jupyter-widgets/controls",
            "_view_module_version": "1.5.0",
            "_view_name": "HBoxView",
            "box_style": "",
            "children": [
              "IPY_MODEL_303307f1b7e84478a8334ab66e87ae59",
              "IPY_MODEL_e905d99e2f184ca8ae7ce8ee57032e33",
              "IPY_MODEL_4e196f7ba6c2479caeedf4e57133ea32"
            ],
            "layout": "IPY_MODEL_54420d2c1cee4655ac7f241c0394b394"
          }
        },
        "303307f1b7e84478a8334ab66e87ae59": {
          "model_module": "@jupyter-widgets/controls",
          "model_name": "HTMLModel",
          "model_module_version": "1.5.0",
          "state": {
            "_dom_classes": [],
            "_model_module": "@jupyter-widgets/controls",
            "_model_module_version": "1.5.0",
            "_model_name": "HTMLModel",
            "_view_count": null,
            "_view_module": "@jupyter-widgets/controls",
            "_view_module_version": "1.5.0",
            "_view_name": "HTMLView",
            "description": "",
            "description_tooltip": null,
            "layout": "IPY_MODEL_d122bc3ac00346ae82d36d392063c550",
            "placeholder": "​",
            "style": "IPY_MODEL_048a3259634a4fa58d94f7375f3b9b3f",
            "value": "100%"
          }
        },
        "e905d99e2f184ca8ae7ce8ee57032e33": {
          "model_module": "@jupyter-widgets/controls",
          "model_name": "FloatProgressModel",
          "model_module_version": "1.5.0",
          "state": {
            "_dom_classes": [],
            "_model_module": "@jupyter-widgets/controls",
            "_model_module_version": "1.5.0",
            "_model_name": "FloatProgressModel",
            "_view_count": null,
            "_view_module": "@jupyter-widgets/controls",
            "_view_module_version": "1.5.0",
            "_view_name": "ProgressView",
            "bar_style": "danger",
            "description": "",
            "description_tooltip": null,
            "layout": "IPY_MODEL_a4922f00ea2b4238b4d19a0bea8701cb",
            "max": 20000,
            "min": 0,
            "orientation": "horizontal",
            "style": "IPY_MODEL_e52a57a403de42aabeeb27a55354be51",
            "value": 20000
          }
        },
        "4e196f7ba6c2479caeedf4e57133ea32": {
          "model_module": "@jupyter-widgets/controls",
          "model_name": "HTMLModel",
          "model_module_version": "1.5.0",
          "state": {
            "_dom_classes": [],
            "_model_module": "@jupyter-widgets/controls",
            "_model_module_version": "1.5.0",
            "_model_name": "HTMLModel",
            "_view_count": null,
            "_view_module": "@jupyter-widgets/controls",
            "_view_module_version": "1.5.0",
            "_view_name": "HTMLView",
            "description": "",
            "description_tooltip": null,
            "layout": "IPY_MODEL_cd9a451332d3472f9f1e8cf3fa520144",
            "placeholder": "​",
            "style": "IPY_MODEL_dfb4da783d3c4bceb4031bbd0cd0cc02",
            "value": " 20000/20000 [00:17&lt;00:00, 1187.93it/s]"
          }
        },
        "54420d2c1cee4655ac7f241c0394b394": {
          "model_module": "@jupyter-widgets/base",
          "model_name": "LayoutModel",
          "model_module_version": "1.2.0",
          "state": {
            "_model_module": "@jupyter-widgets/base",
            "_model_module_version": "1.2.0",
            "_model_name": "LayoutModel",
            "_view_count": null,
            "_view_module": "@jupyter-widgets/base",
            "_view_module_version": "1.2.0",
            "_view_name": "LayoutView",
            "align_content": null,
            "align_items": null,
            "align_self": null,
            "border": null,
            "bottom": null,
            "display": null,
            "flex": null,
            "flex_flow": null,
            "grid_area": null,
            "grid_auto_columns": null,
            "grid_auto_flow": null,
            "grid_auto_rows": null,
            "grid_column": null,
            "grid_gap": null,
            "grid_row": null,
            "grid_template_areas": null,
            "grid_template_columns": null,
            "grid_template_rows": null,
            "height": null,
            "justify_content": null,
            "justify_items": null,
            "left": null,
            "margin": null,
            "max_height": null,
            "max_width": null,
            "min_height": null,
            "min_width": null,
            "object_fit": null,
            "object_position": null,
            "order": null,
            "overflow": null,
            "overflow_x": null,
            "overflow_y": null,
            "padding": null,
            "right": null,
            "top": null,
            "visibility": null,
            "width": null
          }
        },
        "d122bc3ac00346ae82d36d392063c550": {
          "model_module": "@jupyter-widgets/base",
          "model_name": "LayoutModel",
          "model_module_version": "1.2.0",
          "state": {
            "_model_module": "@jupyter-widgets/base",
            "_model_module_version": "1.2.0",
            "_model_name": "LayoutModel",
            "_view_count": null,
            "_view_module": "@jupyter-widgets/base",
            "_view_module_version": "1.2.0",
            "_view_name": "LayoutView",
            "align_content": null,
            "align_items": null,
            "align_self": null,
            "border": null,
            "bottom": null,
            "display": null,
            "flex": null,
            "flex_flow": null,
            "grid_area": null,
            "grid_auto_columns": null,
            "grid_auto_flow": null,
            "grid_auto_rows": null,
            "grid_column": null,
            "grid_gap": null,
            "grid_row": null,
            "grid_template_areas": null,
            "grid_template_columns": null,
            "grid_template_rows": null,
            "height": null,
            "justify_content": null,
            "justify_items": null,
            "left": null,
            "margin": null,
            "max_height": null,
            "max_width": null,
            "min_height": null,
            "min_width": null,
            "object_fit": null,
            "object_position": null,
            "order": null,
            "overflow": null,
            "overflow_x": null,
            "overflow_y": null,
            "padding": null,
            "right": null,
            "top": null,
            "visibility": null,
            "width": null
          }
        },
        "048a3259634a4fa58d94f7375f3b9b3f": {
          "model_module": "@jupyter-widgets/controls",
          "model_name": "DescriptionStyleModel",
          "model_module_version": "1.5.0",
          "state": {
            "_model_module": "@jupyter-widgets/controls",
            "_model_module_version": "1.5.0",
            "_model_name": "DescriptionStyleModel",
            "_view_count": null,
            "_view_module": "@jupyter-widgets/base",
            "_view_module_version": "1.2.0",
            "_view_name": "StyleView",
            "description_width": ""
          }
        },
        "a4922f00ea2b4238b4d19a0bea8701cb": {
          "model_module": "@jupyter-widgets/base",
          "model_name": "LayoutModel",
          "model_module_version": "1.2.0",
          "state": {
            "_model_module": "@jupyter-widgets/base",
            "_model_module_version": "1.2.0",
            "_model_name": "LayoutModel",
            "_view_count": null,
            "_view_module": "@jupyter-widgets/base",
            "_view_module_version": "1.2.0",
            "_view_name": "LayoutView",
            "align_content": null,
            "align_items": null,
            "align_self": null,
            "border": null,
            "bottom": null,
            "display": null,
            "flex": null,
            "flex_flow": null,
            "grid_area": null,
            "grid_auto_columns": null,
            "grid_auto_flow": null,
            "grid_auto_rows": null,
            "grid_column": null,
            "grid_gap": null,
            "grid_row": null,
            "grid_template_areas": null,
            "grid_template_columns": null,
            "grid_template_rows": null,
            "height": null,
            "justify_content": null,
            "justify_items": null,
            "left": null,
            "margin": null,
            "max_height": null,
            "max_width": null,
            "min_height": null,
            "min_width": null,
            "object_fit": null,
            "object_position": null,
            "order": null,
            "overflow": null,
            "overflow_x": null,
            "overflow_y": null,
            "padding": null,
            "right": null,
            "top": null,
            "visibility": null,
            "width": null
          }
        },
        "e52a57a403de42aabeeb27a55354be51": {
          "model_module": "@jupyter-widgets/controls",
          "model_name": "ProgressStyleModel",
          "model_module_version": "1.5.0",
          "state": {
            "_model_module": "@jupyter-widgets/controls",
            "_model_module_version": "1.5.0",
            "_model_name": "ProgressStyleModel",
            "_view_count": null,
            "_view_module": "@jupyter-widgets/base",
            "_view_module_version": "1.2.0",
            "_view_name": "StyleView",
            "bar_color": null,
            "description_width": ""
          }
        },
        "cd9a451332d3472f9f1e8cf3fa520144": {
          "model_module": "@jupyter-widgets/base",
          "model_name": "LayoutModel",
          "model_module_version": "1.2.0",
          "state": {
            "_model_module": "@jupyter-widgets/base",
            "_model_module_version": "1.2.0",
            "_model_name": "LayoutModel",
            "_view_count": null,
            "_view_module": "@jupyter-widgets/base",
            "_view_module_version": "1.2.0",
            "_view_name": "LayoutView",
            "align_content": null,
            "align_items": null,
            "align_self": null,
            "border": null,
            "bottom": null,
            "display": null,
            "flex": null,
            "flex_flow": null,
            "grid_area": null,
            "grid_auto_columns": null,
            "grid_auto_flow": null,
            "grid_auto_rows": null,
            "grid_column": null,
            "grid_gap": null,
            "grid_row": null,
            "grid_template_areas": null,
            "grid_template_columns": null,
            "grid_template_rows": null,
            "height": null,
            "justify_content": null,
            "justify_items": null,
            "left": null,
            "margin": null,
            "max_height": null,
            "max_width": null,
            "min_height": null,
            "min_width": null,
            "object_fit": null,
            "object_position": null,
            "order": null,
            "overflow": null,
            "overflow_x": null,
            "overflow_y": null,
            "padding": null,
            "right": null,
            "top": null,
            "visibility": null,
            "width": null
          }
        },
        "dfb4da783d3c4bceb4031bbd0cd0cc02": {
          "model_module": "@jupyter-widgets/controls",
          "model_name": "DescriptionStyleModel",
          "model_module_version": "1.5.0",
          "state": {
            "_model_module": "@jupyter-widgets/controls",
            "_model_module_version": "1.5.0",
            "_model_name": "DescriptionStyleModel",
            "_view_count": null,
            "_view_module": "@jupyter-widgets/base",
            "_view_module_version": "1.2.0",
            "_view_name": "StyleView",
            "description_width": ""
          }
        },
        "6d7ef1a1f2824722bf34cb8d10ace980": {
          "model_module": "@jupyter-widgets/controls",
          "model_name": "HBoxModel",
          "model_module_version": "1.5.0",
          "state": {
            "_dom_classes": [],
            "_model_module": "@jupyter-widgets/controls",
            "_model_module_version": "1.5.0",
            "_model_name": "HBoxModel",
            "_view_count": null,
            "_view_module": "@jupyter-widgets/controls",
            "_view_module_version": "1.5.0",
            "_view_name": "HBoxView",
            "box_style": "",
            "children": [
              "IPY_MODEL_46dc7fc118b04e4eba6ab3888cbce7b6",
              "IPY_MODEL_5d5219ddc9cb47cb8d028f6295ba169c",
              "IPY_MODEL_7eaf311f5d5c4a3d872bd8fd3abec749"
            ],
            "layout": "IPY_MODEL_ce415c463e9f49d19348bff953f8b7d7"
          }
        },
        "46dc7fc118b04e4eba6ab3888cbce7b6": {
          "model_module": "@jupyter-widgets/controls",
          "model_name": "HTMLModel",
          "model_module_version": "1.5.0",
          "state": {
            "_dom_classes": [],
            "_model_module": "@jupyter-widgets/controls",
            "_model_module_version": "1.5.0",
            "_model_name": "HTMLModel",
            "_view_count": null,
            "_view_module": "@jupyter-widgets/controls",
            "_view_module_version": "1.5.0",
            "_view_name": "HTMLView",
            "description": "",
            "description_tooltip": null,
            "layout": "IPY_MODEL_cbe27181c2a34f168cff1fee60b61a99",
            "placeholder": "​",
            "style": "IPY_MODEL_ed2f44e7348f4b66bf241831a8582007",
            "value": "  1%"
          }
        },
        "5d5219ddc9cb47cb8d028f6295ba169c": {
          "model_module": "@jupyter-widgets/controls",
          "model_name": "FloatProgressModel",
          "model_module_version": "1.5.0",
          "state": {
            "_dom_classes": [],
            "_model_module": "@jupyter-widgets/controls",
            "_model_module_version": "1.5.0",
            "_model_name": "FloatProgressModel",
            "_view_count": null,
            "_view_module": "@jupyter-widgets/controls",
            "_view_module_version": "1.5.0",
            "_view_name": "ProgressView",
            "bar_style": "",
            "description": "",
            "description_tooltip": null,
            "layout": "IPY_MODEL_70b5132d1d6b48c4b4cdcef6211953d5",
            "max": 100,
            "min": 0,
            "orientation": "horizontal",
            "style": "IPY_MODEL_61b2ee01d3614179ac6def1897399a34",
            "value": 1
          }
        },
        "7eaf311f5d5c4a3d872bd8fd3abec749": {
          "model_module": "@jupyter-widgets/controls",
          "model_name": "HTMLModel",
          "model_module_version": "1.5.0",
          "state": {
            "_dom_classes": [],
            "_model_module": "@jupyter-widgets/controls",
            "_model_module_version": "1.5.0",
            "_model_name": "HTMLModel",
            "_view_count": null,
            "_view_module": "@jupyter-widgets/controls",
            "_view_module_version": "1.5.0",
            "_view_name": "HTMLView",
            "description": "",
            "description_tooltip": null,
            "layout": "IPY_MODEL_e176a612515d4cb8be917f83c1d52659",
            "placeholder": "​",
            "style": "IPY_MODEL_4f99043fc7884d8982003ce9e419fa30",
            "value": " 1/100 [01:35&lt;2:38:05, 95.81s/it]"
          }
        },
        "ce415c463e9f49d19348bff953f8b7d7": {
          "model_module": "@jupyter-widgets/base",
          "model_name": "LayoutModel",
          "model_module_version": "1.2.0",
          "state": {
            "_model_module": "@jupyter-widgets/base",
            "_model_module_version": "1.2.0",
            "_model_name": "LayoutModel",
            "_view_count": null,
            "_view_module": "@jupyter-widgets/base",
            "_view_module_version": "1.2.0",
            "_view_name": "LayoutView",
            "align_content": null,
            "align_items": null,
            "align_self": null,
            "border": null,
            "bottom": null,
            "display": null,
            "flex": null,
            "flex_flow": null,
            "grid_area": null,
            "grid_auto_columns": null,
            "grid_auto_flow": null,
            "grid_auto_rows": null,
            "grid_column": null,
            "grid_gap": null,
            "grid_row": null,
            "grid_template_areas": null,
            "grid_template_columns": null,
            "grid_template_rows": null,
            "height": null,
            "justify_content": null,
            "justify_items": null,
            "left": null,
            "margin": null,
            "max_height": null,
            "max_width": null,
            "min_height": null,
            "min_width": null,
            "object_fit": null,
            "object_position": null,
            "order": null,
            "overflow": null,
            "overflow_x": null,
            "overflow_y": null,
            "padding": null,
            "right": null,
            "top": null,
            "visibility": null,
            "width": null
          }
        },
        "cbe27181c2a34f168cff1fee60b61a99": {
          "model_module": "@jupyter-widgets/base",
          "model_name": "LayoutModel",
          "model_module_version": "1.2.0",
          "state": {
            "_model_module": "@jupyter-widgets/base",
            "_model_module_version": "1.2.0",
            "_model_name": "LayoutModel",
            "_view_count": null,
            "_view_module": "@jupyter-widgets/base",
            "_view_module_version": "1.2.0",
            "_view_name": "LayoutView",
            "align_content": null,
            "align_items": null,
            "align_self": null,
            "border": null,
            "bottom": null,
            "display": null,
            "flex": null,
            "flex_flow": null,
            "grid_area": null,
            "grid_auto_columns": null,
            "grid_auto_flow": null,
            "grid_auto_rows": null,
            "grid_column": null,
            "grid_gap": null,
            "grid_row": null,
            "grid_template_areas": null,
            "grid_template_columns": null,
            "grid_template_rows": null,
            "height": null,
            "justify_content": null,
            "justify_items": null,
            "left": null,
            "margin": null,
            "max_height": null,
            "max_width": null,
            "min_height": null,
            "min_width": null,
            "object_fit": null,
            "object_position": null,
            "order": null,
            "overflow": null,
            "overflow_x": null,
            "overflow_y": null,
            "padding": null,
            "right": null,
            "top": null,
            "visibility": null,
            "width": null
          }
        },
        "ed2f44e7348f4b66bf241831a8582007": {
          "model_module": "@jupyter-widgets/controls",
          "model_name": "DescriptionStyleModel",
          "model_module_version": "1.5.0",
          "state": {
            "_model_module": "@jupyter-widgets/controls",
            "_model_module_version": "1.5.0",
            "_model_name": "DescriptionStyleModel",
            "_view_count": null,
            "_view_module": "@jupyter-widgets/base",
            "_view_module_version": "1.2.0",
            "_view_name": "StyleView",
            "description_width": ""
          }
        },
        "70b5132d1d6b48c4b4cdcef6211953d5": {
          "model_module": "@jupyter-widgets/base",
          "model_name": "LayoutModel",
          "model_module_version": "1.2.0",
          "state": {
            "_model_module": "@jupyter-widgets/base",
            "_model_module_version": "1.2.0",
            "_model_name": "LayoutModel",
            "_view_count": null,
            "_view_module": "@jupyter-widgets/base",
            "_view_module_version": "1.2.0",
            "_view_name": "LayoutView",
            "align_content": null,
            "align_items": null,
            "align_self": null,
            "border": null,
            "bottom": null,
            "display": null,
            "flex": null,
            "flex_flow": null,
            "grid_area": null,
            "grid_auto_columns": null,
            "grid_auto_flow": null,
            "grid_auto_rows": null,
            "grid_column": null,
            "grid_gap": null,
            "grid_row": null,
            "grid_template_areas": null,
            "grid_template_columns": null,
            "grid_template_rows": null,
            "height": null,
            "justify_content": null,
            "justify_items": null,
            "left": null,
            "margin": null,
            "max_height": null,
            "max_width": null,
            "min_height": null,
            "min_width": null,
            "object_fit": null,
            "object_position": null,
            "order": null,
            "overflow": null,
            "overflow_x": null,
            "overflow_y": null,
            "padding": null,
            "right": null,
            "top": null,
            "visibility": null,
            "width": null
          }
        },
        "61b2ee01d3614179ac6def1897399a34": {
          "model_module": "@jupyter-widgets/controls",
          "model_name": "ProgressStyleModel",
          "model_module_version": "1.5.0",
          "state": {
            "_model_module": "@jupyter-widgets/controls",
            "_model_module_version": "1.5.0",
            "_model_name": "ProgressStyleModel",
            "_view_count": null,
            "_view_module": "@jupyter-widgets/base",
            "_view_module_version": "1.2.0",
            "_view_name": "StyleView",
            "bar_color": null,
            "description_width": ""
          }
        },
        "e176a612515d4cb8be917f83c1d52659": {
          "model_module": "@jupyter-widgets/base",
          "model_name": "LayoutModel",
          "model_module_version": "1.2.0",
          "state": {
            "_model_module": "@jupyter-widgets/base",
            "_model_module_version": "1.2.0",
            "_model_name": "LayoutModel",
            "_view_count": null,
            "_view_module": "@jupyter-widgets/base",
            "_view_module_version": "1.2.0",
            "_view_name": "LayoutView",
            "align_content": null,
            "align_items": null,
            "align_self": null,
            "border": null,
            "bottom": null,
            "display": null,
            "flex": null,
            "flex_flow": null,
            "grid_area": null,
            "grid_auto_columns": null,
            "grid_auto_flow": null,
            "grid_auto_rows": null,
            "grid_column": null,
            "grid_gap": null,
            "grid_row": null,
            "grid_template_areas": null,
            "grid_template_columns": null,
            "grid_template_rows": null,
            "height": null,
            "justify_content": null,
            "justify_items": null,
            "left": null,
            "margin": null,
            "max_height": null,
            "max_width": null,
            "min_height": null,
            "min_width": null,
            "object_fit": null,
            "object_position": null,
            "order": null,
            "overflow": null,
            "overflow_x": null,
            "overflow_y": null,
            "padding": null,
            "right": null,
            "top": null,
            "visibility": null,
            "width": null
          }
        },
        "4f99043fc7884d8982003ce9e419fa30": {
          "model_module": "@jupyter-widgets/controls",
          "model_name": "DescriptionStyleModel",
          "model_module_version": "1.5.0",
          "state": {
            "_model_module": "@jupyter-widgets/controls",
            "_model_module_version": "1.5.0",
            "_model_name": "DescriptionStyleModel",
            "_view_count": null,
            "_view_module": "@jupyter-widgets/base",
            "_view_module_version": "1.2.0",
            "_view_name": "StyleView",
            "description_width": ""
          }
        }
      }
    }
  },
  "nbformat": 4,
  "nbformat_minor": 5
}