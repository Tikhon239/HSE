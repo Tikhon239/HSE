{
  "cells": [
    {
      "cell_type": "code",
      "source": [
        "!if [ -d HSE ]; then rm -Rf HSE; fi\n",
        "!git clone https://github.com/Tikhon239/HSE\n",
        "!cp -a /content/HSE/BayesML/DDPM/* ."
      ],
      "metadata": {
        "id": "qpidZfT5OGVH"
      },
      "id": "qpidZfT5OGVH",
      "execution_count": null,
      "outputs": []
    },
    {
      "cell_type": "code",
      "source": [
        "from google.colab import drive\n",
        "drive.mount('/content/drive')"
      ],
      "metadata": {
        "id": "z85-iVlj5AMU"
      },
      "id": "z85-iVlj5AMU",
      "execution_count": null,
      "outputs": []
    },
    {
      "cell_type": "code",
      "source": [
        "!pip3 install wandb\n",
        "!pip3 install ml_collections\n",
        "!pip3 install skimage\n",
        "!pip3 install pytorch_fid"
      ],
      "metadata": {
        "id": "Iy0yHQOGOMMa"
      },
      "id": "Iy0yHQOGOMMa",
      "execution_count": null,
      "outputs": []
    },
    {
      "cell_type": "code",
      "execution_count": 1,
      "id": "199b716a",
      "metadata": {
        "id": "199b716a"
      },
      "outputs": [],
      "source": [
        "import torch\n",
        "import numpy as np\n",
        "import os\n",
        "\n",
        "from skimage.io import imread, imsave\n",
        "from tqdm.auto import trange, tqdm\n",
        "from torchvision.datasets import MNIST\n",
        "from torchvision.transforms import Compose, Resize\n",
        "from pytorch_fid import fid_score\n",
        "\n",
        "from data_generator import DataGenerator\n",
        "from default_mnist_config import create_default_mnist_config\n",
        "from diffusion import DiffusionRunner\n",
        "from models.classifier import ResNet, ResidualBlock, ConditionalResNet\n",
        "\n",
        "from matplotlib import pyplot as plt"
      ]
    },
    {
      "cell_type": "code",
      "source": [
        "import warnings\n",
        "warnings.filterwarnings('ignore')"
      ],
      "metadata": {
        "id": "u76VymkjWykT"
      },
      "id": "u76VymkjWykT",
      "execution_count": 2,
      "outputs": []
    },
    {
      "cell_type": "markdown",
      "id": "f8a96e0e",
      "metadata": {
        "id": "f8a96e0e"
      },
      "source": [
        "#### Определим папку с настоящими картинками"
      ]
    },
    {
      "cell_type": "code",
      "execution_count": 3,
      "id": "5def5c68",
      "metadata": {
        "id": "5def5c68"
      },
      "outputs": [],
      "source": [
        "def create_dir(path: str):\n",
        "    if not os.path.exists(path):\n",
        "        os.makedirs(path)"
      ]
    },
    {
      "cell_type": "code",
      "source": [
        "TOTAL_IMAGES_COUNT = 20_000\n",
        "BATCH_SIZE = 200\n",
        "NUM_ITERS = TOTAL_IMAGES_COUNT // BATCH_SIZE\n",
        "\n",
        "device = torch.device('cuda')"
      ],
      "metadata": {
        "id": "IHd3gXTFVe9z"
      },
      "id": "IHd3gXTFVe9z",
      "execution_count": 4,
      "outputs": []
    },
    {
      "cell_type": "code",
      "execution_count": 5,
      "id": "72e67beb",
      "metadata": {
        "colab": {
          "base_uri": "https://localhost:8080/",
          "height": 49,
          "referenced_widgets": [
            "9758949a6bc244c0addff88edf25f6cd",
            "505975f325624ac6a85d4e996446289e",
            "ad62d42dc5574acb9c87ee0ffbcc4378",
            "0baa781f1d7f4e8aafaa34a217f861c6",
            "8e83226b292e4706825ef228665f8083",
            "5fb9d0bd75574b198d7d5e7fd86612b2",
            "27f5c4492ac5406b83457f5c3af53e6b",
            "35cb9716e7b9441891f8c3293a59c661",
            "8c531768faeb4bca853c6e5dcac173dd",
            "6024796677834f078b47e387c6159867",
            "3709c36898484b359cff19b689eb4221"
          ]
        },
        "id": "72e67beb",
        "outputId": "1b1b1881-c533-4fbf-dd0f-4ea7b3192f6a"
      },
      "outputs": [
        {
          "output_type": "display_data",
          "data": {
            "text/plain": [
              "  0%|          | 0/20000 [00:00<?, ?it/s]"
            ],
            "application/vnd.jupyter.widget-view+json": {
              "version_major": 2,
              "version_minor": 0,
              "model_id": "9758949a6bc244c0addff88edf25f6cd"
            }
          },
          "metadata": {}
        }
      ],
      "source": [
        "create_dir('./real_images_MNIST')\n",
        "\n",
        "real_dataset = MNIST(root='./data', download=True, train=True, transform=Compose([Resize((32, 32))]))\n",
        "for idx, (image_mnist, label) in enumerate(tqdm(real_dataset, total=TOTAL_IMAGES_COUNT)):\n",
        "    if idx == TOTAL_IMAGES_COUNT:\n",
        "        break\n",
        "    image = np.array(image_mnist)\n",
        "    imsave(\"./real_images_MNIST/{}.png\".format(idx), image)"
      ]
    },
    {
      "cell_type": "markdown",
      "id": "fabbea8d",
      "metadata": {
        "id": "fabbea8d"
      },
      "source": [
        "#### Определим папку для синтетических картинок и сгенерируем 60к картинок"
      ]
    },
    {
      "cell_type": "code",
      "execution_count": 6,
      "id": "c0538815",
      "metadata": {
        "id": "c0538815"
      },
      "outputs": [],
      "source": [
        "uncond_diff = DiffusionRunner(create_default_mnist_config(), eval=True)\n",
        "uncond_diff.model.eval();"
      ]
    },
    {
      "cell_type": "code",
      "execution_count": null,
      "id": "5dd28b16",
      "metadata": {
        "colab": {
          "base_uri": "https://localhost:8080/",
          "height": 49,
          "referenced_widgets": [
            "350fb350230d45d49293777944eb499a",
            "25ae9daecea346f69fefdfc50d84b64e",
            "10c3d301cbe0423ebfd44e4e389c2d7f",
            "deabc02db4c84945a8c9f4811aa255cc",
            "5e53f2ffcfc740ee98c612b10d619d4d",
            "64053e0f4f174f03b9afe02dc391cfac",
            "07472c25bf0747ae86c2eaf709c24150",
            "74497d79eff14f15ba32972ff53bb112",
            "92bba3b7ea984df98f7ee84c6f343cdb",
            "0824595b2b3c4ad49b5de5f3c5601d8f",
            "9075fa8c360d4aa2bcd65e7f29e237c9"
          ]
        },
        "id": "5dd28b16",
        "outputId": "f0701409-4907-4d97-fd46-82f89482b86a"
      },
      "outputs": [
        {
          "output_type": "display_data",
          "data": {
            "text/plain": [
              "  0%|          | 0/100 [00:00<?, ?it/s]"
            ],
            "application/vnd.jupyter.widget-view+json": {
              "version_major": 2,
              "version_minor": 0,
              "model_id": "350fb350230d45d49293777944eb499a"
            }
          },
          "metadata": {}
        }
      ],
      "source": [
        "create_dir('./uncond_mnist')\n",
        "\n",
        "global_idx = 0\n",
        "for idx in trange(NUM_ITERS):\n",
        "    images: torch.Tensor = uncond_diff.sample_images(batch_size=BATCH_SIZE).cpu()\n",
        "    images = images.permute(0, 2, 3, 1).data.numpy().astype(np.uint8)\n",
        "\n",
        "    for i in range(len(images)):\n",
        "        imsave(os.path.join('./uncond_mnist', f'{global_idx}.png'), images[i])\n",
        "        global_idx += 1"
      ]
    },
    {
      "cell_type": "code",
      "execution_count": null,
      "id": "7ae0649a",
      "metadata": {
        "id": "7ae0649a"
      },
      "outputs": [],
      "source": [
        "fid_value = fid_score.calculate_fid_given_paths(\n",
        "    paths=['./real_images_MNIST', './uncond_mnist'],\n",
        "    batch_size=200,\n",
        "    device=device,\n",
        "    dims=2048\n",
        ")\n",
        "fid_value"
      ]
    },
    {
      "cell_type": "code",
      "source": [
        "cond_diff = DiffusionRunner(create_default_mnist_config(), eval=True)\n",
        "cond_diff.model.eval()\n",
        "\n",
        "classifier_args = {\n",
        "    \"block\": ResidualBlock,\n",
        "    \"layers\": [2, 2, 2, 2]\n",
        "}\n",
        "noisy_classifier = ConditionalResNet(**classifier_args)\n",
        "noisy_classifier.to(device)\n",
        "\n",
        "noisy_classifier.load_state_dict(torch.load('./drive/MyDrive/ddpm_checkpoints/classifier.pth'))\n",
        "\n",
        "cond_diff.set_classifier(noisy_classifier, 1.0)"
      ],
      "metadata": {
        "id": "p0bdfzk-RdYs"
      },
      "id": "p0bdfzk-RdYs",
      "execution_count": null,
      "outputs": []
    },
    {
      "cell_type": "code",
      "source": [
        "create_dir('./cond_mnist')\n",
        "\n",
        "labels = torch.arange(10, device=device).repeat(BATCH_SIZE // 10)\n",
        "\n",
        "global_idx = 0\n",
        "for idx in trange(NUM_ITERS):\n",
        "    images: torch.Tensor = cond_diff.sample_images(batch_size=BATCH_SIZE, labels=labels).cpu()\n",
        "    images = images.permute(0, 2, 3, 1).data.numpy().astype(np.uint8)\n",
        "\n",
        "    for i in range(len(images)):\n",
        "        imsave(os.path.join('./cond_mnist', f'{global_idx}.png'), images[i])\n",
        "        global_idx += 1"
      ],
      "metadata": {
        "id": "SC-C-VEDRZiI"
      },
      "id": "SC-C-VEDRZiI",
      "execution_count": null,
      "outputs": []
    },
    {
      "cell_type": "code",
      "source": [
        "fid_value = fid_score.calculate_fid_given_paths(\n",
        "    paths=['./real_images_MNIST', './cond_mnist'],\n",
        "    batch_size=200,\n",
        "    device=device,\n",
        "    dims=2048\n",
        ")\n",
        "fid_value"
      ],
      "metadata": {
        "id": "_UUPkcVnXPVx"
      },
      "id": "_UUPkcVnXPVx",
      "execution_count": null,
      "outputs": []
    },
    {
      "cell_type": "markdown",
      "id": "525ea8ea",
      "metadata": {
        "id": "525ea8ea"
      },
      "source": [
        "> Какой фид получился? Сравните FID для безусловной генерации и для условной. Сгенерируйте для каждого класса по 6к картинок и посчитайте FID между реальными и условно сгенерированными картинками."
      ]
    }
  ],
  "metadata": {
    "kernelspec": {
      "display_name": "Python 3 (ipykernel)",
      "language": "python",
      "name": "python3"
    },
    "language_info": {
      "codemirror_mode": {
        "name": "ipython",
        "version": 3
      },
      "file_extension": ".py",
      "mimetype": "text/x-python",
      "name": "python",
      "nbconvert_exporter": "python",
      "pygments_lexer": "ipython3",
      "version": "3.9.5"
    },
    "colab": {
      "name": "calc_fid.ipynb",
      "provenance": []
    },
    "accelerator": "GPU",
    "widgets": {
      "application/vnd.jupyter.widget-state+json": {
        "9758949a6bc244c0addff88edf25f6cd": {
          "model_module": "@jupyter-widgets/controls",
          "model_name": "HBoxModel",
          "model_module_version": "1.5.0",
          "state": {
            "_dom_classes": [],
            "_model_module": "@jupyter-widgets/controls",
            "_model_module_version": "1.5.0",
            "_model_name": "HBoxModel",
            "_view_count": null,
            "_view_module": "@jupyter-widgets/controls",
            "_view_module_version": "1.5.0",
            "_view_name": "HBoxView",
            "box_style": "",
            "children": [
              "IPY_MODEL_505975f325624ac6a85d4e996446289e",
              "IPY_MODEL_ad62d42dc5574acb9c87ee0ffbcc4378",
              "IPY_MODEL_0baa781f1d7f4e8aafaa34a217f861c6"
            ],
            "layout": "IPY_MODEL_8e83226b292e4706825ef228665f8083"
          }
        },
        "505975f325624ac6a85d4e996446289e": {
          "model_module": "@jupyter-widgets/controls",
          "model_name": "HTMLModel",
          "model_module_version": "1.5.0",
          "state": {
            "_dom_classes": [],
            "_model_module": "@jupyter-widgets/controls",
            "_model_module_version": "1.5.0",
            "_model_name": "HTMLModel",
            "_view_count": null,
            "_view_module": "@jupyter-widgets/controls",
            "_view_module_version": "1.5.0",
            "_view_name": "HTMLView",
            "description": "",
            "description_tooltip": null,
            "layout": "IPY_MODEL_5fb9d0bd75574b198d7d5e7fd86612b2",
            "placeholder": "​",
            "style": "IPY_MODEL_27f5c4492ac5406b83457f5c3af53e6b",
            "value": "100%"
          }
        },
        "ad62d42dc5574acb9c87ee0ffbcc4378": {
          "model_module": "@jupyter-widgets/controls",
          "model_name": "FloatProgressModel",
          "model_module_version": "1.5.0",
          "state": {
            "_dom_classes": [],
            "_model_module": "@jupyter-widgets/controls",
            "_model_module_version": "1.5.0",
            "_model_name": "FloatProgressModel",
            "_view_count": null,
            "_view_module": "@jupyter-widgets/controls",
            "_view_module_version": "1.5.0",
            "_view_name": "ProgressView",
            "bar_style": "danger",
            "description": "",
            "description_tooltip": null,
            "layout": "IPY_MODEL_35cb9716e7b9441891f8c3293a59c661",
            "max": 20000,
            "min": 0,
            "orientation": "horizontal",
            "style": "IPY_MODEL_8c531768faeb4bca853c6e5dcac173dd",
            "value": 20000
          }
        },
        "0baa781f1d7f4e8aafaa34a217f861c6": {
          "model_module": "@jupyter-widgets/controls",
          "model_name": "HTMLModel",
          "model_module_version": "1.5.0",
          "state": {
            "_dom_classes": [],
            "_model_module": "@jupyter-widgets/controls",
            "_model_module_version": "1.5.0",
            "_model_name": "HTMLModel",
            "_view_count": null,
            "_view_module": "@jupyter-widgets/controls",
            "_view_module_version": "1.5.0",
            "_view_name": "HTMLView",
            "description": "",
            "description_tooltip": null,
            "layout": "IPY_MODEL_6024796677834f078b47e387c6159867",
            "placeholder": "​",
            "style": "IPY_MODEL_3709c36898484b359cff19b689eb4221",
            "value": " 20000/20000 [00:18&lt;00:00, 1181.60it/s]"
          }
        },
        "8e83226b292e4706825ef228665f8083": {
          "model_module": "@jupyter-widgets/base",
          "model_name": "LayoutModel",
          "model_module_version": "1.2.0",
          "state": {
            "_model_module": "@jupyter-widgets/base",
            "_model_module_version": "1.2.0",
            "_model_name": "LayoutModel",
            "_view_count": null,
            "_view_module": "@jupyter-widgets/base",
            "_view_module_version": "1.2.0",
            "_view_name": "LayoutView",
            "align_content": null,
            "align_items": null,
            "align_self": null,
            "border": null,
            "bottom": null,
            "display": null,
            "flex": null,
            "flex_flow": null,
            "grid_area": null,
            "grid_auto_columns": null,
            "grid_auto_flow": null,
            "grid_auto_rows": null,
            "grid_column": null,
            "grid_gap": null,
            "grid_row": null,
            "grid_template_areas": null,
            "grid_template_columns": null,
            "grid_template_rows": null,
            "height": null,
            "justify_content": null,
            "justify_items": null,
            "left": null,
            "margin": null,
            "max_height": null,
            "max_width": null,
            "min_height": null,
            "min_width": null,
            "object_fit": null,
            "object_position": null,
            "order": null,
            "overflow": null,
            "overflow_x": null,
            "overflow_y": null,
            "padding": null,
            "right": null,
            "top": null,
            "visibility": null,
            "width": null
          }
        },
        "5fb9d0bd75574b198d7d5e7fd86612b2": {
          "model_module": "@jupyter-widgets/base",
          "model_name": "LayoutModel",
          "model_module_version": "1.2.0",
          "state": {
            "_model_module": "@jupyter-widgets/base",
            "_model_module_version": "1.2.0",
            "_model_name": "LayoutModel",
            "_view_count": null,
            "_view_module": "@jupyter-widgets/base",
            "_view_module_version": "1.2.0",
            "_view_name": "LayoutView",
            "align_content": null,
            "align_items": null,
            "align_self": null,
            "border": null,
            "bottom": null,
            "display": null,
            "flex": null,
            "flex_flow": null,
            "grid_area": null,
            "grid_auto_columns": null,
            "grid_auto_flow": null,
            "grid_auto_rows": null,
            "grid_column": null,
            "grid_gap": null,
            "grid_row": null,
            "grid_template_areas": null,
            "grid_template_columns": null,
            "grid_template_rows": null,
            "height": null,
            "justify_content": null,
            "justify_items": null,
            "left": null,
            "margin": null,
            "max_height": null,
            "max_width": null,
            "min_height": null,
            "min_width": null,
            "object_fit": null,
            "object_position": null,
            "order": null,
            "overflow": null,
            "overflow_x": null,
            "overflow_y": null,
            "padding": null,
            "right": null,
            "top": null,
            "visibility": null,
            "width": null
          }
        },
        "27f5c4492ac5406b83457f5c3af53e6b": {
          "model_module": "@jupyter-widgets/controls",
          "model_name": "DescriptionStyleModel",
          "model_module_version": "1.5.0",
          "state": {
            "_model_module": "@jupyter-widgets/controls",
            "_model_module_version": "1.5.0",
            "_model_name": "DescriptionStyleModel",
            "_view_count": null,
            "_view_module": "@jupyter-widgets/base",
            "_view_module_version": "1.2.0",
            "_view_name": "StyleView",
            "description_width": ""
          }
        },
        "35cb9716e7b9441891f8c3293a59c661": {
          "model_module": "@jupyter-widgets/base",
          "model_name": "LayoutModel",
          "model_module_version": "1.2.0",
          "state": {
            "_model_module": "@jupyter-widgets/base",
            "_model_module_version": "1.2.0",
            "_model_name": "LayoutModel",
            "_view_count": null,
            "_view_module": "@jupyter-widgets/base",
            "_view_module_version": "1.2.0",
            "_view_name": "LayoutView",
            "align_content": null,
            "align_items": null,
            "align_self": null,
            "border": null,
            "bottom": null,
            "display": null,
            "flex": null,
            "flex_flow": null,
            "grid_area": null,
            "grid_auto_columns": null,
            "grid_auto_flow": null,
            "grid_auto_rows": null,
            "grid_column": null,
            "grid_gap": null,
            "grid_row": null,
            "grid_template_areas": null,
            "grid_template_columns": null,
            "grid_template_rows": null,
            "height": null,
            "justify_content": null,
            "justify_items": null,
            "left": null,
            "margin": null,
            "max_height": null,
            "max_width": null,
            "min_height": null,
            "min_width": null,
            "object_fit": null,
            "object_position": null,
            "order": null,
            "overflow": null,
            "overflow_x": null,
            "overflow_y": null,
            "padding": null,
            "right": null,
            "top": null,
            "visibility": null,
            "width": null
          }
        },
        "8c531768faeb4bca853c6e5dcac173dd": {
          "model_module": "@jupyter-widgets/controls",
          "model_name": "ProgressStyleModel",
          "model_module_version": "1.5.0",
          "state": {
            "_model_module": "@jupyter-widgets/controls",
            "_model_module_version": "1.5.0",
            "_model_name": "ProgressStyleModel",
            "_view_count": null,
            "_view_module": "@jupyter-widgets/base",
            "_view_module_version": "1.2.0",
            "_view_name": "StyleView",
            "bar_color": null,
            "description_width": ""
          }
        },
        "6024796677834f078b47e387c6159867": {
          "model_module": "@jupyter-widgets/base",
          "model_name": "LayoutModel",
          "model_module_version": "1.2.0",
          "state": {
            "_model_module": "@jupyter-widgets/base",
            "_model_module_version": "1.2.0",
            "_model_name": "LayoutModel",
            "_view_count": null,
            "_view_module": "@jupyter-widgets/base",
            "_view_module_version": "1.2.0",
            "_view_name": "LayoutView",
            "align_content": null,
            "align_items": null,
            "align_self": null,
            "border": null,
            "bottom": null,
            "display": null,
            "flex": null,
            "flex_flow": null,
            "grid_area": null,
            "grid_auto_columns": null,
            "grid_auto_flow": null,
            "grid_auto_rows": null,
            "grid_column": null,
            "grid_gap": null,
            "grid_row": null,
            "grid_template_areas": null,
            "grid_template_columns": null,
            "grid_template_rows": null,
            "height": null,
            "justify_content": null,
            "justify_items": null,
            "left": null,
            "margin": null,
            "max_height": null,
            "max_width": null,
            "min_height": null,
            "min_width": null,
            "object_fit": null,
            "object_position": null,
            "order": null,
            "overflow": null,
            "overflow_x": null,
            "overflow_y": null,
            "padding": null,
            "right": null,
            "top": null,
            "visibility": null,
            "width": null
          }
        },
        "3709c36898484b359cff19b689eb4221": {
          "model_module": "@jupyter-widgets/controls",
          "model_name": "DescriptionStyleModel",
          "model_module_version": "1.5.0",
          "state": {
            "_model_module": "@jupyter-widgets/controls",
            "_model_module_version": "1.5.0",
            "_model_name": "DescriptionStyleModel",
            "_view_count": null,
            "_view_module": "@jupyter-widgets/base",
            "_view_module_version": "1.2.0",
            "_view_name": "StyleView",
            "description_width": ""
          }
        },
        "350fb350230d45d49293777944eb499a": {
          "model_module": "@jupyter-widgets/controls",
          "model_name": "HBoxModel",
          "model_module_version": "1.5.0",
          "state": {
            "_dom_classes": [],
            "_model_module": "@jupyter-widgets/controls",
            "_model_module_version": "1.5.0",
            "_model_name": "HBoxModel",
            "_view_count": null,
            "_view_module": "@jupyter-widgets/controls",
            "_view_module_version": "1.5.0",
            "_view_name": "HBoxView",
            "box_style": "",
            "children": [
              "IPY_MODEL_25ae9daecea346f69fefdfc50d84b64e",
              "IPY_MODEL_10c3d301cbe0423ebfd44e4e389c2d7f",
              "IPY_MODEL_deabc02db4c84945a8c9f4811aa255cc"
            ],
            "layout": "IPY_MODEL_5e53f2ffcfc740ee98c612b10d619d4d"
          }
        },
        "25ae9daecea346f69fefdfc50d84b64e": {
          "model_module": "@jupyter-widgets/controls",
          "model_name": "HTMLModel",
          "model_module_version": "1.5.0",
          "state": {
            "_dom_classes": [],
            "_model_module": "@jupyter-widgets/controls",
            "_model_module_version": "1.5.0",
            "_model_name": "HTMLModel",
            "_view_count": null,
            "_view_module": "@jupyter-widgets/controls",
            "_view_module_version": "1.5.0",
            "_view_name": "HTMLView",
            "description": "",
            "description_tooltip": null,
            "layout": "IPY_MODEL_64053e0f4f174f03b9afe02dc391cfac",
            "placeholder": "​",
            "style": "IPY_MODEL_07472c25bf0747ae86c2eaf709c24150",
            "value": " 15%"
          }
        },
        "10c3d301cbe0423ebfd44e4e389c2d7f": {
          "model_module": "@jupyter-widgets/controls",
          "model_name": "FloatProgressModel",
          "model_module_version": "1.5.0",
          "state": {
            "_dom_classes": [],
            "_model_module": "@jupyter-widgets/controls",
            "_model_module_version": "1.5.0",
            "_model_name": "FloatProgressModel",
            "_view_count": null,
            "_view_module": "@jupyter-widgets/controls",
            "_view_module_version": "1.5.0",
            "_view_name": "ProgressView",
            "bar_style": "",
            "description": "",
            "description_tooltip": null,
            "layout": "IPY_MODEL_74497d79eff14f15ba32972ff53bb112",
            "max": 100,
            "min": 0,
            "orientation": "horizontal",
            "style": "IPY_MODEL_92bba3b7ea984df98f7ee84c6f343cdb",
            "value": 15
          }
        },
        "deabc02db4c84945a8c9f4811aa255cc": {
          "model_module": "@jupyter-widgets/controls",
          "model_name": "HTMLModel",
          "model_module_version": "1.5.0",
          "state": {
            "_dom_classes": [],
            "_model_module": "@jupyter-widgets/controls",
            "_model_module_version": "1.5.0",
            "_model_name": "HTMLModel",
            "_view_count": null,
            "_view_module": "@jupyter-widgets/controls",
            "_view_module_version": "1.5.0",
            "_view_name": "HTMLView",
            "description": "",
            "description_tooltip": null,
            "layout": "IPY_MODEL_0824595b2b3c4ad49b5de5f3c5601d8f",
            "placeholder": "​",
            "style": "IPY_MODEL_9075fa8c360d4aa2bcd65e7f29e237c9",
            "value": " 15/100 [22:56&lt;2:10:12, 91.91s/it]"
          }
        },
        "5e53f2ffcfc740ee98c612b10d619d4d": {
          "model_module": "@jupyter-widgets/base",
          "model_name": "LayoutModel",
          "model_module_version": "1.2.0",
          "state": {
            "_model_module": "@jupyter-widgets/base",
            "_model_module_version": "1.2.0",
            "_model_name": "LayoutModel",
            "_view_count": null,
            "_view_module": "@jupyter-widgets/base",
            "_view_module_version": "1.2.0",
            "_view_name": "LayoutView",
            "align_content": null,
            "align_items": null,
            "align_self": null,
            "border": null,
            "bottom": null,
            "display": null,
            "flex": null,
            "flex_flow": null,
            "grid_area": null,
            "grid_auto_columns": null,
            "grid_auto_flow": null,
            "grid_auto_rows": null,
            "grid_column": null,
            "grid_gap": null,
            "grid_row": null,
            "grid_template_areas": null,
            "grid_template_columns": null,
            "grid_template_rows": null,
            "height": null,
            "justify_content": null,
            "justify_items": null,
            "left": null,
            "margin": null,
            "max_height": null,
            "max_width": null,
            "min_height": null,
            "min_width": null,
            "object_fit": null,
            "object_position": null,
            "order": null,
            "overflow": null,
            "overflow_x": null,
            "overflow_y": null,
            "padding": null,
            "right": null,
            "top": null,
            "visibility": null,
            "width": null
          }
        },
        "64053e0f4f174f03b9afe02dc391cfac": {
          "model_module": "@jupyter-widgets/base",
          "model_name": "LayoutModel",
          "model_module_version": "1.2.0",
          "state": {
            "_model_module": "@jupyter-widgets/base",
            "_model_module_version": "1.2.0",
            "_model_name": "LayoutModel",
            "_view_count": null,
            "_view_module": "@jupyter-widgets/base",
            "_view_module_version": "1.2.0",
            "_view_name": "LayoutView",
            "align_content": null,
            "align_items": null,
            "align_self": null,
            "border": null,
            "bottom": null,
            "display": null,
            "flex": null,
            "flex_flow": null,
            "grid_area": null,
            "grid_auto_columns": null,
            "grid_auto_flow": null,
            "grid_auto_rows": null,
            "grid_column": null,
            "grid_gap": null,
            "grid_row": null,
            "grid_template_areas": null,
            "grid_template_columns": null,
            "grid_template_rows": null,
            "height": null,
            "justify_content": null,
            "justify_items": null,
            "left": null,
            "margin": null,
            "max_height": null,
            "max_width": null,
            "min_height": null,
            "min_width": null,
            "object_fit": null,
            "object_position": null,
            "order": null,
            "overflow": null,
            "overflow_x": null,
            "overflow_y": null,
            "padding": null,
            "right": null,
            "top": null,
            "visibility": null,
            "width": null
          }
        },
        "07472c25bf0747ae86c2eaf709c24150": {
          "model_module": "@jupyter-widgets/controls",
          "model_name": "DescriptionStyleModel",
          "model_module_version": "1.5.0",
          "state": {
            "_model_module": "@jupyter-widgets/controls",
            "_model_module_version": "1.5.0",
            "_model_name": "DescriptionStyleModel",
            "_view_count": null,
            "_view_module": "@jupyter-widgets/base",
            "_view_module_version": "1.2.0",
            "_view_name": "StyleView",
            "description_width": ""
          }
        },
        "74497d79eff14f15ba32972ff53bb112": {
          "model_module": "@jupyter-widgets/base",
          "model_name": "LayoutModel",
          "model_module_version": "1.2.0",
          "state": {
            "_model_module": "@jupyter-widgets/base",
            "_model_module_version": "1.2.0",
            "_model_name": "LayoutModel",
            "_view_count": null,
            "_view_module": "@jupyter-widgets/base",
            "_view_module_version": "1.2.0",
            "_view_name": "LayoutView",
            "align_content": null,
            "align_items": null,
            "align_self": null,
            "border": null,
            "bottom": null,
            "display": null,
            "flex": null,
            "flex_flow": null,
            "grid_area": null,
            "grid_auto_columns": null,
            "grid_auto_flow": null,
            "grid_auto_rows": null,
            "grid_column": null,
            "grid_gap": null,
            "grid_row": null,
            "grid_template_areas": null,
            "grid_template_columns": null,
            "grid_template_rows": null,
            "height": null,
            "justify_content": null,
            "justify_items": null,
            "left": null,
            "margin": null,
            "max_height": null,
            "max_width": null,
            "min_height": null,
            "min_width": null,
            "object_fit": null,
            "object_position": null,
            "order": null,
            "overflow": null,
            "overflow_x": null,
            "overflow_y": null,
            "padding": null,
            "right": null,
            "top": null,
            "visibility": null,
            "width": null
          }
        },
        "92bba3b7ea984df98f7ee84c6f343cdb": {
          "model_module": "@jupyter-widgets/controls",
          "model_name": "ProgressStyleModel",
          "model_module_version": "1.5.0",
          "state": {
            "_model_module": "@jupyter-widgets/controls",
            "_model_module_version": "1.5.0",
            "_model_name": "ProgressStyleModel",
            "_view_count": null,
            "_view_module": "@jupyter-widgets/base",
            "_view_module_version": "1.2.0",
            "_view_name": "StyleView",
            "bar_color": null,
            "description_width": ""
          }
        },
        "0824595b2b3c4ad49b5de5f3c5601d8f": {
          "model_module": "@jupyter-widgets/base",
          "model_name": "LayoutModel",
          "model_module_version": "1.2.0",
          "state": {
            "_model_module": "@jupyter-widgets/base",
            "_model_module_version": "1.2.0",
            "_model_name": "LayoutModel",
            "_view_count": null,
            "_view_module": "@jupyter-widgets/base",
            "_view_module_version": "1.2.0",
            "_view_name": "LayoutView",
            "align_content": null,
            "align_items": null,
            "align_self": null,
            "border": null,
            "bottom": null,
            "display": null,
            "flex": null,
            "flex_flow": null,
            "grid_area": null,
            "grid_auto_columns": null,
            "grid_auto_flow": null,
            "grid_auto_rows": null,
            "grid_column": null,
            "grid_gap": null,
            "grid_row": null,
            "grid_template_areas": null,
            "grid_template_columns": null,
            "grid_template_rows": null,
            "height": null,
            "justify_content": null,
            "justify_items": null,
            "left": null,
            "margin": null,
            "max_height": null,
            "max_width": null,
            "min_height": null,
            "min_width": null,
            "object_fit": null,
            "object_position": null,
            "order": null,
            "overflow": null,
            "overflow_x": null,
            "overflow_y": null,
            "padding": null,
            "right": null,
            "top": null,
            "visibility": null,
            "width": null
          }
        },
        "9075fa8c360d4aa2bcd65e7f29e237c9": {
          "model_module": "@jupyter-widgets/controls",
          "model_name": "DescriptionStyleModel",
          "model_module_version": "1.5.0",
          "state": {
            "_model_module": "@jupyter-widgets/controls",
            "_model_module_version": "1.5.0",
            "_model_name": "DescriptionStyleModel",
            "_view_count": null,
            "_view_module": "@jupyter-widgets/base",
            "_view_module_version": "1.2.0",
            "_view_name": "StyleView",
            "description_width": ""
          }
        }
      }
    }
  },
  "nbformat": 4,
  "nbformat_minor": 5
}