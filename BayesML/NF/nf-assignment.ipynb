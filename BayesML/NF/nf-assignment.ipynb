{
  "nbformat": 4,
  "nbformat_minor": 0,
  "metadata": {
    "colab": {
      "name": "nf-assignment.ipynb",
      "provenance": [],
      "collapsed_sections": []
    },
    "kernelspec": {
      "display_name": "Python 3",
      "language": "python",
      "name": "python3"
    },
    "language_info": {
      "codemirror_mode": {
        "name": "ipython",
        "version": 3
      },
      "file_extension": ".py",
      "mimetype": "text/x-python",
      "name": "python",
      "nbconvert_exporter": "python",
      "pygments_lexer": "ipython3",
      "version": "3.7.3"
    },
    "accelerator": "GPU",
    "widgets": {
      "application/vnd.jupyter.widget-state+json": {
        "8b37ca0e65bd4d3eab543e496c5d0ff3": {
          "model_module": "@jupyter-widgets/controls",
          "model_name": "HBoxModel",
          "model_module_version": "1.5.0",
          "state": {
            "_dom_classes": [],
            "_model_module": "@jupyter-widgets/controls",
            "_model_module_version": "1.5.0",
            "_model_name": "HBoxModel",
            "_view_count": null,
            "_view_module": "@jupyter-widgets/controls",
            "_view_module_version": "1.5.0",
            "_view_name": "HBoxView",
            "box_style": "",
            "children": [
              "IPY_MODEL_0c91777d7e7445bfaea8355bf3f191ec",
              "IPY_MODEL_ba40ea7a19d849dcb557fe7826d332ae",
              "IPY_MODEL_0a9121b814214d78950ff01295c95e5f"
            ],
            "layout": "IPY_MODEL_c97d6ab782034759a2a4e6372adc340a"
          }
        },
        "0c91777d7e7445bfaea8355bf3f191ec": {
          "model_module": "@jupyter-widgets/controls",
          "model_name": "HTMLModel",
          "model_module_version": "1.5.0",
          "state": {
            "_dom_classes": [],
            "_model_module": "@jupyter-widgets/controls",
            "_model_module_version": "1.5.0",
            "_model_name": "HTMLModel",
            "_view_count": null,
            "_view_module": "@jupyter-widgets/controls",
            "_view_module_version": "1.5.0",
            "_view_name": "HTMLView",
            "description": "",
            "description_tooltip": null,
            "layout": "IPY_MODEL_a8418812dddd4e41bb2bf102bb9f3b73",
            "placeholder": "​",
            "style": "IPY_MODEL_3343d599bd2242d9b6af3471e305d0b4",
            "value": "Tranning: 100%"
          }
        },
        "ba40ea7a19d849dcb557fe7826d332ae": {
          "model_module": "@jupyter-widgets/controls",
          "model_name": "FloatProgressModel",
          "model_module_version": "1.5.0",
          "state": {
            "_dom_classes": [],
            "_model_module": "@jupyter-widgets/controls",
            "_model_module_version": "1.5.0",
            "_model_name": "FloatProgressModel",
            "_view_count": null,
            "_view_module": "@jupyter-widgets/controls",
            "_view_module_version": "1.5.0",
            "_view_name": "ProgressView",
            "bar_style": "success",
            "description": "",
            "description_tooltip": null,
            "layout": "IPY_MODEL_7517fafa5c894d5f88fcc297188fcb24",
            "max": 5001,
            "min": 0,
            "orientation": "horizontal",
            "style": "IPY_MODEL_9a3ce068bbdf42a2b58f622a0d0f7147",
            "value": 5001
          }
        },
        "0a9121b814214d78950ff01295c95e5f": {
          "model_module": "@jupyter-widgets/controls",
          "model_name": "HTMLModel",
          "model_module_version": "1.5.0",
          "state": {
            "_dom_classes": [],
            "_model_module": "@jupyter-widgets/controls",
            "_model_module_version": "1.5.0",
            "_model_name": "HTMLModel",
            "_view_count": null,
            "_view_module": "@jupyter-widgets/controls",
            "_view_module_version": "1.5.0",
            "_view_name": "HTMLView",
            "description": "",
            "description_tooltip": null,
            "layout": "IPY_MODEL_27ec92385744414c9735bccbd40532c7",
            "placeholder": "​",
            "style": "IPY_MODEL_5d6af822422b47d9846de6351200e44d",
            "value": " 5001/5001 [01:48&lt;00:00, 46.60it/s]"
          }
        },
        "c97d6ab782034759a2a4e6372adc340a": {
          "model_module": "@jupyter-widgets/base",
          "model_name": "LayoutModel",
          "model_module_version": "1.2.0",
          "state": {
            "_model_module": "@jupyter-widgets/base",
            "_model_module_version": "1.2.0",
            "_model_name": "LayoutModel",
            "_view_count": null,
            "_view_module": "@jupyter-widgets/base",
            "_view_module_version": "1.2.0",
            "_view_name": "LayoutView",
            "align_content": null,
            "align_items": null,
            "align_self": null,
            "border": null,
            "bottom": null,
            "display": null,
            "flex": null,
            "flex_flow": null,
            "grid_area": null,
            "grid_auto_columns": null,
            "grid_auto_flow": null,
            "grid_auto_rows": null,
            "grid_column": null,
            "grid_gap": null,
            "grid_row": null,
            "grid_template_areas": null,
            "grid_template_columns": null,
            "grid_template_rows": null,
            "height": null,
            "justify_content": null,
            "justify_items": null,
            "left": null,
            "margin": null,
            "max_height": null,
            "max_width": null,
            "min_height": null,
            "min_width": null,
            "object_fit": null,
            "object_position": null,
            "order": null,
            "overflow": null,
            "overflow_x": null,
            "overflow_y": null,
            "padding": null,
            "right": null,
            "top": null,
            "visibility": null,
            "width": null
          }
        },
        "a8418812dddd4e41bb2bf102bb9f3b73": {
          "model_module": "@jupyter-widgets/base",
          "model_name": "LayoutModel",
          "model_module_version": "1.2.0",
          "state": {
            "_model_module": "@jupyter-widgets/base",
            "_model_module_version": "1.2.0",
            "_model_name": "LayoutModel",
            "_view_count": null,
            "_view_module": "@jupyter-widgets/base",
            "_view_module_version": "1.2.0",
            "_view_name": "LayoutView",
            "align_content": null,
            "align_items": null,
            "align_self": null,
            "border": null,
            "bottom": null,
            "display": null,
            "flex": null,
            "flex_flow": null,
            "grid_area": null,
            "grid_auto_columns": null,
            "grid_auto_flow": null,
            "grid_auto_rows": null,
            "grid_column": null,
            "grid_gap": null,
            "grid_row": null,
            "grid_template_areas": null,
            "grid_template_columns": null,
            "grid_template_rows": null,
            "height": null,
            "justify_content": null,
            "justify_items": null,
            "left": null,
            "margin": null,
            "max_height": null,
            "max_width": null,
            "min_height": null,
            "min_width": null,
            "object_fit": null,
            "object_position": null,
            "order": null,
            "overflow": null,
            "overflow_x": null,
            "overflow_y": null,
            "padding": null,
            "right": null,
            "top": null,
            "visibility": null,
            "width": null
          }
        },
        "3343d599bd2242d9b6af3471e305d0b4": {
          "model_module": "@jupyter-widgets/controls",
          "model_name": "DescriptionStyleModel",
          "model_module_version": "1.5.0",
          "state": {
            "_model_module": "@jupyter-widgets/controls",
            "_model_module_version": "1.5.0",
            "_model_name": "DescriptionStyleModel",
            "_view_count": null,
            "_view_module": "@jupyter-widgets/base",
            "_view_module_version": "1.2.0",
            "_view_name": "StyleView",
            "description_width": ""
          }
        },
        "7517fafa5c894d5f88fcc297188fcb24": {
          "model_module": "@jupyter-widgets/base",
          "model_name": "LayoutModel",
          "model_module_version": "1.2.0",
          "state": {
            "_model_module": "@jupyter-widgets/base",
            "_model_module_version": "1.2.0",
            "_model_name": "LayoutModel",
            "_view_count": null,
            "_view_module": "@jupyter-widgets/base",
            "_view_module_version": "1.2.0",
            "_view_name": "LayoutView",
            "align_content": null,
            "align_items": null,
            "align_self": null,
            "border": null,
            "bottom": null,
            "display": null,
            "flex": null,
            "flex_flow": null,
            "grid_area": null,
            "grid_auto_columns": null,
            "grid_auto_flow": null,
            "grid_auto_rows": null,
            "grid_column": null,
            "grid_gap": null,
            "grid_row": null,
            "grid_template_areas": null,
            "grid_template_columns": null,
            "grid_template_rows": null,
            "height": null,
            "justify_content": null,
            "justify_items": null,
            "left": null,
            "margin": null,
            "max_height": null,
            "max_width": null,
            "min_height": null,
            "min_width": null,
            "object_fit": null,
            "object_position": null,
            "order": null,
            "overflow": null,
            "overflow_x": null,
            "overflow_y": null,
            "padding": null,
            "right": null,
            "top": null,
            "visibility": null,
            "width": null
          }
        },
        "9a3ce068bbdf42a2b58f622a0d0f7147": {
          "model_module": "@jupyter-widgets/controls",
          "model_name": "ProgressStyleModel",
          "model_module_version": "1.5.0",
          "state": {
            "_model_module": "@jupyter-widgets/controls",
            "_model_module_version": "1.5.0",
            "_model_name": "ProgressStyleModel",
            "_view_count": null,
            "_view_module": "@jupyter-widgets/base",
            "_view_module_version": "1.2.0",
            "_view_name": "StyleView",
            "bar_color": null,
            "description_width": ""
          }
        },
        "27ec92385744414c9735bccbd40532c7": {
          "model_module": "@jupyter-widgets/base",
          "model_name": "LayoutModel",
          "model_module_version": "1.2.0",
          "state": {
            "_model_module": "@jupyter-widgets/base",
            "_model_module_version": "1.2.0",
            "_model_name": "LayoutModel",
            "_view_count": null,
            "_view_module": "@jupyter-widgets/base",
            "_view_module_version": "1.2.0",
            "_view_name": "LayoutView",
            "align_content": null,
            "align_items": null,
            "align_self": null,
            "border": null,
            "bottom": null,
            "display": null,
            "flex": null,
            "flex_flow": null,
            "grid_area": null,
            "grid_auto_columns": null,
            "grid_auto_flow": null,
            "grid_auto_rows": null,
            "grid_column": null,
            "grid_gap": null,
            "grid_row": null,
            "grid_template_areas": null,
            "grid_template_columns": null,
            "grid_template_rows": null,
            "height": null,
            "justify_content": null,
            "justify_items": null,
            "left": null,
            "margin": null,
            "max_height": null,
            "max_width": null,
            "min_height": null,
            "min_width": null,
            "object_fit": null,
            "object_position": null,
            "order": null,
            "overflow": null,
            "overflow_x": null,
            "overflow_y": null,
            "padding": null,
            "right": null,
            "top": null,
            "visibility": null,
            "width": null
          }
        },
        "5d6af822422b47d9846de6351200e44d": {
          "model_module": "@jupyter-widgets/controls",
          "model_name": "DescriptionStyleModel",
          "model_module_version": "1.5.0",
          "state": {
            "_model_module": "@jupyter-widgets/controls",
            "_model_module_version": "1.5.0",
            "_model_name": "DescriptionStyleModel",
            "_view_count": null,
            "_view_module": "@jupyter-widgets/base",
            "_view_module_version": "1.2.0",
            "_view_name": "StyleView",
            "description_width": ""
          }
        },
        "b78b6b2bf9714b87ad07cd7c8f885a2d": {
          "model_module": "@jupyter-widgets/controls",
          "model_name": "HBoxModel",
          "model_module_version": "1.5.0",
          "state": {
            "_dom_classes": [],
            "_model_module": "@jupyter-widgets/controls",
            "_model_module_version": "1.5.0",
            "_model_name": "HBoxModel",
            "_view_count": null,
            "_view_module": "@jupyter-widgets/controls",
            "_view_module_version": "1.5.0",
            "_view_name": "HBoxView",
            "box_style": "",
            "children": [
              "IPY_MODEL_7a22ac1632354a888b52ef78daa7773b",
              "IPY_MODEL_c7d886afed8f45b995b1a67efabb1e36",
              "IPY_MODEL_bc6ee966b4dc4cc189c2c3f80cecf663"
            ],
            "layout": "IPY_MODEL_7241796c9b9148209de04bd2814a413c"
          }
        },
        "7a22ac1632354a888b52ef78daa7773b": {
          "model_module": "@jupyter-widgets/controls",
          "model_name": "HTMLModel",
          "model_module_version": "1.5.0",
          "state": {
            "_dom_classes": [],
            "_model_module": "@jupyter-widgets/controls",
            "_model_module_version": "1.5.0",
            "_model_name": "HTMLModel",
            "_view_count": null,
            "_view_module": "@jupyter-widgets/controls",
            "_view_module_version": "1.5.0",
            "_view_name": "HTMLView",
            "description": "",
            "description_tooltip": null,
            "layout": "IPY_MODEL_b328f14909f54c08bcf49d4fc0d7692e",
            "placeholder": "​",
            "style": "IPY_MODEL_bc93cfcdd31c413f99644777f5f6844d",
            "value": "Tranning: 100%"
          }
        },
        "c7d886afed8f45b995b1a67efabb1e36": {
          "model_module": "@jupyter-widgets/controls",
          "model_name": "FloatProgressModel",
          "model_module_version": "1.5.0",
          "state": {
            "_dom_classes": [],
            "_model_module": "@jupyter-widgets/controls",
            "_model_module_version": "1.5.0",
            "_model_name": "FloatProgressModel",
            "_view_count": null,
            "_view_module": "@jupyter-widgets/controls",
            "_view_module_version": "1.5.0",
            "_view_name": "ProgressView",
            "bar_style": "success",
            "description": "",
            "description_tooltip": null,
            "layout": "IPY_MODEL_2cf76c730f2f44cc87d948bce89fd740",
            "max": 10001,
            "min": 0,
            "orientation": "horizontal",
            "style": "IPY_MODEL_94293109f57344c8a6da7cac81a2b327",
            "value": 10001
          }
        },
        "bc6ee966b4dc4cc189c2c3f80cecf663": {
          "model_module": "@jupyter-widgets/controls",
          "model_name": "HTMLModel",
          "model_module_version": "1.5.0",
          "state": {
            "_dom_classes": [],
            "_model_module": "@jupyter-widgets/controls",
            "_model_module_version": "1.5.0",
            "_model_name": "HTMLModel",
            "_view_count": null,
            "_view_module": "@jupyter-widgets/controls",
            "_view_module_version": "1.5.0",
            "_view_name": "HTMLView",
            "description": "",
            "description_tooltip": null,
            "layout": "IPY_MODEL_0ed5015c55944e4b9af41682a9ddd311",
            "placeholder": "​",
            "style": "IPY_MODEL_5d1f8d6d00d1460880868bf5a80668aa",
            "value": " 10001/10001 [05:28&lt;00:00, 30.35it/s]"
          }
        },
        "7241796c9b9148209de04bd2814a413c": {
          "model_module": "@jupyter-widgets/base",
          "model_name": "LayoutModel",
          "model_module_version": "1.2.0",
          "state": {
            "_model_module": "@jupyter-widgets/base",
            "_model_module_version": "1.2.0",
            "_model_name": "LayoutModel",
            "_view_count": null,
            "_view_module": "@jupyter-widgets/base",
            "_view_module_version": "1.2.0",
            "_view_name": "LayoutView",
            "align_content": null,
            "align_items": null,
            "align_self": null,
            "border": null,
            "bottom": null,
            "display": null,
            "flex": null,
            "flex_flow": null,
            "grid_area": null,
            "grid_auto_columns": null,
            "grid_auto_flow": null,
            "grid_auto_rows": null,
            "grid_column": null,
            "grid_gap": null,
            "grid_row": null,
            "grid_template_areas": null,
            "grid_template_columns": null,
            "grid_template_rows": null,
            "height": null,
            "justify_content": null,
            "justify_items": null,
            "left": null,
            "margin": null,
            "max_height": null,
            "max_width": null,
            "min_height": null,
            "min_width": null,
            "object_fit": null,
            "object_position": null,
            "order": null,
            "overflow": null,
            "overflow_x": null,
            "overflow_y": null,
            "padding": null,
            "right": null,
            "top": null,
            "visibility": null,
            "width": null
          }
        },
        "b328f14909f54c08bcf49d4fc0d7692e": {
          "model_module": "@jupyter-widgets/base",
          "model_name": "LayoutModel",
          "model_module_version": "1.2.0",
          "state": {
            "_model_module": "@jupyter-widgets/base",
            "_model_module_version": "1.2.0",
            "_model_name": "LayoutModel",
            "_view_count": null,
            "_view_module": "@jupyter-widgets/base",
            "_view_module_version": "1.2.0",
            "_view_name": "LayoutView",
            "align_content": null,
            "align_items": null,
            "align_self": null,
            "border": null,
            "bottom": null,
            "display": null,
            "flex": null,
            "flex_flow": null,
            "grid_area": null,
            "grid_auto_columns": null,
            "grid_auto_flow": null,
            "grid_auto_rows": null,
            "grid_column": null,
            "grid_gap": null,
            "grid_row": null,
            "grid_template_areas": null,
            "grid_template_columns": null,
            "grid_template_rows": null,
            "height": null,
            "justify_content": null,
            "justify_items": null,
            "left": null,
            "margin": null,
            "max_height": null,
            "max_width": null,
            "min_height": null,
            "min_width": null,
            "object_fit": null,
            "object_position": null,
            "order": null,
            "overflow": null,
            "overflow_x": null,
            "overflow_y": null,
            "padding": null,
            "right": null,
            "top": null,
            "visibility": null,
            "width": null
          }
        },
        "bc93cfcdd31c413f99644777f5f6844d": {
          "model_module": "@jupyter-widgets/controls",
          "model_name": "DescriptionStyleModel",
          "model_module_version": "1.5.0",
          "state": {
            "_model_module": "@jupyter-widgets/controls",
            "_model_module_version": "1.5.0",
            "_model_name": "DescriptionStyleModel",
            "_view_count": null,
            "_view_module": "@jupyter-widgets/base",
            "_view_module_version": "1.2.0",
            "_view_name": "StyleView",
            "description_width": ""
          }
        },
        "2cf76c730f2f44cc87d948bce89fd740": {
          "model_module": "@jupyter-widgets/base",
          "model_name": "LayoutModel",
          "model_module_version": "1.2.0",
          "state": {
            "_model_module": "@jupyter-widgets/base",
            "_model_module_version": "1.2.0",
            "_model_name": "LayoutModel",
            "_view_count": null,
            "_view_module": "@jupyter-widgets/base",
            "_view_module_version": "1.2.0",
            "_view_name": "LayoutView",
            "align_content": null,
            "align_items": null,
            "align_self": null,
            "border": null,
            "bottom": null,
            "display": null,
            "flex": null,
            "flex_flow": null,
            "grid_area": null,
            "grid_auto_columns": null,
            "grid_auto_flow": null,
            "grid_auto_rows": null,
            "grid_column": null,
            "grid_gap": null,
            "grid_row": null,
            "grid_template_areas": null,
            "grid_template_columns": null,
            "grid_template_rows": null,
            "height": null,
            "justify_content": null,
            "justify_items": null,
            "left": null,
            "margin": null,
            "max_height": null,
            "max_width": null,
            "min_height": null,
            "min_width": null,
            "object_fit": null,
            "object_position": null,
            "order": null,
            "overflow": null,
            "overflow_x": null,
            "overflow_y": null,
            "padding": null,
            "right": null,
            "top": null,
            "visibility": null,
            "width": null
          }
        },
        "94293109f57344c8a6da7cac81a2b327": {
          "model_module": "@jupyter-widgets/controls",
          "model_name": "ProgressStyleModel",
          "model_module_version": "1.5.0",
          "state": {
            "_model_module": "@jupyter-widgets/controls",
            "_model_module_version": "1.5.0",
            "_model_name": "ProgressStyleModel",
            "_view_count": null,
            "_view_module": "@jupyter-widgets/base",
            "_view_module_version": "1.2.0",
            "_view_name": "StyleView",
            "bar_color": null,
            "description_width": ""
          }
        },
        "0ed5015c55944e4b9af41682a9ddd311": {
          "model_module": "@jupyter-widgets/base",
          "model_name": "LayoutModel",
          "model_module_version": "1.2.0",
          "state": {
            "_model_module": "@jupyter-widgets/base",
            "_model_module_version": "1.2.0",
            "_model_name": "LayoutModel",
            "_view_count": null,
            "_view_module": "@jupyter-widgets/base",
            "_view_module_version": "1.2.0",
            "_view_name": "LayoutView",
            "align_content": null,
            "align_items": null,
            "align_self": null,
            "border": null,
            "bottom": null,
            "display": null,
            "flex": null,
            "flex_flow": null,
            "grid_area": null,
            "grid_auto_columns": null,
            "grid_auto_flow": null,
            "grid_auto_rows": null,
            "grid_column": null,
            "grid_gap": null,
            "grid_row": null,
            "grid_template_areas": null,
            "grid_template_columns": null,
            "grid_template_rows": null,
            "height": null,
            "justify_content": null,
            "justify_items": null,
            "left": null,
            "margin": null,
            "max_height": null,
            "max_width": null,
            "min_height": null,
            "min_width": null,
            "object_fit": null,
            "object_position": null,
            "order": null,
            "overflow": null,
            "overflow_x": null,
            "overflow_y": null,
            "padding": null,
            "right": null,
            "top": null,
            "visibility": null,
            "width": null
          }
        },
        "5d1f8d6d00d1460880868bf5a80668aa": {
          "model_module": "@jupyter-widgets/controls",
          "model_name": "DescriptionStyleModel",
          "model_module_version": "1.5.0",
          "state": {
            "_model_module": "@jupyter-widgets/controls",
            "_model_module_version": "1.5.0",
            "_model_name": "DescriptionStyleModel",
            "_view_count": null,
            "_view_module": "@jupyter-widgets/base",
            "_view_module_version": "1.2.0",
            "_view_name": "StyleView",
            "description_width": ""
          }
        },
        "0da6959fef7c4c23b4977008eb933374": {
          "model_module": "@jupyter-widgets/controls",
          "model_name": "HBoxModel",
          "model_module_version": "1.5.0",
          "state": {
            "_dom_classes": [],
            "_model_module": "@jupyter-widgets/controls",
            "_model_module_version": "1.5.0",
            "_model_name": "HBoxModel",
            "_view_count": null,
            "_view_module": "@jupyter-widgets/controls",
            "_view_module_version": "1.5.0",
            "_view_name": "HBoxView",
            "box_style": "",
            "children": [
              "IPY_MODEL_1b6ccabfb36a4b6cb1667731ebed475c",
              "IPY_MODEL_68af94982bae48d78ec6da2843310d42",
              "IPY_MODEL_e1f4a179f1674934be83c5c6d8206db6"
            ],
            "layout": "IPY_MODEL_f044c7f0ff7949e78ff9a70339afff28"
          }
        },
        "1b6ccabfb36a4b6cb1667731ebed475c": {
          "model_module": "@jupyter-widgets/controls",
          "model_name": "HTMLModel",
          "model_module_version": "1.5.0",
          "state": {
            "_dom_classes": [],
            "_model_module": "@jupyter-widgets/controls",
            "_model_module_version": "1.5.0",
            "_model_name": "HTMLModel",
            "_view_count": null,
            "_view_module": "@jupyter-widgets/controls",
            "_view_module_version": "1.5.0",
            "_view_name": "HTMLView",
            "description": "",
            "description_tooltip": null,
            "layout": "IPY_MODEL_13a3951fcaa549448d10ab551e0bdcde",
            "placeholder": "​",
            "style": "IPY_MODEL_e58656f759874b86a1011993875dd30b",
            "value": "Tranning:  22%"
          }
        },
        "68af94982bae48d78ec6da2843310d42": {
          "model_module": "@jupyter-widgets/controls",
          "model_name": "FloatProgressModel",
          "model_module_version": "1.5.0",
          "state": {
            "_dom_classes": [],
            "_model_module": "@jupyter-widgets/controls",
            "_model_module_version": "1.5.0",
            "_model_name": "FloatProgressModel",
            "_view_count": null,
            "_view_module": "@jupyter-widgets/controls",
            "_view_module_version": "1.5.0",
            "_view_name": "ProgressView",
            "bar_style": "",
            "description": "",
            "description_tooltip": null,
            "layout": "IPY_MODEL_3d1e9c7ec14049b3bbd94bb6dcf97399",
            "max": 5001,
            "min": 0,
            "orientation": "horizontal",
            "style": "IPY_MODEL_1e636f941f074237b642ae7ea2f6cc9f",
            "value": 1082
          }
        },
        "e1f4a179f1674934be83c5c6d8206db6": {
          "model_module": "@jupyter-widgets/controls",
          "model_name": "HTMLModel",
          "model_module_version": "1.5.0",
          "state": {
            "_dom_classes": [],
            "_model_module": "@jupyter-widgets/controls",
            "_model_module_version": "1.5.0",
            "_model_name": "HTMLModel",
            "_view_count": null,
            "_view_module": "@jupyter-widgets/controls",
            "_view_module_version": "1.5.0",
            "_view_name": "HTMLView",
            "description": "",
            "description_tooltip": null,
            "layout": "IPY_MODEL_e881353bf0b041deac46acbe7b862ffc",
            "placeholder": "​",
            "style": "IPY_MODEL_17df99239c0246e1b9db57fa637c5a4f",
            "value": " 1082/5001 [00:24&lt;01:26, 45.43it/s]"
          }
        },
        "f044c7f0ff7949e78ff9a70339afff28": {
          "model_module": "@jupyter-widgets/base",
          "model_name": "LayoutModel",
          "model_module_version": "1.2.0",
          "state": {
            "_model_module": "@jupyter-widgets/base",
            "_model_module_version": "1.2.0",
            "_model_name": "LayoutModel",
            "_view_count": null,
            "_view_module": "@jupyter-widgets/base",
            "_view_module_version": "1.2.0",
            "_view_name": "LayoutView",
            "align_content": null,
            "align_items": null,
            "align_self": null,
            "border": null,
            "bottom": null,
            "display": null,
            "flex": null,
            "flex_flow": null,
            "grid_area": null,
            "grid_auto_columns": null,
            "grid_auto_flow": null,
            "grid_auto_rows": null,
            "grid_column": null,
            "grid_gap": null,
            "grid_row": null,
            "grid_template_areas": null,
            "grid_template_columns": null,
            "grid_template_rows": null,
            "height": null,
            "justify_content": null,
            "justify_items": null,
            "left": null,
            "margin": null,
            "max_height": null,
            "max_width": null,
            "min_height": null,
            "min_width": null,
            "object_fit": null,
            "object_position": null,
            "order": null,
            "overflow": null,
            "overflow_x": null,
            "overflow_y": null,
            "padding": null,
            "right": null,
            "top": null,
            "visibility": null,
            "width": null
          }
        },
        "13a3951fcaa549448d10ab551e0bdcde": {
          "model_module": "@jupyter-widgets/base",
          "model_name": "LayoutModel",
          "model_module_version": "1.2.0",
          "state": {
            "_model_module": "@jupyter-widgets/base",
            "_model_module_version": "1.2.0",
            "_model_name": "LayoutModel",
            "_view_count": null,
            "_view_module": "@jupyter-widgets/base",
            "_view_module_version": "1.2.0",
            "_view_name": "LayoutView",
            "align_content": null,
            "align_items": null,
            "align_self": null,
            "border": null,
            "bottom": null,
            "display": null,
            "flex": null,
            "flex_flow": null,
            "grid_area": null,
            "grid_auto_columns": null,
            "grid_auto_flow": null,
            "grid_auto_rows": null,
            "grid_column": null,
            "grid_gap": null,
            "grid_row": null,
            "grid_template_areas": null,
            "grid_template_columns": null,
            "grid_template_rows": null,
            "height": null,
            "justify_content": null,
            "justify_items": null,
            "left": null,
            "margin": null,
            "max_height": null,
            "max_width": null,
            "min_height": null,
            "min_width": null,
            "object_fit": null,
            "object_position": null,
            "order": null,
            "overflow": null,
            "overflow_x": null,
            "overflow_y": null,
            "padding": null,
            "right": null,
            "top": null,
            "visibility": null,
            "width": null
          }
        },
        "e58656f759874b86a1011993875dd30b": {
          "model_module": "@jupyter-widgets/controls",
          "model_name": "DescriptionStyleModel",
          "model_module_version": "1.5.0",
          "state": {
            "_model_module": "@jupyter-widgets/controls",
            "_model_module_version": "1.5.0",
            "_model_name": "DescriptionStyleModel",
            "_view_count": null,
            "_view_module": "@jupyter-widgets/base",
            "_view_module_version": "1.2.0",
            "_view_name": "StyleView",
            "description_width": ""
          }
        },
        "3d1e9c7ec14049b3bbd94bb6dcf97399": {
          "model_module": "@jupyter-widgets/base",
          "model_name": "LayoutModel",
          "model_module_version": "1.2.0",
          "state": {
            "_model_module": "@jupyter-widgets/base",
            "_model_module_version": "1.2.0",
            "_model_name": "LayoutModel",
            "_view_count": null,
            "_view_module": "@jupyter-widgets/base",
            "_view_module_version": "1.2.0",
            "_view_name": "LayoutView",
            "align_content": null,
            "align_items": null,
            "align_self": null,
            "border": null,
            "bottom": null,
            "display": null,
            "flex": null,
            "flex_flow": null,
            "grid_area": null,
            "grid_auto_columns": null,
            "grid_auto_flow": null,
            "grid_auto_rows": null,
            "grid_column": null,
            "grid_gap": null,
            "grid_row": null,
            "grid_template_areas": null,
            "grid_template_columns": null,
            "grid_template_rows": null,
            "height": null,
            "justify_content": null,
            "justify_items": null,
            "left": null,
            "margin": null,
            "max_height": null,
            "max_width": null,
            "min_height": null,
            "min_width": null,
            "object_fit": null,
            "object_position": null,
            "order": null,
            "overflow": null,
            "overflow_x": null,
            "overflow_y": null,
            "padding": null,
            "right": null,
            "top": null,
            "visibility": null,
            "width": null
          }
        },
        "1e636f941f074237b642ae7ea2f6cc9f": {
          "model_module": "@jupyter-widgets/controls",
          "model_name": "ProgressStyleModel",
          "model_module_version": "1.5.0",
          "state": {
            "_model_module": "@jupyter-widgets/controls",
            "_model_module_version": "1.5.0",
            "_model_name": "ProgressStyleModel",
            "_view_count": null,
            "_view_module": "@jupyter-widgets/base",
            "_view_module_version": "1.2.0",
            "_view_name": "StyleView",
            "bar_color": null,
            "description_width": ""
          }
        },
        "e881353bf0b041deac46acbe7b862ffc": {
          "model_module": "@jupyter-widgets/base",
          "model_name": "LayoutModel",
          "model_module_version": "1.2.0",
          "state": {
            "_model_module": "@jupyter-widgets/base",
            "_model_module_version": "1.2.0",
            "_model_name": "LayoutModel",
            "_view_count": null,
            "_view_module": "@jupyter-widgets/base",
            "_view_module_version": "1.2.0",
            "_view_name": "LayoutView",
            "align_content": null,
            "align_items": null,
            "align_self": null,
            "border": null,
            "bottom": null,
            "display": null,
            "flex": null,
            "flex_flow": null,
            "grid_area": null,
            "grid_auto_columns": null,
            "grid_auto_flow": null,
            "grid_auto_rows": null,
            "grid_column": null,
            "grid_gap": null,
            "grid_row": null,
            "grid_template_areas": null,
            "grid_template_columns": null,
            "grid_template_rows": null,
            "height": null,
            "justify_content": null,
            "justify_items": null,
            "left": null,
            "margin": null,
            "max_height": null,
            "max_width": null,
            "min_height": null,
            "min_width": null,
            "object_fit": null,
            "object_position": null,
            "order": null,
            "overflow": null,
            "overflow_x": null,
            "overflow_y": null,
            "padding": null,
            "right": null,
            "top": null,
            "visibility": null,
            "width": null
          }
        },
        "17df99239c0246e1b9db57fa637c5a4f": {
          "model_module": "@jupyter-widgets/controls",
          "model_name": "DescriptionStyleModel",
          "model_module_version": "1.5.0",
          "state": {
            "_model_module": "@jupyter-widgets/controls",
            "_model_module_version": "1.5.0",
            "_model_name": "DescriptionStyleModel",
            "_view_count": null,
            "_view_module": "@jupyter-widgets/base",
            "_view_module_version": "1.2.0",
            "_view_name": "StyleView",
            "description_width": ""
          }
        },
        "9d71a3a6ea5c49bb995f4564338d800e": {
          "model_module": "@jupyter-widgets/controls",
          "model_name": "HBoxModel",
          "model_module_version": "1.5.0",
          "state": {
            "_dom_classes": [],
            "_model_module": "@jupyter-widgets/controls",
            "_model_module_version": "1.5.0",
            "_model_name": "HBoxModel",
            "_view_count": null,
            "_view_module": "@jupyter-widgets/controls",
            "_view_module_version": "1.5.0",
            "_view_name": "HBoxView",
            "box_style": "",
            "children": [
              "IPY_MODEL_4cd1277cbc0541f9968a13ff9533e8f5",
              "IPY_MODEL_234e5f68b72e4360ae7a32ef6b0946e4",
              "IPY_MODEL_efabbbd22c0342f79358c9702ebd0a82"
            ],
            "layout": "IPY_MODEL_ae2cb8acb63148659f74fca8e2d8400a"
          }
        },
        "4cd1277cbc0541f9968a13ff9533e8f5": {
          "model_module": "@jupyter-widgets/controls",
          "model_name": "HTMLModel",
          "model_module_version": "1.5.0",
          "state": {
            "_dom_classes": [],
            "_model_module": "@jupyter-widgets/controls",
            "_model_module_version": "1.5.0",
            "_model_name": "HTMLModel",
            "_view_count": null,
            "_view_module": "@jupyter-widgets/controls",
            "_view_module_version": "1.5.0",
            "_view_name": "HTMLView",
            "description": "",
            "description_tooltip": null,
            "layout": "IPY_MODEL_c8ec81efb8494e67b003770cce0561ff",
            "placeholder": "​",
            "style": "IPY_MODEL_888c51668b7d41c5842101f36d236536",
            "value": "Tranning: 100%"
          }
        },
        "234e5f68b72e4360ae7a32ef6b0946e4": {
          "model_module": "@jupyter-widgets/controls",
          "model_name": "FloatProgressModel",
          "model_module_version": "1.5.0",
          "state": {
            "_dom_classes": [],
            "_model_module": "@jupyter-widgets/controls",
            "_model_module_version": "1.5.0",
            "_model_name": "FloatProgressModel",
            "_view_count": null,
            "_view_module": "@jupyter-widgets/controls",
            "_view_module_version": "1.5.0",
            "_view_name": "ProgressView",
            "bar_style": "success",
            "description": "",
            "description_tooltip": null,
            "layout": "IPY_MODEL_1e7cc9723aba4036b1a1b0590a19bb41",
            "max": 5001,
            "min": 0,
            "orientation": "horizontal",
            "style": "IPY_MODEL_4765e1e2719c4b53a7ee4026ef4072ba",
            "value": 5001
          }
        },
        "efabbbd22c0342f79358c9702ebd0a82": {
          "model_module": "@jupyter-widgets/controls",
          "model_name": "HTMLModel",
          "model_module_version": "1.5.0",
          "state": {
            "_dom_classes": [],
            "_model_module": "@jupyter-widgets/controls",
            "_model_module_version": "1.5.0",
            "_model_name": "HTMLModel",
            "_view_count": null,
            "_view_module": "@jupyter-widgets/controls",
            "_view_module_version": "1.5.0",
            "_view_name": "HTMLView",
            "description": "",
            "description_tooltip": null,
            "layout": "IPY_MODEL_039ec99d75fa4930815b2d1c1f70a291",
            "placeholder": "​",
            "style": "IPY_MODEL_66b90924d51d4b4cba18aba0bfd73257",
            "value": " 5001/5001 [01:43&lt;00:00, 49.83it/s]"
          }
        },
        "ae2cb8acb63148659f74fca8e2d8400a": {
          "model_module": "@jupyter-widgets/base",
          "model_name": "LayoutModel",
          "model_module_version": "1.2.0",
          "state": {
            "_model_module": "@jupyter-widgets/base",
            "_model_module_version": "1.2.0",
            "_model_name": "LayoutModel",
            "_view_count": null,
            "_view_module": "@jupyter-widgets/base",
            "_view_module_version": "1.2.0",
            "_view_name": "LayoutView",
            "align_content": null,
            "align_items": null,
            "align_self": null,
            "border": null,
            "bottom": null,
            "display": null,
            "flex": null,
            "flex_flow": null,
            "grid_area": null,
            "grid_auto_columns": null,
            "grid_auto_flow": null,
            "grid_auto_rows": null,
            "grid_column": null,
            "grid_gap": null,
            "grid_row": null,
            "grid_template_areas": null,
            "grid_template_columns": null,
            "grid_template_rows": null,
            "height": null,
            "justify_content": null,
            "justify_items": null,
            "left": null,
            "margin": null,
            "max_height": null,
            "max_width": null,
            "min_height": null,
            "min_width": null,
            "object_fit": null,
            "object_position": null,
            "order": null,
            "overflow": null,
            "overflow_x": null,
            "overflow_y": null,
            "padding": null,
            "right": null,
            "top": null,
            "visibility": null,
            "width": null
          }
        },
        "c8ec81efb8494e67b003770cce0561ff": {
          "model_module": "@jupyter-widgets/base",
          "model_name": "LayoutModel",
          "model_module_version": "1.2.0",
          "state": {
            "_model_module": "@jupyter-widgets/base",
            "_model_module_version": "1.2.0",
            "_model_name": "LayoutModel",
            "_view_count": null,
            "_view_module": "@jupyter-widgets/base",
            "_view_module_version": "1.2.0",
            "_view_name": "LayoutView",
            "align_content": null,
            "align_items": null,
            "align_self": null,
            "border": null,
            "bottom": null,
            "display": null,
            "flex": null,
            "flex_flow": null,
            "grid_area": null,
            "grid_auto_columns": null,
            "grid_auto_flow": null,
            "grid_auto_rows": null,
            "grid_column": null,
            "grid_gap": null,
            "grid_row": null,
            "grid_template_areas": null,
            "grid_template_columns": null,
            "grid_template_rows": null,
            "height": null,
            "justify_content": null,
            "justify_items": null,
            "left": null,
            "margin": null,
            "max_height": null,
            "max_width": null,
            "min_height": null,
            "min_width": null,
            "object_fit": null,
            "object_position": null,
            "order": null,
            "overflow": null,
            "overflow_x": null,
            "overflow_y": null,
            "padding": null,
            "right": null,
            "top": null,
            "visibility": null,
            "width": null
          }
        },
        "888c51668b7d41c5842101f36d236536": {
          "model_module": "@jupyter-widgets/controls",
          "model_name": "DescriptionStyleModel",
          "model_module_version": "1.5.0",
          "state": {
            "_model_module": "@jupyter-widgets/controls",
            "_model_module_version": "1.5.0",
            "_model_name": "DescriptionStyleModel",
            "_view_count": null,
            "_view_module": "@jupyter-widgets/base",
            "_view_module_version": "1.2.0",
            "_view_name": "StyleView",
            "description_width": ""
          }
        },
        "1e7cc9723aba4036b1a1b0590a19bb41": {
          "model_module": "@jupyter-widgets/base",
          "model_name": "LayoutModel",
          "model_module_version": "1.2.0",
          "state": {
            "_model_module": "@jupyter-widgets/base",
            "_model_module_version": "1.2.0",
            "_model_name": "LayoutModel",
            "_view_count": null,
            "_view_module": "@jupyter-widgets/base",
            "_view_module_version": "1.2.0",
            "_view_name": "LayoutView",
            "align_content": null,
            "align_items": null,
            "align_self": null,
            "border": null,
            "bottom": null,
            "display": null,
            "flex": null,
            "flex_flow": null,
            "grid_area": null,
            "grid_auto_columns": null,
            "grid_auto_flow": null,
            "grid_auto_rows": null,
            "grid_column": null,
            "grid_gap": null,
            "grid_row": null,
            "grid_template_areas": null,
            "grid_template_columns": null,
            "grid_template_rows": null,
            "height": null,
            "justify_content": null,
            "justify_items": null,
            "left": null,
            "margin": null,
            "max_height": null,
            "max_width": null,
            "min_height": null,
            "min_width": null,
            "object_fit": null,
            "object_position": null,
            "order": null,
            "overflow": null,
            "overflow_x": null,
            "overflow_y": null,
            "padding": null,
            "right": null,
            "top": null,
            "visibility": null,
            "width": null
          }
        },
        "4765e1e2719c4b53a7ee4026ef4072ba": {
          "model_module": "@jupyter-widgets/controls",
          "model_name": "ProgressStyleModel",
          "model_module_version": "1.5.0",
          "state": {
            "_model_module": "@jupyter-widgets/controls",
            "_model_module_version": "1.5.0",
            "_model_name": "ProgressStyleModel",
            "_view_count": null,
            "_view_module": "@jupyter-widgets/base",
            "_view_module_version": "1.2.0",
            "_view_name": "StyleView",
            "bar_color": null,
            "description_width": ""
          }
        },
        "039ec99d75fa4930815b2d1c1f70a291": {
          "model_module": "@jupyter-widgets/base",
          "model_name": "LayoutModel",
          "model_module_version": "1.2.0",
          "state": {
            "_model_module": "@jupyter-widgets/base",
            "_model_module_version": "1.2.0",
            "_model_name": "LayoutModel",
            "_view_count": null,
            "_view_module": "@jupyter-widgets/base",
            "_view_module_version": "1.2.0",
            "_view_name": "LayoutView",
            "align_content": null,
            "align_items": null,
            "align_self": null,
            "border": null,
            "bottom": null,
            "display": null,
            "flex": null,
            "flex_flow": null,
            "grid_area": null,
            "grid_auto_columns": null,
            "grid_auto_flow": null,
            "grid_auto_rows": null,
            "grid_column": null,
            "grid_gap": null,
            "grid_row": null,
            "grid_template_areas": null,
            "grid_template_columns": null,
            "grid_template_rows": null,
            "height": null,
            "justify_content": null,
            "justify_items": null,
            "left": null,
            "margin": null,
            "max_height": null,
            "max_width": null,
            "min_height": null,
            "min_width": null,
            "object_fit": null,
            "object_position": null,
            "order": null,
            "overflow": null,
            "overflow_x": null,
            "overflow_y": null,
            "padding": null,
            "right": null,
            "top": null,
            "visibility": null,
            "width": null
          }
        },
        "66b90924d51d4b4cba18aba0bfd73257": {
          "model_module": "@jupyter-widgets/controls",
          "model_name": "DescriptionStyleModel",
          "model_module_version": "1.5.0",
          "state": {
            "_model_module": "@jupyter-widgets/controls",
            "_model_module_version": "1.5.0",
            "_model_name": "DescriptionStyleModel",
            "_view_count": null,
            "_view_module": "@jupyter-widgets/base",
            "_view_module_version": "1.2.0",
            "_view_name": "StyleView",
            "description_width": ""
          }
        },
        "21e4f0b2a221451dbaf925731207a5f3": {
          "model_module": "@jupyter-widgets/controls",
          "model_name": "HBoxModel",
          "model_module_version": "1.5.0",
          "state": {
            "_dom_classes": [],
            "_model_module": "@jupyter-widgets/controls",
            "_model_module_version": "1.5.0",
            "_model_name": "HBoxModel",
            "_view_count": null,
            "_view_module": "@jupyter-widgets/controls",
            "_view_module_version": "1.5.0",
            "_view_name": "HBoxView",
            "box_style": "",
            "children": [
              "IPY_MODEL_2b858a3fb27a41faa8db65c437e980b6",
              "IPY_MODEL_0d7b3122939342afa1c3b1011bdb7b14",
              "IPY_MODEL_af3db03675dd46a2ab02c36a731a5cef"
            ],
            "layout": "IPY_MODEL_40e194b7fa1e4975a5a81b86069b8a42"
          }
        },
        "2b858a3fb27a41faa8db65c437e980b6": {
          "model_module": "@jupyter-widgets/controls",
          "model_name": "HTMLModel",
          "model_module_version": "1.5.0",
          "state": {
            "_dom_classes": [],
            "_model_module": "@jupyter-widgets/controls",
            "_model_module_version": "1.5.0",
            "_model_name": "HTMLModel",
            "_view_count": null,
            "_view_module": "@jupyter-widgets/controls",
            "_view_module_version": "1.5.0",
            "_view_name": "HTMLView",
            "description": "",
            "description_tooltip": null,
            "layout": "IPY_MODEL_57dc056a746c481096aa37bc104379f4",
            "placeholder": "​",
            "style": "IPY_MODEL_365b4b556a924ab1bede5b4492b5a9a7",
            "value": "Tranning: 100%"
          }
        },
        "0d7b3122939342afa1c3b1011bdb7b14": {
          "model_module": "@jupyter-widgets/controls",
          "model_name": "FloatProgressModel",
          "model_module_version": "1.5.0",
          "state": {
            "_dom_classes": [],
            "_model_module": "@jupyter-widgets/controls",
            "_model_module_version": "1.5.0",
            "_model_name": "FloatProgressModel",
            "_view_count": null,
            "_view_module": "@jupyter-widgets/controls",
            "_view_module_version": "1.5.0",
            "_view_name": "ProgressView",
            "bar_style": "success",
            "description": "",
            "description_tooltip": null,
            "layout": "IPY_MODEL_b8a81309223849fba7e3cff122eb9c3b",
            "max": 5001,
            "min": 0,
            "orientation": "horizontal",
            "style": "IPY_MODEL_eae101de68464eb9a6d6854e1146451f",
            "value": 5001
          }
        },
        "af3db03675dd46a2ab02c36a731a5cef": {
          "model_module": "@jupyter-widgets/controls",
          "model_name": "HTMLModel",
          "model_module_version": "1.5.0",
          "state": {
            "_dom_classes": [],
            "_model_module": "@jupyter-widgets/controls",
            "_model_module_version": "1.5.0",
            "_model_name": "HTMLModel",
            "_view_count": null,
            "_view_module": "@jupyter-widgets/controls",
            "_view_module_version": "1.5.0",
            "_view_name": "HTMLView",
            "description": "",
            "description_tooltip": null,
            "layout": "IPY_MODEL_4c90652dc3a74a0b8eef9a7d226da6af",
            "placeholder": "​",
            "style": "IPY_MODEL_16b3988e33e04023aa79d8cc5499137e",
            "value": " 5001/5001 [01:47&lt;00:00, 47.22it/s]"
          }
        },
        "40e194b7fa1e4975a5a81b86069b8a42": {
          "model_module": "@jupyter-widgets/base",
          "model_name": "LayoutModel",
          "model_module_version": "1.2.0",
          "state": {
            "_model_module": "@jupyter-widgets/base",
            "_model_module_version": "1.2.0",
            "_model_name": "LayoutModel",
            "_view_count": null,
            "_view_module": "@jupyter-widgets/base",
            "_view_module_version": "1.2.0",
            "_view_name": "LayoutView",
            "align_content": null,
            "align_items": null,
            "align_self": null,
            "border": null,
            "bottom": null,
            "display": null,
            "flex": null,
            "flex_flow": null,
            "grid_area": null,
            "grid_auto_columns": null,
            "grid_auto_flow": null,
            "grid_auto_rows": null,
            "grid_column": null,
            "grid_gap": null,
            "grid_row": null,
            "grid_template_areas": null,
            "grid_template_columns": null,
            "grid_template_rows": null,
            "height": null,
            "justify_content": null,
            "justify_items": null,
            "left": null,
            "margin": null,
            "max_height": null,
            "max_width": null,
            "min_height": null,
            "min_width": null,
            "object_fit": null,
            "object_position": null,
            "order": null,
            "overflow": null,
            "overflow_x": null,
            "overflow_y": null,
            "padding": null,
            "right": null,
            "top": null,
            "visibility": null,
            "width": null
          }
        },
        "57dc056a746c481096aa37bc104379f4": {
          "model_module": "@jupyter-widgets/base",
          "model_name": "LayoutModel",
          "model_module_version": "1.2.0",
          "state": {
            "_model_module": "@jupyter-widgets/base",
            "_model_module_version": "1.2.0",
            "_model_name": "LayoutModel",
            "_view_count": null,
            "_view_module": "@jupyter-widgets/base",
            "_view_module_version": "1.2.0",
            "_view_name": "LayoutView",
            "align_content": null,
            "align_items": null,
            "align_self": null,
            "border": null,
            "bottom": null,
            "display": null,
            "flex": null,
            "flex_flow": null,
            "grid_area": null,
            "grid_auto_columns": null,
            "grid_auto_flow": null,
            "grid_auto_rows": null,
            "grid_column": null,
            "grid_gap": null,
            "grid_row": null,
            "grid_template_areas": null,
            "grid_template_columns": null,
            "grid_template_rows": null,
            "height": null,
            "justify_content": null,
            "justify_items": null,
            "left": null,
            "margin": null,
            "max_height": null,
            "max_width": null,
            "min_height": null,
            "min_width": null,
            "object_fit": null,
            "object_position": null,
            "order": null,
            "overflow": null,
            "overflow_x": null,
            "overflow_y": null,
            "padding": null,
            "right": null,
            "top": null,
            "visibility": null,
            "width": null
          }
        },
        "365b4b556a924ab1bede5b4492b5a9a7": {
          "model_module": "@jupyter-widgets/controls",
          "model_name": "DescriptionStyleModel",
          "model_module_version": "1.5.0",
          "state": {
            "_model_module": "@jupyter-widgets/controls",
            "_model_module_version": "1.5.0",
            "_model_name": "DescriptionStyleModel",
            "_view_count": null,
            "_view_module": "@jupyter-widgets/base",
            "_view_module_version": "1.2.0",
            "_view_name": "StyleView",
            "description_width": ""
          }
        },
        "b8a81309223849fba7e3cff122eb9c3b": {
          "model_module": "@jupyter-widgets/base",
          "model_name": "LayoutModel",
          "model_module_version": "1.2.0",
          "state": {
            "_model_module": "@jupyter-widgets/base",
            "_model_module_version": "1.2.0",
            "_model_name": "LayoutModel",
            "_view_count": null,
            "_view_module": "@jupyter-widgets/base",
            "_view_module_version": "1.2.0",
            "_view_name": "LayoutView",
            "align_content": null,
            "align_items": null,
            "align_self": null,
            "border": null,
            "bottom": null,
            "display": null,
            "flex": null,
            "flex_flow": null,
            "grid_area": null,
            "grid_auto_columns": null,
            "grid_auto_flow": null,
            "grid_auto_rows": null,
            "grid_column": null,
            "grid_gap": null,
            "grid_row": null,
            "grid_template_areas": null,
            "grid_template_columns": null,
            "grid_template_rows": null,
            "height": null,
            "justify_content": null,
            "justify_items": null,
            "left": null,
            "margin": null,
            "max_height": null,
            "max_width": null,
            "min_height": null,
            "min_width": null,
            "object_fit": null,
            "object_position": null,
            "order": null,
            "overflow": null,
            "overflow_x": null,
            "overflow_y": null,
            "padding": null,
            "right": null,
            "top": null,
            "visibility": null,
            "width": null
          }
        },
        "eae101de68464eb9a6d6854e1146451f": {
          "model_module": "@jupyter-widgets/controls",
          "model_name": "ProgressStyleModel",
          "model_module_version": "1.5.0",
          "state": {
            "_model_module": "@jupyter-widgets/controls",
            "_model_module_version": "1.5.0",
            "_model_name": "ProgressStyleModel",
            "_view_count": null,
            "_view_module": "@jupyter-widgets/base",
            "_view_module_version": "1.2.0",
            "_view_name": "StyleView",
            "bar_color": null,
            "description_width": ""
          }
        },
        "4c90652dc3a74a0b8eef9a7d226da6af": {
          "model_module": "@jupyter-widgets/base",
          "model_name": "LayoutModel",
          "model_module_version": "1.2.0",
          "state": {
            "_model_module": "@jupyter-widgets/base",
            "_model_module_version": "1.2.0",
            "_model_name": "LayoutModel",
            "_view_count": null,
            "_view_module": "@jupyter-widgets/base",
            "_view_module_version": "1.2.0",
            "_view_name": "LayoutView",
            "align_content": null,
            "align_items": null,
            "align_self": null,
            "border": null,
            "bottom": null,
            "display": null,
            "flex": null,
            "flex_flow": null,
            "grid_area": null,
            "grid_auto_columns": null,
            "grid_auto_flow": null,
            "grid_auto_rows": null,
            "grid_column": null,
            "grid_gap": null,
            "grid_row": null,
            "grid_template_areas": null,
            "grid_template_columns": null,
            "grid_template_rows": null,
            "height": null,
            "justify_content": null,
            "justify_items": null,
            "left": null,
            "margin": null,
            "max_height": null,
            "max_width": null,
            "min_height": null,
            "min_width": null,
            "object_fit": null,
            "object_position": null,
            "order": null,
            "overflow": null,
            "overflow_x": null,
            "overflow_y": null,
            "padding": null,
            "right": null,
            "top": null,
            "visibility": null,
            "width": null
          }
        },
        "16b3988e33e04023aa79d8cc5499137e": {
          "model_module": "@jupyter-widgets/controls",
          "model_name": "DescriptionStyleModel",
          "model_module_version": "1.5.0",
          "state": {
            "_model_module": "@jupyter-widgets/controls",
            "_model_module_version": "1.5.0",
            "_model_name": "DescriptionStyleModel",
            "_view_count": null,
            "_view_module": "@jupyter-widgets/base",
            "_view_module_version": "1.2.0",
            "_view_name": "StyleView",
            "description_width": ""
          }
        }
      }
    }
  },
  "cells": [
    {
      "cell_type": "markdown",
      "metadata": {
        "id": "NA1jh8NDbTSz"
      },
      "source": [
        "# Assignment 1"
      ]
    },
    {
      "cell_type": "markdown",
      "metadata": {
        "id": "onzQnZoFbTS0"
      },
      "source": [
        "# Density estimation using Real NVP\n",
        "\n",
        "Normalizing flows is the class of probabilistic models that provides flexible parametrical probabilistic models, where the probability density function can be computed exactly. In the assignment, we will consider a real-valued non-volume preserving normalizing flows (Real NVP) -- a special case of normalizing flow.\n",
        "\n",
        "#### Problem setting\n",
        "\n",
        "Our goal is to train a generative network $g_\\theta:  Z \\rightarrow X, g = f^{-1}$ that maps latent variable $z \\sim p(z)$ to a sample $x \\sim p(x)$. Where $p(z)$ is a prior distibiution and $p(x)$ is a data distibution. An illustrative example is provided below.\n",
        "\n",
        "![alt text](https://raw.githubusercontent.com/senya-ashukha/senya-ashukha.github.io/f4ed2d6ac83954b1358168dc98be3f17b6f2abbb/assignments/normalizing-flows/2d-example.png)\n",
        "\n",
        "#### Change of variable formula\n",
        "\n",
        "Given an observed data variable $x \\in X$,\n",
        "a simple prior probability distribution $p_{Z}$ on a latent variable $z \\in Z$,\n",
        "and a bijection $f: X \\rightarrow Z$ (with $g = f^{-1}$),\n",
        "the change of variable formula defines a model distribution of $X$ by\n",
        "<!-- \\begin{align}\n",
        "p_{X}(x) &= p_{Z}\\big(f(x)\\big) \\left|\\det\\left(\\cfrac{\\partial f(x)}{\\partial x^T} \\right)\\right|\n",
        "\\label{eq:change-variables}\\\\\n",
        "\\log\\left(p_{X}(x)\\right) &= \\log\\Big(p_{Z}\\big(f(x)\\big)\\Big) + \\log\\left(\\left|\\det\\left(\\frac{\\partial f(x)}{\\partial x^T}\\right)\\right|\\right)\n",
        ",\n",
        "\\end{align} -->\n",
        "\n",
        "![alt text](https://raw.githubusercontent.com/senya-ashukha/senya-ashukha.github.io/f4ed2d6ac83954b1358168dc98be3f17b6f2abbb/assignments/normalizing-flows/f.png)\n",
        "where $\\frac{\\partial f(x)}{\\partial x^T}$ is the Jacobian of $f$ at $x$.\n",
        "\n",
        "Exact samples from the resulting distribution can be generated by using the inverse transform sampling rule. A sample $z \\sim p_{Z}$ is drawn in the latent space, and its inverse image $x = f^{-1}(z) = g(z)$ generates a sample in the original space. Computing the density at a point $x$ is accomplished by computing the density of its image $f(x)$ and multiplying by the associated Jacobian determinant $\\det\\left(\\frac{\\partial f(x)}{\\partial x^T}\\right)$.\n",
        "\n",
        "#### Real NVP\n",
        "\n",
        "Real NVP presents a class of functions where $\\log\\left(\\left|\\det\\left(\\frac{\\partial f(x)}{\\partial x^T}\\right)\\right|\\right)$ can be computed efficiently (see, 3.3 Properties, https://arxiv.org/abs/1605.08803). Every layer of Real NVP is a coupling layer followed by permutation layer. Combination of coupling and permutation layers can be implemented as a masked version of the coupling layer:\n",
        "## $$y = b \\odot x + (1 - b) \\odot \\Big(x \\odot \\exp\\big(s(b \\odot x)\\big) + t(b \\odot x)\\Big)$$\n",
        "\n",
        "where $s$ and $t$ stand for scale and translation, and are functions from $R^{D} \\mapsto R^{D}$, and $\\odot$ is the Hadamard product or element-wise product, $b$ is a binary mask. For more details on the model see the paper Density estimation using Real NVP https://arxiv.org/abs/1605.08803.\n",
        "\n",
        "# In this assignment:\n",
        "1. Implementation of Real NVP\n",
        "2. Training Real NVP on moons dataset\n",
        "3. Visualization of the generative model\n",
        "4. Optional Research Assignment\n",
        "\n",
        "Additional information:\n",
        "- You will need the following python packages: PyTorch, Numpy, sklearn, matplotlib.\n",
        "- If you have an urgent question or find a typo or a mistake, send it to ars.ashuha@gmail.com. The title should include \"BDL Assignment 2 2018\".\n",
        "- A submission policy will be released later."
      ]
    },
    {
      "cell_type": "markdown",
      "metadata": {
        "id": "NgMBEYdwbTS2"
      },
      "source": [
        "# Implementation of Real NVP"
      ]
    },
    {
      "cell_type": "code",
      "metadata": {
        "id": "loxXeNy9bTS3"
      },
      "source": [
        "import numpy as np\n",
        "from functools import partial\n",
        "from sklearn import datasets\n",
        "from tqdm.auto import trange\n",
        "\n",
        "import torch\n",
        "from torch import nn\n",
        "from torch.nn.parameter import Parameter\n",
        "from torch.distributions import MultivariateNormal\n",
        "\n",
        "\n",
        "import matplotlib.pyplot as plt\n",
        "%matplotlib inline\n",
        "from pylab import rcParams\n",
        "rcParams['figure.figsize'] = 10, 8\n",
        "rcParams['figure.dpi'] = 300\n",
        "\n",
        "device = torch.device(\"cuda\" if torch.cuda.is_available() else \"cpu\")"
      ],
      "execution_count": 1,
      "outputs": []
    },
    {
      "cell_type": "code",
      "metadata": {
        "id": "GpyZ5AqObTS7"
      },
      "source": [
        "class RealNVP(nn.Module):\n",
        "    def __init__(self, nets, nett, mask, prior):\n",
        "        super(RealNVP, self).__init__()\n",
        "        \n",
        "        # Create a flow\n",
        "        # nets:  a function that returns a PyTorch neural network, e.g., nn.Sequential, s = nets(), s: dim(X) -> dim(X)\n",
        "        # nett:  a function that returns a PyTorch neural network, e.g., nn.Sequential, t = nett(), t: dim(X) -> dim(X)\n",
        "        # mask:  a torch.Tensor of size #number_of_coupling_layers x #dim(X)\n",
        "        # prior: an object from torch.distributions e.g., torch.distributions.MultivariateNormal\n",
        "        \n",
        "        self.prior = prior\n",
        "        self.mask = nn.Parameter(mask, requires_grad=False)\n",
        "        self.t = torch.nn.ModuleList([nett() for _ in range(len(masks))])\n",
        "        self.s = torch.nn.ModuleList([nets() for _ in range(len(masks))])\n",
        "        \n",
        "    def g(self, z):\n",
        "        # Compute and return g(z) = x, \n",
        "        #    where self.mask[i], self.t[i], self.s[i] define a i-th masked coupling layer   \n",
        "        # z: a torch.Tensor of shape batchSize x 1 x dim(X)\n",
        "        # return x: a torch.Tensor of shape batchSize x 1 x dim(X)\n",
        "        x = z\n",
        "        for s, t, mask in zip(reversed(self.s), reversed(self.t), reversed(self.mask)):\n",
        "            x_ = mask * x\n",
        "            s_, t_ = s(x_), t(x_)\n",
        "            x = x_ + (1 - mask) * torch.exp(-s_) * (x - t_)\n",
        "        return x\n",
        "\n",
        "    def f(self, x):\n",
        "        # Compute f(x) = z and log_det_Jakobian of f, \n",
        "        #    where self.mask[i], self.t[i], self.s[i] define a i-th masked coupling layer   \n",
        "        # x: a torch.Tensor, of shape batchSize x dim(X), is a datapoint\n",
        "        # return z: a torch.Tensor of shape batchSize x dim(X), a hidden representations\n",
        "        # return log_det_J: a torch.Tensor of len batchSize\n",
        "        z = x\n",
        "        log_det = 0.\n",
        "        for s, t, mask in zip(self.s, self.t, self.mask):\n",
        "            x_ = mask * z\n",
        "            s_, t_ = s(x_), t(x_)\n",
        "            z = x_ + (1 - mask) * (z * torch.exp(s_) + t_)\n",
        "            log_det += torch.sum((1 - mask) * s_, dim=1)\n",
        "        return z, log_det\n",
        "    \n",
        "    def log_prob(self, x):\n",
        "        # Compute and return log p(x)\n",
        "        # using the change of variable formula and log_det_J computed by f\n",
        "        # return logp: torch.Tensor of len batchSize\n",
        "        z, log_det = self.f(x)\n",
        "        logp = self.prior.log_prob(z) + log_det\n",
        "        return logp\n",
        "\n",
        "    def fit(self, batch_size=100, steps=5001, lr=1e-3):\n",
        "        optimizer = torch.optim.Adam(self.parameters(), lr=lr)\n",
        "\n",
        "        for step in trange(steps, desc='Tranning'):    \n",
        "            noisy_moons = datasets.make_moons(n_samples=batch_size, noise=.05)\n",
        "            batch = torch.tensor(\n",
        "                noisy_moons[0],\n",
        "                dtype=torch.float32,\n",
        "                device=device\n",
        "            )\n",
        "            loss = -self.log_prob(batch).mean() # compute the maximum-likelihood loss\n",
        "\n",
        "            optimizer.zero_grad()\n",
        "            loss.backward()\n",
        "            optimizer.step()\n",
        "            \n",
        "            if step % 500 == 0:\n",
        "                print('iter %s:' % step, 'loss = %.3f' % loss)\n",
        "\n",
        "    @torch.no_grad()\n",
        "    def visualization(self, n_samples=1000):\n",
        "        noisy_moons = datasets.make_moons(n_samples=n_samples, noise=.05)[0]\n",
        "        batch = torch.tensor(\n",
        "              noisy_moons,\n",
        "              dtype=torch.float32,\n",
        "              device=device\n",
        "          )\n",
        "        z = self.f(batch)[0].cpu().numpy()\n",
        "\n",
        "        plt.figure(figsize=(10, 10))\n",
        "        plt.subplot(221)\n",
        "        plt.scatter(z[:, 0], z[:, 1])\n",
        "        plt.title(r'$z = f(X)$')\n",
        "\n",
        "        z = self.prior.sample((n_samples,)).cpu().numpy()\n",
        "        plt.subplot(222)\n",
        "        plt.scatter(z[:, 0], z[:, 1])\n",
        "        plt.title(r'$z \\sim p(z)$')\n",
        "\n",
        "        plt.subplot(223)\n",
        "        plt.scatter(noisy_moons[:, 0], noisy_moons[:, 1], c='r')\n",
        "        plt.title(r'$X \\sim p(X)$')\n",
        "\n",
        "        plt.subplot(224)\n",
        "        x = self.sample(n_samples)\n",
        "        plt.scatter(x[:, 0, 0], x[:, 0, 1], c='r')\n",
        "        plt.title(r'$X = g(z)$')\n",
        "        plt.show()\n",
        "    \n",
        "    @torch.no_grad()\n",
        "    def sample(self, batchSize): \n",
        "        # Draw and return batchSize samples from flow using implementation of g\n",
        "        # return x: torch.Tensor of shape batchSize x 1 x dim(X)\n",
        "        z = self.prior.sample((batchSize,)).unsqueeze(dim=1)\n",
        "        x = self.g(z)\n",
        "        return x.cpu().numpy()"
      ],
      "execution_count": 2,
      "outputs": []
    },
    {
      "cell_type": "code",
      "source": [
        "def get_net(x_dim=2, hidden_dim=256, n_layers=3, last_activation='none'):\n",
        "    layers = [nn.Linear(x_dim, hidden_dim), nn.ReLU()]\n",
        "    for _ in range(n_layers-2):\n",
        "        layers.extend([nn.Linear(hidden_dim, hidden_dim), nn.ReLU()])\n",
        "    \n",
        "    layers.append(nn.Linear(hidden_dim, x_dim))\n",
        "    \n",
        "    if last_activation == 'tanh':\n",
        "        layers.append(nn.Tanh())\n",
        "    elif last_activation == 'relu':\n",
        "        layers.append(nn.ReLu())\n",
        "\n",
        "    return nn.Sequential(*layers)"
      ],
      "metadata": {
        "id": "Q2ZikQ7im4Ga"
      },
      "execution_count": 3,
      "outputs": []
    },
    {
      "cell_type": "code",
      "metadata": {
        "id": "Qy_HOwQzbTS9",
        "outputId": "db9712de-2307-4dc6-dff7-fdcee8363baf",
        "colab": {
          "base_uri": "https://localhost:8080/"
        }
      },
      "source": [
        "x_dim = 2\n",
        "hidden_dim = 256\n",
        "n_layers = 3\n",
        "s_last_activation = 'tanh'\n",
        "t_last_activation = 'none'\n",
        "\n",
        "# a function that take no arguments and return a pytorch model, dim(X) -> dim(X)\n",
        "nets = partial(\n",
        "    get_net, x_dim=x_dim, hidden_dim=hidden_dim,\n",
        "    n_layers=n_layers, last_activation=s_last_activation\n",
        ")\n",
        "# a function that take no arguments and return a pytorch model, dim(X) -> dim(X)\n",
        "nett = partial(\n",
        "    get_net, x_dim=x_dim, hidden_dim=hidden_dim,\n",
        "    n_layers=n_layers, last_activation=t_last_activation\n",
        ")\n",
        "\n",
        "# Check nets and nett are working i.e., computing without errors\n",
        "# Check that resulting dimensions s and t are the same and equal dim(X)\n",
        "# ❗️ Very important to make outputs of nets bounded due to exp (e.g. use nn.Tanh() as the last layer)\n",
        "# ❗️ Don't be afraid to go too large, 3-4 not very small linear layers should work fine\n",
        "# ❗️ Init of parameters matters, try different ones\n",
        "batch_size = 5\n",
        "batch = torch.randn((batch_size, x_dim))\n",
        "s = nets()\n",
        "t = nett()\n",
        "\n",
        "print('in shape:', batch.shape, 's out shape', s(batch).shape)\n",
        "print('in shape:', batch.shape, 't out shape', t(batch).shape)"
      ],
      "execution_count": 4,
      "outputs": [
        {
          "output_type": "stream",
          "name": "stdout",
          "text": [
            "in shape: torch.Size([5, 2]) s out shape torch.Size([5, 2])\n",
            "in shape: torch.Size([5, 2]) t out shape torch.Size([5, 2])\n"
          ]
        }
      ]
    },
    {
      "cell_type": "code",
      "source": [
        "def get_masks(number_of_coupling_layers=6):\n",
        "    masks = [[i % 2, (i + 1) % 2] for i in range(number_of_coupling_layers)]\n",
        "    return torch.tensor(masks, dtype=torch.float32)"
      ],
      "metadata": {
        "id": "6NhEmpwooV37"
      },
      "execution_count": 5,
      "outputs": []
    },
    {
      "cell_type": "code",
      "metadata": {
        "id": "ckUHr3ZTbTTA",
        "colab": {
          "base_uri": "https://localhost:8080/"
        },
        "outputId": "21a5bba7-41aa-4c63-bbc7-e2b439aa8e82"
      },
      "source": [
        "# torch.Tensor of size #number_of_coupling_layers x #dim(X)\n",
        "# number_of_coupling_layers like 6+ should works fine\n",
        "# Check that when dim(X) == 2, the mask for every layer has just one 1.0 and one 0.0 elements.\n",
        "number_of_coupling_layers = 6\n",
        "masks = get_masks(number_of_coupling_layers=number_of_coupling_layers)\n",
        "print(f'true masks shape {(number_of_coupling_layers, x_dim)}')\n",
        "print(f'masks shape {masks.shape}')"
      ],
      "execution_count": 6,
      "outputs": [
        {
          "output_type": "stream",
          "name": "stdout",
          "text": [
            "true masks shape (6, 2)\n",
            "masks shape torch.Size([6, 2])\n"
          ]
        }
      ]
    },
    {
      "cell_type": "code",
      "metadata": {
        "id": "Ov8AduZnbTTC",
        "colab": {
          "base_uri": "https://localhost:8080/"
        },
        "outputId": "62b12fb5-020f-43e1-8078-4ebea47a2274"
      },
      "source": [
        "x_dim = 2\n",
        "prior = MultivariateNormal(torch.zeros(x_dim, device=device), torch.eye(x_dim, device=device))\n",
        "# Check that prior has log_prob and sample methods\n",
        "n_samples = 5\n",
        "samples = prior.sample((n_samples,))\n",
        "log_p = prior.log_prob(samples)\n",
        "print('samples shape', samples.shape)\n",
        "print('samples log prob', log_p.cpu().numpy())"
      ],
      "execution_count": 7,
      "outputs": [
        {
          "output_type": "stream",
          "name": "stdout",
          "text": [
            "samples shape torch.Size([5, 2])\n",
            "samples log prob [-2.1889951 -3.1536899 -2.1039255 -2.5545425 -2.055214 ]\n"
          ]
        }
      ]
    },
    {
      "cell_type": "code",
      "metadata": {
        "id": "J6YPmM_3bTTE",
        "outputId": "14e2bd8c-5b18-4218-87cf-0112381cb6a9",
        "colab": {
          "base_uri": "https://localhost:8080/"
        }
      },
      "source": [
        "flow = RealNVP(nets, nett, masks, prior).to(device)\n",
        "# Check that a flow is reversible g(f(x)) = x\n",
        "# With a big chance you have some errors in RealNVP.log_prob, think hard on it.\n",
        "batch_size = 5\n",
        "x = prior.sample((batch_size,))\n",
        "z, _ = flow.f(x)\n",
        "inverse_x = flow.g(z)\n",
        "print('Is flow reversible g(f(x)) = x?', torch.isclose(x, inverse_x).all().item())\n",
        "print('flow log prob:', flow.log_prob(x).detach().cpu().numpy())\n",
        "# не равны, так как модель не обучена под распределение x\n",
        "print('prior log prob:', prior.log_prob(x).cpu().numpy())"
      ],
      "execution_count": 8,
      "outputs": [
        {
          "output_type": "stream",
          "name": "stdout",
          "text": [
            "Is flow reversible g(f(x)) = x? True\n",
            "flow log prob: [-2.3637075 -3.6091352 -2.1783893 -2.1012743 -1.8343948]\n",
            "prior log prob: [-2.2450094 -3.0957112 -2.3481045 -2.3332086 -2.0061026]\n"
          ]
        }
      ]
    },
    {
      "cell_type": "code",
      "metadata": {
        "id": "vb80JOSSbTTG",
        "outputId": "07de2e14-2834-46d3-b86a-52aa107fe138",
        "colab": {
          "base_uri": "https://localhost:8080/"
        }
      },
      "source": [
        "trainable_parameters = flow.parameters\n",
        "optimizer = torch.optim.Adam(trainable_parameters(), lr = 1e-3)\n",
        "\n",
        "for t in range(5001):    \n",
        "    noisy_moons = datasets.make_moons(n_samples=100, noise=.05)\n",
        "    batch = torch.tensor(\n",
        "        noisy_moons[0],\n",
        "        dtype=torch.float32,\n",
        "        device=device\n",
        "    )\n",
        "    loss = -flow.log_prob(batch).mean() # compute the maximum-likelihood loss\n",
        "\n",
        "    optimizer.zero_grad()\n",
        "    loss.backward()\n",
        "    optimizer.step()\n",
        "    \n",
        "    if t % 500 == 0:\n",
        "        print('iter %s:' % t, 'loss = %.3f' % loss)\n",
        "        \n",
        "# Check that the loss decreases\n",
        "# Is the visualization below good?"
      ],
      "execution_count": 9,
      "outputs": [
        {
          "output_type": "stream",
          "name": "stdout",
          "text": [
            "iter 0: loss = 2.434\n",
            "iter 500: loss = 0.589\n",
            "iter 1000: loss = 0.373\n",
            "iter 1500: loss = 0.588\n",
            "iter 2000: loss = 0.438\n",
            "iter 2500: loss = 0.484\n",
            "iter 3000: loss = 0.346\n",
            "iter 3500: loss = 0.434\n",
            "iter 4000: loss = 0.545\n",
            "iter 4500: loss = 0.318\n",
            "iter 5000: loss = 0.396\n"
          ]
        }
      ]
    },
    {
      "cell_type": "markdown",
      "metadata": {
        "id": "6hOxCpXYbTTJ"
      },
      "source": [
        "# Visualization"
      ]
    },
    {
      "cell_type": "markdown",
      "metadata": {
        "id": "Gz5YG8FNbTTN"
      },
      "source": [
        "Draw several plots: \n",
        "- samples from flow\n",
        "- samples from prior\n",
        "- data samples\n",
        "- mapping form data to prior\n",
        "\n",
        "The goal is to obtain figure similar to https://arxiv.org/abs/1605.08803"
      ]
    },
    {
      "cell_type": "code",
      "metadata": {
        "id": "qbhwTtHjpHC9",
        "outputId": "0c9885f3-3632-42d6-8d2b-3161f014b5fd",
        "colab": {
          "base_uri": "https://localhost:8080/",
          "height": 300
        }
      },
      "source": [
        "noisy_moons = datasets.make_moons(n_samples=1000, noise=.05)\n",
        "batch = torch.tensor(\n",
        "      noisy_moons[0],\n",
        "      dtype=torch.float32,\n",
        "      device=device\n",
        "  )\n",
        "z = flow.f(batch)[0].detach().cpu().numpy()\n",
        "plt.subplot(221)\n",
        "plt.scatter(z[:, 0], z[:, 1])\n",
        "plt.title(r'$z = f(X)$')\n",
        "\n",
        "z = np.random.multivariate_normal(np.zeros(2), np.eye(2), 1000)\n",
        "plt.subplot(222)\n",
        "plt.scatter(z[:, 0], z[:, 1])\n",
        "plt.title(r'$z \\sim p(z)$')\n",
        "\n",
        "plt.subplot(223)\n",
        "x = datasets.make_moons(n_samples=1000, noise=.05)[0].astype(np.float32)\n",
        "plt.scatter(x[:, 0], x[:, 1], c='r')\n",
        "plt.title(r'$X \\sim p(X)$')\n",
        "\n",
        "plt.subplot(224)\n",
        "x = flow.sample(1000)\n",
        "plt.scatter(x[:, 0, 0], x[:, 0, 1], c='r')\n",
        "plt.title(r'$X = g(z)$')"
      ],
      "execution_count": 10,
      "outputs": [
        {
          "output_type": "execute_result",
          "data": {
            "text/plain": [
              "Text(0.5, 1.0, '$X = g(z)$')"
            ]
          },
          "metadata": {},
          "execution_count": 10
        },
        {
          "output_type": "display_data",
          "data": {
            "text/plain": [
              "<Figure size 432x288 with 4 Axes>"
            ],
            "image/png": "[encoded data removed]"
          },
          "metadata": {
            "needs_background": "light"
          }
        }
      ]
    },
    {
      "cell_type": "markdown",
      "metadata": {
        "id": "atnq5yzPbTTN"
      },
      "source": [
        "## Provide answers for the folowing questions:"
      ]
    },
    {
      "cell_type": "code",
      "source": [
        "def get_flow_model(\n",
        "    x_dim=2, hidden_dim=256, n_layers=3, \n",
        "    s_last_activation='tanh', t_last_activation='none',\n",
        "    number_of_coupling_layers=6, device=device):\n",
        "\n",
        "    nets = partial(\n",
        "        get_net, x_dim=x_dim, hidden_dim=hidden_dim,\n",
        "        n_layers=n_layers, last_activation=s_last_activation\n",
        "    )\n",
        "    nett = partial(\n",
        "        get_net, x_dim=x_dim, hidden_dim=hidden_dim,\n",
        "        n_layers=n_layers, last_activation=t_last_activation\n",
        "    )\n",
        "\n",
        "    masks = get_masks(number_of_coupling_layers=number_of_coupling_layers)\n",
        "    prior = MultivariateNormal(torch.zeros(x_dim, device=device), torch.eye(x_dim, device=device))\n",
        "\n",
        "    return RealNVP(nets, nett, masks, prior).to(device)"
      ],
      "metadata": {
        "id": "tOIUQOZDTdKq"
      },
      "execution_count": 11,
      "outputs": []
    },
    {
      "cell_type": "code",
      "source": [
        "# проверка с изначальными параметрами\n",
        "args = {\n",
        "    'x_dim': 2,\n",
        "    'hidden_dim': 256,\n",
        "    'n_layers': 3,\n",
        "    's_last_activation': 'tanh',\n",
        "    't_last_activation': 'none',\n",
        "    'number_of_coupling_layers': 6,\n",
        "    'device': torch.device(\"cuda\" if torch.cuda.is_available() else \"cpu\")\n",
        "}\n",
        "\n",
        "train_args = {\n",
        "    'batch_size': 100,\n",
        "    'steps': 5001,\n",
        "    'lr': 1e-3\n",
        "}"
      ],
      "metadata": {
        "id": "vO2RBjXfV-rB"
      },
      "execution_count": 12,
      "outputs": []
    },
    {
      "cell_type": "code",
      "source": [
        "flow = get_flow_model(**args)\n",
        "flow.fit(**train_args)\n",
        "flow.visualization(n_samples=1000)"
      ],
      "metadata": {
        "colab": {
          "base_uri": "https://localhost:8080/",
          "height": 828,
          "referenced_widgets": [
            "8b37ca0e65bd4d3eab543e496c5d0ff3",
            "0c91777d7e7445bfaea8355bf3f191ec",
            "ba40ea7a19d849dcb557fe7826d332ae",
            "0a9121b814214d78950ff01295c95e5f",
            "c97d6ab782034759a2a4e6372adc340a",
            "a8418812dddd4e41bb2bf102bb9f3b73",
            "3343d599bd2242d9b6af3471e305d0b4",
            "7517fafa5c894d5f88fcc297188fcb24",
            "9a3ce068bbdf42a2b58f622a0d0f7147",
            "27ec92385744414c9735bccbd40532c7",
            "5d6af822422b47d9846de6351200e44d"
          ]
        },
        "id": "ilmIG26eVyrA",
        "outputId": "f7a8bf10-c77c-4ad8-bf33-d0a8214330ee"
      },
      "execution_count": 13,
      "outputs": [
        {
          "output_type": "display_data",
          "data": {
            "text/plain": [
              "Tranning:   0%|          | 0/5001 [00:00<?, ?it/s]"
            ],
            "application/vnd.jupyter.widget-view+json": {
              "version_major": 2,
              "version_minor": 0,
              "model_id": "8b37ca0e65bd4d3eab543e496c5d0ff3"
            }
          },
          "metadata": {}
        },
        {
          "output_type": "stream",
          "name": "stdout",
          "text": [
            "iter 0: loss = 2.316\n",
            "iter 500: loss = 0.555\n",
            "iter 1000: loss = 0.516\n",
            "iter 1500: loss = 0.617\n",
            "iter 2000: loss = 0.532\n",
            "iter 2500: loss = 0.489\n",
            "iter 3000: loss = 0.599\n",
            "iter 3500: loss = 0.517\n",
            "iter 4000: loss = 0.569\n",
            "iter 4500: loss = 0.508\n",
            "iter 5000: loss = 0.457\n"
          ]
        },
        {
          "output_type": "display_data",
          "data": {
            "text/plain": [
              "<Figure size 720x720 with 4 Axes>"
            ],
            "image/png": "[encoded data removed]"
          },
          "metadata": {
            "needs_background": "light"
          }
        }
      ]
    },
    {
      "cell_type": "code",
      "source": [
        "# увеличим количество слоев (тогда и шагов надо сделать больше)\n",
        "args['n_layers'] = 5\n",
        "train_args['steps'] = 10001\n",
        "\n",
        "flow = get_flow_model(**args)\n",
        "flow.fit(**train_args)\n",
        "flow.visualization(n_samples=1000)\n",
        "train_args['steps'] = 5001"
      ],
      "metadata": {
        "colab": {
          "base_uri": "https://localhost:8080/",
          "height": 998,
          "referenced_widgets": [
            "b78b6b2bf9714b87ad07cd7c8f885a2d",
            "7a22ac1632354a888b52ef78daa7773b",
            "c7d886afed8f45b995b1a67efabb1e36",
            "bc6ee966b4dc4cc189c2c3f80cecf663",
            "7241796c9b9148209de04bd2814a413c",
            "b328f14909f54c08bcf49d4fc0d7692e",
            "bc93cfcdd31c413f99644777f5f6844d",
            "2cf76c730f2f44cc87d948bce89fd740",
            "94293109f57344c8a6da7cac81a2b327",
            "0ed5015c55944e4b9af41682a9ddd311",
            "5d1f8d6d00d1460880868bf5a80668aa"
          ]
        },
        "id": "x42tMWD_QepW",
        "outputId": "b2552595-7875-4f5f-9941-a9d1c6229122"
      },
      "execution_count": 21,
      "outputs": [
        {
          "output_type": "display_data",
          "data": {
            "text/plain": [
              "Tranning:   0%|          | 0/10001 [00:00<?, ?it/s]"
            ],
            "application/vnd.jupyter.widget-view+json": {
              "version_major": 2,
              "version_minor": 0,
              "model_id": "b78b6b2bf9714b87ad07cd7c8f885a2d"
            }
          },
          "metadata": {}
        },
        {
          "output_type": "stream",
          "name": "stdout",
          "text": [
            "iter 0: loss = 2.491\n",
            "iter 500: loss = 1.253\n",
            "iter 1000: loss = 0.661\n",
            "iter 1500: loss = 0.593\n",
            "iter 2000: loss = 0.749\n",
            "iter 2500: loss = 0.547\n",
            "iter 3000: loss = 0.509\n",
            "iter 3500: loss = 0.408\n",
            "iter 4000: loss = 0.673\n",
            "iter 4500: loss = 0.569\n",
            "iter 5000: loss = 0.599\n",
            "iter 5500: loss = 0.435\n",
            "iter 6000: loss = 0.591\n",
            "iter 6500: loss = 0.563\n",
            "iter 7000: loss = 0.439\n",
            "iter 7500: loss = 0.427\n",
            "iter 8000: loss = 0.479\n",
            "iter 8500: loss = 0.617\n",
            "iter 9000: loss = 0.727\n",
            "iter 9500: loss = 0.574\n",
            "iter 10000: loss = 0.566\n"
          ]
        },
        {
          "output_type": "display_data",
          "data": {
            "text/plain": [
              "<Figure size 720x720 with 4 Axes>"
            ],
            "image/png": "[encoded data removed]"
          },
          "metadata": {
            "needs_background": "light"
          }
        }
      ]
    },
    {
      "cell_type": "code",
      "source": [
        "# увеличим количество масок \n",
        "args['n_layers'] = 3\n",
        "args['number_of_coupling_layers'] = 9\n",
        "\n",
        "flow = get_flow_model(**args)\n",
        "flow.fit(**train_args)\n",
        "flow.visualization(n_samples=1000)"
      ],
      "metadata": {
        "colab": {
          "base_uri": "https://localhost:8080/",
          "height": 100,
          "referenced_widgets": [
            "0da6959fef7c4c23b4977008eb933374",
            "1b6ccabfb36a4b6cb1667731ebed475c",
            "68af94982bae48d78ec6da2843310d42",
            "e1f4a179f1674934be83c5c6d8206db6",
            "f044c7f0ff7949e78ff9a70339afff28",
            "13a3951fcaa549448d10ab551e0bdcde",
            "e58656f759874b86a1011993875dd30b",
            "3d1e9c7ec14049b3bbd94bb6dcf97399",
            "1e636f941f074237b642ae7ea2f6cc9f",
            "e881353bf0b041deac46acbe7b862ffc",
            "17df99239c0246e1b9db57fa637c5a4f"
          ]
        },
        "id": "xZsJDHYRUilC",
        "outputId": "c8929d0a-6504-4f37-a389-5c6c2a009fa3"
      },
      "execution_count": null,
      "outputs": [
        {
          "output_type": "display_data",
          "data": {
            "text/plain": [
              "Tranning:   0%|          | 0/5001 [00:00<?, ?it/s]"
            ],
            "application/vnd.jupyter.widget-view+json": {
              "version_major": 2,
              "version_minor": 0,
              "model_id": "0da6959fef7c4c23b4977008eb933374"
            }
          },
          "metadata": {}
        },
        {
          "output_type": "stream",
          "name": "stdout",
          "text": [
            "iter 0: loss = 2.382\n",
            "iter 500: loss = 0.593\n",
            "iter 1000: loss = 0.683\n"
          ]
        }
      ]
    },
    {
      "cell_type": "code",
      "source": [
        "# попробуем убрать тангенс\n",
        "args['n_layers'] = 3\n",
        "args['number_of_coupling_layers'] = 6\n",
        "args['s_last_activation'] = 'none'\n",
        "\n",
        "\n",
        "flow = get_flow_model(**args)\n",
        "flow.fit(**train_args)\n",
        "flow.visualization(n_samples=1000)"
      ],
      "metadata": {
        "colab": {
          "base_uri": "https://localhost:8080/",
          "height": 828,
          "referenced_widgets": [
            "9d71a3a6ea5c49bb995f4564338d800e",
            "4cd1277cbc0541f9968a13ff9533e8f5",
            "234e5f68b72e4360ae7a32ef6b0946e4",
            "efabbbd22c0342f79358c9702ebd0a82",
            "ae2cb8acb63148659f74fca8e2d8400a",
            "c8ec81efb8494e67b003770cce0561ff",
            "888c51668b7d41c5842101f36d236536",
            "1e7cc9723aba4036b1a1b0590a19bb41",
            "4765e1e2719c4b53a7ee4026ef4072ba",
            "039ec99d75fa4930815b2d1c1f70a291",
            "66b90924d51d4b4cba18aba0bfd73257"
          ]
        },
        "id": "prFDbwR_YJYz",
        "outputId": "55cd0dd3-476a-4f28-ab22-24ca3444b424"
      },
      "execution_count": 16,
      "outputs": [
        {
          "output_type": "display_data",
          "data": {
            "text/plain": [
              "Tranning:   0%|          | 0/5001 [00:00<?, ?it/s]"
            ],
            "application/vnd.jupyter.widget-view+json": {
              "version_major": 2,
              "version_minor": 0,
              "model_id": "9d71a3a6ea5c49bb995f4564338d800e"
            }
          },
          "metadata": {}
        },
        {
          "output_type": "stream",
          "name": "stdout",
          "text": [
            "iter 0: loss = 2.558\n",
            "iter 500: loss = 1.095\n",
            "iter 1000: loss = 0.825\n",
            "iter 1500: loss = 0.735\n",
            "iter 2000: loss = 0.639\n",
            "iter 2500: loss = 0.541\n",
            "iter 3000: loss = 0.510\n",
            "iter 3500: loss = 0.676\n",
            "iter 4000: loss = 0.428\n",
            "iter 4500: loss = 0.476\n",
            "iter 5000: loss = 0.531\n"
          ]
        },
        {
          "output_type": "display_data",
          "data": {
            "text/plain": [
              "<Figure size 720x720 with 4 Axes>"
            ],
            "image/png": "[encoded data removed]"
          },
          "metadata": {
            "needs_background": "light"
          }
        }
      ]
    },
    {
      "cell_type": "code",
      "source": [
        "#добавим ограничение на смещение\n",
        "args['n_layers'] = 3\n",
        "args['number_of_coupling_layers'] = 6\n",
        "args['s_last_activation'] = 'tanh'\n",
        "args['t_last_activation'] = 'tanh'\n",
        "\n",
        "\n",
        "flow = get_flow_model(**args)\n",
        "flow.fit(**train_args)\n",
        "flow.visualization(n_samples=1000)"
      ],
      "metadata": {
        "colab": {
          "base_uri": "https://localhost:8080/",
          "height": 828,
          "referenced_widgets": [
            "21e4f0b2a221451dbaf925731207a5f3",
            "2b858a3fb27a41faa8db65c437e980b6",
            "0d7b3122939342afa1c3b1011bdb7b14",
            "af3db03675dd46a2ab02c36a731a5cef",
            "40e194b7fa1e4975a5a81b86069b8a42",
            "57dc056a746c481096aa37bc104379f4",
            "365b4b556a924ab1bede5b4492b5a9a7",
            "b8a81309223849fba7e3cff122eb9c3b",
            "eae101de68464eb9a6d6854e1146451f",
            "4c90652dc3a74a0b8eef9a7d226da6af",
            "16b3988e33e04023aa79d8cc5499137e"
          ]
        },
        "id": "eHI8-80GaQYl",
        "outputId": "77d52f65-5ce2-4cb7-ca1d-7426554aedd6"
      },
      "execution_count": 18,
      "outputs": [
        {
          "output_type": "display_data",
          "data": {
            "text/plain": [
              "Tranning:   0%|          | 0/5001 [00:00<?, ?it/s]"
            ],
            "application/vnd.jupyter.widget-view+json": {
              "version_major": 2,
              "version_minor": 0,
              "model_id": "21e4f0b2a221451dbaf925731207a5f3"
            }
          },
          "metadata": {}
        },
        {
          "output_type": "stream",
          "name": "stdout",
          "text": [
            "iter 0: loss = 2.668\n",
            "iter 500: loss = 0.531\n",
            "iter 1000: loss = 0.508\n",
            "iter 1500: loss = 0.611\n",
            "iter 2000: loss = 0.480\n",
            "iter 2500: loss = 0.791\n",
            "iter 3000: loss = 0.409\n",
            "iter 3500: loss = 0.431\n",
            "iter 4000: loss = 0.455\n",
            "iter 4500: loss = 0.472\n",
            "iter 5000: loss = 0.505\n"
          ]
        },
        {
          "output_type": "display_data",
          "data": {
            "text/plain": [
              "<Figure size 720x720 with 4 Axes>"
            ],
            "image/png": "[encoded data removed]"
          },
          "metadata": {
            "needs_background": "light"
          }
        }
      ]
    },
    {
      "cell_type": "markdown",
      "metadata": {
        "id": "HcEgstlZbTTP"
      },
      "source": [
        "1. What architecture worked better in your experiments?\n",
        "\n",
        "\n",
        "**Your answer with justification**\n"
      ]
    },
    {
      "cell_type": "markdown",
      "metadata": {
        "id": "E8Jg4GGgbTTQ"
      },
      "source": [
        "2. Did you find what is important for stable training (initializations, nonlinearities, ...)?\n",
        "\n",
        "\n",
        "**Your answer with justification**\n"
      ]
    },
    {
      "cell_type": "markdown",
      "metadata": {
        "id": "LttbxRD1bTTQ"
      },
      "source": [
        "3. How convergence speed (in iterations) depends on the complexity of architecture?\n",
        "\n",
        "\n",
        "**Your answer with justification**\n"
      ]
    },
    {
      "cell_type": "markdown",
      "metadata": {
        "id": "nJZuZwn5bTTR"
      },
      "source": [
        "# Optional Research Assignments:"
      ]
    },
    {
      "cell_type": "markdown",
      "metadata": {
        "id": "fiQecpiKbTTS"
      },
      "source": [
        "This assignment is optional. It will give you up to 2 additional points for one of the assignments.   \n",
        "#### 1. VAE: \n",
        "Use normalizing flow to get more expressive $q(z\\,|\\,x)$,  https://arxiv.org/abs/1505.05770. TL;dr; use decoder to predict $z_0 \\sim q_0(z_0|x)$, then use NF to obtain $z_k = f_k \\circ \\dots \\circ f_1(z)$ sample from a more flexible distribution. Compare it with a conventional normal distribution, what is working better? Compare it with conventional VAE  that uses the same number of parameters as VAE with NF.\n",
        "\n",
        "#### 2. More complex data: \n",
        "Train NFs for a more complex dataset e.g. MNIST (downscale is possible), make samples look reasonable e.g., solid fraction of samples can be recognized as a valid digits. Worth to use Conv2d layers for s and t.\n"
      ]
    },
    {
      "cell_type": "code",
      "metadata": {
        "id": "S2y9MeyJbTTV"
      },
      "source": [
        ""
      ],
      "execution_count": null,
      "outputs": []
    }
  ]
}