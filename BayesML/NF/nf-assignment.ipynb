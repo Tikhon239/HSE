{
  "nbformat": 4,
  "nbformat_minor": 0,
  "metadata": {
    "colab": {
      "name": "nf-assignment.ipynb",
      "provenance": [],
      "collapsed_sections": []
    },
    "kernelspec": {
      "display_name": "Python 3",
      "language": "python",
      "name": "python3"
    },
    "language_info": {
      "codemirror_mode": {
        "name": "ipython",
        "version": 3
      },
      "file_extension": ".py",
      "mimetype": "text/x-python",
      "name": "python",
      "nbconvert_exporter": "python",
      "pygments_lexer": "ipython3",
      "version": "3.7.3"
    },
    "accelerator": "GPU",
    "widgets": {
      "application/vnd.jupyter.widget-state+json": {
        "8b37ca0e65bd4d3eab543e496c5d0ff3": {
          "model_module": "@jupyter-widgets/controls",
          "model_name": "HBoxModel",
          "model_module_version": "1.5.0",
          "state": {
            "_dom_classes": [],
            "_model_module": "@jupyter-widgets/controls",
            "_model_module_version": "1.5.0",
            "_model_name": "HBoxModel",
            "_view_count": null,
            "_view_module": "@jupyter-widgets/controls",
            "_view_module_version": "1.5.0",
            "_view_name": "HBoxView",
            "box_style": "",
            "children": [
              "IPY_MODEL_0c91777d7e7445bfaea8355bf3f191ec",
              "IPY_MODEL_ba40ea7a19d849dcb557fe7826d332ae",
              "IPY_MODEL_0a9121b814214d78950ff01295c95e5f"
            ],
            "layout": "IPY_MODEL_c97d6ab782034759a2a4e6372adc340a"
          }
        },
        "0c91777d7e7445bfaea8355bf3f191ec": {
          "model_module": "@jupyter-widgets/controls",
          "model_name": "HTMLModel",
          "model_module_version": "1.5.0",
          "state": {
            "_dom_classes": [],
            "_model_module": "@jupyter-widgets/controls",
            "_model_module_version": "1.5.0",
            "_model_name": "HTMLModel",
            "_view_count": null,
            "_view_module": "@jupyter-widgets/controls",
            "_view_module_version": "1.5.0",
            "_view_name": "HTMLView",
            "description": "",
            "description_tooltip": null,
            "layout": "IPY_MODEL_a8418812dddd4e41bb2bf102bb9f3b73",
            "placeholder": "​",
            "style": "IPY_MODEL_3343d599bd2242d9b6af3471e305d0b4",
            "value": "Tranning: 100%"
          }
        },
        "ba40ea7a19d849dcb557fe7826d332ae": {
          "model_module": "@jupyter-widgets/controls",
          "model_name": "FloatProgressModel",
          "model_module_version": "1.5.0",
          "state": {
            "_dom_classes": [],
            "_model_module": "@jupyter-widgets/controls",
            "_model_module_version": "1.5.0",
            "_model_name": "FloatProgressModel",
            "_view_count": null,
            "_view_module": "@jupyter-widgets/controls",
            "_view_module_version": "1.5.0",
            "_view_name": "ProgressView",
            "bar_style": "success",
            "description": "",
            "description_tooltip": null,
            "layout": "IPY_MODEL_7517fafa5c894d5f88fcc297188fcb24",
            "max": 5001,
            "min": 0,
            "orientation": "horizontal",
            "style": "IPY_MODEL_9a3ce068bbdf42a2b58f622a0d0f7147",
            "value": 5001
          }
        },
        "0a9121b814214d78950ff01295c95e5f": {
          "model_module": "@jupyter-widgets/controls",
          "model_name": "HTMLModel",
          "model_module_version": "1.5.0",
          "state": {
            "_dom_classes": [],
            "_model_module": "@jupyter-widgets/controls",
            "_model_module_version": "1.5.0",
            "_model_name": "HTMLModel",
            "_view_count": null,
            "_view_module": "@jupyter-widgets/controls",
            "_view_module_version": "1.5.0",
            "_view_name": "HTMLView",
            "description": "",
            "description_tooltip": null,
            "layout": "IPY_MODEL_27ec92385744414c9735bccbd40532c7",
            "placeholder": "​",
            "style": "IPY_MODEL_5d6af822422b47d9846de6351200e44d",
            "value": " 5001/5001 [01:48&lt;00:00, 46.60it/s]"
          }
        },
        "c97d6ab782034759a2a4e6372adc340a": {
          "model_module": "@jupyter-widgets/base",
          "model_name": "LayoutModel",
          "model_module_version": "1.2.0",
          "state": {
            "_model_module": "@jupyter-widgets/base",
            "_model_module_version": "1.2.0",
            "_model_name": "LayoutModel",
            "_view_count": null,
            "_view_module": "@jupyter-widgets/base",
            "_view_module_version": "1.2.0",
            "_view_name": "LayoutView",
            "align_content": null,
            "align_items": null,
            "align_self": null,
            "border": null,
            "bottom": null,
            "display": null,
            "flex": null,
            "flex_flow": null,
            "grid_area": null,
            "grid_auto_columns": null,
            "grid_auto_flow": null,
            "grid_auto_rows": null,
            "grid_column": null,
            "grid_gap": null,
            "grid_row": null,
            "grid_template_areas": null,
            "grid_template_columns": null,
            "grid_template_rows": null,
            "height": null,
            "justify_content": null,
            "justify_items": null,
            "left": null,
            "margin": null,
            "max_height": null,
            "max_width": null,
            "min_height": null,
            "min_width": null,
            "object_fit": null,
            "object_position": null,
            "order": null,
            "overflow": null,
            "overflow_x": null,
            "overflow_y": null,
            "padding": null,
            "right": null,
            "top": null,
            "visibility": null,
            "width": null
          }
        },
        "a8418812dddd4e41bb2bf102bb9f3b73": {
          "model_module": "@jupyter-widgets/base",
          "model_name": "LayoutModel",
          "model_module_version": "1.2.0",
          "state": {
            "_model_module": "@jupyter-widgets/base",
            "_model_module_version": "1.2.0",
            "_model_name": "LayoutModel",
            "_view_count": null,
            "_view_module": "@jupyter-widgets/base",
            "_view_module_version": "1.2.0",
            "_view_name": "LayoutView",
            "align_content": null,
            "align_items": null,
            "align_self": null,
            "border": null,
            "bottom": null,
            "display": null,
            "flex": null,
            "flex_flow": null,
            "grid_area": null,
            "grid_auto_columns": null,
            "grid_auto_flow": null,
            "grid_auto_rows": null,
            "grid_column": null,
            "grid_gap": null,
            "grid_row": null,
            "grid_template_areas": null,
            "grid_template_columns": null,
            "grid_template_rows": null,
            "height": null,
            "justify_content": null,
            "justify_items": null,
            "left": null,
            "margin": null,
            "max_height": null,
            "max_width": null,
            "min_height": null,
            "min_width": null,
            "object_fit": null,
            "object_position": null,
            "order": null,
            "overflow": null,
            "overflow_x": null,
            "overflow_y": null,
            "padding": null,
            "right": null,
            "top": null,
            "visibility": null,
            "width": null
          }
        },
        "3343d599bd2242d9b6af3471e305d0b4": {
          "model_module": "@jupyter-widgets/controls",
          "model_name": "DescriptionStyleModel",
          "model_module_version": "1.5.0",
          "state": {
            "_model_module": "@jupyter-widgets/controls",
            "_model_module_version": "1.5.0",
            "_model_name": "DescriptionStyleModel",
            "_view_count": null,
            "_view_module": "@jupyter-widgets/base",
            "_view_module_version": "1.2.0",
            "_view_name": "StyleView",
            "description_width": ""
          }
        },
        "7517fafa5c894d5f88fcc297188fcb24": {
          "model_module": "@jupyter-widgets/base",
          "model_name": "LayoutModel",
          "model_module_version": "1.2.0",
          "state": {
            "_model_module": "@jupyter-widgets/base",
            "_model_module_version": "1.2.0",
            "_model_name": "LayoutModel",
            "_view_count": null,
            "_view_module": "@jupyter-widgets/base",
            "_view_module_version": "1.2.0",
            "_view_name": "LayoutView",
            "align_content": null,
            "align_items": null,
            "align_self": null,
            "border": null,
            "bottom": null,
            "display": null,
            "flex": null,
            "flex_flow": null,
            "grid_area": null,
            "grid_auto_columns": null,
            "grid_auto_flow": null,
            "grid_auto_rows": null,
            "grid_column": null,
            "grid_gap": null,
            "grid_row": null,
            "grid_template_areas": null,
            "grid_template_columns": null,
            "grid_template_rows": null,
            "height": null,
            "justify_content": null,
            "justify_items": null,
            "left": null,
            "margin": null,
            "max_height": null,
            "max_width": null,
            "min_height": null,
            "min_width": null,
            "object_fit": null,
            "object_position": null,
            "order": null,
            "overflow": null,
            "overflow_x": null,
            "overflow_y": null,
            "padding": null,
            "right": null,
            "top": null,
            "visibility": null,
            "width": null
          }
        },
        "9a3ce068bbdf42a2b58f622a0d0f7147": {
          "model_module": "@jupyter-widgets/controls",
          "model_name": "ProgressStyleModel",
          "model_module_version": "1.5.0",
          "state": {
            "_model_module": "@jupyter-widgets/controls",
            "_model_module_version": "1.5.0",
            "_model_name": "ProgressStyleModel",
            "_view_count": null,
            "_view_module": "@jupyter-widgets/base",
            "_view_module_version": "1.2.0",
            "_view_name": "StyleView",
            "bar_color": null,
            "description_width": ""
          }
        },
        "27ec92385744414c9735bccbd40532c7": {
          "model_module": "@jupyter-widgets/base",
          "model_name": "LayoutModel",
          "model_module_version": "1.2.0",
          "state": {
            "_model_module": "@jupyter-widgets/base",
            "_model_module_version": "1.2.0",
            "_model_name": "LayoutModel",
            "_view_count": null,
            "_view_module": "@jupyter-widgets/base",
            "_view_module_version": "1.2.0",
            "_view_name": "LayoutView",
            "align_content": null,
            "align_items": null,
            "align_self": null,
            "border": null,
            "bottom": null,
            "display": null,
            "flex": null,
            "flex_flow": null,
            "grid_area": null,
            "grid_auto_columns": null,
            "grid_auto_flow": null,
            "grid_auto_rows": null,
            "grid_column": null,
            "grid_gap": null,
            "grid_row": null,
            "grid_template_areas": null,
            "grid_template_columns": null,
            "grid_template_rows": null,
            "height": null,
            "justify_content": null,
            "justify_items": null,
            "left": null,
            "margin": null,
            "max_height": null,
            "max_width": null,
            "min_height": null,
            "min_width": null,
            "object_fit": null,
            "object_position": null,
            "order": null,
            "overflow": null,
            "overflow_x": null,
            "overflow_y": null,
            "padding": null,
            "right": null,
            "top": null,
            "visibility": null,
            "width": null
          }
        },
        "5d6af822422b47d9846de6351200e44d": {
          "model_module": "@jupyter-widgets/controls",
          "model_name": "DescriptionStyleModel",
          "model_module_version": "1.5.0",
          "state": {
            "_model_module": "@jupyter-widgets/controls",
            "_model_module_version": "1.5.0",
            "_model_name": "DescriptionStyleModel",
            "_view_count": null,
            "_view_module": "@jupyter-widgets/base",
            "_view_module_version": "1.2.0",
            "_view_name": "StyleView",
            "description_width": ""
          }
        },
        "0f99b250e9dd4ac7863507559c2007d9": {
          "model_module": "@jupyter-widgets/controls",
          "model_name": "HBoxModel",
          "model_module_version": "1.5.0",
          "state": {
            "_dom_classes": [],
            "_model_module": "@jupyter-widgets/controls",
            "_model_module_version": "1.5.0",
            "_model_name": "HBoxModel",
            "_view_count": null,
            "_view_module": "@jupyter-widgets/controls",
            "_view_module_version": "1.5.0",
            "_view_name": "HBoxView",
            "box_style": "",
            "children": [
              "IPY_MODEL_4c637520663f44f59ebc13290c278c53",
              "IPY_MODEL_4398a9b93f9a42e7bf1343a88bb32f76",
              "IPY_MODEL_0fbd2beeed5a44bdacd0668f58a2c80f"
            ],
            "layout": "IPY_MODEL_771cea6d40264536b2062748694dbdc0"
          }
        },
        "4c637520663f44f59ebc13290c278c53": {
          "model_module": "@jupyter-widgets/controls",
          "model_name": "HTMLModel",
          "model_module_version": "1.5.0",
          "state": {
            "_dom_classes": [],
            "_model_module": "@jupyter-widgets/controls",
            "_model_module_version": "1.5.0",
            "_model_name": "HTMLModel",
            "_view_count": null,
            "_view_module": "@jupyter-widgets/controls",
            "_view_module_version": "1.5.0",
            "_view_name": "HTMLView",
            "description": "",
            "description_tooltip": null,
            "layout": "IPY_MODEL_85bd11c1ee8247c8bb39857ceda60e8b",
            "placeholder": "​",
            "style": "IPY_MODEL_e85189497a11451994f06c44ab242286",
            "value": "Tranning: 100%"
          }
        },
        "4398a9b93f9a42e7bf1343a88bb32f76": {
          "model_module": "@jupyter-widgets/controls",
          "model_name": "FloatProgressModel",
          "model_module_version": "1.5.0",
          "state": {
            "_dom_classes": [],
            "_model_module": "@jupyter-widgets/controls",
            "_model_module_version": "1.5.0",
            "_model_name": "FloatProgressModel",
            "_view_count": null,
            "_view_module": "@jupyter-widgets/controls",
            "_view_module_version": "1.5.0",
            "_view_name": "ProgressView",
            "bar_style": "success",
            "description": "",
            "description_tooltip": null,
            "layout": "IPY_MODEL_415823d49aa540d09450c1fd80c068c4",
            "max": 5001,
            "min": 0,
            "orientation": "horizontal",
            "style": "IPY_MODEL_1dcd2754e5f74e50ba0d245d662b3187",
            "value": 5001
          }
        },
        "0fbd2beeed5a44bdacd0668f58a2c80f": {
          "model_module": "@jupyter-widgets/controls",
          "model_name": "HTMLModel",
          "model_module_version": "1.5.0",
          "state": {
            "_dom_classes": [],
            "_model_module": "@jupyter-widgets/controls",
            "_model_module_version": "1.5.0",
            "_model_name": "HTMLModel",
            "_view_count": null,
            "_view_module": "@jupyter-widgets/controls",
            "_view_module_version": "1.5.0",
            "_view_name": "HTMLView",
            "description": "",
            "description_tooltip": null,
            "layout": "IPY_MODEL_4c9ed0273b99453b9431da935a637c5b",
            "placeholder": "​",
            "style": "IPY_MODEL_6ab919d9b2784065a225e88bf2d39365",
            "value": " 5001/5001 [02:50&lt;00:00, 29.12it/s]"
          }
        },
        "771cea6d40264536b2062748694dbdc0": {
          "model_module": "@jupyter-widgets/base",
          "model_name": "LayoutModel",
          "model_module_version": "1.2.0",
          "state": {
            "_model_module": "@jupyter-widgets/base",
            "_model_module_version": "1.2.0",
            "_model_name": "LayoutModel",
            "_view_count": null,
            "_view_module": "@jupyter-widgets/base",
            "_view_module_version": "1.2.0",
            "_view_name": "LayoutView",
            "align_content": null,
            "align_items": null,
            "align_self": null,
            "border": null,
            "bottom": null,
            "display": null,
            "flex": null,
            "flex_flow": null,
            "grid_area": null,
            "grid_auto_columns": null,
            "grid_auto_flow": null,
            "grid_auto_rows": null,
            "grid_column": null,
            "grid_gap": null,
            "grid_row": null,
            "grid_template_areas": null,
            "grid_template_columns": null,
            "grid_template_rows": null,
            "height": null,
            "justify_content": null,
            "justify_items": null,
            "left": null,
            "margin": null,
            "max_height": null,
            "max_width": null,
            "min_height": null,
            "min_width": null,
            "object_fit": null,
            "object_position": null,
            "order": null,
            "overflow": null,
            "overflow_x": null,
            "overflow_y": null,
            "padding": null,
            "right": null,
            "top": null,
            "visibility": null,
            "width": null
          }
        },
        "85bd11c1ee8247c8bb39857ceda60e8b": {
          "model_module": "@jupyter-widgets/base",
          "model_name": "LayoutModel",
          "model_module_version": "1.2.0",
          "state": {
            "_model_module": "@jupyter-widgets/base",
            "_model_module_version": "1.2.0",
            "_model_name": "LayoutModel",
            "_view_count": null,
            "_view_module": "@jupyter-widgets/base",
            "_view_module_version": "1.2.0",
            "_view_name": "LayoutView",
            "align_content": null,
            "align_items": null,
            "align_self": null,
            "border": null,
            "bottom": null,
            "display": null,
            "flex": null,
            "flex_flow": null,
            "grid_area": null,
            "grid_auto_columns": null,
            "grid_auto_flow": null,
            "grid_auto_rows": null,
            "grid_column": null,
            "grid_gap": null,
            "grid_row": null,
            "grid_template_areas": null,
            "grid_template_columns": null,
            "grid_template_rows": null,
            "height": null,
            "justify_content": null,
            "justify_items": null,
            "left": null,
            "margin": null,
            "max_height": null,
            "max_width": null,
            "min_height": null,
            "min_width": null,
            "object_fit": null,
            "object_position": null,
            "order": null,
            "overflow": null,
            "overflow_x": null,
            "overflow_y": null,
            "padding": null,
            "right": null,
            "top": null,
            "visibility": null,
            "width": null
          }
        },
        "e85189497a11451994f06c44ab242286": {
          "model_module": "@jupyter-widgets/controls",
          "model_name": "DescriptionStyleModel",
          "model_module_version": "1.5.0",
          "state": {
            "_model_module": "@jupyter-widgets/controls",
            "_model_module_version": "1.5.0",
            "_model_name": "DescriptionStyleModel",
            "_view_count": null,
            "_view_module": "@jupyter-widgets/base",
            "_view_module_version": "1.2.0",
            "_view_name": "StyleView",
            "description_width": ""
          }
        },
        "415823d49aa540d09450c1fd80c068c4": {
          "model_module": "@jupyter-widgets/base",
          "model_name": "LayoutModel",
          "model_module_version": "1.2.0",
          "state": {
            "_model_module": "@jupyter-widgets/base",
            "_model_module_version": "1.2.0",
            "_model_name": "LayoutModel",
            "_view_count": null,
            "_view_module": "@jupyter-widgets/base",
            "_view_module_version": "1.2.0",
            "_view_name": "LayoutView",
            "align_content": null,
            "align_items": null,
            "align_self": null,
            "border": null,
            "bottom": null,
            "display": null,
            "flex": null,
            "flex_flow": null,
            "grid_area": null,
            "grid_auto_columns": null,
            "grid_auto_flow": null,
            "grid_auto_rows": null,
            "grid_column": null,
            "grid_gap": null,
            "grid_row": null,
            "grid_template_areas": null,
            "grid_template_columns": null,
            "grid_template_rows": null,
            "height": null,
            "justify_content": null,
            "justify_items": null,
            "left": null,
            "margin": null,
            "max_height": null,
            "max_width": null,
            "min_height": null,
            "min_width": null,
            "object_fit": null,
            "object_position": null,
            "order": null,
            "overflow": null,
            "overflow_x": null,
            "overflow_y": null,
            "padding": null,
            "right": null,
            "top": null,
            "visibility": null,
            "width": null
          }
        },
        "1dcd2754e5f74e50ba0d245d662b3187": {
          "model_module": "@jupyter-widgets/controls",
          "model_name": "ProgressStyleModel",
          "model_module_version": "1.5.0",
          "state": {
            "_model_module": "@jupyter-widgets/controls",
            "_model_module_version": "1.5.0",
            "_model_name": "ProgressStyleModel",
            "_view_count": null,
            "_view_module": "@jupyter-widgets/base",
            "_view_module_version": "1.2.0",
            "_view_name": "StyleView",
            "bar_color": null,
            "description_width": ""
          }
        },
        "4c9ed0273b99453b9431da935a637c5b": {
          "model_module": "@jupyter-widgets/base",
          "model_name": "LayoutModel",
          "model_module_version": "1.2.0",
          "state": {
            "_model_module": "@jupyter-widgets/base",
            "_model_module_version": "1.2.0",
            "_model_name": "LayoutModel",
            "_view_count": null,
            "_view_module": "@jupyter-widgets/base",
            "_view_module_version": "1.2.0",
            "_view_name": "LayoutView",
            "align_content": null,
            "align_items": null,
            "align_self": null,
            "border": null,
            "bottom": null,
            "display": null,
            "flex": null,
            "flex_flow": null,
            "grid_area": null,
            "grid_auto_columns": null,
            "grid_auto_flow": null,
            "grid_auto_rows": null,
            "grid_column": null,
            "grid_gap": null,
            "grid_row": null,
            "grid_template_areas": null,
            "grid_template_columns": null,
            "grid_template_rows": null,
            "height": null,
            "justify_content": null,
            "justify_items": null,
            "left": null,
            "margin": null,
            "max_height": null,
            "max_width": null,
            "min_height": null,
            "min_width": null,
            "object_fit": null,
            "object_position": null,
            "order": null,
            "overflow": null,
            "overflow_x": null,
            "overflow_y": null,
            "padding": null,
            "right": null,
            "top": null,
            "visibility": null,
            "width": null
          }
        },
        "6ab919d9b2784065a225e88bf2d39365": {
          "model_module": "@jupyter-widgets/controls",
          "model_name": "DescriptionStyleModel",
          "model_module_version": "1.5.0",
          "state": {
            "_model_module": "@jupyter-widgets/controls",
            "_model_module_version": "1.5.0",
            "_model_name": "DescriptionStyleModel",
            "_view_count": null,
            "_view_module": "@jupyter-widgets/base",
            "_view_module_version": "1.2.0",
            "_view_name": "StyleView",
            "description_width": ""
          }
        },
        "7d8b921181e149489c30e37ab48c0647": {
          "model_module": "@jupyter-widgets/controls",
          "model_name": "HBoxModel",
          "model_module_version": "1.5.0",
          "state": {
            "_dom_classes": [],
            "_model_module": "@jupyter-widgets/controls",
            "_model_module_version": "1.5.0",
            "_model_name": "HBoxModel",
            "_view_count": null,
            "_view_module": "@jupyter-widgets/controls",
            "_view_module_version": "1.5.0",
            "_view_name": "HBoxView",
            "box_style": "",
            "children": [
              "IPY_MODEL_82b5bf24b5384531bbd0085db168f560",
              "IPY_MODEL_c074f0bc347f4aa4966475ca5566b3d5",
              "IPY_MODEL_9f56e5eb814b4c7ab7b840a50b1e3c91"
            ],
            "layout": "IPY_MODEL_aece2cf4c78048898e4a7bc0e4ad0564"
          }
        },
        "82b5bf24b5384531bbd0085db168f560": {
          "model_module": "@jupyter-widgets/controls",
          "model_name": "HTMLModel",
          "model_module_version": "1.5.0",
          "state": {
            "_dom_classes": [],
            "_model_module": "@jupyter-widgets/controls",
            "_model_module_version": "1.5.0",
            "_model_name": "HTMLModel",
            "_view_count": null,
            "_view_module": "@jupyter-widgets/controls",
            "_view_module_version": "1.5.0",
            "_view_name": "HTMLView",
            "description": "",
            "description_tooltip": null,
            "layout": "IPY_MODEL_220ef064e8e7497aa06bd59ac1d4de5f",
            "placeholder": "​",
            "style": "IPY_MODEL_116ed5ada43e4fa79334dc9c22deb756",
            "value": "Tranning: 100%"
          }
        },
        "c074f0bc347f4aa4966475ca5566b3d5": {
          "model_module": "@jupyter-widgets/controls",
          "model_name": "FloatProgressModel",
          "model_module_version": "1.5.0",
          "state": {
            "_dom_classes": [],
            "_model_module": "@jupyter-widgets/controls",
            "_model_module_version": "1.5.0",
            "_model_name": "FloatProgressModel",
            "_view_count": null,
            "_view_module": "@jupyter-widgets/controls",
            "_view_module_version": "1.5.0",
            "_view_name": "ProgressView",
            "bar_style": "success",
            "description": "",
            "description_tooltip": null,
            "layout": "IPY_MODEL_7b3d93468db44764945e29d771d13a38",
            "max": 5001,
            "min": 0,
            "orientation": "horizontal",
            "style": "IPY_MODEL_be2ef000787441c795e8b820cdf8365e",
            "value": 5001
          }
        },
        "9f56e5eb814b4c7ab7b840a50b1e3c91": {
          "model_module": "@jupyter-widgets/controls",
          "model_name": "HTMLModel",
          "model_module_version": "1.5.0",
          "state": {
            "_dom_classes": [],
            "_model_module": "@jupyter-widgets/controls",
            "_model_module_version": "1.5.0",
            "_model_name": "HTMLModel",
            "_view_count": null,
            "_view_module": "@jupyter-widgets/controls",
            "_view_module_version": "1.5.0",
            "_view_name": "HTMLView",
            "description": "",
            "description_tooltip": null,
            "layout": "IPY_MODEL_b0f02df59b474e47bf39a79a97b5b5c7",
            "placeholder": "​",
            "style": "IPY_MODEL_46627e9ed6da4674af2379bed35232da",
            "value": " 5001/5001 [01:02&lt;00:00, 50.71it/s]"
          }
        },
        "aece2cf4c78048898e4a7bc0e4ad0564": {
          "model_module": "@jupyter-widgets/base",
          "model_name": "LayoutModel",
          "model_module_version": "1.2.0",
          "state": {
            "_model_module": "@jupyter-widgets/base",
            "_model_module_version": "1.2.0",
            "_model_name": "LayoutModel",
            "_view_count": null,
            "_view_module": "@jupyter-widgets/base",
            "_view_module_version": "1.2.0",
            "_view_name": "LayoutView",
            "align_content": null,
            "align_items": null,
            "align_self": null,
            "border": null,
            "bottom": null,
            "display": null,
            "flex": null,
            "flex_flow": null,
            "grid_area": null,
            "grid_auto_columns": null,
            "grid_auto_flow": null,
            "grid_auto_rows": null,
            "grid_column": null,
            "grid_gap": null,
            "grid_row": null,
            "grid_template_areas": null,
            "grid_template_columns": null,
            "grid_template_rows": null,
            "height": null,
            "justify_content": null,
            "justify_items": null,
            "left": null,
            "margin": null,
            "max_height": null,
            "max_width": null,
            "min_height": null,
            "min_width": null,
            "object_fit": null,
            "object_position": null,
            "order": null,
            "overflow": null,
            "overflow_x": null,
            "overflow_y": null,
            "padding": null,
            "right": null,
            "top": null,
            "visibility": null,
            "width": null
          }
        },
        "220ef064e8e7497aa06bd59ac1d4de5f": {
          "model_module": "@jupyter-widgets/base",
          "model_name": "LayoutModel",
          "model_module_version": "1.2.0",
          "state": {
            "_model_module": "@jupyter-widgets/base",
            "_model_module_version": "1.2.0",
            "_model_name": "LayoutModel",
            "_view_count": null,
            "_view_module": "@jupyter-widgets/base",
            "_view_module_version": "1.2.0",
            "_view_name": "LayoutView",
            "align_content": null,
            "align_items": null,
            "align_self": null,
            "border": null,
            "bottom": null,
            "display": null,
            "flex": null,
            "flex_flow": null,
            "grid_area": null,
            "grid_auto_columns": null,
            "grid_auto_flow": null,
            "grid_auto_rows": null,
            "grid_column": null,
            "grid_gap": null,
            "grid_row": null,
            "grid_template_areas": null,
            "grid_template_columns": null,
            "grid_template_rows": null,
            "height": null,
            "justify_content": null,
            "justify_items": null,
            "left": null,
            "margin": null,
            "max_height": null,
            "max_width": null,
            "min_height": null,
            "min_width": null,
            "object_fit": null,
            "object_position": null,
            "order": null,
            "overflow": null,
            "overflow_x": null,
            "overflow_y": null,
            "padding": null,
            "right": null,
            "top": null,
            "visibility": null,
            "width": null
          }
        },
        "116ed5ada43e4fa79334dc9c22deb756": {
          "model_module": "@jupyter-widgets/controls",
          "model_name": "DescriptionStyleModel",
          "model_module_version": "1.5.0",
          "state": {
            "_model_module": "@jupyter-widgets/controls",
            "_model_module_version": "1.5.0",
            "_model_name": "DescriptionStyleModel",
            "_view_count": null,
            "_view_module": "@jupyter-widgets/base",
            "_view_module_version": "1.2.0",
            "_view_name": "StyleView",
            "description_width": ""
          }
        },
        "7b3d93468db44764945e29d771d13a38": {
          "model_module": "@jupyter-widgets/base",
          "model_name": "LayoutModel",
          "model_module_version": "1.2.0",
          "state": {
            "_model_module": "@jupyter-widgets/base",
            "_model_module_version": "1.2.0",
            "_model_name": "LayoutModel",
            "_view_count": null,
            "_view_module": "@jupyter-widgets/base",
            "_view_module_version": "1.2.0",
            "_view_name": "LayoutView",
            "align_content": null,
            "align_items": null,
            "align_self": null,
            "border": null,
            "bottom": null,
            "display": null,
            "flex": null,
            "flex_flow": null,
            "grid_area": null,
            "grid_auto_columns": null,
            "grid_auto_flow": null,
            "grid_auto_rows": null,
            "grid_column": null,
            "grid_gap": null,
            "grid_row": null,
            "grid_template_areas": null,
            "grid_template_columns": null,
            "grid_template_rows": null,
            "height": null,
            "justify_content": null,
            "justify_items": null,
            "left": null,
            "margin": null,
            "max_height": null,
            "max_width": null,
            "min_height": null,
            "min_width": null,
            "object_fit": null,
            "object_position": null,
            "order": null,
            "overflow": null,
            "overflow_x": null,
            "overflow_y": null,
            "padding": null,
            "right": null,
            "top": null,
            "visibility": null,
            "width": null
          }
        },
        "be2ef000787441c795e8b820cdf8365e": {
          "model_module": "@jupyter-widgets/controls",
          "model_name": "ProgressStyleModel",
          "model_module_version": "1.5.0",
          "state": {
            "_model_module": "@jupyter-widgets/controls",
            "_model_module_version": "1.5.0",
            "_model_name": "ProgressStyleModel",
            "_view_count": null,
            "_view_module": "@jupyter-widgets/base",
            "_view_module_version": "1.2.0",
            "_view_name": "StyleView",
            "bar_color": null,
            "description_width": ""
          }
        },
        "b0f02df59b474e47bf39a79a97b5b5c7": {
          "model_module": "@jupyter-widgets/base",
          "model_name": "LayoutModel",
          "model_module_version": "1.2.0",
          "state": {
            "_model_module": "@jupyter-widgets/base",
            "_model_module_version": "1.2.0",
            "_model_name": "LayoutModel",
            "_view_count": null,
            "_view_module": "@jupyter-widgets/base",
            "_view_module_version": "1.2.0",
            "_view_name": "LayoutView",
            "align_content": null,
            "align_items": null,
            "align_self": null,
            "border": null,
            "bottom": null,
            "display": null,
            "flex": null,
            "flex_flow": null,
            "grid_area": null,
            "grid_auto_columns": null,
            "grid_auto_flow": null,
            "grid_auto_rows": null,
            "grid_column": null,
            "grid_gap": null,
            "grid_row": null,
            "grid_template_areas": null,
            "grid_template_columns": null,
            "grid_template_rows": null,
            "height": null,
            "justify_content": null,
            "justify_items": null,
            "left": null,
            "margin": null,
            "max_height": null,
            "max_width": null,
            "min_height": null,
            "min_width": null,
            "object_fit": null,
            "object_position": null,
            "order": null,
            "overflow": null,
            "overflow_x": null,
            "overflow_y": null,
            "padding": null,
            "right": null,
            "top": null,
            "visibility": null,
            "width": null
          }
        },
        "46627e9ed6da4674af2379bed35232da": {
          "model_module": "@jupyter-widgets/controls",
          "model_name": "DescriptionStyleModel",
          "model_module_version": "1.5.0",
          "state": {
            "_model_module": "@jupyter-widgets/controls",
            "_model_module_version": "1.5.0",
            "_model_name": "DescriptionStyleModel",
            "_view_count": null,
            "_view_module": "@jupyter-widgets/base",
            "_view_module_version": "1.2.0",
            "_view_name": "StyleView",
            "description_width": ""
          }
        },
        "f4f9f53e167942f8bf1e06732be79822": {
          "model_module": "@jupyter-widgets/controls",
          "model_name": "HBoxModel",
          "model_module_version": "1.5.0",
          "state": {
            "_dom_classes": [],
            "_model_module": "@jupyter-widgets/controls",
            "_model_module_version": "1.5.0",
            "_model_name": "HBoxModel",
            "_view_count": null,
            "_view_module": "@jupyter-widgets/controls",
            "_view_module_version": "1.5.0",
            "_view_name": "HBoxView",
            "box_style": "",
            "children": [
              "IPY_MODEL_75150b7ee0354b9fb474042b142ef608",
              "IPY_MODEL_79079765150243ba924b9326d355aca0",
              "IPY_MODEL_eafed771d1d14dbfb3716ca02d6a8919"
            ],
            "layout": "IPY_MODEL_fbdee1a7106a43be8189362bd09d3f56"
          }
        },
        "75150b7ee0354b9fb474042b142ef608": {
          "model_module": "@jupyter-widgets/controls",
          "model_name": "HTMLModel",
          "model_module_version": "1.5.0",
          "state": {
            "_dom_classes": [],
            "_model_module": "@jupyter-widgets/controls",
            "_model_module_version": "1.5.0",
            "_model_name": "HTMLModel",
            "_view_count": null,
            "_view_module": "@jupyter-widgets/controls",
            "_view_module_version": "1.5.0",
            "_view_name": "HTMLView",
            "description": "",
            "description_tooltip": null,
            "layout": "IPY_MODEL_063251f05fa74ee494f6288b706c7081",
            "placeholder": "​",
            "style": "IPY_MODEL_57daa34b6cb44d47ad03c1eda26eb888",
            "value": "Tranning: 100%"
          }
        },
        "79079765150243ba924b9326d355aca0": {
          "model_module": "@jupyter-widgets/controls",
          "model_name": "FloatProgressModel",
          "model_module_version": "1.5.0",
          "state": {
            "_dom_classes": [],
            "_model_module": "@jupyter-widgets/controls",
            "_model_module_version": "1.5.0",
            "_model_name": "FloatProgressModel",
            "_view_count": null,
            "_view_module": "@jupyter-widgets/controls",
            "_view_module_version": "1.5.0",
            "_view_name": "ProgressView",
            "bar_style": "success",
            "description": "",
            "description_tooltip": null,
            "layout": "IPY_MODEL_7dfc7784aeee4fe2b00a07f9a58c97b2",
            "max": 5001,
            "min": 0,
            "orientation": "horizontal",
            "style": "IPY_MODEL_037fb973f4d04af39e36f53269bc0a22",
            "value": 5001
          }
        },
        "eafed771d1d14dbfb3716ca02d6a8919": {
          "model_module": "@jupyter-widgets/controls",
          "model_name": "HTMLModel",
          "model_module_version": "1.5.0",
          "state": {
            "_dom_classes": [],
            "_model_module": "@jupyter-widgets/controls",
            "_model_module_version": "1.5.0",
            "_model_name": "HTMLModel",
            "_view_count": null,
            "_view_module": "@jupyter-widgets/controls",
            "_view_module_version": "1.5.0",
            "_view_name": "HTMLView",
            "description": "",
            "description_tooltip": null,
            "layout": "IPY_MODEL_dd740ec2350f4c8db56ecf6aab407a0d",
            "placeholder": "​",
            "style": "IPY_MODEL_da6d99f802d14b8b9d38702fd18d31b2",
            "value": " 5001/5001 [02:35&lt;00:00, 33.06it/s]"
          }
        },
        "fbdee1a7106a43be8189362bd09d3f56": {
          "model_module": "@jupyter-widgets/base",
          "model_name": "LayoutModel",
          "model_module_version": "1.2.0",
          "state": {
            "_model_module": "@jupyter-widgets/base",
            "_model_module_version": "1.2.0",
            "_model_name": "LayoutModel",
            "_view_count": null,
            "_view_module": "@jupyter-widgets/base",
            "_view_module_version": "1.2.0",
            "_view_name": "LayoutView",
            "align_content": null,
            "align_items": null,
            "align_self": null,
            "border": null,
            "bottom": null,
            "display": null,
            "flex": null,
            "flex_flow": null,
            "grid_area": null,
            "grid_auto_columns": null,
            "grid_auto_flow": null,
            "grid_auto_rows": null,
            "grid_column": null,
            "grid_gap": null,
            "grid_row": null,
            "grid_template_areas": null,
            "grid_template_columns": null,
            "grid_template_rows": null,
            "height": null,
            "justify_content": null,
            "justify_items": null,
            "left": null,
            "margin": null,
            "max_height": null,
            "max_width": null,
            "min_height": null,
            "min_width": null,
            "object_fit": null,
            "object_position": null,
            "order": null,
            "overflow": null,
            "overflow_x": null,
            "overflow_y": null,
            "padding": null,
            "right": null,
            "top": null,
            "visibility": null,
            "width": null
          }
        },
        "063251f05fa74ee494f6288b706c7081": {
          "model_module": "@jupyter-widgets/base",
          "model_name": "LayoutModel",
          "model_module_version": "1.2.0",
          "state": {
            "_model_module": "@jupyter-widgets/base",
            "_model_module_version": "1.2.0",
            "_model_name": "LayoutModel",
            "_view_count": null,
            "_view_module": "@jupyter-widgets/base",
            "_view_module_version": "1.2.0",
            "_view_name": "LayoutView",
            "align_content": null,
            "align_items": null,
            "align_self": null,
            "border": null,
            "bottom": null,
            "display": null,
            "flex": null,
            "flex_flow": null,
            "grid_area": null,
            "grid_auto_columns": null,
            "grid_auto_flow": null,
            "grid_auto_rows": null,
            "grid_column": null,
            "grid_gap": null,
            "grid_row": null,
            "grid_template_areas": null,
            "grid_template_columns": null,
            "grid_template_rows": null,
            "height": null,
            "justify_content": null,
            "justify_items": null,
            "left": null,
            "margin": null,
            "max_height": null,
            "max_width": null,
            "min_height": null,
            "min_width": null,
            "object_fit": null,
            "object_position": null,
            "order": null,
            "overflow": null,
            "overflow_x": null,
            "overflow_y": null,
            "padding": null,
            "right": null,
            "top": null,
            "visibility": null,
            "width": null
          }
        },
        "57daa34b6cb44d47ad03c1eda26eb888": {
          "model_module": "@jupyter-widgets/controls",
          "model_name": "DescriptionStyleModel",
          "model_module_version": "1.5.0",
          "state": {
            "_model_module": "@jupyter-widgets/controls",
            "_model_module_version": "1.5.0",
            "_model_name": "DescriptionStyleModel",
            "_view_count": null,
            "_view_module": "@jupyter-widgets/base",
            "_view_module_version": "1.2.0",
            "_view_name": "StyleView",
            "description_width": ""
          }
        },
        "7dfc7784aeee4fe2b00a07f9a58c97b2": {
          "model_module": "@jupyter-widgets/base",
          "model_name": "LayoutModel",
          "model_module_version": "1.2.0",
          "state": {
            "_model_module": "@jupyter-widgets/base",
            "_model_module_version": "1.2.0",
            "_model_name": "LayoutModel",
            "_view_count": null,
            "_view_module": "@jupyter-widgets/base",
            "_view_module_version": "1.2.0",
            "_view_name": "LayoutView",
            "align_content": null,
            "align_items": null,
            "align_self": null,
            "border": null,
            "bottom": null,
            "display": null,
            "flex": null,
            "flex_flow": null,
            "grid_area": null,
            "grid_auto_columns": null,
            "grid_auto_flow": null,
            "grid_auto_rows": null,
            "grid_column": null,
            "grid_gap": null,
            "grid_row": null,
            "grid_template_areas": null,
            "grid_template_columns": null,
            "grid_template_rows": null,
            "height": null,
            "justify_content": null,
            "justify_items": null,
            "left": null,
            "margin": null,
            "max_height": null,
            "max_width": null,
            "min_height": null,
            "min_width": null,
            "object_fit": null,
            "object_position": null,
            "order": null,
            "overflow": null,
            "overflow_x": null,
            "overflow_y": null,
            "padding": null,
            "right": null,
            "top": null,
            "visibility": null,
            "width": null
          }
        },
        "037fb973f4d04af39e36f53269bc0a22": {
          "model_module": "@jupyter-widgets/controls",
          "model_name": "ProgressStyleModel",
          "model_module_version": "1.5.0",
          "state": {
            "_model_module": "@jupyter-widgets/controls",
            "_model_module_version": "1.5.0",
            "_model_name": "ProgressStyleModel",
            "_view_count": null,
            "_view_module": "@jupyter-widgets/base",
            "_view_module_version": "1.2.0",
            "_view_name": "StyleView",
            "bar_color": null,
            "description_width": ""
          }
        },
        "dd740ec2350f4c8db56ecf6aab407a0d": {
          "model_module": "@jupyter-widgets/base",
          "model_name": "LayoutModel",
          "model_module_version": "1.2.0",
          "state": {
            "_model_module": "@jupyter-widgets/base",
            "_model_module_version": "1.2.0",
            "_model_name": "LayoutModel",
            "_view_count": null,
            "_view_module": "@jupyter-widgets/base",
            "_view_module_version": "1.2.0",
            "_view_name": "LayoutView",
            "align_content": null,
            "align_items": null,
            "align_self": null,
            "border": null,
            "bottom": null,
            "display": null,
            "flex": null,
            "flex_flow": null,
            "grid_area": null,
            "grid_auto_columns": null,
            "grid_auto_flow": null,
            "grid_auto_rows": null,
            "grid_column": null,
            "grid_gap": null,
            "grid_row": null,
            "grid_template_areas": null,
            "grid_template_columns": null,
            "grid_template_rows": null,
            "height": null,
            "justify_content": null,
            "justify_items": null,
            "left": null,
            "margin": null,
            "max_height": null,
            "max_width": null,
            "min_height": null,
            "min_width": null,
            "object_fit": null,
            "object_position": null,
            "order": null,
            "overflow": null,
            "overflow_x": null,
            "overflow_y": null,
            "padding": null,
            "right": null,
            "top": null,
            "visibility": null,
            "width": null
          }
        },
        "da6d99f802d14b8b9d38702fd18d31b2": {
          "model_module": "@jupyter-widgets/controls",
          "model_name": "DescriptionStyleModel",
          "model_module_version": "1.5.0",
          "state": {
            "_model_module": "@jupyter-widgets/controls",
            "_model_module_version": "1.5.0",
            "_model_name": "DescriptionStyleModel",
            "_view_count": null,
            "_view_module": "@jupyter-widgets/base",
            "_view_module_version": "1.2.0",
            "_view_name": "StyleView",
            "description_width": ""
          }
        },
        "9d71a3a6ea5c49bb995f4564338d800e": {
          "model_module": "@jupyter-widgets/controls",
          "model_name": "HBoxModel",
          "model_module_version": "1.5.0",
          "state": {
            "_dom_classes": [],
            "_model_module": "@jupyter-widgets/controls",
            "_model_module_version": "1.5.0",
            "_model_name": "HBoxModel",
            "_view_count": null,
            "_view_module": "@jupyter-widgets/controls",
            "_view_module_version": "1.5.0",
            "_view_name": "HBoxView",
            "box_style": "",
            "children": [
              "IPY_MODEL_4cd1277cbc0541f9968a13ff9533e8f5",
              "IPY_MODEL_234e5f68b72e4360ae7a32ef6b0946e4",
              "IPY_MODEL_efabbbd22c0342f79358c9702ebd0a82"
            ],
            "layout": "IPY_MODEL_ae2cb8acb63148659f74fca8e2d8400a"
          }
        },
        "4cd1277cbc0541f9968a13ff9533e8f5": {
          "model_module": "@jupyter-widgets/controls",
          "model_name": "HTMLModel",
          "model_module_version": "1.5.0",
          "state": {
            "_dom_classes": [],
            "_model_module": "@jupyter-widgets/controls",
            "_model_module_version": "1.5.0",
            "_model_name": "HTMLModel",
            "_view_count": null,
            "_view_module": "@jupyter-widgets/controls",
            "_view_module_version": "1.5.0",
            "_view_name": "HTMLView",
            "description": "",
            "description_tooltip": null,
            "layout": "IPY_MODEL_c8ec81efb8494e67b003770cce0561ff",
            "placeholder": "​",
            "style": "IPY_MODEL_888c51668b7d41c5842101f36d236536",
            "value": "Tranning: 100%"
          }
        },
        "234e5f68b72e4360ae7a32ef6b0946e4": {
          "model_module": "@jupyter-widgets/controls",
          "model_name": "FloatProgressModel",
          "model_module_version": "1.5.0",
          "state": {
            "_dom_classes": [],
            "_model_module": "@jupyter-widgets/controls",
            "_model_module_version": "1.5.0",
            "_model_name": "FloatProgressModel",
            "_view_count": null,
            "_view_module": "@jupyter-widgets/controls",
            "_view_module_version": "1.5.0",
            "_view_name": "ProgressView",
            "bar_style": "success",
            "description": "",
            "description_tooltip": null,
            "layout": "IPY_MODEL_1e7cc9723aba4036b1a1b0590a19bb41",
            "max": 5001,
            "min": 0,
            "orientation": "horizontal",
            "style": "IPY_MODEL_4765e1e2719c4b53a7ee4026ef4072ba",
            "value": 5001
          }
        },
        "efabbbd22c0342f79358c9702ebd0a82": {
          "model_module": "@jupyter-widgets/controls",
          "model_name": "HTMLModel",
          "model_module_version": "1.5.0",
          "state": {
            "_dom_classes": [],
            "_model_module": "@jupyter-widgets/controls",
            "_model_module_version": "1.5.0",
            "_model_name": "HTMLModel",
            "_view_count": null,
            "_view_module": "@jupyter-widgets/controls",
            "_view_module_version": "1.5.0",
            "_view_name": "HTMLView",
            "description": "",
            "description_tooltip": null,
            "layout": "IPY_MODEL_039ec99d75fa4930815b2d1c1f70a291",
            "placeholder": "​",
            "style": "IPY_MODEL_66b90924d51d4b4cba18aba0bfd73257",
            "value": " 5001/5001 [01:43&lt;00:00, 49.83it/s]"
          }
        },
        "ae2cb8acb63148659f74fca8e2d8400a": {
          "model_module": "@jupyter-widgets/base",
          "model_name": "LayoutModel",
          "model_module_version": "1.2.0",
          "state": {
            "_model_module": "@jupyter-widgets/base",
            "_model_module_version": "1.2.0",
            "_model_name": "LayoutModel",
            "_view_count": null,
            "_view_module": "@jupyter-widgets/base",
            "_view_module_version": "1.2.0",
            "_view_name": "LayoutView",
            "align_content": null,
            "align_items": null,
            "align_self": null,
            "border": null,
            "bottom": null,
            "display": null,
            "flex": null,
            "flex_flow": null,
            "grid_area": null,
            "grid_auto_columns": null,
            "grid_auto_flow": null,
            "grid_auto_rows": null,
            "grid_column": null,
            "grid_gap": null,
            "grid_row": null,
            "grid_template_areas": null,
            "grid_template_columns": null,
            "grid_template_rows": null,
            "height": null,
            "justify_content": null,
            "justify_items": null,
            "left": null,
            "margin": null,
            "max_height": null,
            "max_width": null,
            "min_height": null,
            "min_width": null,
            "object_fit": null,
            "object_position": null,
            "order": null,
            "overflow": null,
            "overflow_x": null,
            "overflow_y": null,
            "padding": null,
            "right": null,
            "top": null,
            "visibility": null,
            "width": null
          }
        },
        "c8ec81efb8494e67b003770cce0561ff": {
          "model_module": "@jupyter-widgets/base",
          "model_name": "LayoutModel",
          "model_module_version": "1.2.0",
          "state": {
            "_model_module": "@jupyter-widgets/base",
            "_model_module_version": "1.2.0",
            "_model_name": "LayoutModel",
            "_view_count": null,
            "_view_module": "@jupyter-widgets/base",
            "_view_module_version": "1.2.0",
            "_view_name": "LayoutView",
            "align_content": null,
            "align_items": null,
            "align_self": null,
            "border": null,
            "bottom": null,
            "display": null,
            "flex": null,
            "flex_flow": null,
            "grid_area": null,
            "grid_auto_columns": null,
            "grid_auto_flow": null,
            "grid_auto_rows": null,
            "grid_column": null,
            "grid_gap": null,
            "grid_row": null,
            "grid_template_areas": null,
            "grid_template_columns": null,
            "grid_template_rows": null,
            "height": null,
            "justify_content": null,
            "justify_items": null,
            "left": null,
            "margin": null,
            "max_height": null,
            "max_width": null,
            "min_height": null,
            "min_width": null,
            "object_fit": null,
            "object_position": null,
            "order": null,
            "overflow": null,
            "overflow_x": null,
            "overflow_y": null,
            "padding": null,
            "right": null,
            "top": null,
            "visibility": null,
            "width": null
          }
        },
        "888c51668b7d41c5842101f36d236536": {
          "model_module": "@jupyter-widgets/controls",
          "model_name": "DescriptionStyleModel",
          "model_module_version": "1.5.0",
          "state": {
            "_model_module": "@jupyter-widgets/controls",
            "_model_module_version": "1.5.0",
            "_model_name": "DescriptionStyleModel",
            "_view_count": null,
            "_view_module": "@jupyter-widgets/base",
            "_view_module_version": "1.2.0",
            "_view_name": "StyleView",
            "description_width": ""
          }
        },
        "1e7cc9723aba4036b1a1b0590a19bb41": {
          "model_module": "@jupyter-widgets/base",
          "model_name": "LayoutModel",
          "model_module_version": "1.2.0",
          "state": {
            "_model_module": "@jupyter-widgets/base",
            "_model_module_version": "1.2.0",
            "_model_name": "LayoutModel",
            "_view_count": null,
            "_view_module": "@jupyter-widgets/base",
            "_view_module_version": "1.2.0",
            "_view_name": "LayoutView",
            "align_content": null,
            "align_items": null,
            "align_self": null,
            "border": null,
            "bottom": null,
            "display": null,
            "flex": null,
            "flex_flow": null,
            "grid_area": null,
            "grid_auto_columns": null,
            "grid_auto_flow": null,
            "grid_auto_rows": null,
            "grid_column": null,
            "grid_gap": null,
            "grid_row": null,
            "grid_template_areas": null,
            "grid_template_columns": null,
            "grid_template_rows": null,
            "height": null,
            "justify_content": null,
            "justify_items": null,
            "left": null,
            "margin": null,
            "max_height": null,
            "max_width": null,
            "min_height": null,
            "min_width": null,
            "object_fit": null,
            "object_position": null,
            "order": null,
            "overflow": null,
            "overflow_x": null,
            "overflow_y": null,
            "padding": null,
            "right": null,
            "top": null,
            "visibility": null,
            "width": null
          }
        },
        "4765e1e2719c4b53a7ee4026ef4072ba": {
          "model_module": "@jupyter-widgets/controls",
          "model_name": "ProgressStyleModel",
          "model_module_version": "1.5.0",
          "state": {
            "_model_module": "@jupyter-widgets/controls",
            "_model_module_version": "1.5.0",
            "_model_name": "ProgressStyleModel",
            "_view_count": null,
            "_view_module": "@jupyter-widgets/base",
            "_view_module_version": "1.2.0",
            "_view_name": "StyleView",
            "bar_color": null,
            "description_width": ""
          }
        },
        "039ec99d75fa4930815b2d1c1f70a291": {
          "model_module": "@jupyter-widgets/base",
          "model_name": "LayoutModel",
          "model_module_version": "1.2.0",
          "state": {
            "_model_module": "@jupyter-widgets/base",
            "_model_module_version": "1.2.0",
            "_model_name": "LayoutModel",
            "_view_count": null,
            "_view_module": "@jupyter-widgets/base",
            "_view_module_version": "1.2.0",
            "_view_name": "LayoutView",
            "align_content": null,
            "align_items": null,
            "align_self": null,
            "border": null,
            "bottom": null,
            "display": null,
            "flex": null,
            "flex_flow": null,
            "grid_area": null,
            "grid_auto_columns": null,
            "grid_auto_flow": null,
            "grid_auto_rows": null,
            "grid_column": null,
            "grid_gap": null,
            "grid_row": null,
            "grid_template_areas": null,
            "grid_template_columns": null,
            "grid_template_rows": null,
            "height": null,
            "justify_content": null,
            "justify_items": null,
            "left": null,
            "margin": null,
            "max_height": null,
            "max_width": null,
            "min_height": null,
            "min_width": null,
            "object_fit": null,
            "object_position": null,
            "order": null,
            "overflow": null,
            "overflow_x": null,
            "overflow_y": null,
            "padding": null,
            "right": null,
            "top": null,
            "visibility": null,
            "width": null
          }
        },
        "66b90924d51d4b4cba18aba0bfd73257": {
          "model_module": "@jupyter-widgets/controls",
          "model_name": "DescriptionStyleModel",
          "model_module_version": "1.5.0",
          "state": {
            "_model_module": "@jupyter-widgets/controls",
            "_model_module_version": "1.5.0",
            "_model_name": "DescriptionStyleModel",
            "_view_count": null,
            "_view_module": "@jupyter-widgets/base",
            "_view_module_version": "1.2.0",
            "_view_name": "StyleView",
            "description_width": ""
          }
        },
        "21e4f0b2a221451dbaf925731207a5f3": {
          "model_module": "@jupyter-widgets/controls",
          "model_name": "HBoxModel",
          "model_module_version": "1.5.0",
          "state": {
            "_dom_classes": [],
            "_model_module": "@jupyter-widgets/controls",
            "_model_module_version": "1.5.0",
            "_model_name": "HBoxModel",
            "_view_count": null,
            "_view_module": "@jupyter-widgets/controls",
            "_view_module_version": "1.5.0",
            "_view_name": "HBoxView",
            "box_style": "",
            "children": [
              "IPY_MODEL_2b858a3fb27a41faa8db65c437e980b6",
              "IPY_MODEL_0d7b3122939342afa1c3b1011bdb7b14",
              "IPY_MODEL_af3db03675dd46a2ab02c36a731a5cef"
            ],
            "layout": "IPY_MODEL_40e194b7fa1e4975a5a81b86069b8a42"
          }
        },
        "2b858a3fb27a41faa8db65c437e980b6": {
          "model_module": "@jupyter-widgets/controls",
          "model_name": "HTMLModel",
          "model_module_version": "1.5.0",
          "state": {
            "_dom_classes": [],
            "_model_module": "@jupyter-widgets/controls",
            "_model_module_version": "1.5.0",
            "_model_name": "HTMLModel",
            "_view_count": null,
            "_view_module": "@jupyter-widgets/controls",
            "_view_module_version": "1.5.0",
            "_view_name": "HTMLView",
            "description": "",
            "description_tooltip": null,
            "layout": "IPY_MODEL_57dc056a746c481096aa37bc104379f4",
            "placeholder": "​",
            "style": "IPY_MODEL_365b4b556a924ab1bede5b4492b5a9a7",
            "value": "Tranning: 100%"
          }
        },
        "0d7b3122939342afa1c3b1011bdb7b14": {
          "model_module": "@jupyter-widgets/controls",
          "model_name": "FloatProgressModel",
          "model_module_version": "1.5.0",
          "state": {
            "_dom_classes": [],
            "_model_module": "@jupyter-widgets/controls",
            "_model_module_version": "1.5.0",
            "_model_name": "FloatProgressModel",
            "_view_count": null,
            "_view_module": "@jupyter-widgets/controls",
            "_view_module_version": "1.5.0",
            "_view_name": "ProgressView",
            "bar_style": "success",
            "description": "",
            "description_tooltip": null,
            "layout": "IPY_MODEL_b8a81309223849fba7e3cff122eb9c3b",
            "max": 5001,
            "min": 0,
            "orientation": "horizontal",
            "style": "IPY_MODEL_eae101de68464eb9a6d6854e1146451f",
            "value": 5001
          }
        },
        "af3db03675dd46a2ab02c36a731a5cef": {
          "model_module": "@jupyter-widgets/controls",
          "model_name": "HTMLModel",
          "model_module_version": "1.5.0",
          "state": {
            "_dom_classes": [],
            "_model_module": "@jupyter-widgets/controls",
            "_model_module_version": "1.5.0",
            "_model_name": "HTMLModel",
            "_view_count": null,
            "_view_module": "@jupyter-widgets/controls",
            "_view_module_version": "1.5.0",
            "_view_name": "HTMLView",
            "description": "",
            "description_tooltip": null,
            "layout": "IPY_MODEL_4c90652dc3a74a0b8eef9a7d226da6af",
            "placeholder": "​",
            "style": "IPY_MODEL_16b3988e33e04023aa79d8cc5499137e",
            "value": " 5001/5001 [01:47&lt;00:00, 47.22it/s]"
          }
        },
        "40e194b7fa1e4975a5a81b86069b8a42": {
          "model_module": "@jupyter-widgets/base",
          "model_name": "LayoutModel",
          "model_module_version": "1.2.0",
          "state": {
            "_model_module": "@jupyter-widgets/base",
            "_model_module_version": "1.2.0",
            "_model_name": "LayoutModel",
            "_view_count": null,
            "_view_module": "@jupyter-widgets/base",
            "_view_module_version": "1.2.0",
            "_view_name": "LayoutView",
            "align_content": null,
            "align_items": null,
            "align_self": null,
            "border": null,
            "bottom": null,
            "display": null,
            "flex": null,
            "flex_flow": null,
            "grid_area": null,
            "grid_auto_columns": null,
            "grid_auto_flow": null,
            "grid_auto_rows": null,
            "grid_column": null,
            "grid_gap": null,
            "grid_row": null,
            "grid_template_areas": null,
            "grid_template_columns": null,
            "grid_template_rows": null,
            "height": null,
            "justify_content": null,
            "justify_items": null,
            "left": null,
            "margin": null,
            "max_height": null,
            "max_width": null,
            "min_height": null,
            "min_width": null,
            "object_fit": null,
            "object_position": null,
            "order": null,
            "overflow": null,
            "overflow_x": null,
            "overflow_y": null,
            "padding": null,
            "right": null,
            "top": null,
            "visibility": null,
            "width": null
          }
        },
        "57dc056a746c481096aa37bc104379f4": {
          "model_module": "@jupyter-widgets/base",
          "model_name": "LayoutModel",
          "model_module_version": "1.2.0",
          "state": {
            "_model_module": "@jupyter-widgets/base",
            "_model_module_version": "1.2.0",
            "_model_name": "LayoutModel",
            "_view_count": null,
            "_view_module": "@jupyter-widgets/base",
            "_view_module_version": "1.2.0",
            "_view_name": "LayoutView",
            "align_content": null,
            "align_items": null,
            "align_self": null,
            "border": null,
            "bottom": null,
            "display": null,
            "flex": null,
            "flex_flow": null,
            "grid_area": null,
            "grid_auto_columns": null,
            "grid_auto_flow": null,
            "grid_auto_rows": null,
            "grid_column": null,
            "grid_gap": null,
            "grid_row": null,
            "grid_template_areas": null,
            "grid_template_columns": null,
            "grid_template_rows": null,
            "height": null,
            "justify_content": null,
            "justify_items": null,
            "left": null,
            "margin": null,
            "max_height": null,
            "max_width": null,
            "min_height": null,
            "min_width": null,
            "object_fit": null,
            "object_position": null,
            "order": null,
            "overflow": null,
            "overflow_x": null,
            "overflow_y": null,
            "padding": null,
            "right": null,
            "top": null,
            "visibility": null,
            "width": null
          }
        },
        "365b4b556a924ab1bede5b4492b5a9a7": {
          "model_module": "@jupyter-widgets/controls",
          "model_name": "DescriptionStyleModel",
          "model_module_version": "1.5.0",
          "state": {
            "_model_module": "@jupyter-widgets/controls",
            "_model_module_version": "1.5.0",
            "_model_name": "DescriptionStyleModel",
            "_view_count": null,
            "_view_module": "@jupyter-widgets/base",
            "_view_module_version": "1.2.0",
            "_view_name": "StyleView",
            "description_width": ""
          }
        },
        "b8a81309223849fba7e3cff122eb9c3b": {
          "model_module": "@jupyter-widgets/base",
          "model_name": "LayoutModel",
          "model_module_version": "1.2.0",
          "state": {
            "_model_module": "@jupyter-widgets/base",
            "_model_module_version": "1.2.0",
            "_model_name": "LayoutModel",
            "_view_count": null,
            "_view_module": "@jupyter-widgets/base",
            "_view_module_version": "1.2.0",
            "_view_name": "LayoutView",
            "align_content": null,
            "align_items": null,
            "align_self": null,
            "border": null,
            "bottom": null,
            "display": null,
            "flex": null,
            "flex_flow": null,
            "grid_area": null,
            "grid_auto_columns": null,
            "grid_auto_flow": null,
            "grid_auto_rows": null,
            "grid_column": null,
            "grid_gap": null,
            "grid_row": null,
            "grid_template_areas": null,
            "grid_template_columns": null,
            "grid_template_rows": null,
            "height": null,
            "justify_content": null,
            "justify_items": null,
            "left": null,
            "margin": null,
            "max_height": null,
            "max_width": null,
            "min_height": null,
            "min_width": null,
            "object_fit": null,
            "object_position": null,
            "order": null,
            "overflow": null,
            "overflow_x": null,
            "overflow_y": null,
            "padding": null,
            "right": null,
            "top": null,
            "visibility": null,
            "width": null
          }
        },
        "eae101de68464eb9a6d6854e1146451f": {
          "model_module": "@jupyter-widgets/controls",
          "model_name": "ProgressStyleModel",
          "model_module_version": "1.5.0",
          "state": {
            "_model_module": "@jupyter-widgets/controls",
            "_model_module_version": "1.5.0",
            "_model_name": "ProgressStyleModel",
            "_view_count": null,
            "_view_module": "@jupyter-widgets/base",
            "_view_module_version": "1.2.0",
            "_view_name": "StyleView",
            "bar_color": null,
            "description_width": ""
          }
        },
        "4c90652dc3a74a0b8eef9a7d226da6af": {
          "model_module": "@jupyter-widgets/base",
          "model_name": "LayoutModel",
          "model_module_version": "1.2.0",
          "state": {
            "_model_module": "@jupyter-widgets/base",
            "_model_module_version": "1.2.0",
            "_model_name": "LayoutModel",
            "_view_count": null,
            "_view_module": "@jupyter-widgets/base",
            "_view_module_version": "1.2.0",
            "_view_name": "LayoutView",
            "align_content": null,
            "align_items": null,
            "align_self": null,
            "border": null,
            "bottom": null,
            "display": null,
            "flex": null,
            "flex_flow": null,
            "grid_area": null,
            "grid_auto_columns": null,
            "grid_auto_flow": null,
            "grid_auto_rows": null,
            "grid_column": null,
            "grid_gap": null,
            "grid_row": null,
            "grid_template_areas": null,
            "grid_template_columns": null,
            "grid_template_rows": null,
            "height": null,
            "justify_content": null,
            "justify_items": null,
            "left": null,
            "margin": null,
            "max_height": null,
            "max_width": null,
            "min_height": null,
            "min_width": null,
            "object_fit": null,
            "object_position": null,
            "order": null,
            "overflow": null,
            "overflow_x": null,
            "overflow_y": null,
            "padding": null,
            "right": null,
            "top": null,
            "visibility": null,
            "width": null
          }
        },
        "16b3988e33e04023aa79d8cc5499137e": {
          "model_module": "@jupyter-widgets/controls",
          "model_name": "DescriptionStyleModel",
          "model_module_version": "1.5.0",
          "state": {
            "_model_module": "@jupyter-widgets/controls",
            "_model_module_version": "1.5.0",
            "_model_name": "DescriptionStyleModel",
            "_view_count": null,
            "_view_module": "@jupyter-widgets/base",
            "_view_module_version": "1.2.0",
            "_view_name": "StyleView",
            "description_width": ""
          }
        }
      }
    }
  },
  "cells": [
    {
      "cell_type": "markdown",
      "metadata": {
        "id": "NA1jh8NDbTSz"
      },
      "source": [
        "# Assignment 1"
      ]
    },
    {
      "cell_type": "markdown",
      "metadata": {
        "id": "onzQnZoFbTS0"
      },
      "source": [
        "# Density estimation using Real NVP\n",
        "\n",
        "Normalizing flows is the class of probabilistic models that provides flexible parametrical probabilistic models, where the probability density function can be computed exactly. In the assignment, we will consider a real-valued non-volume preserving normalizing flows (Real NVP) -- a special case of normalizing flow.\n",
        "\n",
        "#### Problem setting\n",
        "\n",
        "Our goal is to train a generative network $g_\\theta:  Z \\rightarrow X, g = f^{-1}$ that maps latent variable $z \\sim p(z)$ to a sample $x \\sim p(x)$. Where $p(z)$ is a prior distibiution and $p(x)$ is a data distibution. An illustrative example is provided below.\n",
        "\n",
        "![alt text](https://raw.githubusercontent.com/senya-ashukha/senya-ashukha.github.io/f4ed2d6ac83954b1358168dc98be3f17b6f2abbb/assignments/normalizing-flows/2d-example.png)\n",
        "\n",
        "#### Change of variable formula\n",
        "\n",
        "Given an observed data variable $x \\in X$,\n",
        "a simple prior probability distribution $p_{Z}$ on a latent variable $z \\in Z$,\n",
        "and a bijection $f: X \\rightarrow Z$ (with $g = f^{-1}$),\n",
        "the change of variable formula defines a model distribution of $X$ by\n",
        "<!-- \\begin{align}\n",
        "p_{X}(x) &= p_{Z}\\big(f(x)\\big) \\left|\\det\\left(\\cfrac{\\partial f(x)}{\\partial x^T} \\right)\\right|\n",
        "\\label{eq:change-variables}\\\\\n",
        "\\log\\left(p_{X}(x)\\right) &= \\log\\Big(p_{Z}\\big(f(x)\\big)\\Big) + \\log\\left(\\left|\\det\\left(\\frac{\\partial f(x)}{\\partial x^T}\\right)\\right|\\right)\n",
        ",\n",
        "\\end{align} -->\n",
        "\n",
        "![alt text](https://raw.githubusercontent.com/senya-ashukha/senya-ashukha.github.io/f4ed2d6ac83954b1358168dc98be3f17b6f2abbb/assignments/normalizing-flows/f.png)\n",
        "where $\\frac{\\partial f(x)}{\\partial x^T}$ is the Jacobian of $f$ at $x$.\n",
        "\n",
        "Exact samples from the resulting distribution can be generated by using the inverse transform sampling rule. A sample $z \\sim p_{Z}$ is drawn in the latent space, and its inverse image $x = f^{-1}(z) = g(z)$ generates a sample in the original space. Computing the density at a point $x$ is accomplished by computing the density of its image $f(x)$ and multiplying by the associated Jacobian determinant $\\det\\left(\\frac{\\partial f(x)}{\\partial x^T}\\right)$.\n",
        "\n",
        "#### Real NVP\n",
        "\n",
        "Real NVP presents a class of functions where $\\log\\left(\\left|\\det\\left(\\frac{\\partial f(x)}{\\partial x^T}\\right)\\right|\\right)$ can be computed efficiently (see, 3.3 Properties, https://arxiv.org/abs/1605.08803). Every layer of Real NVP is a coupling layer followed by permutation layer. Combination of coupling and permutation layers can be implemented as a masked version of the coupling layer:\n",
        "## $$y = b \\odot x + (1 - b) \\odot \\Big(x \\odot \\exp\\big(s(b \\odot x)\\big) + t(b \\odot x)\\Big)$$\n",
        "\n",
        "where $s$ and $t$ stand for scale and translation, and are functions from $R^{D} \\mapsto R^{D}$, and $\\odot$ is the Hadamard product or element-wise product, $b$ is a binary mask. For more details on the model see the paper Density estimation using Real NVP https://arxiv.org/abs/1605.08803.\n",
        "\n",
        "# In this assignment:\n",
        "1. Implementation of Real NVP\n",
        "2. Training Real NVP on moons dataset\n",
        "3. Visualization of the generative model\n",
        "4. Optional Research Assignment\n",
        "\n",
        "Additional information:\n",
        "- You will need the following python packages: PyTorch, Numpy, sklearn, matplotlib.\n",
        "- If you have an urgent question or find a typo or a mistake, send it to ars.ashuha@gmail.com. The title should include \"BDL Assignment 2 2018\".\n",
        "- A submission policy will be released later."
      ]
    },
    {
      "cell_type": "markdown",
      "metadata": {
        "id": "NgMBEYdwbTS2"
      },
      "source": [
        "# Implementation of Real NVP"
      ]
    },
    {
      "cell_type": "code",
      "metadata": {
        "id": "loxXeNy9bTS3"
      },
      "source": [
        "import numpy as np\n",
        "from functools import partial\n",
        "from sklearn import datasets\n",
        "from tqdm.auto import trange\n",
        "\n",
        "import torch\n",
        "from torch import nn\n",
        "from torch.nn.parameter import Parameter\n",
        "from torch.distributions import MultivariateNormal\n",
        "\n",
        "\n",
        "import matplotlib.pyplot as plt\n",
        "%matplotlib inline\n",
        "from pylab import rcParams\n",
        "rcParams['figure.figsize'] = 10, 8\n",
        "rcParams['figure.dpi'] = 300\n",
        "\n",
        "device = torch.device(\"cuda\" if torch.cuda.is_available() else \"cpu\")"
      ],
      "execution_count": 1,
      "outputs": []
    },
    {
      "cell_type": "code",
      "metadata": {
        "id": "GpyZ5AqObTS7"
      },
      "source": [
        "class RealNVP(nn.Module):\n",
        "    def __init__(self, nets, nett, mask, prior):\n",
        "        super(RealNVP, self).__init__()\n",
        "        \n",
        "        # Create a flow\n",
        "        # nets:  a function that returns a PyTorch neural network, e.g., nn.Sequential, s = nets(), s: dim(X) -> dim(X)\n",
        "        # nett:  a function that returns a PyTorch neural network, e.g., nn.Sequential, t = nett(), t: dim(X) -> dim(X)\n",
        "        # mask:  a torch.Tensor of size #number_of_coupling_layers x #dim(X)\n",
        "        # prior: an object from torch.distributions e.g., torch.distributions.MultivariateNormal\n",
        "        \n",
        "        self.prior = prior\n",
        "        self.mask = nn.Parameter(mask, requires_grad=False)\n",
        "        self.t = torch.nn.ModuleList([nett() for _ in range(len(mask))])\n",
        "        self.s = torch.nn.ModuleList([nets() for _ in range(len(mask))])\n",
        "        \n",
        "    def g(self, z):\n",
        "        # Compute and return g(z) = x, \n",
        "        #    where self.mask[i], self.t[i], self.s[i] define a i-th masked coupling layer   \n",
        "        # z: a torch.Tensor of shape batchSize x 1 x dim(X)\n",
        "        # return x: a torch.Tensor of shape batchSize x 1 x dim(X)\n",
        "        x = z\n",
        "        for s, t, mask in zip(reversed(self.s), reversed(self.t), reversed(self.mask)):\n",
        "            x_ = mask * x\n",
        "            s_, t_ = s(x_), t(x_)\n",
        "            x = x_ + (1 - mask) * torch.exp(-s_) * (x - t_)\n",
        "        return x\n",
        "\n",
        "    def f(self, x):\n",
        "        # Compute f(x) = z and log_det_Jakobian of f, \n",
        "        #    where self.mask[i], self.t[i], self.s[i] define a i-th masked coupling layer   \n",
        "        # x: a torch.Tensor, of shape batchSize x dim(X), is a datapoint\n",
        "        # return z: a torch.Tensor of shape batchSize x dim(X), a hidden representations\n",
        "        # return log_det_J: a torch.Tensor of len batchSize\n",
        "        z = x\n",
        "        log_det = 0.\n",
        "        for s, t, mask in zip(self.s, self.t, self.mask):\n",
        "            x_ = mask * z\n",
        "            s_, t_ = s(x_), t(x_)\n",
        "            z = x_ + (1 - mask) * (z * torch.exp(s_) + t_)\n",
        "            log_det += torch.sum((1 - mask) * s_, dim=1)\n",
        "        return z, log_det\n",
        "    \n",
        "    def log_prob(self, x):\n",
        "        # Compute and return log p(x)\n",
        "        # using the change of variable formula and log_det_J computed by f\n",
        "        # return logp: torch.Tensor of len batchSize\n",
        "        z, log_det = self.f(x)\n",
        "        logp = self.prior.log_prob(z) + log_det\n",
        "        return logp\n",
        "\n",
        "    def fit(self, batch_size=100, steps=5001, lr=1e-3):\n",
        "        optimizer = torch.optim.Adam(self.parameters(), lr=lr)\n",
        "\n",
        "        for step in trange(steps, desc='Tranning'):    \n",
        "            noisy_moons = datasets.make_moons(n_samples=batch_size, noise=.05)\n",
        "            batch = torch.tensor(\n",
        "                noisy_moons[0],\n",
        "                dtype=torch.float32,\n",
        "                device=device\n",
        "            )\n",
        "            loss = -self.log_prob(batch).mean() # compute the maximum-likelihood loss\n",
        "\n",
        "            optimizer.zero_grad()\n",
        "            loss.backward()\n",
        "            optimizer.step()\n",
        "            \n",
        "            if step % 500 == 0:\n",
        "                print('iter %s:' % step, 'loss = %.3f' % loss)\n",
        "\n",
        "    @torch.no_grad()\n",
        "    def visualization(self, n_samples=1000):\n",
        "        noisy_moons = datasets.make_moons(n_samples=n_samples, noise=.05)[0]\n",
        "        batch = torch.tensor(\n",
        "              noisy_moons,\n",
        "              dtype=torch.float32,\n",
        "              device=device\n",
        "          )\n",
        "        z = self.f(batch)[0].cpu().numpy()\n",
        "\n",
        "        plt.figure(figsize=(10, 10))\n",
        "        plt.subplot(221)\n",
        "        plt.scatter(z[:, 0], z[:, 1])\n",
        "        plt.title(r'$z = f(X)$')\n",
        "\n",
        "        z = self.prior.sample((n_samples,)).cpu().numpy()\n",
        "        plt.subplot(222)\n",
        "        plt.scatter(z[:, 0], z[:, 1])\n",
        "        plt.title(r'$z \\sim p(z)$')\n",
        "\n",
        "        plt.subplot(223)\n",
        "        plt.scatter(noisy_moons[:, 0], noisy_moons[:, 1], c='r')\n",
        "        plt.title(r'$X \\sim p(X)$')\n",
        "\n",
        "        plt.subplot(224)\n",
        "        x = self.sample(n_samples)\n",
        "        plt.scatter(x[:, 0, 0], x[:, 0, 1], c='r')\n",
        "        plt.title(r'$X = g(z)$')\n",
        "        plt.show()\n",
        "    \n",
        "    @torch.no_grad()\n",
        "    def sample(self, batchSize): \n",
        "        # Draw and return batchSize samples from flow using implementation of g\n",
        "        # return x: torch.Tensor of shape batchSize x 1 x dim(X)\n",
        "        z = self.prior.sample((batchSize,)).unsqueeze(dim=1)\n",
        "        x = self.g(z)\n",
        "        return x.cpu().numpy()"
      ],
      "execution_count": 37,
      "outputs": []
    },
    {
      "cell_type": "code",
      "source": [
        "def get_net(x_dim=2, hidden_dim=256, n_layers=3, last_activation='none'):\n",
        "    layers = [nn.Linear(x_dim, hidden_dim), nn.ReLU()]\n",
        "    for _ in range(n_layers-2):\n",
        "        layers.extend([nn.Linear(hidden_dim, hidden_dim), nn.ReLU()])\n",
        "    \n",
        "    layers.append(nn.Linear(hidden_dim, x_dim))\n",
        "    \n",
        "    if last_activation == 'tanh':\n",
        "        layers.append(nn.Tanh())\n",
        "    elif last_activation == 'relu':\n",
        "        layers.append(nn.ReLu())\n",
        "\n",
        "    return nn.Sequential(*layers)"
      ],
      "metadata": {
        "id": "Q2ZikQ7im4Ga"
      },
      "execution_count": 3,
      "outputs": []
    },
    {
      "cell_type": "code",
      "source": [
        "def get_masks(number_of_coupling_layers=6):\n",
        "    masks = [[i % 2, (i + 1) % 2] for i in range(number_of_coupling_layers)]\n",
        "    return torch.tensor(masks, dtype=torch.float32)"
      ],
      "metadata": {
        "id": "6NhEmpwooV37"
      },
      "execution_count": 5,
      "outputs": []
    },
    {
      "cell_type": "markdown",
      "source": [
        "Basic solution"
      ],
      "metadata": {
        "id": "YOgqsrOSnMQ-"
      }
    },
    {
      "cell_type": "code",
      "metadata": {
        "id": "Qy_HOwQzbTS9",
        "outputId": "db9712de-2307-4dc6-dff7-fdcee8363baf",
        "colab": {
          "base_uri": "https://localhost:8080/"
        }
      },
      "source": [
        "x_dim = 2\n",
        "hidden_dim = 256\n",
        "n_layers = 3\n",
        "s_last_activation = 'tanh'\n",
        "t_last_activation = 'none'\n",
        "\n",
        "# a function that take no arguments and return a pytorch model, dim(X) -> dim(X)\n",
        "nets = partial(\n",
        "    get_net, x_dim=x_dim, hidden_dim=hidden_dim,\n",
        "    n_layers=n_layers, last_activation=s_last_activation\n",
        ")\n",
        "# a function that take no arguments and return a pytorch model, dim(X) -> dim(X)\n",
        "nett = partial(\n",
        "    get_net, x_dim=x_dim, hidden_dim=hidden_dim,\n",
        "    n_layers=n_layers, last_activation=t_last_activation\n",
        ")\n",
        "\n",
        "# Check nets and nett are working i.e., computing without errors\n",
        "# Check that resulting dimensions s and t are the same and equal dim(X)\n",
        "# ❗️ Very important to make outputs of nets bounded due to exp (e.g. use nn.Tanh() as the last layer)\n",
        "# ❗️ Don't be afraid to go too large, 3-4 not very small linear layers should work fine\n",
        "# ❗️ Init of parameters matters, try different ones\n",
        "batch_size = 5\n",
        "batch = torch.randn((batch_size, x_dim))\n",
        "s = nets()\n",
        "t = nett()\n",
        "\n",
        "print('in shape:', batch.shape, 's out shape', s(batch).shape)\n",
        "print('in shape:', batch.shape, 't out shape', t(batch).shape)"
      ],
      "execution_count": 4,
      "outputs": [
        {
          "output_type": "stream",
          "name": "stdout",
          "text": [
            "in shape: torch.Size([5, 2]) s out shape torch.Size([5, 2])\n",
            "in shape: torch.Size([5, 2]) t out shape torch.Size([5, 2])\n"
          ]
        }
      ]
    },
    {
      "cell_type": "code",
      "metadata": {
        "id": "ckUHr3ZTbTTA",
        "colab": {
          "base_uri": "https://localhost:8080/"
        },
        "outputId": "21a5bba7-41aa-4c63-bbc7-e2b439aa8e82"
      },
      "source": [
        "# torch.Tensor of size #number_of_coupling_layers x #dim(X)\n",
        "# number_of_coupling_layers like 6+ should works fine\n",
        "# Check that when dim(X) == 2, the mask for every layer has just one 1.0 and one 0.0 elements.\n",
        "number_of_coupling_layers = 6\n",
        "masks = get_masks(number_of_coupling_layers=number_of_coupling_layers)\n",
        "print(f'true masks shape {(number_of_coupling_layers, x_dim)}')\n",
        "print(f'masks shape {masks.shape}')"
      ],
      "execution_count": 6,
      "outputs": [
        {
          "output_type": "stream",
          "name": "stdout",
          "text": [
            "true masks shape (6, 2)\n",
            "masks shape torch.Size([6, 2])\n"
          ]
        }
      ]
    },
    {
      "cell_type": "code",
      "metadata": {
        "id": "Ov8AduZnbTTC",
        "colab": {
          "base_uri": "https://localhost:8080/"
        },
        "outputId": "62b12fb5-020f-43e1-8078-4ebea47a2274"
      },
      "source": [
        "x_dim = 2\n",
        "prior = MultivariateNormal(torch.zeros(x_dim, device=device), torch.eye(x_dim, device=device))\n",
        "# Check that prior has log_prob and sample methods\n",
        "n_samples = 5\n",
        "samples = prior.sample((n_samples,))\n",
        "log_p = prior.log_prob(samples)\n",
        "print('samples shape', samples.shape)\n",
        "print('samples log prob', log_p.cpu().numpy())"
      ],
      "execution_count": 7,
      "outputs": [
        {
          "output_type": "stream",
          "name": "stdout",
          "text": [
            "samples shape torch.Size([5, 2])\n",
            "samples log prob [-2.1889951 -3.1536899 -2.1039255 -2.5545425 -2.055214 ]\n"
          ]
        }
      ]
    },
    {
      "cell_type": "code",
      "metadata": {
        "id": "J6YPmM_3bTTE",
        "outputId": "14e2bd8c-5b18-4218-87cf-0112381cb6a9",
        "colab": {
          "base_uri": "https://localhost:8080/"
        }
      },
      "source": [
        "flow = RealNVP(nets, nett, masks, prior).to(device)\n",
        "# Check that a flow is reversible g(f(x)) = x\n",
        "# With a big chance you have some errors in RealNVP.log_prob, think hard on it.\n",
        "batch_size = 5\n",
        "x = prior.sample((batch_size,))\n",
        "z, _ = flow.f(x)\n",
        "inverse_x = flow.g(z)\n",
        "print('Is flow reversible g(f(x)) = x?', torch.isclose(x, inverse_x).all().item())\n",
        "print('flow log prob:', flow.log_prob(x).detach().cpu().numpy())\n",
        "# не равны, так как модель не обучена под распределение x\n",
        "print('prior log prob:', prior.log_prob(x).cpu().numpy())"
      ],
      "execution_count": 8,
      "outputs": [
        {
          "output_type": "stream",
          "name": "stdout",
          "text": [
            "Is flow reversible g(f(x)) = x? True\n",
            "flow log prob: [-2.3637075 -3.6091352 -2.1783893 -2.1012743 -1.8343948]\n",
            "prior log prob: [-2.2450094 -3.0957112 -2.3481045 -2.3332086 -2.0061026]\n"
          ]
        }
      ]
    },
    {
      "cell_type": "code",
      "metadata": {
        "id": "vb80JOSSbTTG",
        "outputId": "07de2e14-2834-46d3-b86a-52aa107fe138",
        "colab": {
          "base_uri": "https://localhost:8080/"
        }
      },
      "source": [
        "trainable_parameters = flow.parameters\n",
        "optimizer = torch.optim.Adam(trainable_parameters(), lr = 1e-3)\n",
        "\n",
        "for t in range(5001):    \n",
        "    noisy_moons = datasets.make_moons(n_samples=100, noise=.05)\n",
        "    batch = torch.tensor(\n",
        "        noisy_moons[0],\n",
        "        dtype=torch.float32,\n",
        "        device=device\n",
        "    )\n",
        "    loss = -flow.log_prob(batch).mean() # compute the maximum-likelihood loss\n",
        "\n",
        "    optimizer.zero_grad()\n",
        "    loss.backward()\n",
        "    optimizer.step()\n",
        "    \n",
        "    if t % 500 == 0:\n",
        "        print('iter %s:' % t, 'loss = %.3f' % loss)\n",
        "        \n",
        "# Check that the loss decreases\n",
        "# Is the visualization below good?"
      ],
      "execution_count": 9,
      "outputs": [
        {
          "output_type": "stream",
          "name": "stdout",
          "text": [
            "iter 0: loss = 2.434\n",
            "iter 500: loss = 0.589\n",
            "iter 1000: loss = 0.373\n",
            "iter 1500: loss = 0.588\n",
            "iter 2000: loss = 0.438\n",
            "iter 2500: loss = 0.484\n",
            "iter 3000: loss = 0.346\n",
            "iter 3500: loss = 0.434\n",
            "iter 4000: loss = 0.545\n",
            "iter 4500: loss = 0.318\n",
            "iter 5000: loss = 0.396\n"
          ]
        }
      ]
    },
    {
      "cell_type": "markdown",
      "metadata": {
        "id": "6hOxCpXYbTTJ"
      },
      "source": [
        "**Visualization**"
      ]
    },
    {
      "cell_type": "markdown",
      "metadata": {
        "id": "Gz5YG8FNbTTN"
      },
      "source": [
        "Draw several plots: \n",
        "- samples from flow\n",
        "- samples from prior\n",
        "- data samples\n",
        "- mapping form data to prior\n",
        "\n",
        "The goal is to obtain figure similar to https://arxiv.org/abs/1605.08803"
      ]
    },
    {
      "cell_type": "code",
      "metadata": {
        "id": "qbhwTtHjpHC9",
        "outputId": "0c9885f3-3632-42d6-8d2b-3161f014b5fd",
        "colab": {
          "base_uri": "https://localhost:8080/",
          "height": 300
        }
      },
      "source": [
        "noisy_moons = datasets.make_moons(n_samples=1000, noise=.05)\n",
        "batch = torch.tensor(\n",
        "      noisy_moons[0],\n",
        "      dtype=torch.float32,\n",
        "      device=device\n",
        "  )\n",
        "z = flow.f(batch)[0].detach().cpu().numpy()\n",
        "plt.subplot(221)\n",
        "plt.scatter(z[:, 0], z[:, 1])\n",
        "plt.title(r'$z = f(X)$')\n",
        "\n",
        "z = np.random.multivariate_normal(np.zeros(2), np.eye(2), 1000)\n",
        "plt.subplot(222)\n",
        "plt.scatter(z[:, 0], z[:, 1])\n",
        "plt.title(r'$z \\sim p(z)$')\n",
        "\n",
        "plt.subplot(223)\n",
        "x = datasets.make_moons(n_samples=1000, noise=.05)[0].astype(np.float32)\n",
        "plt.scatter(x[:, 0], x[:, 1], c='r')\n",
        "plt.title(r'$X \\sim p(X)$')\n",
        "\n",
        "plt.subplot(224)\n",
        "x = flow.sample(1000)\n",
        "plt.scatter(x[:, 0, 0], x[:, 0, 1], c='r')\n",
        "plt.title(r'$X = g(z)$')"
      ],
      "execution_count": 10,
      "outputs": [
        {
          "output_type": "execute_result",
          "data": {
            "text/plain": [
              "Text(0.5, 1.0, '$X = g(z)$')"
            ]
          },
          "metadata": {},
          "execution_count": 10
        },
        {
          "output_type": "display_data",
          "data": {
            "text/plain": [
              "<Figure size 432x288 with 4 Axes>"
            ],
            "image/png": "[encoded data removed]"
          },
          "metadata": {
            "needs_background": "light"
          }
        }
      ]
    },
    {
      "cell_type": "markdown",
      "metadata": {
        "id": "atnq5yzPbTTN"
      },
      "source": [
        "## Provide answers for the folowing questions:"
      ]
    },
    {
      "cell_type": "code",
      "source": [
        "def get_flow_model(\n",
        "    x_dim=2, hidden_dim=256, n_layers=3, \n",
        "    s_last_activation='tanh', t_last_activation='none',\n",
        "    number_of_coupling_layers=6, device=device):\n",
        "\n",
        "    nets = partial(\n",
        "        get_net, x_dim=x_dim, hidden_dim=hidden_dim,\n",
        "        n_layers=n_layers, last_activation=s_last_activation\n",
        "    )\n",
        "    nett = partial(\n",
        "        get_net, x_dim=x_dim, hidden_dim=hidden_dim,\n",
        "        n_layers=n_layers, last_activation=t_last_activation\n",
        "    )\n",
        "\n",
        "    masks = get_masks(number_of_coupling_layers=number_of_coupling_layers)\n",
        "    prior = MultivariateNormal(torch.zeros(x_dim, device=device), torch.eye(x_dim, device=device))\n",
        "\n",
        "    return RealNVP(nets, nett, masks, prior).to(device)"
      ],
      "metadata": {
        "id": "tOIUQOZDTdKq"
      },
      "execution_count": 38,
      "outputs": []
    },
    {
      "cell_type": "code",
      "source": [
        "args = {}\n",
        "train_args = {}\n",
        "def clear():\n",
        "    global args, train_args\n",
        "    #изначальные параметры\n",
        "    args = {\n",
        "        'x_dim': 2,\n",
        "        'hidden_dim': 256,\n",
        "        'n_layers': 3,\n",
        "        's_last_activation': 'tanh',\n",
        "        't_last_activation': 'none',\n",
        "        'number_of_coupling_layers': 6,\n",
        "        'device': torch.device(\"cuda\" if torch.cuda.is_available() else \"cpu\")\n",
        "    }\n",
        "\n",
        "    train_args = {\n",
        "        'batch_size': 100,\n",
        "        'steps': 5001,\n",
        "        'lr': 1e-3\n",
        "    }"
      ],
      "metadata": {
        "id": "c4vHLTGbiCmT"
      },
      "execution_count": 29,
      "outputs": []
    },
    {
      "cell_type": "code",
      "source": [
        "flow = get_flow_model(**args)\n",
        "flow.fit(**train_args)\n",
        "flow.visualization(n_samples=1000)"
      ],
      "metadata": {
        "colab": {
          "base_uri": "https://localhost:8080/",
          "height": 828,
          "referenced_widgets": [
            "8b37ca0e65bd4d3eab543e496c5d0ff3",
            "0c91777d7e7445bfaea8355bf3f191ec",
            "ba40ea7a19d849dcb557fe7826d332ae",
            "0a9121b814214d78950ff01295c95e5f",
            "c97d6ab782034759a2a4e6372adc340a",
            "a8418812dddd4e41bb2bf102bb9f3b73",
            "3343d599bd2242d9b6af3471e305d0b4",
            "7517fafa5c894d5f88fcc297188fcb24",
            "9a3ce068bbdf42a2b58f622a0d0f7147",
            "27ec92385744414c9735bccbd40532c7",
            "5d6af822422b47d9846de6351200e44d"
          ]
        },
        "id": "ilmIG26eVyrA",
        "outputId": "f7a8bf10-c77c-4ad8-bf33-d0a8214330ee"
      },
      "execution_count": 13,
      "outputs": [
        {
          "output_type": "display_data",
          "data": {
            "text/plain": [
              "Tranning:   0%|          | 0/5001 [00:00<?, ?it/s]"
            ],
            "application/vnd.jupyter.widget-view+json": {
              "version_major": 2,
              "version_minor": 0,
              "model_id": "8b37ca0e65bd4d3eab543e496c5d0ff3"
            }
          },
          "metadata": {}
        },
        {
          "output_type": "stream",
          "name": "stdout",
          "text": [
            "iter 0: loss = 2.316\n",
            "iter 500: loss = 0.555\n",
            "iter 1000: loss = 0.516\n",
            "iter 1500: loss = 0.617\n",
            "iter 2000: loss = 0.532\n",
            "iter 2500: loss = 0.489\n",
            "iter 3000: loss = 0.599\n",
            "iter 3500: loss = 0.517\n",
            "iter 4000: loss = 0.569\n",
            "iter 4500: loss = 0.508\n",
            "iter 5000: loss = 0.457\n"
          ]
        },
        {
          "output_type": "display_data",
          "data": {
            "text/plain": [
              "<Figure size 720x720 with 4 Axes>"
            ],
            "image/png": "[encoded data removed]"
          },
          "metadata": {
            "needs_background": "light"
          }
        }
      ]
    },
    {
      "cell_type": "code",
      "source": [
        "# увеличим количество слоев\n",
        "clear()\n",
        "args['n_layers'] = 5\n",
        "\n",
        "flow = get_flow_model(**args)\n",
        "flow.fit(**train_args)\n",
        "flow.visualization(n_samples=1000)"
      ],
      "metadata": {
        "colab": {
          "base_uri": "https://localhost:8080/",
          "height": 828,
          "referenced_widgets": [
            "0f99b250e9dd4ac7863507559c2007d9",
            "4c637520663f44f59ebc13290c278c53",
            "4398a9b93f9a42e7bf1343a88bb32f76",
            "0fbd2beeed5a44bdacd0668f58a2c80f",
            "771cea6d40264536b2062748694dbdc0",
            "85bd11c1ee8247c8bb39857ceda60e8b",
            "e85189497a11451994f06c44ab242286",
            "415823d49aa540d09450c1fd80c068c4",
            "1dcd2754e5f74e50ba0d245d662b3187",
            "4c9ed0273b99453b9431da935a637c5b",
            "6ab919d9b2784065a225e88bf2d39365"
          ]
        },
        "id": "x42tMWD_QepW",
        "outputId": "ac80ba96-5acb-41b4-9e9f-137da0d9abbe"
      },
      "execution_count": 41,
      "outputs": [
        {
          "output_type": "display_data",
          "data": {
            "text/plain": [
              "Tranning:   0%|          | 0/5001 [00:00<?, ?it/s]"
            ],
            "application/vnd.jupyter.widget-view+json": {
              "version_major": 2,
              "version_minor": 0,
              "model_id": "0f99b250e9dd4ac7863507559c2007d9"
            }
          },
          "metadata": {}
        },
        {
          "output_type": "stream",
          "name": "stdout",
          "text": [
            "iter 0: loss = 2.517\n",
            "iter 500: loss = 0.523\n",
            "iter 1000: loss = 0.497\n",
            "iter 1500: loss = 0.341\n",
            "iter 2000: loss = 0.411\n",
            "iter 2500: loss = 0.612\n",
            "iter 3000: loss = 0.616\n",
            "iter 3500: loss = 0.339\n",
            "iter 4000: loss = 0.338\n",
            "iter 4500: loss = 0.386\n",
            "iter 5000: loss = 0.506\n"
          ]
        },
        {
          "output_type": "display_data",
          "data": {
            "text/plain": [
              "<Figure size 720x720 with 4 Axes>"
            ],
            "image/png": "[encoded data removed]"
          },
          "metadata": {
            "needs_background": "light"
          }
        }
      ]
    },
    {
      "cell_type": "code",
      "source": [
        "# уменьшим количество масок \n",
        "clear()\n",
        "args['number_of_coupling_layers'] = 3\n",
        "\n",
        "flow = get_flow_model(**args)\n",
        "flow.fit(**train_args)\n",
        "flow.visualization(n_samples=1000)"
      ],
      "metadata": {
        "id": "nd8z7CDbjVUq",
        "outputId": "1db8f3cb-240e-490e-a777-06a8e9d461e0",
        "colab": {
          "base_uri": "https://localhost:8080/",
          "height": 828,
          "referenced_widgets": [
            "7d8b921181e149489c30e37ab48c0647",
            "82b5bf24b5384531bbd0085db168f560",
            "c074f0bc347f4aa4966475ca5566b3d5",
            "9f56e5eb814b4c7ab7b840a50b1e3c91",
            "aece2cf4c78048898e4a7bc0e4ad0564",
            "220ef064e8e7497aa06bd59ac1d4de5f",
            "116ed5ada43e4fa79334dc9c22deb756",
            "7b3d93468db44764945e29d771d13a38",
            "be2ef000787441c795e8b820cdf8365e",
            "b0f02df59b474e47bf39a79a97b5b5c7",
            "46627e9ed6da4674af2379bed35232da"
          ]
        }
      },
      "execution_count": 39,
      "outputs": [
        {
          "output_type": "display_data",
          "data": {
            "text/plain": [
              "Tranning:   0%|          | 0/5001 [00:00<?, ?it/s]"
            ],
            "application/vnd.jupyter.widget-view+json": {
              "version_major": 2,
              "version_minor": 0,
              "model_id": "7d8b921181e149489c30e37ab48c0647"
            }
          },
          "metadata": {}
        },
        {
          "output_type": "stream",
          "name": "stdout",
          "text": [
            "iter 0: loss = 2.615\n",
            "iter 500: loss = 0.861\n",
            "iter 1000: loss = 0.867\n",
            "iter 1500: loss = 0.681\n",
            "iter 2000: loss = 0.751\n",
            "iter 2500: loss = 0.635\n",
            "iter 3000: loss = 0.733\n",
            "iter 3500: loss = 0.918\n",
            "iter 4000: loss = 0.736\n",
            "iter 4500: loss = 0.797\n",
            "iter 5000: loss = 0.744\n"
          ]
        },
        {
          "output_type": "display_data",
          "data": {
            "text/plain": [
              "<Figure size 720x720 with 4 Axes>"
            ],
            "image/png": "[encoded data removed]"
          },
          "metadata": {
            "needs_background": "light"
          }
        }
      ]
    },
    {
      "cell_type": "code",
      "source": [
        "# увеличим количество масок \n",
        "clear()\n",
        "args['number_of_coupling_layers'] = 9\n",
        "\n",
        "flow = get_flow_model(**args)\n",
        "flow.fit(**train_args)\n",
        "flow.visualization(n_samples=1000)"
      ],
      "metadata": {
        "colab": {
          "base_uri": "https://localhost:8080/",
          "height": 828,
          "referenced_widgets": [
            "f4f9f53e167942f8bf1e06732be79822",
            "75150b7ee0354b9fb474042b142ef608",
            "79079765150243ba924b9326d355aca0",
            "eafed771d1d14dbfb3716ca02d6a8919",
            "fbdee1a7106a43be8189362bd09d3f56",
            "063251f05fa74ee494f6288b706c7081",
            "57daa34b6cb44d47ad03c1eda26eb888",
            "7dfc7784aeee4fe2b00a07f9a58c97b2",
            "037fb973f4d04af39e36f53269bc0a22",
            "dd740ec2350f4c8db56ecf6aab407a0d",
            "da6d99f802d14b8b9d38702fd18d31b2"
          ]
        },
        "id": "xZsJDHYRUilC",
        "outputId": "854d99b1-cb03-4dcd-af51-813b5b0f6fcb"
      },
      "execution_count": 40,
      "outputs": [
        {
          "output_type": "display_data",
          "data": {
            "text/plain": [
              "Tranning:   0%|          | 0/5001 [00:00<?, ?it/s]"
            ],
            "application/vnd.jupyter.widget-view+json": {
              "version_major": 2,
              "version_minor": 0,
              "model_id": "f4f9f53e167942f8bf1e06732be79822"
            }
          },
          "metadata": {}
        },
        {
          "output_type": "stream",
          "name": "stdout",
          "text": [
            "iter 0: loss = 2.438\n",
            "iter 500: loss = 0.419\n",
            "iter 1000: loss = 0.601\n",
            "iter 1500: loss = 0.421\n",
            "iter 2000: loss = 0.570\n",
            "iter 2500: loss = 0.392\n",
            "iter 3000: loss = 0.428\n",
            "iter 3500: loss = 0.479\n",
            "iter 4000: loss = 0.446\n",
            "iter 4500: loss = 0.322\n",
            "iter 5000: loss = 0.429\n"
          ]
        },
        {
          "output_type": "display_data",
          "data": {
            "text/plain": [
              "<Figure size 720x720 with 4 Axes>"
            ],
            "image/png": "[encoded data removed]"
          },
          "metadata": {
            "needs_background": "light"
          }
        }
      ]
    },
    {
      "cell_type": "code",
      "source": [
        "# попробуем убрать тангенс\n",
        "clear()\n",
        "args['s_last_activation'] = 'none'\n",
        "\n",
        "flow = get_flow_model(**args)\n",
        "flow.fit(**train_args)\n",
        "flow.visualization(n_samples=1000)"
      ],
      "metadata": {
        "colab": {
          "base_uri": "https://localhost:8080/",
          "height": 828,
          "referenced_widgets": [
            "9d71a3a6ea5c49bb995f4564338d800e",
            "4cd1277cbc0541f9968a13ff9533e8f5",
            "234e5f68b72e4360ae7a32ef6b0946e4",
            "efabbbd22c0342f79358c9702ebd0a82",
            "ae2cb8acb63148659f74fca8e2d8400a",
            "c8ec81efb8494e67b003770cce0561ff",
            "888c51668b7d41c5842101f36d236536",
            "1e7cc9723aba4036b1a1b0590a19bb41",
            "4765e1e2719c4b53a7ee4026ef4072ba",
            "039ec99d75fa4930815b2d1c1f70a291",
            "66b90924d51d4b4cba18aba0bfd73257"
          ]
        },
        "id": "prFDbwR_YJYz",
        "outputId": "55cd0dd3-476a-4f28-ab22-24ca3444b424"
      },
      "execution_count": 16,
      "outputs": [
        {
          "output_type": "display_data",
          "data": {
            "text/plain": [
              "Tranning:   0%|          | 0/5001 [00:00<?, ?it/s]"
            ],
            "application/vnd.jupyter.widget-view+json": {
              "version_major": 2,
              "version_minor": 0,
              "model_id": "9d71a3a6ea5c49bb995f4564338d800e"
            }
          },
          "metadata": {}
        },
        {
          "output_type": "stream",
          "name": "stdout",
          "text": [
            "iter 0: loss = 2.558\n",
            "iter 500: loss = 1.095\n",
            "iter 1000: loss = 0.825\n",
            "iter 1500: loss = 0.735\n",
            "iter 2000: loss = 0.639\n",
            "iter 2500: loss = 0.541\n",
            "iter 3000: loss = 0.510\n",
            "iter 3500: loss = 0.676\n",
            "iter 4000: loss = 0.428\n",
            "iter 4500: loss = 0.476\n",
            "iter 5000: loss = 0.531\n"
          ]
        },
        {
          "output_type": "display_data",
          "data": {
            "text/plain": [
              "<Figure size 720x720 with 4 Axes>"
            ],
            "image/png": "[encoded data removed]"
          },
          "metadata": {
            "needs_background": "light"
          }
        }
      ]
    },
    {
      "cell_type": "code",
      "source": [
        "#добавим ограничение на смещение\n",
        "clear()\n",
        "args['t_last_activation'] = 'tanh'\n",
        "\n",
        "\n",
        "flow = get_flow_model(**args)\n",
        "flow.fit(**train_args)\n",
        "flow.visualization(n_samples=1000)"
      ],
      "metadata": {
        "colab": {
          "base_uri": "https://localhost:8080/",
          "height": 828,
          "referenced_widgets": [
            "21e4f0b2a221451dbaf925731207a5f3",
            "2b858a3fb27a41faa8db65c437e980b6",
            "0d7b3122939342afa1c3b1011bdb7b14",
            "af3db03675dd46a2ab02c36a731a5cef",
            "40e194b7fa1e4975a5a81b86069b8a42",
            "57dc056a746c481096aa37bc104379f4",
            "365b4b556a924ab1bede5b4492b5a9a7",
            "b8a81309223849fba7e3cff122eb9c3b",
            "eae101de68464eb9a6d6854e1146451f",
            "4c90652dc3a74a0b8eef9a7d226da6af",
            "16b3988e33e04023aa79d8cc5499137e"
          ]
        },
        "id": "eHI8-80GaQYl",
        "outputId": "77d52f65-5ce2-4cb7-ca1d-7426554aedd6"
      },
      "execution_count": 18,
      "outputs": [
        {
          "output_type": "display_data",
          "data": {
            "text/plain": [
              "Tranning:   0%|          | 0/5001 [00:00<?, ?it/s]"
            ],
            "application/vnd.jupyter.widget-view+json": {
              "version_major": 2,
              "version_minor": 0,
              "model_id": "21e4f0b2a221451dbaf925731207a5f3"
            }
          },
          "metadata": {}
        },
        {
          "output_type": "stream",
          "name": "stdout",
          "text": [
            "iter 0: loss = 2.668\n",
            "iter 500: loss = 0.531\n",
            "iter 1000: loss = 0.508\n",
            "iter 1500: loss = 0.611\n",
            "iter 2000: loss = 0.480\n",
            "iter 2500: loss = 0.791\n",
            "iter 3000: loss = 0.409\n",
            "iter 3500: loss = 0.431\n",
            "iter 4000: loss = 0.455\n",
            "iter 4500: loss = 0.472\n",
            "iter 5000: loss = 0.505\n"
          ]
        },
        {
          "output_type": "display_data",
          "data": {
            "text/plain": [
              "<Figure size 720x720 with 4 Axes>"
            ],
            "image/png": "[encoded data removed]"
          },
          "metadata": {
            "needs_background": "light"
          }
        }
      ]
    },
    {
      "cell_type": "markdown",
      "metadata": {
        "id": "HcEgstlZbTTP"
      },
      "source": [
        "1. What architecture worked better in your experiments?\n",
        "\n",
        "Большое количество масок приводит к сложности восстановления распределения данных, что кажется логичным. Почему-то увелечение слоев в сети влияет на результат семплинга в худшую сторону, что для меня кажется странным результатом.\n",
        "\n",
        "Ограничение последних активаций в s и t приводит к лучшим визуальным результатм.\n",
        "\n",
        "Лоссы при любых параметрах ведут себя примерно одинаково."
      ]
    },
    {
      "cell_type": "markdown",
      "metadata": {
        "id": "E8Jg4GGgbTTQ"
      },
      "source": [
        "2. Did you find what is important for stable training (initializations, nonlinearities, ...)?\n",
        "\n",
        "Вверху было предупреждение, что в конце сети s должен быть тангенс, но если его убрать это не приводит к нестабильному обучению.\n",
        "\n",
        "Ограничение t и s приводит к лучшему визуальному результату"
      ]
    },
    {
      "cell_type": "markdown",
      "metadata": {
        "id": "LttbxRD1bTTQ"
      },
      "source": [
        "3. How convergence speed (in iterations) depends on the complexity of architecture?\n",
        "\n",
        "Если маленькое количество масок, то плохо сходится. Большое количество масок приводит к лучшей сходимости, но работает это медленнее.\n",
        "\n",
        "Аналогично с количеством слоев в сети. Большее количество приводит к лучшей сходимости."
      ]
    },
    {
      "cell_type": "markdown",
      "metadata": {
        "id": "nJZuZwn5bTTR"
      },
      "source": [
        "# Optional Research Assignments:"
      ]
    },
    {
      "cell_type": "markdown",
      "metadata": {
        "id": "fiQecpiKbTTS"
      },
      "source": [
        "This assignment is optional. It will give you up to 2 additional points for one of the assignments.   \n",
        "#### 1. VAE: \n",
        "Use normalizing flow to get more expressive $q(z\\,|\\,x)$,  https://arxiv.org/abs/1505.05770. TL;dr; use decoder to predict $z_0 \\sim q_0(z_0|x)$, then use NF to obtain $z_k = f_k \\circ \\dots \\circ f_1(z)$ sample from a more flexible distribution. Compare it with a conventional normal distribution, what is working better? Compare it with conventional VAE  that uses the same number of parameters as VAE with NF.\n",
        "\n",
        "#### 2. More complex data: \n",
        "Train NFs for a more complex dataset e.g. MNIST (downscale is possible), make samples look reasonable e.g., solid fraction of samples can be recognized as a valid digits. Worth to use Conv2d layers for s and t.\n"
      ]
    },
    {
      "cell_type": "code",
      "metadata": {
        "id": "S2y9MeyJbTTV"
      },
      "source": [
        ""
      ],
      "execution_count": null,
      "outputs": []
    }
  ]
}