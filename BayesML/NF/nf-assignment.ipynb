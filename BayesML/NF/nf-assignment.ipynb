{
  "nbformat": 4,
  "nbformat_minor": 0,
  "metadata": {
    "colab": {
      "name": "nf-assignment.ipynb",
      "provenance": [],
      "collapsed_sections": []
    },
    "kernelspec": {
      "display_name": "Python 3",
      "language": "python",
      "name": "python3"
    },
    "language_info": {
      "codemirror_mode": {
        "name": "ipython",
        "version": 3
      },
      "file_extension": ".py",
      "mimetype": "text/x-python",
      "name": "python",
      "nbconvert_exporter": "python",
      "pygments_lexer": "ipython3",
      "version": "3.7.3"
    },
    "accelerator": "GPU",
    "widgets": {
      "application/vnd.jupyter.widget-state+json": {
        "8b37ca0e65bd4d3eab543e496c5d0ff3": {
          "model_module": "@jupyter-widgets/controls",
          "model_name": "HBoxModel",
          "model_module_version": "1.5.0",
          "state": {
            "_dom_classes": [],
            "_model_module": "@jupyter-widgets/controls",
            "_model_module_version": "1.5.0",
            "_model_name": "HBoxModel",
            "_view_count": null,
            "_view_module": "@jupyter-widgets/controls",
            "_view_module_version": "1.5.0",
            "_view_name": "HBoxView",
            "box_style": "",
            "children": [
              "IPY_MODEL_0c91777d7e7445bfaea8355bf3f191ec",
              "IPY_MODEL_ba40ea7a19d849dcb557fe7826d332ae",
              "IPY_MODEL_0a9121b814214d78950ff01295c95e5f"
            ],
            "layout": "IPY_MODEL_c97d6ab782034759a2a4e6372adc340a"
          }
        },
        "0c91777d7e7445bfaea8355bf3f191ec": {
          "model_module": "@jupyter-widgets/controls",
          "model_name": "HTMLModel",
          "model_module_version": "1.5.0",
          "state": {
            "_dom_classes": [],
            "_model_module": "@jupyter-widgets/controls",
            "_model_module_version": "1.5.0",
            "_model_name": "HTMLModel",
            "_view_count": null,
            "_view_module": "@jupyter-widgets/controls",
            "_view_module_version": "1.5.0",
            "_view_name": "HTMLView",
            "description": "",
            "description_tooltip": null,
            "layout": "IPY_MODEL_a8418812dddd4e41bb2bf102bb9f3b73",
            "placeholder": "​",
            "style": "IPY_MODEL_3343d599bd2242d9b6af3471e305d0b4",
            "value": "Tranning: 100%"
          }
        },
        "ba40ea7a19d849dcb557fe7826d332ae": {
          "model_module": "@jupyter-widgets/controls",
          "model_name": "FloatProgressModel",
          "model_module_version": "1.5.0",
          "state": {
            "_dom_classes": [],
            "_model_module": "@jupyter-widgets/controls",
            "_model_module_version": "1.5.0",
            "_model_name": "FloatProgressModel",
            "_view_count": null,
            "_view_module": "@jupyter-widgets/controls",
            "_view_module_version": "1.5.0",
            "_view_name": "ProgressView",
            "bar_style": "success",
            "description": "",
            "description_tooltip": null,
            "layout": "IPY_MODEL_7517fafa5c894d5f88fcc297188fcb24",
            "max": 5001,
            "min": 0,
            "orientation": "horizontal",
            "style": "IPY_MODEL_9a3ce068bbdf42a2b58f622a0d0f7147",
            "value": 5001
          }
        },
        "0a9121b814214d78950ff01295c95e5f": {
          "model_module": "@jupyter-widgets/controls",
          "model_name": "HTMLModel",
          "model_module_version": "1.5.0",
          "state": {
            "_dom_classes": [],
            "_model_module": "@jupyter-widgets/controls",
            "_model_module_version": "1.5.0",
            "_model_name": "HTMLModel",
            "_view_count": null,
            "_view_module": "@jupyter-widgets/controls",
            "_view_module_version": "1.5.0",
            "_view_name": "HTMLView",
            "description": "",
            "description_tooltip": null,
            "layout": "IPY_MODEL_27ec92385744414c9735bccbd40532c7",
            "placeholder": "​",
            "style": "IPY_MODEL_5d6af822422b47d9846de6351200e44d",
            "value": " 5001/5001 [01:48&lt;00:00, 46.60it/s]"
          }
        },
        "c97d6ab782034759a2a4e6372adc340a": {
          "model_module": "@jupyter-widgets/base",
          "model_name": "LayoutModel",
          "model_module_version": "1.2.0",
          "state": {
            "_model_module": "@jupyter-widgets/base",
            "_model_module_version": "1.2.0",
            "_model_name": "LayoutModel",
            "_view_count": null,
            "_view_module": "@jupyter-widgets/base",
            "_view_module_version": "1.2.0",
            "_view_name": "LayoutView",
            "align_content": null,
            "align_items": null,
            "align_self": null,
            "border": null,
            "bottom": null,
            "display": null,
            "flex": null,
            "flex_flow": null,
            "grid_area": null,
            "grid_auto_columns": null,
            "grid_auto_flow": null,
            "grid_auto_rows": null,
            "grid_column": null,
            "grid_gap": null,
            "grid_row": null,
            "grid_template_areas": null,
            "grid_template_columns": null,
            "grid_template_rows": null,
            "height": null,
            "justify_content": null,
            "justify_items": null,
            "left": null,
            "margin": null,
            "max_height": null,
            "max_width": null,
            "min_height": null,
            "min_width": null,
            "object_fit": null,
            "object_position": null,
            "order": null,
            "overflow": null,
            "overflow_x": null,
            "overflow_y": null,
            "padding": null,
            "right": null,
            "top": null,
            "visibility": null,
            "width": null
          }
        },
        "a8418812dddd4e41bb2bf102bb9f3b73": {
          "model_module": "@jupyter-widgets/base",
          "model_name": "LayoutModel",
          "model_module_version": "1.2.0",
          "state": {
            "_model_module": "@jupyter-widgets/base",
            "_model_module_version": "1.2.0",
            "_model_name": "LayoutModel",
            "_view_count": null,
            "_view_module": "@jupyter-widgets/base",
            "_view_module_version": "1.2.0",
            "_view_name": "LayoutView",
            "align_content": null,
            "align_items": null,
            "align_self": null,
            "border": null,
            "bottom": null,
            "display": null,
            "flex": null,
            "flex_flow": null,
            "grid_area": null,
            "grid_auto_columns": null,
            "grid_auto_flow": null,
            "grid_auto_rows": null,
            "grid_column": null,
            "grid_gap": null,
            "grid_row": null,
            "grid_template_areas": null,
            "grid_template_columns": null,
            "grid_template_rows": null,
            "height": null,
            "justify_content": null,
            "justify_items": null,
            "left": null,
            "margin": null,
            "max_height": null,
            "max_width": null,
            "min_height": null,
            "min_width": null,
            "object_fit": null,
            "object_position": null,
            "order": null,
            "overflow": null,
            "overflow_x": null,
            "overflow_y": null,
            "padding": null,
            "right": null,
            "top": null,
            "visibility": null,
            "width": null
          }
        },
        "3343d599bd2242d9b6af3471e305d0b4": {
          "model_module": "@jupyter-widgets/controls",
          "model_name": "DescriptionStyleModel",
          "model_module_version": "1.5.0",
          "state": {
            "_model_module": "@jupyter-widgets/controls",
            "_model_module_version": "1.5.0",
            "_model_name": "DescriptionStyleModel",
            "_view_count": null,
            "_view_module": "@jupyter-widgets/base",
            "_view_module_version": "1.2.0",
            "_view_name": "StyleView",
            "description_width": ""
          }
        },
        "7517fafa5c894d5f88fcc297188fcb24": {
          "model_module": "@jupyter-widgets/base",
          "model_name": "LayoutModel",
          "model_module_version": "1.2.0",
          "state": {
            "_model_module": "@jupyter-widgets/base",
            "_model_module_version": "1.2.0",
            "_model_name": "LayoutModel",
            "_view_count": null,
            "_view_module": "@jupyter-widgets/base",
            "_view_module_version": "1.2.0",
            "_view_name": "LayoutView",
            "align_content": null,
            "align_items": null,
            "align_self": null,
            "border": null,
            "bottom": null,
            "display": null,
            "flex": null,
            "flex_flow": null,
            "grid_area": null,
            "grid_auto_columns": null,
            "grid_auto_flow": null,
            "grid_auto_rows": null,
            "grid_column": null,
            "grid_gap": null,
            "grid_row": null,
            "grid_template_areas": null,
            "grid_template_columns": null,
            "grid_template_rows": null,
            "height": null,
            "justify_content": null,
            "justify_items": null,
            "left": null,
            "margin": null,
            "max_height": null,
            "max_width": null,
            "min_height": null,
            "min_width": null,
            "object_fit": null,
            "object_position": null,
            "order": null,
            "overflow": null,
            "overflow_x": null,
            "overflow_y": null,
            "padding": null,
            "right": null,
            "top": null,
            "visibility": null,
            "width": null
          }
        },
        "9a3ce068bbdf42a2b58f622a0d0f7147": {
          "model_module": "@jupyter-widgets/controls",
          "model_name": "ProgressStyleModel",
          "model_module_version": "1.5.0",
          "state": {
            "_model_module": "@jupyter-widgets/controls",
            "_model_module_version": "1.5.0",
            "_model_name": "ProgressStyleModel",
            "_view_count": null,
            "_view_module": "@jupyter-widgets/base",
            "_view_module_version": "1.2.0",
            "_view_name": "StyleView",
            "bar_color": null,
            "description_width": ""
          }
        },
        "27ec92385744414c9735bccbd40532c7": {
          "model_module": "@jupyter-widgets/base",
          "model_name": "LayoutModel",
          "model_module_version": "1.2.0",
          "state": {
            "_model_module": "@jupyter-widgets/base",
            "_model_module_version": "1.2.0",
            "_model_name": "LayoutModel",
            "_view_count": null,
            "_view_module": "@jupyter-widgets/base",
            "_view_module_version": "1.2.0",
            "_view_name": "LayoutView",
            "align_content": null,
            "align_items": null,
            "align_self": null,
            "border": null,
            "bottom": null,
            "display": null,
            "flex": null,
            "flex_flow": null,
            "grid_area": null,
            "grid_auto_columns": null,
            "grid_auto_flow": null,
            "grid_auto_rows": null,
            "grid_column": null,
            "grid_gap": null,
            "grid_row": null,
            "grid_template_areas": null,
            "grid_template_columns": null,
            "grid_template_rows": null,
            "height": null,
            "justify_content": null,
            "justify_items": null,
            "left": null,
            "margin": null,
            "max_height": null,
            "max_width": null,
            "min_height": null,
            "min_width": null,
            "object_fit": null,
            "object_position": null,
            "order": null,
            "overflow": null,
            "overflow_x": null,
            "overflow_y": null,
            "padding": null,
            "right": null,
            "top": null,
            "visibility": null,
            "width": null
          }
        },
        "5d6af822422b47d9846de6351200e44d": {
          "model_module": "@jupyter-widgets/controls",
          "model_name": "DescriptionStyleModel",
          "model_module_version": "1.5.0",
          "state": {
            "_model_module": "@jupyter-widgets/controls",
            "_model_module_version": "1.5.0",
            "_model_name": "DescriptionStyleModel",
            "_view_count": null,
            "_view_module": "@jupyter-widgets/base",
            "_view_module_version": "1.2.0",
            "_view_name": "StyleView",
            "description_width": ""
          }
        },
        "d211c6b381284b5ca982181e298f252a": {
          "model_module": "@jupyter-widgets/controls",
          "model_name": "HBoxModel",
          "model_module_version": "1.5.0",
          "state": {
            "_dom_classes": [],
            "_model_module": "@jupyter-widgets/controls",
            "_model_module_version": "1.5.0",
            "_model_name": "HBoxModel",
            "_view_count": null,
            "_view_module": "@jupyter-widgets/controls",
            "_view_module_version": "1.5.0",
            "_view_name": "HBoxView",
            "box_style": "",
            "children": [
              "IPY_MODEL_1247c98161054a62b17d1e233211e80b",
              "IPY_MODEL_7a21c0402108491ba26ad75dca7397b1",
              "IPY_MODEL_5cbfc1fa3d3b4faa8ad384107cf76904"
            ],
            "layout": "IPY_MODEL_7365ea3be7a148029d10476ee7feb166"
          }
        },
        "1247c98161054a62b17d1e233211e80b": {
          "model_module": "@jupyter-widgets/controls",
          "model_name": "HTMLModel",
          "model_module_version": "1.5.0",
          "state": {
            "_dom_classes": [],
            "_model_module": "@jupyter-widgets/controls",
            "_model_module_version": "1.5.0",
            "_model_name": "HTMLModel",
            "_view_count": null,
            "_view_module": "@jupyter-widgets/controls",
            "_view_module_version": "1.5.0",
            "_view_name": "HTMLView",
            "description": "",
            "description_tooltip": null,
            "layout": "IPY_MODEL_2d4b0e007a354940a7240634bed0bc8d",
            "placeholder": "​",
            "style": "IPY_MODEL_9bf4ff1458dd443f9b488687b2ba5043",
            "value": "Tranning: 100%"
          }
        },
        "7a21c0402108491ba26ad75dca7397b1": {
          "model_module": "@jupyter-widgets/controls",
          "model_name": "FloatProgressModel",
          "model_module_version": "1.5.0",
          "state": {
            "_dom_classes": [],
            "_model_module": "@jupyter-widgets/controls",
            "_model_module_version": "1.5.0",
            "_model_name": "FloatProgressModel",
            "_view_count": null,
            "_view_module": "@jupyter-widgets/controls",
            "_view_module_version": "1.5.0",
            "_view_name": "ProgressView",
            "bar_style": "success",
            "description": "",
            "description_tooltip": null,
            "layout": "IPY_MODEL_120d42f4cff54fb5b390517bd9694a32",
            "max": 5001,
            "min": 0,
            "orientation": "horizontal",
            "style": "IPY_MODEL_943e39e6ec694766b172c88c13f7b75f",
            "value": 5001
          }
        },
        "5cbfc1fa3d3b4faa8ad384107cf76904": {
          "model_module": "@jupyter-widgets/controls",
          "model_name": "HTMLModel",
          "model_module_version": "1.5.0",
          "state": {
            "_dom_classes": [],
            "_model_module": "@jupyter-widgets/controls",
            "_model_module_version": "1.5.0",
            "_model_name": "HTMLModel",
            "_view_count": null,
            "_view_module": "@jupyter-widgets/controls",
            "_view_module_version": "1.5.0",
            "_view_name": "HTMLView",
            "description": "",
            "description_tooltip": null,
            "layout": "IPY_MODEL_90bfe08939844cdeb7b69930de29d4f1",
            "placeholder": "​",
            "style": "IPY_MODEL_1405f9990e7a45a489ba3d5fc8c57b3e",
            "value": " 5001/5001 [02:36&lt;00:00, 33.59it/s]"
          }
        },
        "7365ea3be7a148029d10476ee7feb166": {
          "model_module": "@jupyter-widgets/base",
          "model_name": "LayoutModel",
          "model_module_version": "1.2.0",
          "state": {
            "_model_module": "@jupyter-widgets/base",
            "_model_module_version": "1.2.0",
            "_model_name": "LayoutModel",
            "_view_count": null,
            "_view_module": "@jupyter-widgets/base",
            "_view_module_version": "1.2.0",
            "_view_name": "LayoutView",
            "align_content": null,
            "align_items": null,
            "align_self": null,
            "border": null,
            "bottom": null,
            "display": null,
            "flex": null,
            "flex_flow": null,
            "grid_area": null,
            "grid_auto_columns": null,
            "grid_auto_flow": null,
            "grid_auto_rows": null,
            "grid_column": null,
            "grid_gap": null,
            "grid_row": null,
            "grid_template_areas": null,
            "grid_template_columns": null,
            "grid_template_rows": null,
            "height": null,
            "justify_content": null,
            "justify_items": null,
            "left": null,
            "margin": null,
            "max_height": null,
            "max_width": null,
            "min_height": null,
            "min_width": null,
            "object_fit": null,
            "object_position": null,
            "order": null,
            "overflow": null,
            "overflow_x": null,
            "overflow_y": null,
            "padding": null,
            "right": null,
            "top": null,
            "visibility": null,
            "width": null
          }
        },
        "2d4b0e007a354940a7240634bed0bc8d": {
          "model_module": "@jupyter-widgets/base",
          "model_name": "LayoutModel",
          "model_module_version": "1.2.0",
          "state": {
            "_model_module": "@jupyter-widgets/base",
            "_model_module_version": "1.2.0",
            "_model_name": "LayoutModel",
            "_view_count": null,
            "_view_module": "@jupyter-widgets/base",
            "_view_module_version": "1.2.0",
            "_view_name": "LayoutView",
            "align_content": null,
            "align_items": null,
            "align_self": null,
            "border": null,
            "bottom": null,
            "display": null,
            "flex": null,
            "flex_flow": null,
            "grid_area": null,
            "grid_auto_columns": null,
            "grid_auto_flow": null,
            "grid_auto_rows": null,
            "grid_column": null,
            "grid_gap": null,
            "grid_row": null,
            "grid_template_areas": null,
            "grid_template_columns": null,
            "grid_template_rows": null,
            "height": null,
            "justify_content": null,
            "justify_items": null,
            "left": null,
            "margin": null,
            "max_height": null,
            "max_width": null,
            "min_height": null,
            "min_width": null,
            "object_fit": null,
            "object_position": null,
            "order": null,
            "overflow": null,
            "overflow_x": null,
            "overflow_y": null,
            "padding": null,
            "right": null,
            "top": null,
            "visibility": null,
            "width": null
          }
        },
        "9bf4ff1458dd443f9b488687b2ba5043": {
          "model_module": "@jupyter-widgets/controls",
          "model_name": "DescriptionStyleModel",
          "model_module_version": "1.5.0",
          "state": {
            "_model_module": "@jupyter-widgets/controls",
            "_model_module_version": "1.5.0",
            "_model_name": "DescriptionStyleModel",
            "_view_count": null,
            "_view_module": "@jupyter-widgets/base",
            "_view_module_version": "1.2.0",
            "_view_name": "StyleView",
            "description_width": ""
          }
        },
        "120d42f4cff54fb5b390517bd9694a32": {
          "model_module": "@jupyter-widgets/base",
          "model_name": "LayoutModel",
          "model_module_version": "1.2.0",
          "state": {
            "_model_module": "@jupyter-widgets/base",
            "_model_module_version": "1.2.0",
            "_model_name": "LayoutModel",
            "_view_count": null,
            "_view_module": "@jupyter-widgets/base",
            "_view_module_version": "1.2.0",
            "_view_name": "LayoutView",
            "align_content": null,
            "align_items": null,
            "align_self": null,
            "border": null,
            "bottom": null,
            "display": null,
            "flex": null,
            "flex_flow": null,
            "grid_area": null,
            "grid_auto_columns": null,
            "grid_auto_flow": null,
            "grid_auto_rows": null,
            "grid_column": null,
            "grid_gap": null,
            "grid_row": null,
            "grid_template_areas": null,
            "grid_template_columns": null,
            "grid_template_rows": null,
            "height": null,
            "justify_content": null,
            "justify_items": null,
            "left": null,
            "margin": null,
            "max_height": null,
            "max_width": null,
            "min_height": null,
            "min_width": null,
            "object_fit": null,
            "object_position": null,
            "order": null,
            "overflow": null,
            "overflow_x": null,
            "overflow_y": null,
            "padding": null,
            "right": null,
            "top": null,
            "visibility": null,
            "width": null
          }
        },
        "943e39e6ec694766b172c88c13f7b75f": {
          "model_module": "@jupyter-widgets/controls",
          "model_name": "ProgressStyleModel",
          "model_module_version": "1.5.0",
          "state": {
            "_model_module": "@jupyter-widgets/controls",
            "_model_module_version": "1.5.0",
            "_model_name": "ProgressStyleModel",
            "_view_count": null,
            "_view_module": "@jupyter-widgets/base",
            "_view_module_version": "1.2.0",
            "_view_name": "StyleView",
            "bar_color": null,
            "description_width": ""
          }
        },
        "90bfe08939844cdeb7b69930de29d4f1": {
          "model_module": "@jupyter-widgets/base",
          "model_name": "LayoutModel",
          "model_module_version": "1.2.0",
          "state": {
            "_model_module": "@jupyter-widgets/base",
            "_model_module_version": "1.2.0",
            "_model_name": "LayoutModel",
            "_view_count": null,
            "_view_module": "@jupyter-widgets/base",
            "_view_module_version": "1.2.0",
            "_view_name": "LayoutView",
            "align_content": null,
            "align_items": null,
            "align_self": null,
            "border": null,
            "bottom": null,
            "display": null,
            "flex": null,
            "flex_flow": null,
            "grid_area": null,
            "grid_auto_columns": null,
            "grid_auto_flow": null,
            "grid_auto_rows": null,
            "grid_column": null,
            "grid_gap": null,
            "grid_row": null,
            "grid_template_areas": null,
            "grid_template_columns": null,
            "grid_template_rows": null,
            "height": null,
            "justify_content": null,
            "justify_items": null,
            "left": null,
            "margin": null,
            "max_height": null,
            "max_width": null,
            "min_height": null,
            "min_width": null,
            "object_fit": null,
            "object_position": null,
            "order": null,
            "overflow": null,
            "overflow_x": null,
            "overflow_y": null,
            "padding": null,
            "right": null,
            "top": null,
            "visibility": null,
            "width": null
          }
        },
        "1405f9990e7a45a489ba3d5fc8c57b3e": {
          "model_module": "@jupyter-widgets/controls",
          "model_name": "DescriptionStyleModel",
          "model_module_version": "1.5.0",
          "state": {
            "_model_module": "@jupyter-widgets/controls",
            "_model_module_version": "1.5.0",
            "_model_name": "DescriptionStyleModel",
            "_view_count": null,
            "_view_module": "@jupyter-widgets/base",
            "_view_module_version": "1.2.0",
            "_view_name": "StyleView",
            "description_width": ""
          }
        },
        "ae378213f67a447f91d358550ccefffd": {
          "model_module": "@jupyter-widgets/controls",
          "model_name": "HBoxModel",
          "model_module_version": "1.5.0",
          "state": {
            "_dom_classes": [],
            "_model_module": "@jupyter-widgets/controls",
            "_model_module_version": "1.5.0",
            "_model_name": "HBoxModel",
            "_view_count": null,
            "_view_module": "@jupyter-widgets/controls",
            "_view_module_version": "1.5.0",
            "_view_name": "HBoxView",
            "box_style": "",
            "children": [
              "IPY_MODEL_408402b21e354df6a10e982c0facac16",
              "IPY_MODEL_d49f457b355246ce91dbbda2f9e708b1",
              "IPY_MODEL_6de3c799dd9b40db9bd41373d217180d"
            ],
            "layout": "IPY_MODEL_74489b4c195d47cab790da7f3c65aadd"
          }
        },
        "408402b21e354df6a10e982c0facac16": {
          "model_module": "@jupyter-widgets/controls",
          "model_name": "HTMLModel",
          "model_module_version": "1.5.0",
          "state": {
            "_dom_classes": [],
            "_model_module": "@jupyter-widgets/controls",
            "_model_module_version": "1.5.0",
            "_model_name": "HTMLModel",
            "_view_count": null,
            "_view_module": "@jupyter-widgets/controls",
            "_view_module_version": "1.5.0",
            "_view_name": "HTMLView",
            "description": "",
            "description_tooltip": null,
            "layout": "IPY_MODEL_e16ded25a81b4f3988e6f6ac38cde903",
            "placeholder": "​",
            "style": "IPY_MODEL_78632c5b0a5740b6b563204272edcc58",
            "value": "Tranning:  37%"
          }
        },
        "d49f457b355246ce91dbbda2f9e708b1": {
          "model_module": "@jupyter-widgets/controls",
          "model_name": "FloatProgressModel",
          "model_module_version": "1.5.0",
          "state": {
            "_dom_classes": [],
            "_model_module": "@jupyter-widgets/controls",
            "_model_module_version": "1.5.0",
            "_model_name": "FloatProgressModel",
            "_view_count": null,
            "_view_module": "@jupyter-widgets/controls",
            "_view_module_version": "1.5.0",
            "_view_name": "ProgressView",
            "bar_style": "",
            "description": "",
            "description_tooltip": null,
            "layout": "IPY_MODEL_662816d79c604fc2bf16727a10c7dc0e",
            "max": 5001,
            "min": 0,
            "orientation": "horizontal",
            "style": "IPY_MODEL_315a177e9feb4ae8937baf17fd083433",
            "value": 1874
          }
        },
        "6de3c799dd9b40db9bd41373d217180d": {
          "model_module": "@jupyter-widgets/controls",
          "model_name": "HTMLModel",
          "model_module_version": "1.5.0",
          "state": {
            "_dom_classes": [],
            "_model_module": "@jupyter-widgets/controls",
            "_model_module_version": "1.5.0",
            "_model_name": "HTMLModel",
            "_view_count": null,
            "_view_module": "@jupyter-widgets/controls",
            "_view_module_version": "1.5.0",
            "_view_name": "HTMLView",
            "description": "",
            "description_tooltip": null,
            "layout": "IPY_MODEL_6cacafd15bf34e2bb52289fcf0cded00",
            "placeholder": "​",
            "style": "IPY_MODEL_abd4ce395ff0440fbabc57a4874c854c",
            "value": " 1874/5001 [00:39&lt;01:02, 49.70it/s]"
          }
        },
        "74489b4c195d47cab790da7f3c65aadd": {
          "model_module": "@jupyter-widgets/base",
          "model_name": "LayoutModel",
          "model_module_version": "1.2.0",
          "state": {
            "_model_module": "@jupyter-widgets/base",
            "_model_module_version": "1.2.0",
            "_model_name": "LayoutModel",
            "_view_count": null,
            "_view_module": "@jupyter-widgets/base",
            "_view_module_version": "1.2.0",
            "_view_name": "LayoutView",
            "align_content": null,
            "align_items": null,
            "align_self": null,
            "border": null,
            "bottom": null,
            "display": null,
            "flex": null,
            "flex_flow": null,
            "grid_area": null,
            "grid_auto_columns": null,
            "grid_auto_flow": null,
            "grid_auto_rows": null,
            "grid_column": null,
            "grid_gap": null,
            "grid_row": null,
            "grid_template_areas": null,
            "grid_template_columns": null,
            "grid_template_rows": null,
            "height": null,
            "justify_content": null,
            "justify_items": null,
            "left": null,
            "margin": null,
            "max_height": null,
            "max_width": null,
            "min_height": null,
            "min_width": null,
            "object_fit": null,
            "object_position": null,
            "order": null,
            "overflow": null,
            "overflow_x": null,
            "overflow_y": null,
            "padding": null,
            "right": null,
            "top": null,
            "visibility": null,
            "width": null
          }
        },
        "e16ded25a81b4f3988e6f6ac38cde903": {
          "model_module": "@jupyter-widgets/base",
          "model_name": "LayoutModel",
          "model_module_version": "1.2.0",
          "state": {
            "_model_module": "@jupyter-widgets/base",
            "_model_module_version": "1.2.0",
            "_model_name": "LayoutModel",
            "_view_count": null,
            "_view_module": "@jupyter-widgets/base",
            "_view_module_version": "1.2.0",
            "_view_name": "LayoutView",
            "align_content": null,
            "align_items": null,
            "align_self": null,
            "border": null,
            "bottom": null,
            "display": null,
            "flex": null,
            "flex_flow": null,
            "grid_area": null,
            "grid_auto_columns": null,
            "grid_auto_flow": null,
            "grid_auto_rows": null,
            "grid_column": null,
            "grid_gap": null,
            "grid_row": null,
            "grid_template_areas": null,
            "grid_template_columns": null,
            "grid_template_rows": null,
            "height": null,
            "justify_content": null,
            "justify_items": null,
            "left": null,
            "margin": null,
            "max_height": null,
            "max_width": null,
            "min_height": null,
            "min_width": null,
            "object_fit": null,
            "object_position": null,
            "order": null,
            "overflow": null,
            "overflow_x": null,
            "overflow_y": null,
            "padding": null,
            "right": null,
            "top": null,
            "visibility": null,
            "width": null
          }
        },
        "78632c5b0a5740b6b563204272edcc58": {
          "model_module": "@jupyter-widgets/controls",
          "model_name": "DescriptionStyleModel",
          "model_module_version": "1.5.0",
          "state": {
            "_model_module": "@jupyter-widgets/controls",
            "_model_module_version": "1.5.0",
            "_model_name": "DescriptionStyleModel",
            "_view_count": null,
            "_view_module": "@jupyter-widgets/base",
            "_view_module_version": "1.2.0",
            "_view_name": "StyleView",
            "description_width": ""
          }
        },
        "662816d79c604fc2bf16727a10c7dc0e": {
          "model_module": "@jupyter-widgets/base",
          "model_name": "LayoutModel",
          "model_module_version": "1.2.0",
          "state": {
            "_model_module": "@jupyter-widgets/base",
            "_model_module_version": "1.2.0",
            "_model_name": "LayoutModel",
            "_view_count": null,
            "_view_module": "@jupyter-widgets/base",
            "_view_module_version": "1.2.0",
            "_view_name": "LayoutView",
            "align_content": null,
            "align_items": null,
            "align_self": null,
            "border": null,
            "bottom": null,
            "display": null,
            "flex": null,
            "flex_flow": null,
            "grid_area": null,
            "grid_auto_columns": null,
            "grid_auto_flow": null,
            "grid_auto_rows": null,
            "grid_column": null,
            "grid_gap": null,
            "grid_row": null,
            "grid_template_areas": null,
            "grid_template_columns": null,
            "grid_template_rows": null,
            "height": null,
            "justify_content": null,
            "justify_items": null,
            "left": null,
            "margin": null,
            "max_height": null,
            "max_width": null,
            "min_height": null,
            "min_width": null,
            "object_fit": null,
            "object_position": null,
            "order": null,
            "overflow": null,
            "overflow_x": null,
            "overflow_y": null,
            "padding": null,
            "right": null,
            "top": null,
            "visibility": null,
            "width": null
          }
        },
        "315a177e9feb4ae8937baf17fd083433": {
          "model_module": "@jupyter-widgets/controls",
          "model_name": "ProgressStyleModel",
          "model_module_version": "1.5.0",
          "state": {
            "_model_module": "@jupyter-widgets/controls",
            "_model_module_version": "1.5.0",
            "_model_name": "ProgressStyleModel",
            "_view_count": null,
            "_view_module": "@jupyter-widgets/base",
            "_view_module_version": "1.2.0",
            "_view_name": "StyleView",
            "bar_color": null,
            "description_width": ""
          }
        },
        "6cacafd15bf34e2bb52289fcf0cded00": {
          "model_module": "@jupyter-widgets/base",
          "model_name": "LayoutModel",
          "model_module_version": "1.2.0",
          "state": {
            "_model_module": "@jupyter-widgets/base",
            "_model_module_version": "1.2.0",
            "_model_name": "LayoutModel",
            "_view_count": null,
            "_view_module": "@jupyter-widgets/base",
            "_view_module_version": "1.2.0",
            "_view_name": "LayoutView",
            "align_content": null,
            "align_items": null,
            "align_self": null,
            "border": null,
            "bottom": null,
            "display": null,
            "flex": null,
            "flex_flow": null,
            "grid_area": null,
            "grid_auto_columns": null,
            "grid_auto_flow": null,
            "grid_auto_rows": null,
            "grid_column": null,
            "grid_gap": null,
            "grid_row": null,
            "grid_template_areas": null,
            "grid_template_columns": null,
            "grid_template_rows": null,
            "height": null,
            "justify_content": null,
            "justify_items": null,
            "left": null,
            "margin": null,
            "max_height": null,
            "max_width": null,
            "min_height": null,
            "min_width": null,
            "object_fit": null,
            "object_position": null,
            "order": null,
            "overflow": null,
            "overflow_x": null,
            "overflow_y": null,
            "padding": null,
            "right": null,
            "top": null,
            "visibility": null,
            "width": null
          }
        },
        "abd4ce395ff0440fbabc57a4874c854c": {
          "model_module": "@jupyter-widgets/controls",
          "model_name": "DescriptionStyleModel",
          "model_module_version": "1.5.0",
          "state": {
            "_model_module": "@jupyter-widgets/controls",
            "_model_module_version": "1.5.0",
            "_model_name": "DescriptionStyleModel",
            "_view_count": null,
            "_view_module": "@jupyter-widgets/base",
            "_view_module_version": "1.2.0",
            "_view_name": "StyleView",
            "description_width": ""
          }
        }
      }
    }
  },
  "cells": [
    {
      "cell_type": "markdown",
      "metadata": {
        "id": "NA1jh8NDbTSz"
      },
      "source": [
        "# Assignment 1"
      ]
    },
    {
      "cell_type": "markdown",
      "metadata": {
        "id": "onzQnZoFbTS0"
      },
      "source": [
        "# Density estimation using Real NVP\n",
        "\n",
        "Normalizing flows is the class of probabilistic models that provides flexible parametrical probabilistic models, where the probability density function can be computed exactly. In the assignment, we will consider a real-valued non-volume preserving normalizing flows (Real NVP) -- a special case of normalizing flow.\n",
        "\n",
        "#### Problem setting\n",
        "\n",
        "Our goal is to train a generative network $g_\\theta:  Z \\rightarrow X, g = f^{-1}$ that maps latent variable $z \\sim p(z)$ to a sample $x \\sim p(x)$. Where $p(z)$ is a prior distibiution and $p(x)$ is a data distibution. An illustrative example is provided below.\n",
        "\n",
        "![alt text](https://raw.githubusercontent.com/senya-ashukha/senya-ashukha.github.io/f4ed2d6ac83954b1358168dc98be3f17b6f2abbb/assignments/normalizing-flows/2d-example.png)\n",
        "\n",
        "#### Change of variable formula\n",
        "\n",
        "Given an observed data variable $x \\in X$,\n",
        "a simple prior probability distribution $p_{Z}$ on a latent variable $z \\in Z$,\n",
        "and a bijection $f: X \\rightarrow Z$ (with $g = f^{-1}$),\n",
        "the change of variable formula defines a model distribution of $X$ by\n",
        "<!-- \\begin{align}\n",
        "p_{X}(x) &= p_{Z}\\big(f(x)\\big) \\left|\\det\\left(\\cfrac{\\partial f(x)}{\\partial x^T} \\right)\\right|\n",
        "\\label{eq:change-variables}\\\\\n",
        "\\log\\left(p_{X}(x)\\right) &= \\log\\Big(p_{Z}\\big(f(x)\\big)\\Big) + \\log\\left(\\left|\\det\\left(\\frac{\\partial f(x)}{\\partial x^T}\\right)\\right|\\right)\n",
        ",\n",
        "\\end{align} -->\n",
        "\n",
        "![alt text](https://raw.githubusercontent.com/senya-ashukha/senya-ashukha.github.io/f4ed2d6ac83954b1358168dc98be3f17b6f2abbb/assignments/normalizing-flows/f.png)\n",
        "where $\\frac{\\partial f(x)}{\\partial x^T}$ is the Jacobian of $f$ at $x$.\n",
        "\n",
        "Exact samples from the resulting distribution can be generated by using the inverse transform sampling rule. A sample $z \\sim p_{Z}$ is drawn in the latent space, and its inverse image $x = f^{-1}(z) = g(z)$ generates a sample in the original space. Computing the density at a point $x$ is accomplished by computing the density of its image $f(x)$ and multiplying by the associated Jacobian determinant $\\det\\left(\\frac{\\partial f(x)}{\\partial x^T}\\right)$.\n",
        "\n",
        "#### Real NVP\n",
        "\n",
        "Real NVP presents a class of functions where $\\log\\left(\\left|\\det\\left(\\frac{\\partial f(x)}{\\partial x^T}\\right)\\right|\\right)$ can be computed efficiently (see, 3.3 Properties, https://arxiv.org/abs/1605.08803). Every layer of Real NVP is a coupling layer followed by permutation layer. Combination of coupling and permutation layers can be implemented as a masked version of the coupling layer:\n",
        "## $$y = b \\odot x + (1 - b) \\odot \\Big(x \\odot \\exp\\big(s(b \\odot x)\\big) + t(b \\odot x)\\Big)$$\n",
        "\n",
        "where $s$ and $t$ stand for scale and translation, and are functions from $R^{D} \\mapsto R^{D}$, and $\\odot$ is the Hadamard product or element-wise product, $b$ is a binary mask. For more details on the model see the paper Density estimation using Real NVP https://arxiv.org/abs/1605.08803.\n",
        "\n",
        "# In this assignment:\n",
        "1. Implementation of Real NVP\n",
        "2. Training Real NVP on moons dataset\n",
        "3. Visualization of the generative model\n",
        "4. Optional Research Assignment\n",
        "\n",
        "Additional information:\n",
        "- You will need the following python packages: PyTorch, Numpy, sklearn, matplotlib.\n",
        "- If you have an urgent question or find a typo or a mistake, send it to ars.ashuha@gmail.com. The title should include \"BDL Assignment 2 2018\".\n",
        "- A submission policy will be released later."
      ]
    },
    {
      "cell_type": "markdown",
      "metadata": {
        "id": "NgMBEYdwbTS2"
      },
      "source": [
        "# Implementation of Real NVP"
      ]
    },
    {
      "cell_type": "code",
      "metadata": {
        "id": "loxXeNy9bTS3"
      },
      "source": [
        "import numpy as np\n",
        "from functools import partial\n",
        "from sklearn import datasets\n",
        "from tqdm.auto import trange\n",
        "\n",
        "import torch\n",
        "from torch import nn\n",
        "from torch.nn.parameter import Parameter\n",
        "from torch.distributions import MultivariateNormal\n",
        "\n",
        "\n",
        "import matplotlib.pyplot as plt\n",
        "%matplotlib inline\n",
        "from pylab import rcParams\n",
        "rcParams['figure.figsize'] = 10, 8\n",
        "rcParams['figure.dpi'] = 300\n",
        "\n",
        "device = torch.device(\"cuda\" if torch.cuda.is_available() else \"cpu\")"
      ],
      "execution_count": 1,
      "outputs": []
    },
    {
      "cell_type": "code",
      "metadata": {
        "id": "GpyZ5AqObTS7"
      },
      "source": [
        "class RealNVP(nn.Module):\n",
        "    def __init__(self, nets, nett, mask, prior):\n",
        "        super(RealNVP, self).__init__()\n",
        "        \n",
        "        # Create a flow\n",
        "        # nets:  a function that returns a PyTorch neural network, e.g., nn.Sequential, s = nets(), s: dim(X) -> dim(X)\n",
        "        # nett:  a function that returns a PyTorch neural network, e.g., nn.Sequential, t = nett(), t: dim(X) -> dim(X)\n",
        "        # mask:  a torch.Tensor of size #number_of_coupling_layers x #dim(X)\n",
        "        # prior: an object from torch.distributions e.g., torch.distributions.MultivariateNormal\n",
        "        \n",
        "        self.prior = prior\n",
        "        self.mask = nn.Parameter(mask, requires_grad=False)\n",
        "        self.t = torch.nn.ModuleList([nett() for _ in range(len(masks))])\n",
        "        self.s = torch.nn.ModuleList([nets() for _ in range(len(masks))])\n",
        "        \n",
        "    def g(self, z):\n",
        "        # Compute and return g(z) = x, \n",
        "        #    where self.mask[i], self.t[i], self.s[i] define a i-th masked coupling layer   \n",
        "        # z: a torch.Tensor of shape batchSize x 1 x dim(X)\n",
        "        # return x: a torch.Tensor of shape batchSize x 1 x dim(X)\n",
        "        x = z\n",
        "        for s, t, mask in zip(reversed(self.s), reversed(self.t), reversed(self.mask)):\n",
        "            x_ = mask * x\n",
        "            s_, t_ = s(x_), t(x_)\n",
        "            x = x_ + (1 - mask) * torch.exp(-s_) * (x - t_)\n",
        "        return x\n",
        "\n",
        "    def f(self, x):\n",
        "        # Compute f(x) = z and log_det_Jakobian of f, \n",
        "        #    where self.mask[i], self.t[i], self.s[i] define a i-th masked coupling layer   \n",
        "        # x: a torch.Tensor, of shape batchSize x dim(X), is a datapoint\n",
        "        # return z: a torch.Tensor of shape batchSize x dim(X), a hidden representations\n",
        "        # return log_det_J: a torch.Tensor of len batchSize\n",
        "        z = x\n",
        "        log_det = 0.\n",
        "        for s, t, mask in zip(self.s, self.t, self.mask):\n",
        "            x_ = mask * z\n",
        "            s_, t_ = s(x_), t(x_)\n",
        "            z = x_ + (1 - mask) * (z * torch.exp(s_) + t_)\n",
        "            log_det += torch.sum((1 - mask) * s_, dim=1)\n",
        "        return z, log_det\n",
        "    \n",
        "    def log_prob(self, x):\n",
        "        # Compute and return log p(x)\n",
        "        # using the change of variable formula and log_det_J computed by f\n",
        "        # return logp: torch.Tensor of len batchSize\n",
        "        z, log_det = self.f(x)\n",
        "        logp = self.prior.log_prob(z) + log_det\n",
        "        return logp\n",
        "\n",
        "    def fit(self, batch_size=100, steps=5001, lr=1e-3):\n",
        "        optimizer = torch.optim.Adam(self.parameters(), lr=lr)\n",
        "\n",
        "        for step in trange(steps, desc='Tranning'):    \n",
        "            noisy_moons = datasets.make_moons(n_samples=batch_size, noise=.05)\n",
        "            batch = torch.tensor(\n",
        "                noisy_moons[0],\n",
        "                dtype=torch.float32,\n",
        "                device=device\n",
        "            )\n",
        "            loss = -self.log_prob(batch).mean() # compute the maximum-likelihood loss\n",
        "\n",
        "            optimizer.zero_grad()\n",
        "            loss.backward()\n",
        "            optimizer.step()\n",
        "            \n",
        "            if step % 500 == 0:\n",
        "                print('iter %s:' % step, 'loss = %.3f' % loss)\n",
        "\n",
        "    @torch.no_grad()\n",
        "    def visualization(self, n_samples=1000):\n",
        "        noisy_moons = datasets.make_moons(n_samples=n_samples, noise=.05)[0]\n",
        "        batch = torch.tensor(\n",
        "              noisy_moons,\n",
        "              dtype=torch.float32,\n",
        "              device=device\n",
        "          )\n",
        "        z = self.f(batch)[0].cpu().numpy()\n",
        "\n",
        "        plt.figure(figsize=(10, 10))\n",
        "        plt.subplot(221)\n",
        "        plt.scatter(z[:, 0], z[:, 1])\n",
        "        plt.title(r'$z = f(X)$')\n",
        "\n",
        "        z = self.prior.sample((n_samples,)).cpu().numpy()\n",
        "        plt.subplot(222)\n",
        "        plt.scatter(z[:, 0], z[:, 1])\n",
        "        plt.title(r'$z \\sim p(z)$')\n",
        "\n",
        "        plt.subplot(223)\n",
        "        plt.scatter(noisy_moons[:, 0], noisy_moons[:, 1], c='r')\n",
        "        plt.title(r'$X \\sim p(X)$')\n",
        "\n",
        "        plt.subplot(224)\n",
        "        x = self.sample(n_samples)\n",
        "        plt.scatter(x[:, 0, 0], x[:, 0, 1], c='r')\n",
        "        plt.title(r'$X = g(z)$')\n",
        "        plt.show()\n",
        "    \n",
        "    @torch.no_grad()\n",
        "    def sample(self, batchSize): \n",
        "        # Draw and return batchSize samples from flow using implementation of g\n",
        "        # return x: torch.Tensor of shape batchSize x 1 x dim(X)\n",
        "        z = self.prior.sample((batchSize,)).unsqueeze(dim=1)\n",
        "        x = self.g(z)\n",
        "        return x.cpu().numpy()"
      ],
      "execution_count": 2,
      "outputs": []
    },
    {
      "cell_type": "code",
      "source": [
        "def get_net(x_dim=2, hidden_dim=256, n_layers=3, last_activation='none'):\n",
        "    layers = [nn.Linear(x_dim, hidden_dim), nn.ReLU()]\n",
        "    for _ in range(n_layers-2):\n",
        "        layers.extend([nn.Linear(hidden_dim, hidden_dim), nn.ReLU()])\n",
        "    \n",
        "    layers.append(nn.Linear(hidden_dim, x_dim))\n",
        "    \n",
        "    if last_activation == 'tanh':\n",
        "        layers.append(nn.Tanh())\n",
        "    elif last_activation == 'relu':\n",
        "        layers.append(nn.ReLu())\n",
        "\n",
        "    return nn.Sequential(*layers)"
      ],
      "metadata": {
        "id": "Q2ZikQ7im4Ga"
      },
      "execution_count": 3,
      "outputs": []
    },
    {
      "cell_type": "code",
      "metadata": {
        "id": "Qy_HOwQzbTS9",
        "outputId": "db9712de-2307-4dc6-dff7-fdcee8363baf",
        "colab": {
          "base_uri": "https://localhost:8080/"
        }
      },
      "source": [
        "x_dim = 2\n",
        "hidden_dim = 256\n",
        "n_layers = 3\n",
        "s_last_activation = 'tanh'\n",
        "t_last_activation = 'none'\n",
        "\n",
        "# a function that take no arguments and return a pytorch model, dim(X) -> dim(X)\n",
        "nets = partial(\n",
        "    get_net, x_dim=x_dim, hidden_dim=hidden_dim,\n",
        "    n_layers=n_layers, last_activation=s_last_activation\n",
        ")\n",
        "# a function that take no arguments and return a pytorch model, dim(X) -> dim(X)\n",
        "nett = partial(\n",
        "    get_net, x_dim=x_dim, hidden_dim=hidden_dim,\n",
        "    n_layers=n_layers, last_activation=t_last_activation\n",
        ")\n",
        "\n",
        "# Check nets and nett are working i.e., computing without errors\n",
        "# Check that resulting dimensions s and t are the same and equal dim(X)\n",
        "# ❗️ Very important to make outputs of nets bounded due to exp (e.g. use nn.Tanh() as the last layer)\n",
        "# ❗️ Don't be afraid to go too large, 3-4 not very small linear layers should work fine\n",
        "# ❗️ Init of parameters matters, try different ones\n",
        "batch_size = 5\n",
        "batch = torch.randn((batch_size, x_dim))\n",
        "s = nets()\n",
        "t = nett()\n",
        "\n",
        "print('in shape:', batch.shape, 's out shape', s(batch).shape)\n",
        "print('in shape:', batch.shape, 't out shape', t(batch).shape)"
      ],
      "execution_count": 4,
      "outputs": [
        {
          "output_type": "stream",
          "name": "stdout",
          "text": [
            "in shape: torch.Size([5, 2]) s out shape torch.Size([5, 2])\n",
            "in shape: torch.Size([5, 2]) t out shape torch.Size([5, 2])\n"
          ]
        }
      ]
    },
    {
      "cell_type": "code",
      "source": [
        "def get_masks(number_of_coupling_layers=6):\n",
        "    masks = [[i % 2, (i + 1) % 2] for i in range(number_of_coupling_layers)]\n",
        "    return torch.tensor(masks, dtype=torch.float32)"
      ],
      "metadata": {
        "id": "6NhEmpwooV37"
      },
      "execution_count": 5,
      "outputs": []
    },
    {
      "cell_type": "code",
      "metadata": {
        "id": "ckUHr3ZTbTTA",
        "colab": {
          "base_uri": "https://localhost:8080/"
        },
        "outputId": "21a5bba7-41aa-4c63-bbc7-e2b439aa8e82"
      },
      "source": [
        "# torch.Tensor of size #number_of_coupling_layers x #dim(X)\n",
        "# number_of_coupling_layers like 6+ should works fine\n",
        "# Check that when dim(X) == 2, the mask for every layer has just one 1.0 and one 0.0 elements.\n",
        "number_of_coupling_layers = 6\n",
        "masks = get_masks(number_of_coupling_layers=number_of_coupling_layers)\n",
        "print(f'true masks shape {(number_of_coupling_layers, x_dim)}')\n",
        "print(f'masks shape {masks.shape}')"
      ],
      "execution_count": 6,
      "outputs": [
        {
          "output_type": "stream",
          "name": "stdout",
          "text": [
            "true masks shape (6, 2)\n",
            "masks shape torch.Size([6, 2])\n"
          ]
        }
      ]
    },
    {
      "cell_type": "code",
      "metadata": {
        "id": "Ov8AduZnbTTC",
        "colab": {
          "base_uri": "https://localhost:8080/"
        },
        "outputId": "62b12fb5-020f-43e1-8078-4ebea47a2274"
      },
      "source": [
        "x_dim = 2\n",
        "prior = MultivariateNormal(torch.zeros(x_dim, device=device), torch.eye(x_dim, device=device))\n",
        "# Check that prior has log_prob and sample methods\n",
        "n_samples = 5\n",
        "samples = prior.sample((n_samples,))\n",
        "log_p = prior.log_prob(samples)\n",
        "print('samples shape', samples.shape)\n",
        "print('samples log prob', log_p.cpu().numpy())"
      ],
      "execution_count": 7,
      "outputs": [
        {
          "output_type": "stream",
          "name": "stdout",
          "text": [
            "samples shape torch.Size([5, 2])\n",
            "samples log prob [-2.1889951 -3.1536899 -2.1039255 -2.5545425 -2.055214 ]\n"
          ]
        }
      ]
    },
    {
      "cell_type": "code",
      "metadata": {
        "id": "J6YPmM_3bTTE",
        "outputId": "14e2bd8c-5b18-4218-87cf-0112381cb6a9",
        "colab": {
          "base_uri": "https://localhost:8080/"
        }
      },
      "source": [
        "flow = RealNVP(nets, nett, masks, prior).to(device)\n",
        "# Check that a flow is reversible g(f(x)) = x\n",
        "# With a big chance you have some errors in RealNVP.log_prob, think hard on it.\n",
        "batch_size = 5\n",
        "x = prior.sample((batch_size,))\n",
        "z, _ = flow.f(x)\n",
        "inverse_x = flow.g(z)\n",
        "print('Is flow reversible g(f(x)) = x?', torch.isclose(x, inverse_x).all().item())\n",
        "print('flow log prob:', flow.log_prob(x).detach().cpu().numpy())\n",
        "# не равны, так как модель не обучена под распределение x\n",
        "print('prior log prob:', prior.log_prob(x).cpu().numpy())"
      ],
      "execution_count": 8,
      "outputs": [
        {
          "output_type": "stream",
          "name": "stdout",
          "text": [
            "Is flow reversible g(f(x)) = x? True\n",
            "flow log prob: [-2.3637075 -3.6091352 -2.1783893 -2.1012743 -1.8343948]\n",
            "prior log prob: [-2.2450094 -3.0957112 -2.3481045 -2.3332086 -2.0061026]\n"
          ]
        }
      ]
    },
    {
      "cell_type": "code",
      "metadata": {
        "id": "vb80JOSSbTTG",
        "outputId": "07de2e14-2834-46d3-b86a-52aa107fe138",
        "colab": {
          "base_uri": "https://localhost:8080/"
        }
      },
      "source": [
        "trainable_parameters = flow.parameters\n",
        "optimizer = torch.optim.Adam(trainable_parameters(), lr = 1e-3)\n",
        "\n",
        "for t in range(5001):    \n",
        "    noisy_moons = datasets.make_moons(n_samples=100, noise=.05)\n",
        "    batch = torch.tensor(\n",
        "        noisy_moons[0],\n",
        "        dtype=torch.float32,\n",
        "        device=device\n",
        "    )\n",
        "    loss = -flow.log_prob(batch).mean() # compute the maximum-likelihood loss\n",
        "\n",
        "    optimizer.zero_grad()\n",
        "    loss.backward()\n",
        "    optimizer.step()\n",
        "    \n",
        "    if t % 500 == 0:\n",
        "        print('iter %s:' % t, 'loss = %.3f' % loss)\n",
        "        \n",
        "# Check that the loss decreases\n",
        "# Is the visualization below good?"
      ],
      "execution_count": 9,
      "outputs": [
        {
          "output_type": "stream",
          "name": "stdout",
          "text": [
            "iter 0: loss = 2.434\n",
            "iter 500: loss = 0.589\n",
            "iter 1000: loss = 0.373\n",
            "iter 1500: loss = 0.588\n",
            "iter 2000: loss = 0.438\n",
            "iter 2500: loss = 0.484\n",
            "iter 3000: loss = 0.346\n",
            "iter 3500: loss = 0.434\n",
            "iter 4000: loss = 0.545\n",
            "iter 4500: loss = 0.318\n",
            "iter 5000: loss = 0.396\n"
          ]
        }
      ]
    },
    {
      "cell_type": "markdown",
      "metadata": {
        "id": "6hOxCpXYbTTJ"
      },
      "source": [
        "# Visualization"
      ]
    },
    {
      "cell_type": "markdown",
      "metadata": {
        "id": "Gz5YG8FNbTTN"
      },
      "source": [
        "Draw several plots: \n",
        "- samples from flow\n",
        "- samples from prior\n",
        "- data samples\n",
        "- mapping form data to prior\n",
        "\n",
        "The goal is to obtain figure similar to https://arxiv.org/abs/1605.08803"
      ]
    },
    {
      "cell_type": "code",
      "metadata": {
        "id": "qbhwTtHjpHC9",
        "outputId": "0c9885f3-3632-42d6-8d2b-3161f014b5fd",
        "colab": {
          "base_uri": "https://localhost:8080/",
          "height": 300
        }
      },
      "source": [
        "noisy_moons = datasets.make_moons(n_samples=1000, noise=.05)\n",
        "batch = torch.tensor(\n",
        "      noisy_moons[0],\n",
        "      dtype=torch.float32,\n",
        "      device=device\n",
        "  )\n",
        "z = flow.f(batch)[0].detach().cpu().numpy()\n",
        "plt.subplot(221)\n",
        "plt.scatter(z[:, 0], z[:, 1])\n",
        "plt.title(r'$z = f(X)$')\n",
        "\n",
        "z = np.random.multivariate_normal(np.zeros(2), np.eye(2), 1000)\n",
        "plt.subplot(222)\n",
        "plt.scatter(z[:, 0], z[:, 1])\n",
        "plt.title(r'$z \\sim p(z)$')\n",
        "\n",
        "plt.subplot(223)\n",
        "x = datasets.make_moons(n_samples=1000, noise=.05)[0].astype(np.float32)\n",
        "plt.scatter(x[:, 0], x[:, 1], c='r')\n",
        "plt.title(r'$X \\sim p(X)$')\n",
        "\n",
        "plt.subplot(224)\n",
        "x = flow.sample(1000)\n",
        "plt.scatter(x[:, 0, 0], x[:, 0, 1], c='r')\n",
        "plt.title(r'$X = g(z)$')"
      ],
      "execution_count": 10,
      "outputs": [
        {
          "output_type": "execute_result",
          "data": {
            "text/plain": [
              "Text(0.5, 1.0, '$X = g(z)$')"
            ]
          },
          "metadata": {},
          "execution_count": 10
        },
        {
          "output_type": "display_data",
          "data": {
            "text/plain": [
              "<Figure size 432x288 with 4 Axes>"
            ],
            "image/png": "[encoded data removed]"
          },
          "metadata": {
            "needs_background": "light"
          }
        }
      ]
    },
    {
      "cell_type": "markdown",
      "metadata": {
        "id": "atnq5yzPbTTN"
      },
      "source": [
        "## Provide answers for the folowing questions:"
      ]
    },
    {
      "cell_type": "code",
      "source": [
        "def get_flow_model(\n",
        "    x_dim=2, hidden_dim=256, n_layers=3, \n",
        "    s_last_activation='tanh', t_last_activation='none',\n",
        "    number_of_coupling_layers=6, device=device):\n",
        "\n",
        "    nets = partial(\n",
        "        get_net, x_dim=x_dim, hidden_dim=hidden_dim,\n",
        "        n_layers=n_layers, last_activation=s_last_activation\n",
        "    )\n",
        "    nett = partial(\n",
        "        get_net, x_dim=x_dim, hidden_dim=hidden_dim,\n",
        "        n_layers=n_layers, last_activation=t_last_activation\n",
        "    )\n",
        "\n",
        "    masks = get_masks(number_of_coupling_layers=number_of_coupling_layers)\n",
        "    prior = MultivariateNormal(torch.zeros(x_dim, device=device), torch.eye(x_dim, device=device))\n",
        "\n",
        "    return RealNVP(nets, nett, masks, prior).to(device)"
      ],
      "metadata": {
        "id": "tOIUQOZDTdKq"
      },
      "execution_count": 11,
      "outputs": []
    },
    {
      "cell_type": "code",
      "source": [
        "# проверка с изначальными параметрами\n",
        "args = {\n",
        "    'x_dim': 2,\n",
        "    'hidden_dim': 256,\n",
        "    'n_layers': 3,\n",
        "    's_last_activation': 'tanh',\n",
        "    't_last_activation': 'none',\n",
        "    'number_of_coupling_layers': 6,\n",
        "    'device': torch.device(\"cuda\" if torch.cuda.is_available() else \"cpu\")\n",
        "}\n",
        "\n",
        "train_args = {\n",
        "    'batch_size': 100,\n",
        "    'steps': 5001,\n",
        "    'lr': 1e-3\n",
        "}"
      ],
      "metadata": {
        "id": "vO2RBjXfV-rB"
      },
      "execution_count": 12,
      "outputs": []
    },
    {
      "cell_type": "code",
      "source": [
        "flow = get_flow_model(**args)\n",
        "flow.fit(**train_args)\n",
        "flow.visualization(n_samples=1000)"
      ],
      "metadata": {
        "colab": {
          "base_uri": "https://localhost:8080/",
          "height": 828,
          "referenced_widgets": [
            "8b37ca0e65bd4d3eab543e496c5d0ff3",
            "0c91777d7e7445bfaea8355bf3f191ec",
            "ba40ea7a19d849dcb557fe7826d332ae",
            "0a9121b814214d78950ff01295c95e5f",
            "c97d6ab782034759a2a4e6372adc340a",
            "a8418812dddd4e41bb2bf102bb9f3b73",
            "3343d599bd2242d9b6af3471e305d0b4",
            "7517fafa5c894d5f88fcc297188fcb24",
            "9a3ce068bbdf42a2b58f622a0d0f7147",
            "27ec92385744414c9735bccbd40532c7",
            "5d6af822422b47d9846de6351200e44d"
          ]
        },
        "id": "ilmIG26eVyrA",
        "outputId": "f7a8bf10-c77c-4ad8-bf33-d0a8214330ee"
      },
      "execution_count": 13,
      "outputs": [
        {
          "output_type": "display_data",
          "data": {
            "text/plain": [
              "Tranning:   0%|          | 0/5001 [00:00<?, ?it/s]"
            ],
            "application/vnd.jupyter.widget-view+json": {
              "version_major": 2,
              "version_minor": 0,
              "model_id": "8b37ca0e65bd4d3eab543e496c5d0ff3"
            }
          },
          "metadata": {}
        },
        {
          "output_type": "stream",
          "name": "stdout",
          "text": [
            "iter 0: loss = 2.316\n",
            "iter 500: loss = 0.555\n",
            "iter 1000: loss = 0.516\n",
            "iter 1500: loss = 0.617\n",
            "iter 2000: loss = 0.532\n",
            "iter 2500: loss = 0.489\n",
            "iter 3000: loss = 0.599\n",
            "iter 3500: loss = 0.517\n",
            "iter 4000: loss = 0.569\n",
            "iter 4500: loss = 0.508\n",
            "iter 5000: loss = 0.457\n"
          ]
        },
        {
          "output_type": "display_data",
          "data": {
            "text/plain": [
              "<Figure size 720x720 with 4 Axes>"
            ],
            "image/png": "[encoded data removed]"
          },
          "metadata": {
            "needs_background": "light"
          }
        }
      ]
    },
    {
      "cell_type": "code",
      "source": [
        "# увеличим количество слоев\n",
        "args['n_layers'] = 5\n",
        "\n",
        "flow = get_flow_model(**args)\n",
        "flow.fit(**train_args)\n",
        "flow.visualization(n_samples=1000)"
      ],
      "metadata": {
        "colab": {
          "base_uri": "https://localhost:8080/",
          "height": 828,
          "referenced_widgets": [
            "d211c6b381284b5ca982181e298f252a",
            "1247c98161054a62b17d1e233211e80b",
            "7a21c0402108491ba26ad75dca7397b1",
            "5cbfc1fa3d3b4faa8ad384107cf76904",
            "7365ea3be7a148029d10476ee7feb166",
            "2d4b0e007a354940a7240634bed0bc8d",
            "9bf4ff1458dd443f9b488687b2ba5043",
            "120d42f4cff54fb5b390517bd9694a32",
            "943e39e6ec694766b172c88c13f7b75f",
            "90bfe08939844cdeb7b69930de29d4f1",
            "1405f9990e7a45a489ba3d5fc8c57b3e"
          ]
        },
        "id": "x42tMWD_QepW",
        "outputId": "6dc863d7-f41c-44f7-abac-6d32272a1753"
      },
      "execution_count": 14,
      "outputs": [
        {
          "output_type": "display_data",
          "data": {
            "text/plain": [
              "Tranning:   0%|          | 0/5001 [00:00<?, ?it/s]"
            ],
            "application/vnd.jupyter.widget-view+json": {
              "version_major": 2,
              "version_minor": 0,
              "model_id": "d211c6b381284b5ca982181e298f252a"
            }
          },
          "metadata": {}
        },
        {
          "output_type": "stream",
          "name": "stdout",
          "text": [
            "iter 0: loss = 2.448\n",
            "iter 500: loss = 0.937\n",
            "iter 1000: loss = 0.756\n",
            "iter 1500: loss = 0.904\n",
            "iter 2000: loss = 0.826\n",
            "iter 2500: loss = 1.143\n",
            "iter 3000: loss = 0.699\n",
            "iter 3500: loss = 0.689\n",
            "iter 4000: loss = 0.894\n",
            "iter 4500: loss = 0.713\n",
            "iter 5000: loss = 0.832\n"
          ]
        },
        {
          "output_type": "display_data",
          "data": {
            "text/plain": [
              "<Figure size 720x720 with 4 Axes>"
            ],
            "image/png": "[encoded data removed]"
          },
          "metadata": {
            "needs_background": "light"
          }
        }
      ]
    },
    {
      "cell_type": "code",
      "source": [
        "# увеличим количество масок\n",
        "args['n_layers'] = 3\n",
        "args['number_of_coupling_layers'] = 9\n",
        "\n",
        "flow = get_flow_model(**args)\n",
        "flow.fit(**train_args)\n",
        "flow.visualization(n_samples=1000)"
      ],
      "metadata": {
        "colab": {
          "base_uri": "https://localhost:8080/",
          "height": 117,
          "referenced_widgets": [
            "ae378213f67a447f91d358550ccefffd",
            "408402b21e354df6a10e982c0facac16",
            "d49f457b355246ce91dbbda2f9e708b1",
            "6de3c799dd9b40db9bd41373d217180d",
            "74489b4c195d47cab790da7f3c65aadd",
            "e16ded25a81b4f3988e6f6ac38cde903",
            "78632c5b0a5740b6b563204272edcc58",
            "662816d79c604fc2bf16727a10c7dc0e",
            "315a177e9feb4ae8937baf17fd083433",
            "6cacafd15bf34e2bb52289fcf0cded00",
            "abd4ce395ff0440fbabc57a4874c854c"
          ]
        },
        "id": "xZsJDHYRUilC",
        "outputId": "332dceeb-edd9-418d-e7c2-bfd93d4b5471"
      },
      "execution_count": null,
      "outputs": [
        {
          "output_type": "display_data",
          "data": {
            "text/plain": [
              "Tranning:   0%|          | 0/5001 [00:00<?, ?it/s]"
            ],
            "application/vnd.jupyter.widget-view+json": {
              "version_major": 2,
              "version_minor": 0,
              "model_id": "ae378213f67a447f91d358550ccefffd"
            }
          },
          "metadata": {}
        },
        {
          "output_type": "stream",
          "name": "stdout",
          "text": [
            "iter 0: loss = 2.436\n",
            "iter 500: loss = 0.506\n",
            "iter 1000: loss = 0.402\n",
            "iter 1500: loss = 0.387\n"
          ]
        }
      ]
    },
    {
      "cell_type": "code",
      "source": [
        "# попробуем убрать тангенс\n",
        "args['n_layers'] = 3\n",
        "args['number_of_coupling_layers'] = 6\n",
        "args['s_last_activation'] = 'none'\n",
        "\n",
        "\n",
        "flow = get_flow_model(**args)\n",
        "flow.fit(**train_args)\n",
        "flow.visualization(n_samples=1000)"
      ],
      "metadata": {
        "id": "prFDbwR_YJYz"
      },
      "execution_count": null,
      "outputs": []
    },
    {
      "cell_type": "code",
      "source": [
        "#добавим ограничение на смещение\n",
        "args['n_layers'] = 3\n",
        "args['number_of_coupling_layers'] = 6\n",
        "args['t_last_activation'] = 'tanh'\n",
        "\n",
        "\n",
        "flow = get_flow_model(**args)\n",
        "flow.fit(**train_args)\n",
        "flow.visualization(n_samples=1000)"
      ],
      "metadata": {
        "id": "eHI8-80GaQYl"
      },
      "execution_count": null,
      "outputs": []
    },
    {
      "cell_type": "markdown",
      "metadata": {
        "id": "HcEgstlZbTTP"
      },
      "source": [
        "1. What architecture worked better in your experiments?\n",
        "\n",
        "\n",
        "**Your answer with justification**\n"
      ]
    },
    {
      "cell_type": "markdown",
      "metadata": {
        "id": "E8Jg4GGgbTTQ"
      },
      "source": [
        "2. Did you find what is important for stable training (initializations, nonlinearities, ...)?\n",
        "\n",
        "\n",
        "**Your answer with justification**\n"
      ]
    },
    {
      "cell_type": "markdown",
      "metadata": {
        "id": "LttbxRD1bTTQ"
      },
      "source": [
        "3. How convergence speed (in iterations) depends on the complexity of architecture?\n",
        "\n",
        "\n",
        "**Your answer with justification**\n"
      ]
    },
    {
      "cell_type": "markdown",
      "metadata": {
        "id": "nJZuZwn5bTTR"
      },
      "source": [
        "# Optional Research Assignments:"
      ]
    },
    {
      "cell_type": "markdown",
      "metadata": {
        "id": "fiQecpiKbTTS"
      },
      "source": [
        "This assignment is optional. It will give you up to 2 additional points for one of the assignments.   \n",
        "#### 1. VAE: \n",
        "Use normalizing flow to get more expressive $q(z\\,|\\,x)$,  https://arxiv.org/abs/1505.05770. TL;dr; use decoder to predict $z_0 \\sim q_0(z_0|x)$, then use NF to obtain $z_k = f_k \\circ \\dots \\circ f_1(z)$ sample from a more flexible distribution. Compare it with a conventional normal distribution, what is working better? Compare it with conventional VAE  that uses the same number of parameters as VAE with NF.\n",
        "\n",
        "#### 2. More complex data: \n",
        "Train NFs for a more complex dataset e.g. MNIST (downscale is possible), make samples look reasonable e.g., solid fraction of samples can be recognized as a valid digits. Worth to use Conv2d layers for s and t.\n"
      ]
    },
    {
      "cell_type": "code",
      "metadata": {
        "id": "S2y9MeyJbTTV"
      },
      "source": [
        ""
      ],
      "execution_count": null,
      "outputs": []
    }
  ]
}